{
 "cells": [
  {
   "cell_type": "markdown",
   "id": "3bbef109",
   "metadata": {},
   "source": [
    "### Don't execute the code...otherwise system may hang"
   ]
  },
  {
   "cell_type": "code",
   "execution_count": 1,
   "id": "e0f58bda",
   "metadata": {},
   "outputs": [],
   "source": [
    "import numpy as np\n",
    "import pandas as pd\n",
    "import tensorflow as tf\n",
    "import keras"
   ]
  },
  {
   "cell_type": "code",
   "execution_count": 2,
   "id": "3ab7a717",
   "metadata": {},
   "outputs": [
    {
     "data": {
      "text/html": [
       "<div>\n",
       "<style scoped>\n",
       "    .dataframe tbody tr th:only-of-type {\n",
       "        vertical-align: middle;\n",
       "    }\n",
       "\n",
       "    .dataframe tbody tr th {\n",
       "        vertical-align: top;\n",
       "    }\n",
       "\n",
       "    .dataframe thead th {\n",
       "        text-align: right;\n",
       "    }\n",
       "</style>\n",
       "<table border=\"1\" class=\"dataframe\">\n",
       "  <thead>\n",
       "    <tr style=\"text-align: right;\">\n",
       "      <th></th>\n",
       "      <th>RowNumber</th>\n",
       "      <th>CustomerId</th>\n",
       "      <th>Surname</th>\n",
       "      <th>CreditScore</th>\n",
       "      <th>Geography</th>\n",
       "      <th>Gender</th>\n",
       "      <th>Age</th>\n",
       "      <th>Tenure</th>\n",
       "      <th>Balance</th>\n",
       "      <th>NumOfProducts</th>\n",
       "      <th>HasCrCard</th>\n",
       "      <th>IsActiveMember</th>\n",
       "      <th>EstimatedSalary</th>\n",
       "      <th>Exited</th>\n",
       "    </tr>\n",
       "  </thead>\n",
       "  <tbody>\n",
       "    <tr>\n",
       "      <th>0</th>\n",
       "      <td>1</td>\n",
       "      <td>15634602</td>\n",
       "      <td>Hargrave</td>\n",
       "      <td>619</td>\n",
       "      <td>France</td>\n",
       "      <td>Female</td>\n",
       "      <td>42</td>\n",
       "      <td>2</td>\n",
       "      <td>0.00</td>\n",
       "      <td>1</td>\n",
       "      <td>1</td>\n",
       "      <td>1</td>\n",
       "      <td>101348.88</td>\n",
       "      <td>1</td>\n",
       "    </tr>\n",
       "    <tr>\n",
       "      <th>1</th>\n",
       "      <td>2</td>\n",
       "      <td>15647311</td>\n",
       "      <td>Hill</td>\n",
       "      <td>608</td>\n",
       "      <td>Spain</td>\n",
       "      <td>Female</td>\n",
       "      <td>41</td>\n",
       "      <td>1</td>\n",
       "      <td>83807.86</td>\n",
       "      <td>1</td>\n",
       "      <td>0</td>\n",
       "      <td>1</td>\n",
       "      <td>112542.58</td>\n",
       "      <td>0</td>\n",
       "    </tr>\n",
       "    <tr>\n",
       "      <th>2</th>\n",
       "      <td>3</td>\n",
       "      <td>15619304</td>\n",
       "      <td>Onio</td>\n",
       "      <td>502</td>\n",
       "      <td>France</td>\n",
       "      <td>Female</td>\n",
       "      <td>42</td>\n",
       "      <td>8</td>\n",
       "      <td>159660.80</td>\n",
       "      <td>3</td>\n",
       "      <td>1</td>\n",
       "      <td>0</td>\n",
       "      <td>113931.57</td>\n",
       "      <td>1</td>\n",
       "    </tr>\n",
       "    <tr>\n",
       "      <th>3</th>\n",
       "      <td>4</td>\n",
       "      <td>15701354</td>\n",
       "      <td>Boni</td>\n",
       "      <td>699</td>\n",
       "      <td>France</td>\n",
       "      <td>Female</td>\n",
       "      <td>39</td>\n",
       "      <td>1</td>\n",
       "      <td>0.00</td>\n",
       "      <td>2</td>\n",
       "      <td>0</td>\n",
       "      <td>0</td>\n",
       "      <td>93826.63</td>\n",
       "      <td>0</td>\n",
       "    </tr>\n",
       "    <tr>\n",
       "      <th>4</th>\n",
       "      <td>5</td>\n",
       "      <td>15737888</td>\n",
       "      <td>Mitchell</td>\n",
       "      <td>850</td>\n",
       "      <td>Spain</td>\n",
       "      <td>Female</td>\n",
       "      <td>43</td>\n",
       "      <td>2</td>\n",
       "      <td>125510.82</td>\n",
       "      <td>1</td>\n",
       "      <td>1</td>\n",
       "      <td>1</td>\n",
       "      <td>79084.10</td>\n",
       "      <td>0</td>\n",
       "    </tr>\n",
       "  </tbody>\n",
       "</table>\n",
       "</div>"
      ],
      "text/plain": [
       "   RowNumber  CustomerId   Surname  CreditScore Geography  Gender  Age  \\\n",
       "0          1    15634602  Hargrave          619    France  Female   42   \n",
       "1          2    15647311      Hill          608     Spain  Female   41   \n",
       "2          3    15619304      Onio          502    France  Female   42   \n",
       "3          4    15701354      Boni          699    France  Female   39   \n",
       "4          5    15737888  Mitchell          850     Spain  Female   43   \n",
       "\n",
       "   Tenure    Balance  NumOfProducts  HasCrCard  IsActiveMember  \\\n",
       "0       2       0.00              1          1               1   \n",
       "1       1   83807.86              1          0               1   \n",
       "2       8  159660.80              3          1               0   \n",
       "3       1       0.00              2          0               0   \n",
       "4       2  125510.82              1          1               1   \n",
       "\n",
       "   EstimatedSalary  Exited  \n",
       "0        101348.88       1  \n",
       "1        112542.58       0  \n",
       "2        113931.57       1  \n",
       "3         93826.63       0  \n",
       "4         79084.10       0  "
      ]
     },
     "execution_count": 2,
     "metadata": {},
     "output_type": "execute_result"
    }
   ],
   "source": [
    "df=pd.read_csv('Churn_Modelling.csv')\n",
    "df.head()"
   ]
  },
  {
   "cell_type": "code",
   "execution_count": 3,
   "id": "8c0f710f",
   "metadata": {},
   "outputs": [
    {
     "data": {
      "text/plain": [
       "0    7963\n",
       "1    2037\n",
       "Name: Exited, dtype: int64"
      ]
     },
     "execution_count": 3,
     "metadata": {},
     "output_type": "execute_result"
    }
   ],
   "source": [
    "df['Exited'].value_counts()"
   ]
  },
  {
   "cell_type": "code",
   "execution_count": 4,
   "id": "75fa5f07",
   "metadata": {},
   "outputs": [
    {
     "name": "stdout",
     "output_type": "stream",
     "text": [
      "<class 'pandas.core.frame.DataFrame'>\n",
      "RangeIndex: 10000 entries, 0 to 9999\n",
      "Data columns (total 14 columns):\n",
      " #   Column           Non-Null Count  Dtype  \n",
      "---  ------           --------------  -----  \n",
      " 0   RowNumber        10000 non-null  int64  \n",
      " 1   CustomerId       10000 non-null  int64  \n",
      " 2   Surname          10000 non-null  object \n",
      " 3   CreditScore      10000 non-null  int64  \n",
      " 4   Geography        10000 non-null  object \n",
      " 5   Gender           10000 non-null  object \n",
      " 6   Age              10000 non-null  int64  \n",
      " 7   Tenure           10000 non-null  int64  \n",
      " 8   Balance          10000 non-null  float64\n",
      " 9   NumOfProducts    10000 non-null  int64  \n",
      " 10  HasCrCard        10000 non-null  int64  \n",
      " 11  IsActiveMember   10000 non-null  int64  \n",
      " 12  EstimatedSalary  10000 non-null  float64\n",
      " 13  Exited           10000 non-null  int64  \n",
      "dtypes: float64(2), int64(9), object(3)\n",
      "memory usage: 1.1+ MB\n"
     ]
    }
   ],
   "source": [
    "df.info()"
   ]
  },
  {
   "cell_type": "code",
   "execution_count": 5,
   "id": "b28e929f",
   "metadata": {},
   "outputs": [
    {
     "data": {
      "text/plain": [
       "RowNumber          0\n",
       "CustomerId         0\n",
       "Surname            0\n",
       "CreditScore        0\n",
       "Geography          0\n",
       "Gender             0\n",
       "Age                0\n",
       "Tenure             0\n",
       "Balance            0\n",
       "NumOfProducts      0\n",
       "HasCrCard          0\n",
       "IsActiveMember     0\n",
       "EstimatedSalary    0\n",
       "Exited             0\n",
       "dtype: int64"
      ]
     },
     "execution_count": 5,
     "metadata": {},
     "output_type": "execute_result"
    }
   ],
   "source": [
    "df.isnull().sum()"
   ]
  },
  {
   "cell_type": "code",
   "execution_count": 6,
   "id": "166163fb",
   "metadata": {},
   "outputs": [
    {
     "data": {
      "text/html": [
       "<div>\n",
       "<style scoped>\n",
       "    .dataframe tbody tr th:only-of-type {\n",
       "        vertical-align: middle;\n",
       "    }\n",
       "\n",
       "    .dataframe tbody tr th {\n",
       "        vertical-align: top;\n",
       "    }\n",
       "\n",
       "    .dataframe thead th {\n",
       "        text-align: right;\n",
       "    }\n",
       "</style>\n",
       "<table border=\"1\" class=\"dataframe\">\n",
       "  <thead>\n",
       "    <tr style=\"text-align: right;\">\n",
       "      <th></th>\n",
       "      <th>CreditScore</th>\n",
       "      <th>Geography</th>\n",
       "      <th>Gender</th>\n",
       "      <th>Age</th>\n",
       "      <th>Tenure</th>\n",
       "      <th>Balance</th>\n",
       "      <th>NumOfProducts</th>\n",
       "      <th>HasCrCard</th>\n",
       "      <th>IsActiveMember</th>\n",
       "      <th>EstimatedSalary</th>\n",
       "      <th>Exited</th>\n",
       "    </tr>\n",
       "  </thead>\n",
       "  <tbody>\n",
       "    <tr>\n",
       "      <th>0</th>\n",
       "      <td>619</td>\n",
       "      <td>France</td>\n",
       "      <td>Female</td>\n",
       "      <td>42</td>\n",
       "      <td>2</td>\n",
       "      <td>0.00</td>\n",
       "      <td>1</td>\n",
       "      <td>1</td>\n",
       "      <td>1</td>\n",
       "      <td>101348.88</td>\n",
       "      <td>1</td>\n",
       "    </tr>\n",
       "    <tr>\n",
       "      <th>1</th>\n",
       "      <td>608</td>\n",
       "      <td>Spain</td>\n",
       "      <td>Female</td>\n",
       "      <td>41</td>\n",
       "      <td>1</td>\n",
       "      <td>83807.86</td>\n",
       "      <td>1</td>\n",
       "      <td>0</td>\n",
       "      <td>1</td>\n",
       "      <td>112542.58</td>\n",
       "      <td>0</td>\n",
       "    </tr>\n",
       "    <tr>\n",
       "      <th>2</th>\n",
       "      <td>502</td>\n",
       "      <td>France</td>\n",
       "      <td>Female</td>\n",
       "      <td>42</td>\n",
       "      <td>8</td>\n",
       "      <td>159660.80</td>\n",
       "      <td>3</td>\n",
       "      <td>1</td>\n",
       "      <td>0</td>\n",
       "      <td>113931.57</td>\n",
       "      <td>1</td>\n",
       "    </tr>\n",
       "    <tr>\n",
       "      <th>3</th>\n",
       "      <td>699</td>\n",
       "      <td>France</td>\n",
       "      <td>Female</td>\n",
       "      <td>39</td>\n",
       "      <td>1</td>\n",
       "      <td>0.00</td>\n",
       "      <td>2</td>\n",
       "      <td>0</td>\n",
       "      <td>0</td>\n",
       "      <td>93826.63</td>\n",
       "      <td>0</td>\n",
       "    </tr>\n",
       "    <tr>\n",
       "      <th>4</th>\n",
       "      <td>850</td>\n",
       "      <td>Spain</td>\n",
       "      <td>Female</td>\n",
       "      <td>43</td>\n",
       "      <td>2</td>\n",
       "      <td>125510.82</td>\n",
       "      <td>1</td>\n",
       "      <td>1</td>\n",
       "      <td>1</td>\n",
       "      <td>79084.10</td>\n",
       "      <td>0</td>\n",
       "    </tr>\n",
       "    <tr>\n",
       "      <th>...</th>\n",
       "      <td>...</td>\n",
       "      <td>...</td>\n",
       "      <td>...</td>\n",
       "      <td>...</td>\n",
       "      <td>...</td>\n",
       "      <td>...</td>\n",
       "      <td>...</td>\n",
       "      <td>...</td>\n",
       "      <td>...</td>\n",
       "      <td>...</td>\n",
       "      <td>...</td>\n",
       "    </tr>\n",
       "    <tr>\n",
       "      <th>9995</th>\n",
       "      <td>771</td>\n",
       "      <td>France</td>\n",
       "      <td>Male</td>\n",
       "      <td>39</td>\n",
       "      <td>5</td>\n",
       "      <td>0.00</td>\n",
       "      <td>2</td>\n",
       "      <td>1</td>\n",
       "      <td>0</td>\n",
       "      <td>96270.64</td>\n",
       "      <td>0</td>\n",
       "    </tr>\n",
       "    <tr>\n",
       "      <th>9996</th>\n",
       "      <td>516</td>\n",
       "      <td>France</td>\n",
       "      <td>Male</td>\n",
       "      <td>35</td>\n",
       "      <td>10</td>\n",
       "      <td>57369.61</td>\n",
       "      <td>1</td>\n",
       "      <td>1</td>\n",
       "      <td>1</td>\n",
       "      <td>101699.77</td>\n",
       "      <td>0</td>\n",
       "    </tr>\n",
       "    <tr>\n",
       "      <th>9997</th>\n",
       "      <td>709</td>\n",
       "      <td>France</td>\n",
       "      <td>Female</td>\n",
       "      <td>36</td>\n",
       "      <td>7</td>\n",
       "      <td>0.00</td>\n",
       "      <td>1</td>\n",
       "      <td>0</td>\n",
       "      <td>1</td>\n",
       "      <td>42085.58</td>\n",
       "      <td>1</td>\n",
       "    </tr>\n",
       "    <tr>\n",
       "      <th>9998</th>\n",
       "      <td>772</td>\n",
       "      <td>Germany</td>\n",
       "      <td>Male</td>\n",
       "      <td>42</td>\n",
       "      <td>3</td>\n",
       "      <td>75075.31</td>\n",
       "      <td>2</td>\n",
       "      <td>1</td>\n",
       "      <td>0</td>\n",
       "      <td>92888.52</td>\n",
       "      <td>1</td>\n",
       "    </tr>\n",
       "    <tr>\n",
       "      <th>9999</th>\n",
       "      <td>792</td>\n",
       "      <td>France</td>\n",
       "      <td>Female</td>\n",
       "      <td>28</td>\n",
       "      <td>4</td>\n",
       "      <td>130142.79</td>\n",
       "      <td>1</td>\n",
       "      <td>1</td>\n",
       "      <td>0</td>\n",
       "      <td>38190.78</td>\n",
       "      <td>0</td>\n",
       "    </tr>\n",
       "  </tbody>\n",
       "</table>\n",
       "<p>10000 rows × 11 columns</p>\n",
       "</div>"
      ],
      "text/plain": [
       "      CreditScore Geography  Gender  Age  Tenure    Balance  NumOfProducts  \\\n",
       "0             619    France  Female   42       2       0.00              1   \n",
       "1             608     Spain  Female   41       1   83807.86              1   \n",
       "2             502    France  Female   42       8  159660.80              3   \n",
       "3             699    France  Female   39       1       0.00              2   \n",
       "4             850     Spain  Female   43       2  125510.82              1   \n",
       "...           ...       ...     ...  ...     ...        ...            ...   \n",
       "9995          771    France    Male   39       5       0.00              2   \n",
       "9996          516    France    Male   35      10   57369.61              1   \n",
       "9997          709    France  Female   36       7       0.00              1   \n",
       "9998          772   Germany    Male   42       3   75075.31              2   \n",
       "9999          792    France  Female   28       4  130142.79              1   \n",
       "\n",
       "      HasCrCard  IsActiveMember  EstimatedSalary  Exited  \n",
       "0             1               1        101348.88       1  \n",
       "1             0               1        112542.58       0  \n",
       "2             1               0        113931.57       1  \n",
       "3             0               0         93826.63       0  \n",
       "4             1               1         79084.10       0  \n",
       "...         ...             ...              ...     ...  \n",
       "9995          1               0         96270.64       0  \n",
       "9996          1               1        101699.77       0  \n",
       "9997          0               1         42085.58       1  \n",
       "9998          1               0         92888.52       1  \n",
       "9999          1               0         38190.78       0  \n",
       "\n",
       "[10000 rows x 11 columns]"
      ]
     },
     "execution_count": 6,
     "metadata": {},
     "output_type": "execute_result"
    }
   ],
   "source": [
    "df.drop(columns=['RowNumber','CustomerId','Surname'],inplace=True)\n",
    "df"
   ]
  },
  {
   "cell_type": "code",
   "execution_count": 7,
   "id": "39d6483f",
   "metadata": {},
   "outputs": [
    {
     "data": {
      "text/plain": [
       "France     5014\n",
       "Germany    2509\n",
       "Spain      2477\n",
       "Name: Geography, dtype: int64"
      ]
     },
     "execution_count": 7,
     "metadata": {},
     "output_type": "execute_result"
    }
   ],
   "source": [
    "df['Geography'].value_counts()"
   ]
  },
  {
   "cell_type": "code",
   "execution_count": 8,
   "id": "908b6da8",
   "metadata": {},
   "outputs": [
    {
     "data": {
      "text/plain": [
       "Male      5457\n",
       "Female    4543\n",
       "Name: Gender, dtype: int64"
      ]
     },
     "execution_count": 8,
     "metadata": {},
     "output_type": "execute_result"
    }
   ],
   "source": [
    "df['Gender'].value_counts()"
   ]
  },
  {
   "cell_type": "code",
   "execution_count": 9,
   "id": "064f9d1e",
   "metadata": {},
   "outputs": [],
   "source": [
    "X=pd.get_dummies(df.drop('Exited',axis=1),drop_first=True)\n",
    "y=df['Exited']"
   ]
  },
  {
   "cell_type": "code",
   "execution_count": 10,
   "id": "df3bc4ad",
   "metadata": {},
   "outputs": [
    {
     "data": {
      "text/html": [
       "<div>\n",
       "<style scoped>\n",
       "    .dataframe tbody tr th:only-of-type {\n",
       "        vertical-align: middle;\n",
       "    }\n",
       "\n",
       "    .dataframe tbody tr th {\n",
       "        vertical-align: top;\n",
       "    }\n",
       "\n",
       "    .dataframe thead th {\n",
       "        text-align: right;\n",
       "    }\n",
       "</style>\n",
       "<table border=\"1\" class=\"dataframe\">\n",
       "  <thead>\n",
       "    <tr style=\"text-align: right;\">\n",
       "      <th></th>\n",
       "      <th>CreditScore</th>\n",
       "      <th>Age</th>\n",
       "      <th>Tenure</th>\n",
       "      <th>Balance</th>\n",
       "      <th>NumOfProducts</th>\n",
       "      <th>HasCrCard</th>\n",
       "      <th>IsActiveMember</th>\n",
       "      <th>EstimatedSalary</th>\n",
       "      <th>Geography_Germany</th>\n",
       "      <th>Geography_Spain</th>\n",
       "      <th>Gender_Male</th>\n",
       "    </tr>\n",
       "  </thead>\n",
       "  <tbody>\n",
       "    <tr>\n",
       "      <th>0</th>\n",
       "      <td>619</td>\n",
       "      <td>42</td>\n",
       "      <td>2</td>\n",
       "      <td>0.00</td>\n",
       "      <td>1</td>\n",
       "      <td>1</td>\n",
       "      <td>1</td>\n",
       "      <td>101348.88</td>\n",
       "      <td>0</td>\n",
       "      <td>0</td>\n",
       "      <td>0</td>\n",
       "    </tr>\n",
       "    <tr>\n",
       "      <th>1</th>\n",
       "      <td>608</td>\n",
       "      <td>41</td>\n",
       "      <td>1</td>\n",
       "      <td>83807.86</td>\n",
       "      <td>1</td>\n",
       "      <td>0</td>\n",
       "      <td>1</td>\n",
       "      <td>112542.58</td>\n",
       "      <td>0</td>\n",
       "      <td>1</td>\n",
       "      <td>0</td>\n",
       "    </tr>\n",
       "    <tr>\n",
       "      <th>2</th>\n",
       "      <td>502</td>\n",
       "      <td>42</td>\n",
       "      <td>8</td>\n",
       "      <td>159660.80</td>\n",
       "      <td>3</td>\n",
       "      <td>1</td>\n",
       "      <td>0</td>\n",
       "      <td>113931.57</td>\n",
       "      <td>0</td>\n",
       "      <td>0</td>\n",
       "      <td>0</td>\n",
       "    </tr>\n",
       "    <tr>\n",
       "      <th>3</th>\n",
       "      <td>699</td>\n",
       "      <td>39</td>\n",
       "      <td>1</td>\n",
       "      <td>0.00</td>\n",
       "      <td>2</td>\n",
       "      <td>0</td>\n",
       "      <td>0</td>\n",
       "      <td>93826.63</td>\n",
       "      <td>0</td>\n",
       "      <td>0</td>\n",
       "      <td>0</td>\n",
       "    </tr>\n",
       "    <tr>\n",
       "      <th>4</th>\n",
       "      <td>850</td>\n",
       "      <td>43</td>\n",
       "      <td>2</td>\n",
       "      <td>125510.82</td>\n",
       "      <td>1</td>\n",
       "      <td>1</td>\n",
       "      <td>1</td>\n",
       "      <td>79084.10</td>\n",
       "      <td>0</td>\n",
       "      <td>1</td>\n",
       "      <td>0</td>\n",
       "    </tr>\n",
       "    <tr>\n",
       "      <th>...</th>\n",
       "      <td>...</td>\n",
       "      <td>...</td>\n",
       "      <td>...</td>\n",
       "      <td>...</td>\n",
       "      <td>...</td>\n",
       "      <td>...</td>\n",
       "      <td>...</td>\n",
       "      <td>...</td>\n",
       "      <td>...</td>\n",
       "      <td>...</td>\n",
       "      <td>...</td>\n",
       "    </tr>\n",
       "    <tr>\n",
       "      <th>9995</th>\n",
       "      <td>771</td>\n",
       "      <td>39</td>\n",
       "      <td>5</td>\n",
       "      <td>0.00</td>\n",
       "      <td>2</td>\n",
       "      <td>1</td>\n",
       "      <td>0</td>\n",
       "      <td>96270.64</td>\n",
       "      <td>0</td>\n",
       "      <td>0</td>\n",
       "      <td>1</td>\n",
       "    </tr>\n",
       "    <tr>\n",
       "      <th>9996</th>\n",
       "      <td>516</td>\n",
       "      <td>35</td>\n",
       "      <td>10</td>\n",
       "      <td>57369.61</td>\n",
       "      <td>1</td>\n",
       "      <td>1</td>\n",
       "      <td>1</td>\n",
       "      <td>101699.77</td>\n",
       "      <td>0</td>\n",
       "      <td>0</td>\n",
       "      <td>1</td>\n",
       "    </tr>\n",
       "    <tr>\n",
       "      <th>9997</th>\n",
       "      <td>709</td>\n",
       "      <td>36</td>\n",
       "      <td>7</td>\n",
       "      <td>0.00</td>\n",
       "      <td>1</td>\n",
       "      <td>0</td>\n",
       "      <td>1</td>\n",
       "      <td>42085.58</td>\n",
       "      <td>0</td>\n",
       "      <td>0</td>\n",
       "      <td>0</td>\n",
       "    </tr>\n",
       "    <tr>\n",
       "      <th>9998</th>\n",
       "      <td>772</td>\n",
       "      <td>42</td>\n",
       "      <td>3</td>\n",
       "      <td>75075.31</td>\n",
       "      <td>2</td>\n",
       "      <td>1</td>\n",
       "      <td>0</td>\n",
       "      <td>92888.52</td>\n",
       "      <td>1</td>\n",
       "      <td>0</td>\n",
       "      <td>1</td>\n",
       "    </tr>\n",
       "    <tr>\n",
       "      <th>9999</th>\n",
       "      <td>792</td>\n",
       "      <td>28</td>\n",
       "      <td>4</td>\n",
       "      <td>130142.79</td>\n",
       "      <td>1</td>\n",
       "      <td>1</td>\n",
       "      <td>0</td>\n",
       "      <td>38190.78</td>\n",
       "      <td>0</td>\n",
       "      <td>0</td>\n",
       "      <td>0</td>\n",
       "    </tr>\n",
       "  </tbody>\n",
       "</table>\n",
       "<p>10000 rows × 11 columns</p>\n",
       "</div>"
      ],
      "text/plain": [
       "      CreditScore  Age  Tenure    Balance  NumOfProducts  HasCrCard  \\\n",
       "0             619   42       2       0.00              1          1   \n",
       "1             608   41       1   83807.86              1          0   \n",
       "2             502   42       8  159660.80              3          1   \n",
       "3             699   39       1       0.00              2          0   \n",
       "4             850   43       2  125510.82              1          1   \n",
       "...           ...  ...     ...        ...            ...        ...   \n",
       "9995          771   39       5       0.00              2          1   \n",
       "9996          516   35      10   57369.61              1          1   \n",
       "9997          709   36       7       0.00              1          0   \n",
       "9998          772   42       3   75075.31              2          1   \n",
       "9999          792   28       4  130142.79              1          1   \n",
       "\n",
       "      IsActiveMember  EstimatedSalary  Geography_Germany  Geography_Spain  \\\n",
       "0                  1        101348.88                  0                0   \n",
       "1                  1        112542.58                  0                1   \n",
       "2                  0        113931.57                  0                0   \n",
       "3                  0         93826.63                  0                0   \n",
       "4                  1         79084.10                  0                1   \n",
       "...              ...              ...                ...              ...   \n",
       "9995               0         96270.64                  0                0   \n",
       "9996               1        101699.77                  0                0   \n",
       "9997               1         42085.58                  0                0   \n",
       "9998               0         92888.52                  1                0   \n",
       "9999               0         38190.78                  0                0   \n",
       "\n",
       "      Gender_Male  \n",
       "0               0  \n",
       "1               0  \n",
       "2               0  \n",
       "3               0  \n",
       "4               0  \n",
       "...           ...  \n",
       "9995            1  \n",
       "9996            1  \n",
       "9997            0  \n",
       "9998            1  \n",
       "9999            0  \n",
       "\n",
       "[10000 rows x 11 columns]"
      ]
     },
     "execution_count": 10,
     "metadata": {},
     "output_type": "execute_result"
    }
   ],
   "source": [
    "X"
   ]
  },
  {
   "cell_type": "code",
   "execution_count": 11,
   "id": "9496892d",
   "metadata": {},
   "outputs": [],
   "source": [
    "#Train Test\n",
    "from sklearn.model_selection import train_test_split\n",
    "X_train, X_test, y_train, y_test= train_test_split(X,y,test_size=0.2,random_state=0)"
   ]
  },
  {
   "cell_type": "code",
   "execution_count": 12,
   "id": "ed3f62e1",
   "metadata": {},
   "outputs": [
    {
     "data": {
      "text/plain": [
       "((8000, 11), (2000, 11), (8000,), (2000,))"
      ]
     },
     "execution_count": 12,
     "metadata": {},
     "output_type": "execute_result"
    }
   ],
   "source": [
    "X_train.shape, X_test.shape, y_train.shape, y_test.shape"
   ]
  },
  {
   "cell_type": "code",
   "execution_count": 13,
   "id": "f9ffa957",
   "metadata": {},
   "outputs": [],
   "source": [
    "from sklearn.preprocessing import StandardScaler\n",
    "sc=StandardScaler()\n",
    "X_train=sc.fit_transform(X_train)\n",
    "X_test=sc.transform(X_test)"
   ]
  },
  {
   "cell_type": "markdown",
   "id": "1b9965d4",
   "metadata": {},
   "source": [
    "## Modelling"
   ]
  },
  {
   "cell_type": "markdown",
   "id": "e16f1107",
   "metadata": {},
   "source": [
    "### Initializing the Artificial Neural Network"
   ]
  },
  {
   "cell_type": "code",
   "execution_count": 14,
   "id": "ae943d7c",
   "metadata": {},
   "outputs": [],
   "source": [
    "from keras.models import Sequential\n",
    "ann=Sequential()"
   ]
  },
  {
   "cell_type": "markdown",
   "id": "0102764c",
   "metadata": {},
   "source": [
    "### Adding the input layer and first hidden layer"
   ]
  },
  {
   "cell_type": "code",
   "execution_count": 15,
   "id": "387c0abd",
   "metadata": {},
   "outputs": [],
   "source": [
    "from keras.layers import Dense\n",
    "ann.add(Dense(input_dim=11,units=6,kernel_initializer='uniform',activation='relu'))\n",
    "\n",
    "#ann.add(Dropout(rate=0.1))"
   ]
  },
  {
   "cell_type": "markdown",
   "id": "5c262b04",
   "metadata": {},
   "source": [
    "### Adding the second hidden layer"
   ]
  },
  {
   "cell_type": "code",
   "execution_count": 16,
   "id": "f3028a50",
   "metadata": {},
   "outputs": [],
   "source": [
    "ann.add(Dense(units=6,kernel_initializer='uniform',activation='relu'))\n",
    "\n",
    "#ann.add(Dropout(rate=0.1))"
   ]
  },
  {
   "cell_type": "markdown",
   "id": "0fc2af98",
   "metadata": {},
   "source": [
    "### Adding the output layer"
   ]
  },
  {
   "cell_type": "code",
   "execution_count": 17,
   "id": "79c31469",
   "metadata": {},
   "outputs": [],
   "source": [
    "ann.add(Dense(units=1,kernel_initializer='uniform',activation='sigmoid'))"
   ]
  },
  {
   "cell_type": "markdown",
   "id": "78e6cca0",
   "metadata": {},
   "source": [
    "### Compiling the ANN"
   ]
  },
  {
   "cell_type": "code",
   "execution_count": 18,
   "id": "b2952c3a",
   "metadata": {},
   "outputs": [],
   "source": [
    "ann.compile(optimizer='adam',loss='binary_crossentropy',metrics=['accuracy'])"
   ]
  },
  {
   "cell_type": "markdown",
   "id": "4d50e563",
   "metadata": {},
   "source": [
    "### Training the ANN on the Training set"
   ]
  },
  {
   "cell_type": "code",
   "execution_count": 19,
   "id": "465e2cbc",
   "metadata": {},
   "outputs": [
    {
     "name": "stdout",
     "output_type": "stream",
     "text": [
      "Epoch 1/100\n",
      "250/250 [==============================] - 1s 2ms/step - loss: 0.5803 - accuracy: 0.7954\n",
      "Epoch 2/100\n",
      "250/250 [==============================] - 1s 2ms/step - loss: 0.4386 - accuracy: 0.7960\n",
      "Epoch 3/100\n",
      "250/250 [==============================] - 0s 2ms/step - loss: 0.4327 - accuracy: 0.7960\n",
      "Epoch 4/100\n",
      "250/250 [==============================] - 0s 2ms/step - loss: 0.4305 - accuracy: 0.7960\n",
      "Epoch 5/100\n",
      "250/250 [==============================] - 1s 2ms/step - loss: 0.4295 - accuracy: 0.7960\n",
      "Epoch 6/100\n",
      "250/250 [==============================] - 0s 2ms/step - loss: 0.4284 - accuracy: 0.7960\n",
      "Epoch 7/100\n",
      "250/250 [==============================] - 0s 2ms/step - loss: 0.4269 - accuracy: 0.7960\n",
      "Epoch 8/100\n",
      "250/250 [==============================] - 0s 2ms/step - loss: 0.4245 - accuracy: 0.7960\n",
      "Epoch 9/100\n",
      "250/250 [==============================] - 0s 2ms/step - loss: 0.4226 - accuracy: 0.7960\n",
      "Epoch 10/100\n",
      "250/250 [==============================] - 0s 2ms/step - loss: 0.4206 - accuracy: 0.8149\n",
      "Epoch 11/100\n",
      "250/250 [==============================] - 0s 2ms/step - loss: 0.4189 - accuracy: 0.8202\n",
      "Epoch 12/100\n",
      "250/250 [==============================] - 0s 2ms/step - loss: 0.4175 - accuracy: 0.8239\n",
      "Epoch 13/100\n",
      "250/250 [==============================] - 0s 2ms/step - loss: 0.4161 - accuracy: 0.8254\n",
      "Epoch 14/100\n",
      "250/250 [==============================] - 0s 2ms/step - loss: 0.4152 - accuracy: 0.8278\n",
      "Epoch 15/100\n",
      "250/250 [==============================] - 0s 2ms/step - loss: 0.4140 - accuracy: 0.8286\n",
      "Epoch 16/100\n",
      "250/250 [==============================] - 0s 2ms/step - loss: 0.4130 - accuracy: 0.8313\n",
      "Epoch 17/100\n",
      "250/250 [==============================] - 0s 2ms/step - loss: 0.4122 - accuracy: 0.8313\n",
      "Epoch 18/100\n",
      "250/250 [==============================] - 0s 2ms/step - loss: 0.4115 - accuracy: 0.8309\n",
      "Epoch 19/100\n",
      "250/250 [==============================] - 0s 2ms/step - loss: 0.4108 - accuracy: 0.8325\n",
      "Epoch 20/100\n",
      "250/250 [==============================] - 0s 2ms/step - loss: 0.4102 - accuracy: 0.8328\n",
      "Epoch 21/100\n",
      "250/250 [==============================] - 0s 2ms/step - loss: 0.4098 - accuracy: 0.8341\n",
      "Epoch 22/100\n",
      "250/250 [==============================] - 0s 2ms/step - loss: 0.4090 - accuracy: 0.8335\n",
      "Epoch 23/100\n",
      "250/250 [==============================] - 0s 2ms/step - loss: 0.4086 - accuracy: 0.8334\n",
      "Epoch 24/100\n",
      "250/250 [==============================] - 0s 2ms/step - loss: 0.4084 - accuracy: 0.8339\n",
      "Epoch 25/100\n",
      "250/250 [==============================] - 0s 2ms/step - loss: 0.4078 - accuracy: 0.8331\n",
      "Epoch 26/100\n",
      "250/250 [==============================] - 0s 2ms/step - loss: 0.4074 - accuracy: 0.8339\n",
      "Epoch 27/100\n",
      "250/250 [==============================] - 0s 2ms/step - loss: 0.4072 - accuracy: 0.8342\n",
      "Epoch 28/100\n",
      "250/250 [==============================] - 0s 2ms/step - loss: 0.4068 - accuracy: 0.8345\n",
      "Epoch 29/100\n",
      "250/250 [==============================] - 0s 2ms/step - loss: 0.4063 - accuracy: 0.8332\n",
      "Epoch 30/100\n",
      "250/250 [==============================] - 0s 2ms/step - loss: 0.4061 - accuracy: 0.8328\n",
      "Epoch 31/100\n",
      "250/250 [==============================] - 0s 2ms/step - loss: 0.4060 - accuracy: 0.8316\n",
      "Epoch 32/100\n",
      "250/250 [==============================] - 0s 2ms/step - loss: 0.4061 - accuracy: 0.8342\n",
      "Epoch 33/100\n",
      "250/250 [==============================] - 1s 2ms/step - loss: 0.4056 - accuracy: 0.8331\n",
      "Epoch 34/100\n",
      "250/250 [==============================] - 0s 2ms/step - loss: 0.4053 - accuracy: 0.8336\n",
      "Epoch 35/100\n",
      "250/250 [==============================] - 0s 2ms/step - loss: 0.4051 - accuracy: 0.8350\n",
      "Epoch 36/100\n",
      "250/250 [==============================] - 0s 2ms/step - loss: 0.4050 - accuracy: 0.8344\n",
      "Epoch 37/100\n",
      "250/250 [==============================] - 0s 2ms/step - loss: 0.4050 - accuracy: 0.8341\n",
      "Epoch 38/100\n",
      "250/250 [==============================] - 0s 2ms/step - loss: 0.4047 - accuracy: 0.8335\n",
      "Epoch 39/100\n",
      "250/250 [==============================] - 0s 2ms/step - loss: 0.4046 - accuracy: 0.8332\n",
      "Epoch 40/100\n",
      "250/250 [==============================] - 0s 2ms/step - loss: 0.4045 - accuracy: 0.8342\n",
      "Epoch 41/100\n",
      "250/250 [==============================] - 0s 2ms/step - loss: 0.4044 - accuracy: 0.8338\n",
      "Epoch 42/100\n",
      "250/250 [==============================] - 0s 2ms/step - loss: 0.4040 - accuracy: 0.8342\n",
      "Epoch 43/100\n",
      "250/250 [==============================] - 0s 2ms/step - loss: 0.4037 - accuracy: 0.8356\n",
      "Epoch 44/100\n",
      "250/250 [==============================] - 0s 2ms/step - loss: 0.4041 - accuracy: 0.8339\n",
      "Epoch 45/100\n",
      "250/250 [==============================] - 1s 2ms/step - loss: 0.4036 - accuracy: 0.8338\n",
      "Epoch 46/100\n",
      "250/250 [==============================] - 0s 2ms/step - loss: 0.4037 - accuracy: 0.8346\n",
      "Epoch 47/100\n",
      "250/250 [==============================] - 0s 2ms/step - loss: 0.4035 - accuracy: 0.8349\n",
      "Epoch 48/100\n",
      "250/250 [==============================] - 0s 2ms/step - loss: 0.4032 - accuracy: 0.8347\n",
      "Epoch 49/100\n",
      "250/250 [==============================] - 1s 2ms/step - loss: 0.4033 - accuracy: 0.8338\n",
      "Epoch 50/100\n",
      "250/250 [==============================] - 1s 2ms/step - loss: 0.4031 - accuracy: 0.8338\n",
      "Epoch 51/100\n",
      "250/250 [==============================] - 0s 2ms/step - loss: 0.4030 - accuracy: 0.8328\n",
      "Epoch 52/100\n",
      "250/250 [==============================] - 1s 2ms/step - loss: 0.4029 - accuracy: 0.8336\n",
      "Epoch 53/100\n",
      "250/250 [==============================] - 1s 2ms/step - loss: 0.4028 - accuracy: 0.8364\n",
      "Epoch 54/100\n",
      "250/250 [==============================] - 0s 2ms/step - loss: 0.4030 - accuracy: 0.8346\n",
      "Epoch 55/100\n",
      "250/250 [==============================] - 0s 2ms/step - loss: 0.4026 - accuracy: 0.8334\n",
      "Epoch 56/100\n",
      "250/250 [==============================] - 0s 2ms/step - loss: 0.4025 - accuracy: 0.8331\n",
      "Epoch 57/100\n",
      "250/250 [==============================] - 0s 2ms/step - loss: 0.4028 - accuracy: 0.8353\n",
      "Epoch 58/100\n",
      "250/250 [==============================] - 0s 2ms/step - loss: 0.4024 - accuracy: 0.8329\n",
      "Epoch 59/100\n",
      "250/250 [==============================] - 0s 2ms/step - loss: 0.4021 - accuracy: 0.8341\n",
      "Epoch 60/100\n",
      "250/250 [==============================] - 0s 2ms/step - loss: 0.4024 - accuracy: 0.8334\n",
      "Epoch 61/100\n",
      "250/250 [==============================] - 0s 2ms/step - loss: 0.4022 - accuracy: 0.8353\n",
      "Epoch 62/100\n",
      "250/250 [==============================] - 0s 2ms/step - loss: 0.4022 - accuracy: 0.8332\n",
      "Epoch 63/100\n",
      "250/250 [==============================] - 0s 2ms/step - loss: 0.4020 - accuracy: 0.8342\n",
      "Epoch 64/100\n",
      "250/250 [==============================] - 1s 2ms/step - loss: 0.4018 - accuracy: 0.8347\n",
      "Epoch 65/100\n",
      "250/250 [==============================] - 0s 2ms/step - loss: 0.4021 - accuracy: 0.8321\n",
      "Epoch 66/100\n",
      "250/250 [==============================] - 0s 2ms/step - loss: 0.4017 - accuracy: 0.8340\n",
      "Epoch 67/100\n",
      "250/250 [==============================] - 0s 2ms/step - loss: 0.4018 - accuracy: 0.8331\n",
      "Epoch 68/100\n",
      "250/250 [==============================] - 1s 2ms/step - loss: 0.4019 - accuracy: 0.8345\n",
      "Epoch 69/100\n",
      "250/250 [==============================] - 1s 2ms/step - loss: 0.4015 - accuracy: 0.8342\n",
      "Epoch 70/100\n",
      "250/250 [==============================] - 1s 2ms/step - loss: 0.4014 - accuracy: 0.8342\n",
      "Epoch 71/100\n",
      "250/250 [==============================] - 1s 2ms/step - loss: 0.4013 - accuracy: 0.8335\n",
      "Epoch 72/100\n",
      "250/250 [==============================] - 1s 2ms/step - loss: 0.4012 - accuracy: 0.8332\n",
      "Epoch 73/100\n",
      "250/250 [==============================] - 1s 2ms/step - loss: 0.4014 - accuracy: 0.8342\n",
      "Epoch 74/100\n",
      "250/250 [==============================] - 1s 2ms/step - loss: 0.4010 - accuracy: 0.8320\n",
      "Epoch 75/100\n",
      "250/250 [==============================] - 1s 2ms/step - loss: 0.4010 - accuracy: 0.8332\n",
      "Epoch 76/100\n",
      "250/250 [==============================] - 1s 2ms/step - loss: 0.4010 - accuracy: 0.8328\n",
      "Epoch 77/100\n",
      "250/250 [==============================] - 1s 2ms/step - loss: 0.4005 - accuracy: 0.8346\n",
      "Epoch 78/100\n",
      "250/250 [==============================] - 1s 2ms/step - loss: 0.4010 - accuracy: 0.8341\n",
      "Epoch 79/100\n",
      "250/250 [==============================] - 1s 2ms/step - loss: 0.4009 - accuracy: 0.8350\n",
      "Epoch 80/100\n",
      "250/250 [==============================] - 1s 2ms/step - loss: 0.4010 - accuracy: 0.8330\n",
      "Epoch 81/100\n",
      "250/250 [==============================] - 0s 2ms/step - loss: 0.4006 - accuracy: 0.8351\n",
      "Epoch 82/100\n",
      "250/250 [==============================] - 0s 2ms/step - loss: 0.4008 - accuracy: 0.8350\n",
      "Epoch 83/100\n",
      "250/250 [==============================] - 1s 2ms/step - loss: 0.4005 - accuracy: 0.8336\n",
      "Epoch 84/100\n",
      "250/250 [==============================] - 1s 2ms/step - loss: 0.4005 - accuracy: 0.8338\n",
      "Epoch 85/100\n",
      "250/250 [==============================] - 0s 2ms/step - loss: 0.4005 - accuracy: 0.8330\n",
      "Epoch 86/100\n",
      "250/250 [==============================] - 1s 2ms/step - loss: 0.4005 - accuracy: 0.8334\n",
      "Epoch 87/100\n",
      "250/250 [==============================] - 0s 2ms/step - loss: 0.4005 - accuracy: 0.8349\n",
      "Epoch 88/100\n",
      "250/250 [==============================] - 1s 2ms/step - loss: 0.4000 - accuracy: 0.8340\n",
      "Epoch 89/100\n",
      "250/250 [==============================] - 1s 2ms/step - loss: 0.4003 - accuracy: 0.8345\n",
      "Epoch 90/100\n",
      "250/250 [==============================] - 0s 2ms/step - loss: 0.4003 - accuracy: 0.8341\n",
      "Epoch 91/100\n",
      "250/250 [==============================] - 1s 2ms/step - loss: 0.4002 - accuracy: 0.8338\n",
      "Epoch 92/100\n",
      "250/250 [==============================] - 0s 2ms/step - loss: 0.4002 - accuracy: 0.8349\n",
      "Epoch 93/100\n",
      "250/250 [==============================] - 0s 2ms/step - loss: 0.4001 - accuracy: 0.8351\n",
      "Epoch 94/100\n",
      "250/250 [==============================] - 0s 2ms/step - loss: 0.4002 - accuracy: 0.8336\n",
      "Epoch 95/100\n",
      "250/250 [==============================] - 1s 2ms/step - loss: 0.4004 - accuracy: 0.8344\n",
      "Epoch 96/100\n",
      "250/250 [==============================] - 1s 2ms/step - loss: 0.4002 - accuracy: 0.8364\n",
      "Epoch 97/100\n",
      "250/250 [==============================] - 0s 2ms/step - loss: 0.4000 - accuracy: 0.8349\n",
      "Epoch 98/100\n",
      "250/250 [==============================] - 1s 2ms/step - loss: 0.4002 - accuracy: 0.8357\n",
      "Epoch 99/100\n",
      "250/250 [==============================] - 0s 2ms/step - loss: 0.3999 - accuracy: 0.8351\n",
      "Epoch 100/100\n",
      "250/250 [==============================] - 0s 2ms/step - loss: 0.4002 - accuracy: 0.8363\n"
     ]
    },
    {
     "data": {
      "text/plain": [
       "<keras.callbacks.History at 0x20a08e1a190>"
      ]
     },
     "execution_count": 19,
     "metadata": {},
     "output_type": "execute_result"
    }
   ],
   "source": [
    "ann.fit(X_train,y_train,batch_size=32,epochs=100)"
   ]
  },
  {
   "cell_type": "markdown",
   "id": "87862f1c",
   "metadata": {},
   "source": [
    "###  predicting and evaluating the model"
   ]
  },
  {
   "cell_type": "markdown",
   "id": "15c38d60",
   "metadata": {},
   "source": [
    "#### prediction"
   ]
  },
  {
   "cell_type": "code",
   "execution_count": 20,
   "id": "594b30e4",
   "metadata": {},
   "outputs": [
    {
     "name": "stdout",
     "output_type": "stream",
     "text": [
      "63/63 [==============================] - 0s 2ms/step\n"
     ]
    }
   ],
   "source": [
    "y_pred=ann.predict(X_test)\n",
    "y_pred=(y_pred > 0.5)\n"
   ]
  },
  {
   "cell_type": "markdown",
   "id": "d505a100",
   "metadata": {},
   "source": [
    "#### Evaluation"
   ]
  },
  {
   "cell_type": "code",
   "execution_count": 21,
   "id": "1536f9ea",
   "metadata": {},
   "outputs": [
    {
     "name": "stdout",
     "output_type": "stream",
     "text": [
      "Test accuracy: 0.843\n"
     ]
    },
    {
     "data": {
      "text/plain": [
       "array([[1544,   51],\n",
       "       [ 263,  142]], dtype=int64)"
      ]
     },
     "execution_count": 21,
     "metadata": {},
     "output_type": "execute_result"
    }
   ],
   "source": [
    "from sklearn.metrics import confusion_matrix,accuracy_score\n",
    "\n",
    "print(\"Test accuracy:\",accuracy_score(y_test,y_pred))\n",
    "\n",
    "confusion_matrix(y_test,y_pred)"
   ]
  },
  {
   "cell_type": "markdown",
   "id": "6c9c0d8f",
   "metadata": {},
   "source": [
    "#### cross validate the model"
   ]
  },
  {
   "cell_type": "code",
   "execution_count": 30,
   "id": "171aa41b",
   "metadata": {},
   "outputs": [],
   "source": [
    "def build_cross_classifier():\n",
    "    classifier = Sequential()\n",
    "    classifier.add(Dense(input_dim=11,units=6,kernel_initializer='uniform',activation='relu'))\n",
    "    classifier.add(Dense(units=6,kernel_initializer='uniform',activation='relu'))\n",
    "    classifier.add(Dense(units=1,kernel_initializer='uniform',activation='sigmoid'))\n",
    "    classifier.compile(optimizer='adam',loss='binary_crossentropy',metrics=['accuracy'])\n",
    "    return classifier"
   ]
  },
  {
   "cell_type": "code",
   "execution_count": 31,
   "id": "33560442",
   "metadata": {},
   "outputs": [
    {
     "name": "stdout",
     "output_type": "stream",
     "text": [
      "Requirement already satisfied: scikeras in c:\\users\\user\\anaconda3\\lib\\site-packages (0.10.0)\n",
      "Requirement already satisfied: packaging>=0.21 in c:\\users\\user\\anaconda3\\lib\\site-packages (from scikeras) (21.3)\n",
      "Requirement already satisfied: scikit-learn>=1.0.0 in c:\\users\\user\\anaconda3\\lib\\site-packages (from scikeras) (1.0.2)\n",
      "Requirement already satisfied: pyparsing!=3.0.5,>=2.0.2 in c:\\users\\user\\anaconda3\\lib\\site-packages (from packaging>=0.21->scikeras) (3.0.9)\n",
      "Requirement already satisfied: scipy>=1.1.0 in c:\\users\\user\\anaconda3\\lib\\site-packages (from scikit-learn>=1.0.0->scikeras) (1.9.1)\n",
      "Requirement already satisfied: threadpoolctl>=2.0.0 in c:\\users\\user\\anaconda3\\lib\\site-packages (from scikit-learn>=1.0.0->scikeras) (2.2.0)\n",
      "Requirement already satisfied: numpy>=1.14.6 in c:\\users\\user\\anaconda3\\lib\\site-packages (from scikit-learn>=1.0.0->scikeras) (1.21.5)\n",
      "Requirement already satisfied: joblib>=0.11 in c:\\users\\user\\anaconda3\\lib\\site-packages (from scikit-learn>=1.0.0->scikeras) (1.2.0)\n",
      "Note: you may need to restart the kernel to use updated packages.\n"
     ]
    }
   ],
   "source": [
    "#pip install scikeras"
   ]
  },
  {
   "cell_type": "code",
   "execution_count": 32,
   "id": "85a96bb4",
   "metadata": {},
   "outputs": [],
   "source": [
    "from scikeras.wrappers import KerasClassifier\n",
    "classifier=KerasClassifier(build_cross_classifier,batch_size=32,epochs=100)"
   ]
  },
  {
   "cell_type": "code",
   "execution_count": 35,
   "id": "903c0af6",
   "metadata": {},
   "outputs": [
    {
     "name": "stdout",
     "output_type": "stream",
     "text": [
      "Epoch 1/100\n",
      "250/250 [==============================] - 1s 2ms/step - loss: 0.5642 - accuracy: 0.7872\n",
      "Epoch 2/100\n",
      "250/250 [==============================] - 1s 2ms/step - loss: 0.5224 - accuracy: 0.7964\n",
      "Epoch 3/100\n",
      "250/250 [==============================] - 1s 2ms/step - loss: 0.5181 - accuracy: 0.7964\n",
      "Epoch 4/100\n",
      "250/250 [==============================] - 1s 2ms/step - loss: 0.5158 - accuracy: 0.7964\n",
      "Epoch 5/100\n",
      "250/250 [==============================] - 1s 2ms/step - loss: 0.5100 - accuracy: 0.7964\n",
      "Epoch 6/100\n",
      "250/250 [==============================] - 1s 2ms/step - loss: 0.5078 - accuracy: 0.7964\n",
      "Epoch 7/100\n",
      "250/250 [==============================] - 1s 2ms/step - loss: 0.5090 - accuracy: 0.7964\n",
      "Epoch 8/100\n",
      "250/250 [==============================] - 1s 2ms/step - loss: 0.5058 - accuracy: 0.7964\n",
      "Epoch 9/100\n",
      "250/250 [==============================] - 1s 2ms/step - loss: 0.5054 - accuracy: 0.7964\n",
      "Epoch 10/100\n",
      "250/250 [==============================] - 1s 2ms/step - loss: 0.5076 - accuracy: 0.7964\n",
      "Epoch 11/100\n",
      "250/250 [==============================] - 1s 2ms/step - loss: 0.5047 - accuracy: 0.7964\n",
      "Epoch 12/100\n",
      "250/250 [==============================] - 1s 2ms/step - loss: 0.5027 - accuracy: 0.7964\n",
      "Epoch 13/100\n",
      "250/250 [==============================] - 1s 2ms/step - loss: 0.5042 - accuracy: 0.7964\n",
      "Epoch 14/100\n",
      "250/250 [==============================] - 1s 2ms/step - loss: 0.5028 - accuracy: 0.7964\n",
      "Epoch 15/100\n",
      "250/250 [==============================] - 1s 2ms/step - loss: 0.5027 - accuracy: 0.7964\n",
      "Epoch 16/100\n",
      "250/250 [==============================] - 1s 2ms/step - loss: 0.5030 - accuracy: 0.7964\n",
      "Epoch 17/100\n",
      "250/250 [==============================] - 1s 2ms/step - loss: 0.5018 - accuracy: 0.7964\n",
      "Epoch 18/100\n",
      "250/250 [==============================] - 1s 2ms/step - loss: 0.5012 - accuracy: 0.7964\n",
      "Epoch 19/100\n",
      "250/250 [==============================] - 1s 2ms/step - loss: 0.5002 - accuracy: 0.7964\n",
      "Epoch 20/100\n",
      "250/250 [==============================] - 1s 2ms/step - loss: 0.5001 - accuracy: 0.7964\n",
      "Epoch 21/100\n",
      "250/250 [==============================] - 1s 2ms/step - loss: 0.4997 - accuracy: 0.7964\n",
      "Epoch 22/100\n",
      "250/250 [==============================] - 1s 2ms/step - loss: 0.5003 - accuracy: 0.7964\n",
      "Epoch 23/100\n",
      "250/250 [==============================] - 1s 3ms/step - loss: 0.5003 - accuracy: 0.7964\n",
      "Epoch 24/100\n",
      "250/250 [==============================] - 1s 4ms/step - loss: 0.5001 - accuracy: 0.7964\n",
      "Epoch 25/100\n",
      "250/250 [==============================] - 1s 3ms/step - loss: 0.4991 - accuracy: 0.7964\n",
      "Epoch 26/100\n",
      "250/250 [==============================] - 1s 2ms/step - loss: 0.4986 - accuracy: 0.7964\n",
      "Epoch 27/100\n",
      "250/250 [==============================] - 0s 1ms/step - loss: 0.4995 - accuracy: 0.7964\n",
      "Epoch 28/100\n",
      "250/250 [==============================] - 0s 2ms/step - loss: 0.4993 - accuracy: 0.7964\n",
      "Epoch 29/100\n",
      "250/250 [==============================] - 0s 2ms/step - loss: 0.4988 - accuracy: 0.7964\n",
      "Epoch 30/100\n",
      "250/250 [==============================] - 0s 1ms/step - loss: 0.4992 - accuracy: 0.7964\n",
      "Epoch 31/100\n",
      "250/250 [==============================] - 0s 1ms/step - loss: 0.4984 - accuracy: 0.7964\n",
      "Epoch 32/100\n",
      "250/250 [==============================] - 0s 1ms/step - loss: 0.4980 - accuracy: 0.7964\n",
      "Epoch 33/100\n",
      "250/250 [==============================] - 0s 1ms/step - loss: 0.4987 - accuracy: 0.7964\n",
      "Epoch 34/100\n",
      "250/250 [==============================] - 0s 1ms/step - loss: 0.4986 - accuracy: 0.7964\n",
      "Epoch 35/100\n",
      "250/250 [==============================] - 0s 1ms/step - loss: 0.4985 - accuracy: 0.7964\n",
      "Epoch 36/100\n",
      "250/250 [==============================] - 0s 1ms/step - loss: 0.4979 - accuracy: 0.7964\n",
      "Epoch 37/100\n",
      "250/250 [==============================] - 0s 2ms/step - loss: 0.4983 - accuracy: 0.7964\n",
      "Epoch 38/100\n",
      "250/250 [==============================] - 0s 1ms/step - loss: 0.4982 - accuracy: 0.7964\n",
      "Epoch 39/100\n",
      "250/250 [==============================] - 0s 1ms/step - loss: 0.4994 - accuracy: 0.7964\n",
      "Epoch 40/100\n",
      "250/250 [==============================] - 0s 1ms/step - loss: 0.4982 - accuracy: 0.7964\n",
      "Epoch 41/100\n",
      "250/250 [==============================] - 0s 1ms/step - loss: 0.4980 - accuracy: 0.7964\n",
      "Epoch 42/100\n",
      "250/250 [==============================] - 0s 1ms/step - loss: 0.4986 - accuracy: 0.7964\n",
      "Epoch 43/100\n",
      "250/250 [==============================] - 0s 1ms/step - loss: 0.4984 - accuracy: 0.7964\n",
      "Epoch 44/100\n",
      "250/250 [==============================] - 0s 1ms/step - loss: 0.4982 - accuracy: 0.7964\n",
      "Epoch 45/100\n",
      "250/250 [==============================] - 0s 2ms/step - loss: 0.4983 - accuracy: 0.7964\n",
      "Epoch 46/100\n",
      "250/250 [==============================] - 0s 1ms/step - loss: 0.4988 - accuracy: 0.7964\n",
      "Epoch 47/100\n",
      "250/250 [==============================] - 0s 1ms/step - loss: 0.4980 - accuracy: 0.7964\n",
      "Epoch 48/100\n",
      "250/250 [==============================] - 0s 1ms/step - loss: 0.4993 - accuracy: 0.7964\n",
      "Epoch 49/100\n",
      "250/250 [==============================] - 0s 1ms/step - loss: 0.4982 - accuracy: 0.7964\n",
      "Epoch 50/100\n",
      "250/250 [==============================] - 0s 1ms/step - loss: 0.4976 - accuracy: 0.7964\n",
      "Epoch 51/100\n",
      "250/250 [==============================] - 0s 2ms/step - loss: 0.4988 - accuracy: 0.7964\n",
      "Epoch 52/100\n",
      "250/250 [==============================] - 0s 2ms/step - loss: 0.4982 - accuracy: 0.7964\n",
      "Epoch 53/100\n",
      "250/250 [==============================] - 0s 1ms/step - loss: 0.4978 - accuracy: 0.7964\n",
      "Epoch 54/100\n",
      "250/250 [==============================] - 0s 1ms/step - loss: 0.4982 - accuracy: 0.7964\n",
      "Epoch 55/100\n",
      "250/250 [==============================] - 0s 1ms/step - loss: 0.4983 - accuracy: 0.7964\n",
      "Epoch 56/100\n",
      "250/250 [==============================] - 0s 1ms/step - loss: 0.4986 - accuracy: 0.7964\n",
      "Epoch 57/100\n",
      "250/250 [==============================] - 0s 1ms/step - loss: 0.4976 - accuracy: 0.7964\n",
      "Epoch 58/100\n",
      "250/250 [==============================] - 0s 1ms/step - loss: 0.4978 - accuracy: 0.7964\n",
      "Epoch 59/100\n",
      "250/250 [==============================] - 0s 1ms/step - loss: 0.4977 - accuracy: 0.7964\n",
      "Epoch 60/100\n",
      "250/250 [==============================] - 0s 1ms/step - loss: 0.4976 - accuracy: 0.7964\n",
      "Epoch 61/100\n",
      "250/250 [==============================] - 0s 1ms/step - loss: 0.4977 - accuracy: 0.7964\n",
      "Epoch 62/100\n",
      "250/250 [==============================] - 0s 1ms/step - loss: 0.4980 - accuracy: 0.7964\n",
      "Epoch 63/100\n",
      "250/250 [==============================] - 0s 1ms/step - loss: 0.4975 - accuracy: 0.7964\n",
      "Epoch 64/100\n",
      "250/250 [==============================] - 0s 1ms/step - loss: 0.4980 - accuracy: 0.7964\n",
      "Epoch 65/100\n",
      "250/250 [==============================] - 0s 2ms/step - loss: 0.5002 - accuracy: 0.7964\n",
      "Epoch 66/100\n",
      "250/250 [==============================] - 0s 1ms/step - loss: 0.4978 - accuracy: 0.7964\n",
      "Epoch 67/100\n",
      "250/250 [==============================] - 0s 1ms/step - loss: 0.4973 - accuracy: 0.7964\n",
      "Epoch 68/100\n",
      "250/250 [==============================] - 0s 1ms/step - loss: 0.4979 - accuracy: 0.7964\n",
      "Epoch 69/100\n",
      "250/250 [==============================] - 0s 1ms/step - loss: 0.4978 - accuracy: 0.7964\n",
      "Epoch 70/100\n",
      "250/250 [==============================] - 0s 1ms/step - loss: 0.4983 - accuracy: 0.7964\n",
      "Epoch 71/100\n",
      "250/250 [==============================] - 0s 1ms/step - loss: 0.4973 - accuracy: 0.7964\n",
      "Epoch 72/100\n",
      "250/250 [==============================] - 0s 1ms/step - loss: 0.4978 - accuracy: 0.7964\n",
      "Epoch 73/100\n",
      "250/250 [==============================] - 0s 1ms/step - loss: 0.4975 - accuracy: 0.7964\n",
      "Epoch 74/100\n",
      "250/250 [==============================] - 0s 1ms/step - loss: 0.4976 - accuracy: 0.7964\n",
      "Epoch 75/100\n",
      "250/250 [==============================] - 0s 1ms/step - loss: 0.4976 - accuracy: 0.7964\n",
      "Epoch 76/100\n",
      "250/250 [==============================] - 0s 1ms/step - loss: 0.4977 - accuracy: 0.7964\n",
      "Epoch 77/100\n",
      "250/250 [==============================] - 0s 1ms/step - loss: 0.4977 - accuracy: 0.7964\n",
      "Epoch 78/100\n",
      "250/250 [==============================] - 0s 2ms/step - loss: 0.4972 - accuracy: 0.7964\n",
      "Epoch 79/100\n",
      "250/250 [==============================] - 0s 2ms/step - loss: 0.4979 - accuracy: 0.7964\n",
      "Epoch 80/100\n",
      "250/250 [==============================] - 0s 1ms/step - loss: 0.4972 - accuracy: 0.7964\n",
      "Epoch 81/100\n",
      "250/250 [==============================] - 0s 1ms/step - loss: 0.4975 - accuracy: 0.7964\n",
      "Epoch 82/100\n",
      "250/250 [==============================] - 0s 1ms/step - loss: 0.5014 - accuracy: 0.7962\n",
      "Epoch 83/100\n",
      "250/250 [==============================] - 0s 1ms/step - loss: 0.5021 - accuracy: 0.7964\n",
      "Epoch 84/100\n",
      "250/250 [==============================] - 0s 2ms/step - loss: 0.5015 - accuracy: 0.7964\n",
      "Epoch 85/100\n",
      "250/250 [==============================] - 0s 2ms/step - loss: 0.5006 - accuracy: 0.7964\n",
      "Epoch 86/100\n",
      "250/250 [==============================] - 0s 2ms/step - loss: 0.5001 - accuracy: 0.7964\n",
      "Epoch 87/100\n",
      "250/250 [==============================] - 0s 2ms/step - loss: 0.4995 - accuracy: 0.7964\n",
      "Epoch 88/100\n",
      "250/250 [==============================] - 0s 2ms/step - loss: 0.4995 - accuracy: 0.7964\n",
      "Epoch 89/100\n",
      "250/250 [==============================] - 0s 1ms/step - loss: 0.4991 - accuracy: 0.7964\n",
      "Epoch 90/100\n",
      "250/250 [==============================] - 0s 1ms/step - loss: 0.4989 - accuracy: 0.7964\n",
      "Epoch 91/100\n",
      "250/250 [==============================] - 0s 1ms/step - loss: 0.4985 - accuracy: 0.7964\n",
      "Epoch 92/100\n",
      "250/250 [==============================] - 0s 1ms/step - loss: 0.4983 - accuracy: 0.7964\n",
      "Epoch 93/100\n",
      "250/250 [==============================] - 0s 1ms/step - loss: 0.4981 - accuracy: 0.7964\n",
      "Epoch 94/100\n",
      "250/250 [==============================] - 0s 1ms/step - loss: 0.4979 - accuracy: 0.7964\n",
      "Epoch 95/100\n",
      "250/250 [==============================] - 0s 1ms/step - loss: 0.4977 - accuracy: 0.7964\n",
      "Epoch 96/100\n",
      "250/250 [==============================] - 0s 1ms/step - loss: 0.4977 - accuracy: 0.7964\n",
      "Epoch 97/100\n",
      "250/250 [==============================] - 0s 1ms/step - loss: 0.4976 - accuracy: 0.7964\n",
      "Epoch 98/100\n",
      "250/250 [==============================] - 0s 1ms/step - loss: 0.4974 - accuracy: 0.7964\n",
      "Epoch 99/100\n",
      "250/250 [==============================] - 0s 1ms/step - loss: 0.4975 - accuracy: 0.7964\n",
      "Epoch 100/100\n",
      "250/250 [==============================] - 0s 1ms/step - loss: 0.4974 - accuracy: 0.7964\n",
      "63/63 [==============================] - 0s 1ms/step\n",
      "Epoch 1/100\n",
      "250/250 [==============================] - 1s 2ms/step - loss: 0.6004 - accuracy: 0.7920\n",
      "Epoch 2/100\n",
      "250/250 [==============================] - 1s 2ms/step - loss: 0.5542 - accuracy: 0.7964\n",
      "Epoch 3/100\n",
      "250/250 [==============================] - 0s 1ms/step - loss: 0.5342 - accuracy: 0.7964\n",
      "Epoch 4/100\n",
      "250/250 [==============================] - 0s 1ms/step - loss: 0.5223 - accuracy: 0.7964\n",
      "Epoch 5/100\n",
      "250/250 [==============================] - 0s 1ms/step - loss: 0.5120 - accuracy: 0.7964\n",
      "Epoch 6/100\n",
      "250/250 [==============================] - 0s 1ms/step - loss: 0.5057 - accuracy: 0.7964\n",
      "Epoch 7/100\n",
      "250/250 [==============================] - 0s 2ms/step - loss: 0.5019 - accuracy: 0.7964\n",
      "Epoch 8/100\n",
      "250/250 [==============================] - 0s 2ms/step - loss: 0.5013 - accuracy: 0.7964\n",
      "Epoch 9/100\n",
      "250/250 [==============================] - 0s 2ms/step - loss: 0.4990 - accuracy: 0.7964\n",
      "Epoch 10/100\n",
      "250/250 [==============================] - 0s 1ms/step - loss: 0.4992 - accuracy: 0.7964\n",
      "Epoch 11/100\n",
      "250/250 [==============================] - 0s 1ms/step - loss: 0.4986 - accuracy: 0.7964\n",
      "Epoch 12/100\n",
      "250/250 [==============================] - 0s 1ms/step - loss: 0.4990 - accuracy: 0.7964\n",
      "Epoch 13/100\n",
      "250/250 [==============================] - 0s 1ms/step - loss: 0.4984 - accuracy: 0.7964\n",
      "Epoch 14/100\n",
      "250/250 [==============================] - 0s 1ms/step - loss: 0.5022 - accuracy: 0.7964\n",
      "Epoch 15/100\n",
      "250/250 [==============================] - 0s 1ms/step - loss: 0.4987 - accuracy: 0.7964\n",
      "Epoch 16/100\n",
      "250/250 [==============================] - 0s 2ms/step - loss: 0.4983 - accuracy: 0.7964\n",
      "Epoch 17/100\n",
      "250/250 [==============================] - 0s 2ms/step - loss: 0.4980 - accuracy: 0.7964\n",
      "Epoch 18/100\n",
      "250/250 [==============================] - 1s 2ms/step - loss: 0.4982 - accuracy: 0.7964\n",
      "Epoch 19/100\n",
      "250/250 [==============================] - 0s 1ms/step - loss: 0.4988 - accuracy: 0.7964\n",
      "Epoch 20/100\n",
      "250/250 [==============================] - 0s 1ms/step - loss: 0.4986 - accuracy: 0.7964\n",
      "Epoch 21/100\n",
      "250/250 [==============================] - 0s 2ms/step - loss: 0.4980 - accuracy: 0.7964\n",
      "Epoch 22/100\n",
      "250/250 [==============================] - 0s 1ms/step - loss: 0.4993 - accuracy: 0.7964\n",
      "Epoch 23/100\n",
      "250/250 [==============================] - 0s 1ms/step - loss: 0.4980 - accuracy: 0.7964\n",
      "Epoch 24/100\n",
      "250/250 [==============================] - 0s 1ms/step - loss: 0.4976 - accuracy: 0.7964\n",
      "Epoch 25/100\n",
      "250/250 [==============================] - 0s 1ms/step - loss: 0.4978 - accuracy: 0.7964\n",
      "Epoch 26/100\n",
      "250/250 [==============================] - 0s 1ms/step - loss: 0.4994 - accuracy: 0.7964\n",
      "Epoch 27/100\n",
      "250/250 [==============================] - 0s 1ms/step - loss: 0.5069 - accuracy: 0.7964\n",
      "Epoch 28/100\n",
      "250/250 [==============================] - 0s 1ms/step - loss: 0.5011 - accuracy: 0.7964\n",
      "Epoch 29/100\n",
      "250/250 [==============================] - 0s 1ms/step - loss: 0.4985 - accuracy: 0.7964\n",
      "Epoch 30/100\n",
      "250/250 [==============================] - 0s 1ms/step - loss: 0.5005 - accuracy: 0.7964\n",
      "Epoch 31/100\n",
      "250/250 [==============================] - 0s 1ms/step - loss: 0.4986 - accuracy: 0.7964\n",
      "Epoch 32/100\n",
      "250/250 [==============================] - 0s 1ms/step - loss: 0.4984 - accuracy: 0.7964\n",
      "Epoch 33/100\n",
      "250/250 [==============================] - 0s 1ms/step - loss: 0.4978 - accuracy: 0.7964\n",
      "Epoch 34/100\n",
      "250/250 [==============================] - 0s 1ms/step - loss: 0.4978 - accuracy: 0.7964\n",
      "Epoch 35/100\n",
      "250/250 [==============================] - 0s 1ms/step - loss: 0.4972 - accuracy: 0.7964\n",
      "Epoch 36/100\n",
      "250/250 [==============================] - 0s 1ms/step - loss: 0.4989 - accuracy: 0.7964\n",
      "Epoch 37/100\n",
      "250/250 [==============================] - 0s 1ms/step - loss: 0.4971 - accuracy: 0.7964\n",
      "Epoch 38/100\n",
      "250/250 [==============================] - 0s 1ms/step - loss: 0.4979 - accuracy: 0.7964\n",
      "Epoch 39/100\n",
      "250/250 [==============================] - 0s 1ms/step - loss: 0.4985 - accuracy: 0.7964\n",
      "Epoch 40/100\n",
      "250/250 [==============================] - 0s 1ms/step - loss: 0.4977 - accuracy: 0.7964\n",
      "Epoch 41/100\n",
      "250/250 [==============================] - 0s 1ms/step - loss: 0.4982 - accuracy: 0.7964\n",
      "Epoch 42/100\n",
      "250/250 [==============================] - 0s 1ms/step - loss: 0.4976 - accuracy: 0.7964\n",
      "Epoch 43/100\n",
      "250/250 [==============================] - 0s 1ms/step - loss: 0.4974 - accuracy: 0.7964\n",
      "Epoch 44/100\n",
      "250/250 [==============================] - 0s 1ms/step - loss: 0.4975 - accuracy: 0.7964\n",
      "Epoch 45/100\n",
      "250/250 [==============================] - 0s 2ms/step - loss: 0.4969 - accuracy: 0.7964\n",
      "Epoch 46/100\n",
      "250/250 [==============================] - 0s 2ms/step - loss: 0.4980 - accuracy: 0.7964\n",
      "Epoch 47/100\n",
      "250/250 [==============================] - 0s 2ms/step - loss: 0.4980 - accuracy: 0.7964\n",
      "Epoch 48/100\n",
      "250/250 [==============================] - 0s 1ms/step - loss: 0.4972 - accuracy: 0.7964\n",
      "Epoch 49/100\n",
      "250/250 [==============================] - 0s 1ms/step - loss: 0.4982 - accuracy: 0.7964\n",
      "Epoch 50/100\n",
      "250/250 [==============================] - 1s 2ms/step - loss: 0.4981 - accuracy: 0.7964\n",
      "Epoch 51/100\n",
      "250/250 [==============================] - 0s 2ms/step - loss: 0.4977 - accuracy: 0.7964\n",
      "Epoch 52/100\n",
      "250/250 [==============================] - 0s 1ms/step - loss: 0.4969 - accuracy: 0.7964\n",
      "Epoch 53/100\n",
      "250/250 [==============================] - 0s 1ms/step - loss: 0.4976 - accuracy: 0.7964\n",
      "Epoch 54/100\n",
      "250/250 [==============================] - 0s 1ms/step - loss: 0.4972 - accuracy: 0.7964\n",
      "Epoch 55/100\n",
      "250/250 [==============================] - 0s 1ms/step - loss: 0.4969 - accuracy: 0.7964\n",
      "Epoch 56/100\n",
      "250/250 [==============================] - 0s 1ms/step - loss: 0.4972 - accuracy: 0.7964\n",
      "Epoch 57/100\n",
      "250/250 [==============================] - 0s 2ms/step - loss: 0.4968 - accuracy: 0.7964\n",
      "Epoch 58/100\n",
      "250/250 [==============================] - 0s 2ms/step - loss: 0.4977 - accuracy: 0.7964\n",
      "Epoch 59/100\n",
      "250/250 [==============================] - 0s 1ms/step - loss: 0.4979 - accuracy: 0.7964\n",
      "Epoch 60/100\n",
      "250/250 [==============================] - 0s 1ms/step - loss: 0.4969 - accuracy: 0.7964\n",
      "Epoch 61/100\n"
     ]
    },
    {
     "name": "stdout",
     "output_type": "stream",
     "text": [
      "250/250 [==============================] - 0s 1ms/step - loss: 0.4971 - accuracy: 0.7964\n",
      "Epoch 62/100\n",
      "250/250 [==============================] - 0s 1ms/step - loss: 0.4970 - accuracy: 0.7964\n",
      "Epoch 63/100\n",
      "250/250 [==============================] - 0s 2ms/step - loss: 0.4970 - accuracy: 0.7964\n",
      "Epoch 64/100\n",
      "250/250 [==============================] - 0s 1ms/step - loss: 0.4970 - accuracy: 0.7964\n",
      "Epoch 65/100\n",
      "250/250 [==============================] - 0s 2ms/step - loss: 0.4980 - accuracy: 0.7964\n",
      "Epoch 66/100\n",
      "250/250 [==============================] - 0s 1ms/step - loss: 0.4989 - accuracy: 0.7964\n",
      "Epoch 67/100\n",
      "250/250 [==============================] - 0s 1ms/step - loss: 0.5004 - accuracy: 0.7964\n",
      "Epoch 68/100\n",
      "250/250 [==============================] - 0s 1ms/step - loss: 0.4984 - accuracy: 0.7964\n",
      "Epoch 69/100\n",
      "250/250 [==============================] - 0s 1ms/step - loss: 0.4976 - accuracy: 0.7964\n",
      "Epoch 70/100\n",
      "250/250 [==============================] - 0s 1ms/step - loss: 0.4976 - accuracy: 0.7964\n",
      "Epoch 71/100\n",
      "250/250 [==============================] - 0s 1ms/step - loss: 0.4977 - accuracy: 0.7964\n",
      "Epoch 72/100\n",
      "250/250 [==============================] - 0s 1ms/step - loss: 0.4969 - accuracy: 0.7964\n",
      "Epoch 73/100\n",
      "250/250 [==============================] - 0s 1ms/step - loss: 0.4971 - accuracy: 0.7964\n",
      "Epoch 74/100\n",
      "250/250 [==============================] - 0s 2ms/step - loss: 0.4973 - accuracy: 0.7964\n",
      "Epoch 75/100\n",
      "250/250 [==============================] - 0s 1ms/step - loss: 0.4975 - accuracy: 0.7964\n",
      "Epoch 76/100\n",
      "250/250 [==============================] - 0s 1ms/step - loss: 0.4975 - accuracy: 0.7964\n",
      "Epoch 77/100\n",
      "250/250 [==============================] - 0s 1ms/step - loss: 0.4972 - accuracy: 0.7964\n",
      "Epoch 78/100\n",
      "250/250 [==============================] - 0s 1ms/step - loss: 0.4996 - accuracy: 0.7964\n",
      "Epoch 79/100\n",
      "250/250 [==============================] - 0s 1ms/step - loss: 0.4970 - accuracy: 0.7964\n",
      "Epoch 80/100\n",
      "250/250 [==============================] - 0s 1ms/step - loss: 0.4970 - accuracy: 0.7964\n",
      "Epoch 81/100\n",
      "250/250 [==============================] - 0s 1ms/step - loss: 0.4968 - accuracy: 0.7964\n",
      "Epoch 82/100\n",
      "250/250 [==============================] - 0s 1ms/step - loss: 0.4988 - accuracy: 0.7964\n",
      "Epoch 83/100\n",
      "250/250 [==============================] - 0s 1ms/step - loss: 0.4979 - accuracy: 0.7964\n",
      "Epoch 84/100\n",
      "250/250 [==============================] - 0s 1ms/step - loss: 0.4987 - accuracy: 0.7964\n",
      "Epoch 85/100\n",
      "250/250 [==============================] - 0s 1ms/step - loss: 0.4989 - accuracy: 0.7964\n",
      "Epoch 86/100\n",
      "250/250 [==============================] - 0s 1ms/step - loss: 0.4981 - accuracy: 0.7964\n",
      "Epoch 87/100\n",
      "250/250 [==============================] - 0s 1ms/step - loss: 0.5057 - accuracy: 0.7964\n",
      "Epoch 88/100\n",
      "250/250 [==============================] - 0s 1ms/step - loss: 0.5041 - accuracy: 0.7964\n",
      "Epoch 89/100\n",
      "250/250 [==============================] - 0s 1ms/step - loss: 0.5039 - accuracy: 0.7964\n",
      "Epoch 90/100\n",
      "250/250 [==============================] - 0s 1ms/step - loss: 0.5004 - accuracy: 0.7964\n",
      "Epoch 91/100\n",
      "250/250 [==============================] - 0s 1ms/step - loss: 0.4981 - accuracy: 0.7964\n",
      "Epoch 92/100\n",
      "250/250 [==============================] - 0s 1ms/step - loss: 0.4975 - accuracy: 0.7964\n",
      "Epoch 93/100\n",
      "250/250 [==============================] - 0s 1ms/step - loss: 0.4973 - accuracy: 0.7964\n",
      "Epoch 94/100\n",
      "250/250 [==============================] - 0s 1ms/step - loss: 0.4970 - accuracy: 0.7964\n",
      "Epoch 95/100\n",
      "250/250 [==============================] - 0s 1ms/step - loss: 0.4970 - accuracy: 0.7964\n",
      "Epoch 96/100\n",
      "250/250 [==============================] - 0s 1ms/step - loss: 0.4970 - accuracy: 0.7964\n",
      "Epoch 97/100\n",
      "250/250 [==============================] - 0s 1ms/step - loss: 0.4968 - accuracy: 0.7964\n",
      "Epoch 98/100\n",
      "250/250 [==============================] - 0s 1ms/step - loss: 0.4969 - accuracy: 0.7964\n",
      "Epoch 99/100\n",
      "250/250 [==============================] - 0s 1ms/step - loss: 0.4968 - accuracy: 0.7964\n",
      "Epoch 100/100\n",
      "250/250 [==============================] - 0s 1ms/step - loss: 0.4968 - accuracy: 0.7964\n",
      "63/63 [==============================] - 0s 1ms/step\n",
      "Epoch 1/100\n",
      "250/250 [==============================] - 1s 1ms/step - loss: 0.5441 - accuracy: 0.7901\n",
      "Epoch 2/100\n",
      "250/250 [==============================] - 0s 1ms/step - loss: 0.5284 - accuracy: 0.7962\n",
      "Epoch 3/100\n",
      "250/250 [==============================] - 0s 1ms/step - loss: 0.5208 - accuracy: 0.7962\n",
      "Epoch 4/100\n",
      "250/250 [==============================] - 0s 1ms/step - loss: 0.5146 - accuracy: 0.7962\n",
      "Epoch 5/100\n",
      "250/250 [==============================] - 0s 1ms/step - loss: 0.5117 - accuracy: 0.7962\n",
      "Epoch 6/100\n",
      "250/250 [==============================] - 0s 1ms/step - loss: 0.5109 - accuracy: 0.7962\n",
      "Epoch 7/100\n",
      "250/250 [==============================] - 0s 1ms/step - loss: 0.5079 - accuracy: 0.7962\n",
      "Epoch 8/100\n",
      "250/250 [==============================] - 0s 1ms/step - loss: 0.5058 - accuracy: 0.7962\n",
      "Epoch 9/100\n",
      "250/250 [==============================] - 0s 1ms/step - loss: 0.5065 - accuracy: 0.7962\n",
      "Epoch 10/100\n",
      "250/250 [==============================] - 0s 1ms/step - loss: 0.5041 - accuracy: 0.7962\n",
      "Epoch 11/100\n",
      "250/250 [==============================] - 0s 1ms/step - loss: 0.5054 - accuracy: 0.7962\n",
      "Epoch 12/100\n",
      "250/250 [==============================] - 0s 1ms/step - loss: 0.5035 - accuracy: 0.7962\n",
      "Epoch 13/100\n",
      "250/250 [==============================] - 0s 2ms/step - loss: 0.5042 - accuracy: 0.7962\n",
      "Epoch 14/100\n",
      "250/250 [==============================] - 0s 1ms/step - loss: 0.5028 - accuracy: 0.7962\n",
      "Epoch 15/100\n",
      "250/250 [==============================] - 0s 1ms/step - loss: 0.5024 - accuracy: 0.7962\n",
      "Epoch 16/100\n",
      "250/250 [==============================] - 0s 1ms/step - loss: 0.5031 - accuracy: 0.7962\n",
      "Epoch 17/100\n",
      "250/250 [==============================] - 0s 1ms/step - loss: 0.5041 - accuracy: 0.7962\n",
      "Epoch 18/100\n",
      "250/250 [==============================] - 0s 1ms/step - loss: 0.5043 - accuracy: 0.7962\n",
      "Epoch 19/100\n",
      "250/250 [==============================] - 0s 1ms/step - loss: 0.5010 - accuracy: 0.7962\n",
      "Epoch 20/100\n",
      "250/250 [==============================] - 0s 1ms/step - loss: 0.5016 - accuracy: 0.7962\n",
      "Epoch 21/100\n",
      "250/250 [==============================] - 0s 1ms/step - loss: 0.5005 - accuracy: 0.7962\n",
      "Epoch 22/100\n",
      "250/250 [==============================] - 0s 1ms/step - loss: 0.5001 - accuracy: 0.7962\n",
      "Epoch 23/100\n",
      "250/250 [==============================] - 0s 1ms/step - loss: 0.5007 - accuracy: 0.7962\n",
      "Epoch 24/100\n",
      "250/250 [==============================] - 0s 1ms/step - loss: 0.4999 - accuracy: 0.7962\n",
      "Epoch 25/100\n",
      "250/250 [==============================] - 0s 1ms/step - loss: 0.4995 - accuracy: 0.7962\n",
      "Epoch 26/100\n",
      "250/250 [==============================] - 0s 1ms/step - loss: 0.5007 - accuracy: 0.7962\n",
      "Epoch 27/100\n",
      "250/250 [==============================] - 0s 2ms/step - loss: 0.4994 - accuracy: 0.7962\n",
      "Epoch 28/100\n",
      "250/250 [==============================] - 0s 1ms/step - loss: 0.4994 - accuracy: 0.7962\n",
      "Epoch 29/100\n",
      "250/250 [==============================] - 0s 2ms/step - loss: 0.4988 - accuracy: 0.7962\n",
      "Epoch 30/100\n",
      "250/250 [==============================] - 0s 1ms/step - loss: 0.5002 - accuracy: 0.7962\n",
      "Epoch 31/100\n",
      "250/250 [==============================] - 0s 1ms/step - loss: 0.4986 - accuracy: 0.7962\n",
      "Epoch 32/100\n",
      "250/250 [==============================] - 0s 1ms/step - loss: 0.5000 - accuracy: 0.7962\n",
      "Epoch 33/100\n",
      "250/250 [==============================] - 0s 1ms/step - loss: 0.5008 - accuracy: 0.7962\n",
      "Epoch 34/100\n",
      "250/250 [==============================] - 0s 1ms/step - loss: 0.5003 - accuracy: 0.7962\n",
      "Epoch 35/100\n",
      "250/250 [==============================] - 0s 1ms/step - loss: 0.5001 - accuracy: 0.7962\n",
      "Epoch 36/100\n",
      "250/250 [==============================] - 0s 1ms/step - loss: 0.4993 - accuracy: 0.7962\n",
      "Epoch 37/100\n",
      "250/250 [==============================] - 0s 2ms/step - loss: 0.4993 - accuracy: 0.7962\n",
      "Epoch 38/100\n",
      "250/250 [==============================] - 0s 1ms/step - loss: 0.4995 - accuracy: 0.7962\n",
      "Epoch 39/100\n",
      "250/250 [==============================] - 0s 1ms/step - loss: 0.4990 - accuracy: 0.7962\n",
      "Epoch 40/100\n",
      "250/250 [==============================] - 0s 1ms/step - loss: 0.4987 - accuracy: 0.7962\n",
      "Epoch 41/100\n"
     ]
    },
    {
     "name": "stdout",
     "output_type": "stream",
     "text": [
      "250/250 [==============================] - 0s 1ms/step - loss: 0.4979 - accuracy: 0.7962\n",
      "Epoch 42/100\n",
      "250/250 [==============================] - 0s 1ms/step - loss: 0.4982 - accuracy: 0.7962\n",
      "Epoch 43/100\n",
      "250/250 [==============================] - 0s 1ms/step - loss: 0.4987 - accuracy: 0.7962\n",
      "Epoch 44/100\n",
      "250/250 [==============================] - 0s 1ms/step - loss: 0.4986 - accuracy: 0.7962\n",
      "Epoch 45/100\n",
      "250/250 [==============================] - 0s 2ms/step - loss: 0.4986 - accuracy: 0.7962\n",
      "Epoch 46/100\n",
      "250/250 [==============================] - 0s 2ms/step - loss: 0.4991 - accuracy: 0.7962\n",
      "Epoch 47/100\n",
      "250/250 [==============================] - 0s 2ms/step - loss: 0.4989 - accuracy: 0.7962\n",
      "Epoch 48/100\n",
      "250/250 [==============================] - 0s 2ms/step - loss: 0.4985 - accuracy: 0.7962\n",
      "Epoch 49/100\n",
      "250/250 [==============================] - 0s 1ms/step - loss: 0.5035 - accuracy: 0.7962\n",
      "Epoch 50/100\n",
      "250/250 [==============================] - 0s 1ms/step - loss: 0.5018 - accuracy: 0.7962\n",
      "Epoch 51/100\n",
      "250/250 [==============================] - 0s 1ms/step - loss: 0.4996 - accuracy: 0.7962\n",
      "Epoch 52/100\n",
      "250/250 [==============================] - 0s 1ms/step - loss: 0.4989 - accuracy: 0.7962\n",
      "Epoch 53/100\n",
      "250/250 [==============================] - 0s 1ms/step - loss: 0.4986 - accuracy: 0.7962\n",
      "Epoch 54/100\n",
      "250/250 [==============================] - 0s 1ms/step - loss: 0.4990 - accuracy: 0.7962\n",
      "Epoch 55/100\n",
      "250/250 [==============================] - 0s 1ms/step - loss: 0.4988 - accuracy: 0.7962\n",
      "Epoch 56/100\n",
      "250/250 [==============================] - 0s 1ms/step - loss: 0.4988 - accuracy: 0.7962\n",
      "Epoch 57/100\n",
      "250/250 [==============================] - 0s 1ms/step - loss: 0.4988 - accuracy: 0.7962\n",
      "Epoch 58/100\n",
      "250/250 [==============================] - 0s 1ms/step - loss: 0.4989 - accuracy: 0.7962\n",
      "Epoch 59/100\n",
      "250/250 [==============================] - 0s 1ms/step - loss: 0.4987 - accuracy: 0.7962\n",
      "Epoch 60/100\n",
      "250/250 [==============================] - 0s 1ms/step - loss: 0.4987 - accuracy: 0.7962\n",
      "Epoch 61/100\n",
      "250/250 [==============================] - 0s 1ms/step - loss: 0.4986 - accuracy: 0.7962\n",
      "Epoch 62/100\n",
      "250/250 [==============================] - 0s 2ms/step - loss: 0.4979 - accuracy: 0.7962\n",
      "Epoch 63/100\n",
      "250/250 [==============================] - 0s 1ms/step - loss: 0.4980 - accuracy: 0.7962\n",
      "Epoch 64/100\n",
      "250/250 [==============================] - 0s 1ms/step - loss: 0.4997 - accuracy: 0.7962\n",
      "Epoch 65/100\n",
      "250/250 [==============================] - 0s 1ms/step - loss: 0.4980 - accuracy: 0.7962\n",
      "Epoch 66/100\n",
      "250/250 [==============================] - 0s 1ms/step - loss: 0.4989 - accuracy: 0.7962\n",
      "Epoch 67/100\n",
      "250/250 [==============================] - 0s 1ms/step - loss: 0.4985 - accuracy: 0.7962\n",
      "Epoch 68/100\n",
      "250/250 [==============================] - 0s 1ms/step - loss: 0.4981 - accuracy: 0.7962\n",
      "Epoch 69/100\n",
      "250/250 [==============================] - 0s 1ms/step - loss: 0.5011 - accuracy: 0.7962\n",
      "Epoch 70/100\n",
      "250/250 [==============================] - 0s 1ms/step - loss: 0.5004 - accuracy: 0.7962\n",
      "Epoch 71/100\n",
      "250/250 [==============================] - 0s 1ms/step - loss: 0.4984 - accuracy: 0.7962\n",
      "Epoch 72/100\n",
      "250/250 [==============================] - 0s 1ms/step - loss: 0.4983 - accuracy: 0.7962\n",
      "Epoch 73/100\n",
      "250/250 [==============================] - 0s 1ms/step - loss: 0.4984 - accuracy: 0.7962\n",
      "Epoch 74/100\n",
      "250/250 [==============================] - 0s 1ms/step - loss: 0.4971 - accuracy: 0.7962\n",
      "Epoch 75/100\n",
      "250/250 [==============================] - 0s 1ms/step - loss: 0.4978 - accuracy: 0.7962\n",
      "Epoch 76/100\n",
      "250/250 [==============================] - 0s 1ms/step - loss: 0.4981 - accuracy: 0.7962\n",
      "Epoch 77/100\n",
      "250/250 [==============================] - 0s 1ms/step - loss: 0.4981 - accuracy: 0.7962\n",
      "Epoch 78/100\n",
      "250/250 [==============================] - 0s 1ms/step - loss: 0.5029 - accuracy: 0.7962\n",
      "Epoch 79/100\n",
      "250/250 [==============================] - 0s 1ms/step - loss: 0.5008 - accuracy: 0.7962\n",
      "Epoch 80/100\n",
      "250/250 [==============================] - 0s 1ms/step - loss: 0.4975 - accuracy: 0.7962\n",
      "Epoch 81/100\n",
      "250/250 [==============================] - 0s 1ms/step - loss: 0.4983 - accuracy: 0.7962\n",
      "Epoch 82/100\n",
      "250/250 [==============================] - 0s 1ms/step - loss: 0.4981 - accuracy: 0.7962\n",
      "Epoch 83/100\n",
      "250/250 [==============================] - 0s 1ms/step - loss: 0.4978 - accuracy: 0.7962\n",
      "Epoch 84/100\n",
      "250/250 [==============================] - 0s 1ms/step - loss: 0.4982 - accuracy: 0.7962\n",
      "Epoch 85/100\n",
      "250/250 [==============================] - 0s 1ms/step - loss: 0.4980 - accuracy: 0.7962\n",
      "Epoch 86/100\n",
      "250/250 [==============================] - 0s 1ms/step - loss: 0.4990 - accuracy: 0.7962\n",
      "Epoch 87/100\n",
      "250/250 [==============================] - 0s 1ms/step - loss: 0.4980 - accuracy: 0.7962\n",
      "Epoch 88/100\n",
      "250/250 [==============================] - 0s 1ms/step - loss: 0.5041 - accuracy: 0.7962\n",
      "Epoch 89/100\n",
      "250/250 [==============================] - 0s 1ms/step - loss: 0.5037 - accuracy: 0.7962\n",
      "Epoch 90/100\n",
      "250/250 [==============================] - 0s 1ms/step - loss: 0.4985 - accuracy: 0.7962\n",
      "Epoch 91/100\n",
      "250/250 [==============================] - 0s 1ms/step - loss: 0.4985 - accuracy: 0.7962\n",
      "Epoch 92/100\n",
      "250/250 [==============================] - 0s 1ms/step - loss: 0.4980 - accuracy: 0.7962\n",
      "Epoch 93/100\n",
      "250/250 [==============================] - 0s 1ms/step - loss: 0.4979 - accuracy: 0.7962\n",
      "Epoch 94/100\n",
      "250/250 [==============================] - 0s 1ms/step - loss: 0.4986 - accuracy: 0.7962\n",
      "Epoch 95/100\n",
      "250/250 [==============================] - 0s 1ms/step - loss: 0.4981 - accuracy: 0.7962\n",
      "Epoch 96/100\n",
      "250/250 [==============================] - 0s 1ms/step - loss: 0.4985 - accuracy: 0.7962\n",
      "Epoch 97/100\n",
      "250/250 [==============================] - 0s 1ms/step - loss: 0.4991 - accuracy: 0.7962\n",
      "Epoch 98/100\n",
      "250/250 [==============================] - 0s 1ms/step - loss: 0.4989 - accuracy: 0.7962\n",
      "Epoch 99/100\n",
      "250/250 [==============================] - 0s 1ms/step - loss: 0.4983 - accuracy: 0.7962\n",
      "Epoch 100/100\n",
      "250/250 [==============================] - 0s 1ms/step - loss: 0.4984 - accuracy: 0.7962\n",
      "63/63 [==============================] - 0s 1ms/step\n",
      "Epoch 1/100\n",
      "250/250 [==============================] - 1s 1ms/step - loss: 0.5969 - accuracy: 0.7704\n",
      "Epoch 2/100\n",
      "250/250 [==============================] - 0s 1ms/step - loss: 0.5270 - accuracy: 0.7962\n",
      "Epoch 3/100\n",
      "250/250 [==============================] - 0s 1ms/step - loss: 0.5199 - accuracy: 0.7962\n",
      "Epoch 4/100\n",
      "250/250 [==============================] - 0s 1ms/step - loss: 0.5136 - accuracy: 0.7962\n",
      "Epoch 5/100\n",
      "250/250 [==============================] - 0s 1ms/step - loss: 0.5125 - accuracy: 0.7962\n",
      "Epoch 6/100\n",
      "250/250 [==============================] - 0s 1ms/step - loss: 0.5110 - accuracy: 0.7962\n",
      "Epoch 7/100\n",
      "250/250 [==============================] - 0s 1ms/step - loss: 0.5102 - accuracy: 0.7962\n",
      "Epoch 8/100\n",
      "250/250 [==============================] - 0s 1ms/step - loss: 0.5077 - accuracy: 0.7962\n",
      "Epoch 9/100\n",
      "250/250 [==============================] - 0s 1ms/step - loss: 0.5053 - accuracy: 0.7962\n",
      "Epoch 10/100\n",
      "250/250 [==============================] - 0s 1ms/step - loss: 0.5045 - accuracy: 0.7962\n",
      "Epoch 11/100\n",
      "250/250 [==============================] - 0s 1ms/step - loss: 0.5051 - accuracy: 0.7962\n",
      "Epoch 12/100\n",
      "250/250 [==============================] - 0s 1ms/step - loss: 0.5046 - accuracy: 0.7962\n",
      "Epoch 13/100\n",
      "250/250 [==============================] - 0s 1ms/step - loss: 0.5061 - accuracy: 0.7962\n",
      "Epoch 14/100\n",
      "250/250 [==============================] - 0s 1ms/step - loss: 0.5037 - accuracy: 0.7962\n",
      "Epoch 15/100\n",
      "250/250 [==============================] - 0s 1ms/step - loss: 0.5031 - accuracy: 0.7962\n",
      "Epoch 16/100\n",
      "250/250 [==============================] - 0s 1ms/step - loss: 0.5041 - accuracy: 0.7962\n",
      "Epoch 17/100\n",
      "250/250 [==============================] - 0s 1ms/step - loss: 0.5045 - accuracy: 0.7962\n",
      "Epoch 18/100\n",
      "250/250 [==============================] - 0s 1ms/step - loss: 0.5024 - accuracy: 0.7962\n",
      "Epoch 19/100\n",
      "250/250 [==============================] - 0s 1ms/step - loss: 0.5013 - accuracy: 0.7962\n",
      "Epoch 20/100\n",
      "250/250 [==============================] - 0s 2ms/step - loss: 0.5016 - accuracy: 0.7962\n",
      "Epoch 21/100\n"
     ]
    },
    {
     "name": "stdout",
     "output_type": "stream",
     "text": [
      "250/250 [==============================] - 0s 1ms/step - loss: 0.5015 - accuracy: 0.7962\n",
      "Epoch 22/100\n",
      "250/250 [==============================] - 0s 1ms/step - loss: 0.5018 - accuracy: 0.7962\n",
      "Epoch 23/100\n",
      "250/250 [==============================] - 0s 1ms/step - loss: 0.5007 - accuracy: 0.7962\n",
      "Epoch 24/100\n",
      "250/250 [==============================] - 0s 1ms/step - loss: 0.5007 - accuracy: 0.7962\n",
      "Epoch 25/100\n",
      "250/250 [==============================] - 0s 1ms/step - loss: 0.5004 - accuracy: 0.7962\n",
      "Epoch 26/100\n",
      "250/250 [==============================] - 0s 2ms/step - loss: 0.4994 - accuracy: 0.7962\n",
      "Epoch 27/100\n",
      "250/250 [==============================] - 0s 1ms/step - loss: 0.4999 - accuracy: 0.7962\n",
      "Epoch 28/100\n",
      "250/250 [==============================] - 0s 1ms/step - loss: 0.4996 - accuracy: 0.7962\n",
      "Epoch 29/100\n",
      "250/250 [==============================] - 0s 1ms/step - loss: 0.5000 - accuracy: 0.7962\n",
      "Epoch 30/100\n",
      "250/250 [==============================] - 0s 1ms/step - loss: 0.4995 - accuracy: 0.7962\n",
      "Epoch 31/100\n",
      "250/250 [==============================] - 0s 1ms/step - loss: 0.4994 - accuracy: 0.7962\n",
      "Epoch 32/100\n",
      "250/250 [==============================] - 0s 1ms/step - loss: 0.5001 - accuracy: 0.7962\n",
      "Epoch 33/100\n",
      "250/250 [==============================] - 0s 1ms/step - loss: 0.4998 - accuracy: 0.7962\n",
      "Epoch 34/100\n",
      "250/250 [==============================] - 0s 1ms/step - loss: 0.4993 - accuracy: 0.7962\n",
      "Epoch 35/100\n",
      "250/250 [==============================] - 0s 1ms/step - loss: 0.5004 - accuracy: 0.7962\n",
      "Epoch 36/100\n",
      "250/250 [==============================] - 0s 2ms/step - loss: 0.4995 - accuracy: 0.7962\n",
      "Epoch 37/100\n",
      "250/250 [==============================] - 0s 1ms/step - loss: 0.5005 - accuracy: 0.7962\n",
      "Epoch 38/100\n",
      "250/250 [==============================] - 0s 1ms/step - loss: 0.5000 - accuracy: 0.7962\n",
      "Epoch 39/100\n",
      "250/250 [==============================] - 0s 1ms/step - loss: 0.4992 - accuracy: 0.7962\n",
      "Epoch 40/100\n",
      "250/250 [==============================] - 0s 1ms/step - loss: 0.4991 - accuracy: 0.7962\n",
      "Epoch 41/100\n",
      "250/250 [==============================] - 0s 1ms/step - loss: 0.4994 - accuracy: 0.7962\n",
      "Epoch 42/100\n",
      "250/250 [==============================] - 0s 1ms/step - loss: 0.5005 - accuracy: 0.7962\n",
      "Epoch 43/100\n",
      "250/250 [==============================] - 0s 1ms/step - loss: 0.4993 - accuracy: 0.7962\n",
      "Epoch 44/100\n",
      "250/250 [==============================] - 0s 1ms/step - loss: 0.4996 - accuracy: 0.7962\n",
      "Epoch 45/100\n",
      "250/250 [==============================] - 0s 1ms/step - loss: 0.4993 - accuracy: 0.7962\n",
      "Epoch 46/100\n",
      "250/250 [==============================] - 0s 1ms/step - loss: 0.4993 - accuracy: 0.7962\n",
      "Epoch 47/100\n",
      "250/250 [==============================] - 0s 1ms/step - loss: 0.4995 - accuracy: 0.7962\n",
      "Epoch 48/100\n",
      "250/250 [==============================] - 0s 1ms/step - loss: 0.4993 - accuracy: 0.7962\n",
      "Epoch 49/100\n",
      "250/250 [==============================] - 0s 1ms/step - loss: 0.4995 - accuracy: 0.7962\n",
      "Epoch 50/100\n",
      "250/250 [==============================] - 0s 1ms/step - loss: 0.4997 - accuracy: 0.7962\n",
      "Epoch 51/100\n",
      "250/250 [==============================] - 0s 1ms/step - loss: 0.4998 - accuracy: 0.7962\n",
      "Epoch 52/100\n",
      "250/250 [==============================] - 0s 1ms/step - loss: 0.4995 - accuracy: 0.7962\n",
      "Epoch 53/100\n",
      "250/250 [==============================] - 0s 1ms/step - loss: 0.4992 - accuracy: 0.7962\n",
      "Epoch 54/100\n",
      "250/250 [==============================] - 0s 1ms/step - loss: 0.4997 - accuracy: 0.7962\n",
      "Epoch 55/100\n",
      "250/250 [==============================] - 0s 1ms/step - loss: 0.4984 - accuracy: 0.7962\n",
      "Epoch 56/100\n",
      "250/250 [==============================] - 0s 1ms/step - loss: 0.4993 - accuracy: 0.7962\n",
      "Epoch 57/100\n",
      "250/250 [==============================] - 0s 1ms/step - loss: 0.4993 - accuracy: 0.7964\n",
      "Epoch 58/100\n",
      "250/250 [==============================] - 0s 1ms/step - loss: 0.4991 - accuracy: 0.7962\n",
      "Epoch 59/100\n",
      "250/250 [==============================] - 0s 2ms/step - loss: 0.4992 - accuracy: 0.7962\n",
      "Epoch 60/100\n",
      "250/250 [==============================] - 0s 1ms/step - loss: 0.4992 - accuracy: 0.7962\n",
      "Epoch 61/100\n",
      "250/250 [==============================] - 0s 2ms/step - loss: 0.4990 - accuracy: 0.7962\n",
      "Epoch 62/100\n",
      "250/250 [==============================] - 0s 1ms/step - loss: 0.5005 - accuracy: 0.7962\n",
      "Epoch 63/100\n",
      "250/250 [==============================] - 0s 1ms/step - loss: 0.4998 - accuracy: 0.7962\n",
      "Epoch 64/100\n",
      "250/250 [==============================] - 0s 1ms/step - loss: 0.4989 - accuracy: 0.7962\n",
      "Epoch 65/100\n",
      "250/250 [==============================] - 0s 2ms/step - loss: 0.5034 - accuracy: 0.7962\n",
      "Epoch 66/100\n",
      "250/250 [==============================] - 0s 2ms/step - loss: 0.5050 - accuracy: 0.7962\n",
      "Epoch 67/100\n",
      "250/250 [==============================] - 0s 1ms/step - loss: 0.5049 - accuracy: 0.7962\n",
      "Epoch 68/100\n",
      "250/250 [==============================] - 0s 1ms/step - loss: 0.5047 - accuracy: 0.7962\n",
      "Epoch 69/100\n",
      "250/250 [==============================] - 0s 1ms/step - loss: 0.5041 - accuracy: 0.7962\n",
      "Epoch 70/100\n",
      "250/250 [==============================] - 0s 1ms/step - loss: 0.5045 - accuracy: 0.7962\n",
      "Epoch 71/100\n",
      "250/250 [==============================] - 0s 2ms/step - loss: 0.5023 - accuracy: 0.7962\n",
      "Epoch 72/100\n",
      "250/250 [==============================] - 0s 2ms/step - loss: 0.5032 - accuracy: 0.7962\n",
      "Epoch 73/100\n",
      "250/250 [==============================] - 0s 1ms/step - loss: 0.5024 - accuracy: 0.7962\n",
      "Epoch 74/100\n",
      "250/250 [==============================] - 0s 1ms/step - loss: 0.5014 - accuracy: 0.7962\n",
      "Epoch 75/100\n",
      "250/250 [==============================] - 0s 1ms/step - loss: 0.4991 - accuracy: 0.7962\n",
      "Epoch 76/100\n",
      "250/250 [==============================] - 0s 1ms/step - loss: 0.5016 - accuracy: 0.7962\n",
      "Epoch 77/100\n",
      "250/250 [==============================] - 0s 1ms/step - loss: 0.5051 - accuracy: 0.7962\n",
      "Epoch 78/100\n",
      "250/250 [==============================] - 0s 1ms/step - loss: 0.5058 - accuracy: 0.7962\n",
      "Epoch 79/100\n",
      "250/250 [==============================] - 0s 1ms/step - loss: 0.5051 - accuracy: 0.7962\n",
      "Epoch 80/100\n",
      "250/250 [==============================] - 0s 1ms/step - loss: 0.5053 - accuracy: 0.7962\n",
      "Epoch 81/100\n",
      "250/250 [==============================] - 0s 1ms/step - loss: 0.5052 - accuracy: 0.7962\n",
      "Epoch 82/100\n",
      "250/250 [==============================] - 0s 2ms/step - loss: 0.5051 - accuracy: 0.7962\n",
      "Epoch 83/100\n",
      "250/250 [==============================] - 0s 1ms/step - loss: 0.5052 - accuracy: 0.7962\n",
      "Epoch 84/100\n",
      "250/250 [==============================] - 0s 2ms/step - loss: 0.5052 - accuracy: 0.7962\n",
      "Epoch 85/100\n",
      "250/250 [==============================] - 0s 1ms/step - loss: 0.5051 - accuracy: 0.7962\n",
      "Epoch 86/100\n",
      "250/250 [==============================] - 0s 2ms/step - loss: 0.5051 - accuracy: 0.7962\n",
      "Epoch 87/100\n",
      "250/250 [==============================] - 0s 1ms/step - loss: 0.5050 - accuracy: 0.7962\n",
      "Epoch 88/100\n",
      "250/250 [==============================] - 0s 1ms/step - loss: 0.5052 - accuracy: 0.7962\n",
      "Epoch 89/100\n",
      "250/250 [==============================] - 0s 1ms/step - loss: 0.5052 - accuracy: 0.7962\n",
      "Epoch 90/100\n",
      "250/250 [==============================] - 0s 1ms/step - loss: 0.5026 - accuracy: 0.7962\n",
      "Epoch 91/100\n",
      "250/250 [==============================] - 0s 1ms/step - loss: 0.5013 - accuracy: 0.7962\n",
      "Epoch 92/100\n",
      "250/250 [==============================] - 0s 1ms/step - loss: 0.5000 - accuracy: 0.7962\n",
      "Epoch 93/100\n",
      "250/250 [==============================] - 0s 1ms/step - loss: 0.4995 - accuracy: 0.7962\n",
      "Epoch 94/100\n",
      "250/250 [==============================] - 0s 1ms/step - loss: 0.4993 - accuracy: 0.7962\n",
      "Epoch 95/100\n",
      "250/250 [==============================] - 0s 1ms/step - loss: 0.4995 - accuracy: 0.7962\n",
      "Epoch 96/100\n",
      "250/250 [==============================] - 0s 1ms/step - loss: 0.4991 - accuracy: 0.7962\n",
      "Epoch 97/100\n",
      "250/250 [==============================] - 0s 1ms/step - loss: 0.5010 - accuracy: 0.7962\n",
      "Epoch 98/100\n",
      "250/250 [==============================] - 0s 2ms/step - loss: 0.5010 - accuracy: 0.7962\n",
      "Epoch 99/100\n",
      "250/250 [==============================] - 0s 2ms/step - loss: 0.4986 - accuracy: 0.7962\n",
      "Epoch 100/100\n",
      "250/250 [==============================] - 0s 2ms/step - loss: 0.4997 - accuracy: 0.7962\n",
      "63/63 [==============================] - 0s 1ms/step\n",
      "Epoch 1/100\n",
      "250/250 [==============================] - 1s 1ms/step - loss: 0.7350 - accuracy: 0.7484\n",
      "Epoch 2/100\n",
      "250/250 [==============================] - 0s 2ms/step - loss: 0.6130 - accuracy: 0.7962\n",
      "Epoch 3/100\n",
      "250/250 [==============================] - 0s 1ms/step - loss: 0.5749 - accuracy: 0.7962\n",
      "Epoch 4/100\n",
      "250/250 [==============================] - 0s 1ms/step - loss: 0.5491 - accuracy: 0.7962\n",
      "Epoch 5/100\n",
      "250/250 [==============================] - 0s 1ms/step - loss: 0.5320 - accuracy: 0.7962\n",
      "Epoch 6/100\n",
      "250/250 [==============================] - 0s 1ms/step - loss: 0.5210 - accuracy: 0.7962\n",
      "Epoch 7/100\n",
      "250/250 [==============================] - 0s 1ms/step - loss: 0.5143 - accuracy: 0.7962\n",
      "Epoch 8/100\n",
      "250/250 [==============================] - 0s 2ms/step - loss: 0.5103 - accuracy: 0.7962\n",
      "Epoch 9/100\n",
      "250/250 [==============================] - 0s 2ms/step - loss: 0.5080 - accuracy: 0.7962\n",
      "Epoch 10/100\n",
      "250/250 [==============================] - 1s 2ms/step - loss: 0.5068 - accuracy: 0.7962\n",
      "Epoch 11/100\n",
      "250/250 [==============================] - 0s 2ms/step - loss: 0.5061 - accuracy: 0.7962\n",
      "Epoch 12/100\n",
      "250/250 [==============================] - 0s 2ms/step - loss: 0.5058 - accuracy: 0.7962\n",
      "Epoch 13/100\n",
      "250/250 [==============================] - 0s 2ms/step - loss: 0.5057 - accuracy: 0.7962\n",
      "Epoch 14/100\n",
      "250/250 [==============================] - 0s 1ms/step - loss: 0.5056 - accuracy: 0.7962\n",
      "Epoch 15/100\n",
      "250/250 [==============================] - 0s 1ms/step - loss: 0.5056 - accuracy: 0.7962\n",
      "Epoch 16/100\n",
      "250/250 [==============================] - 0s 1ms/step - loss: 0.5056 - accuracy: 0.7962\n",
      "Epoch 17/100\n",
      "250/250 [==============================] - 0s 1ms/step - loss: 0.5056 - accuracy: 0.7962\n",
      "Epoch 18/100\n",
      "250/250 [==============================] - 0s 1ms/step - loss: 0.5056 - accuracy: 0.7962\n",
      "Epoch 19/100\n",
      "250/250 [==============================] - 0s 1ms/step - loss: 0.5056 - accuracy: 0.7962\n",
      "Epoch 20/100\n",
      "250/250 [==============================] - 0s 1ms/step - loss: 0.5056 - accuracy: 0.7962\n",
      "Epoch 21/100\n",
      "250/250 [==============================] - 0s 2ms/step - loss: 0.5056 - accuracy: 0.7962\n",
      "Epoch 22/100\n",
      "250/250 [==============================] - 0s 2ms/step - loss: 0.5056 - accuracy: 0.7962\n",
      "Epoch 23/100\n",
      "250/250 [==============================] - 0s 2ms/step - loss: 0.5056 - accuracy: 0.7962\n",
      "Epoch 24/100\n",
      "250/250 [==============================] - 0s 2ms/step - loss: 0.5056 - accuracy: 0.7962\n",
      "Epoch 25/100\n",
      "250/250 [==============================] - 0s 1ms/step - loss: 0.5056 - accuracy: 0.7962\n",
      "Epoch 26/100\n",
      "250/250 [==============================] - 0s 1ms/step - loss: 0.5056 - accuracy: 0.7962\n",
      "Epoch 27/100\n",
      "250/250 [==============================] - 0s 1ms/step - loss: 0.5056 - accuracy: 0.7962\n",
      "Epoch 28/100\n",
      "250/250 [==============================] - 0s 1ms/step - loss: 0.5056 - accuracy: 0.7962\n",
      "Epoch 29/100\n",
      "250/250 [==============================] - 0s 2ms/step - loss: 0.5056 - accuracy: 0.7962\n",
      "Epoch 30/100\n",
      "250/250 [==============================] - 0s 2ms/step - loss: 0.5056 - accuracy: 0.7962\n",
      "Epoch 31/100\n",
      "250/250 [==============================] - 0s 2ms/step - loss: 0.5056 - accuracy: 0.7962\n",
      "Epoch 32/100\n",
      "250/250 [==============================] - 0s 1ms/step - loss: 0.5056 - accuracy: 0.7962\n",
      "Epoch 33/100\n",
      "250/250 [==============================] - 0s 1ms/step - loss: 0.5056 - accuracy: 0.7962\n",
      "Epoch 34/100\n",
      "250/250 [==============================] - 0s 1ms/step - loss: 0.5056 - accuracy: 0.7962\n",
      "Epoch 35/100\n",
      "250/250 [==============================] - 0s 1ms/step - loss: 0.5056 - accuracy: 0.7962\n",
      "Epoch 36/100\n",
      "250/250 [==============================] - 0s 1ms/step - loss: 0.5056 - accuracy: 0.7962\n",
      "Epoch 37/100\n",
      "250/250 [==============================] - 0s 1ms/step - loss: 0.5056 - accuracy: 0.7962\n",
      "Epoch 38/100\n",
      "250/250 [==============================] - 0s 1ms/step - loss: 0.5056 - accuracy: 0.7962\n",
      "Epoch 39/100\n",
      "250/250 [==============================] - 0s 2ms/step - loss: 0.5056 - accuracy: 0.7962\n",
      "Epoch 40/100\n",
      "250/250 [==============================] - 0s 1ms/step - loss: 0.5056 - accuracy: 0.7962\n",
      "Epoch 41/100\n",
      "250/250 [==============================] - 0s 1ms/step - loss: 0.5056 - accuracy: 0.7962\n",
      "Epoch 42/100\n",
      "250/250 [==============================] - 0s 2ms/step - loss: 0.5056 - accuracy: 0.7962\n",
      "Epoch 43/100\n",
      "250/250 [==============================] - 0s 1ms/step - loss: 0.5056 - accuracy: 0.7962\n",
      "Epoch 44/100\n",
      "250/250 [==============================] - 0s 2ms/step - loss: 0.5056 - accuracy: 0.7962\n",
      "Epoch 45/100\n",
      "250/250 [==============================] - 0s 1ms/step - loss: 0.5056 - accuracy: 0.7962\n",
      "Epoch 46/100\n",
      "250/250 [==============================] - 0s 2ms/step - loss: 0.5056 - accuracy: 0.7962\n",
      "Epoch 47/100\n",
      "250/250 [==============================] - 0s 1ms/step - loss: 0.5056 - accuracy: 0.7962\n",
      "Epoch 48/100\n",
      "250/250 [==============================] - 0s 2ms/step - loss: 0.5056 - accuracy: 0.7962\n",
      "Epoch 49/100\n",
      "250/250 [==============================] - 0s 2ms/step - loss: 0.5056 - accuracy: 0.7962\n",
      "Epoch 50/100\n",
      "250/250 [==============================] - 0s 1ms/step - loss: 0.5056 - accuracy: 0.7962\n",
      "Epoch 51/100\n",
      "250/250 [==============================] - 0s 2ms/step - loss: 0.5056 - accuracy: 0.7962\n",
      "Epoch 52/100\n",
      "250/250 [==============================] - 0s 1ms/step - loss: 0.5056 - accuracy: 0.7962\n",
      "Epoch 53/100\n",
      "250/250 [==============================] - 0s 1ms/step - loss: 0.5056 - accuracy: 0.7962\n",
      "Epoch 54/100\n",
      "250/250 [==============================] - 0s 1ms/step - loss: 0.5056 - accuracy: 0.7962\n",
      "Epoch 55/100\n",
      "250/250 [==============================] - 0s 1ms/step - loss: 0.5056 - accuracy: 0.7962\n",
      "Epoch 56/100\n",
      "250/250 [==============================] - 0s 1ms/step - loss: 0.5056 - accuracy: 0.7962\n",
      "Epoch 57/100\n",
      "250/250 [==============================] - 0s 1ms/step - loss: 0.5056 - accuracy: 0.7962\n",
      "Epoch 58/100\n",
      "250/250 [==============================] - 0s 1ms/step - loss: 0.5056 - accuracy: 0.7962\n",
      "Epoch 59/100\n",
      "250/250 [==============================] - 0s 1ms/step - loss: 0.5056 - accuracy: 0.7962\n",
      "Epoch 60/100\n",
      "250/250 [==============================] - 0s 1ms/step - loss: 0.5056 - accuracy: 0.7962\n",
      "Epoch 61/100\n",
      "250/250 [==============================] - 0s 2ms/step - loss: 0.5056 - accuracy: 0.7962\n",
      "Epoch 62/100\n",
      "250/250 [==============================] - 0s 1ms/step - loss: 0.5056 - accuracy: 0.7962\n",
      "Epoch 63/100\n",
      "250/250 [==============================] - 0s 1ms/step - loss: 0.5056 - accuracy: 0.7962\n",
      "Epoch 64/100\n",
      "250/250 [==============================] - 0s 1ms/step - loss: 0.5056 - accuracy: 0.7962\n",
      "Epoch 65/100\n",
      "250/250 [==============================] - 0s 1ms/step - loss: 0.5056 - accuracy: 0.7962\n",
      "Epoch 66/100\n",
      "250/250 [==============================] - 0s 1ms/step - loss: 0.5056 - accuracy: 0.7962\n",
      "Epoch 67/100\n",
      "250/250 [==============================] - 0s 1ms/step - loss: 0.5056 - accuracy: 0.7962\n",
      "Epoch 68/100\n",
      "250/250 [==============================] - 0s 1ms/step - loss: 0.5056 - accuracy: 0.7962\n",
      "Epoch 69/100\n",
      "250/250 [==============================] - 0s 1ms/step - loss: 0.5056 - accuracy: 0.7962\n",
      "Epoch 70/100\n",
      "250/250 [==============================] - 0s 1ms/step - loss: 0.5056 - accuracy: 0.7962\n",
      "Epoch 71/100\n",
      "250/250 [==============================] - 0s 1ms/step - loss: 0.5056 - accuracy: 0.7962\n",
      "Epoch 72/100\n",
      "250/250 [==============================] - 0s 1ms/step - loss: 0.5056 - accuracy: 0.7962\n",
      "Epoch 73/100\n",
      "250/250 [==============================] - 0s 1ms/step - loss: 0.5056 - accuracy: 0.7962\n",
      "Epoch 74/100\n",
      "250/250 [==============================] - 0s 1ms/step - loss: 0.5056 - accuracy: 0.7962\n",
      "Epoch 75/100\n",
      "250/250 [==============================] - 0s 1ms/step - loss: 0.5056 - accuracy: 0.7962\n",
      "Epoch 76/100\n",
      "250/250 [==============================] - 0s 1ms/step - loss: 0.5056 - accuracy: 0.7962\n",
      "Epoch 77/100\n",
      "250/250 [==============================] - 0s 1ms/step - loss: 0.5056 - accuracy: 0.7962\n",
      "Epoch 78/100\n",
      "250/250 [==============================] - 0s 1ms/step - loss: 0.5056 - accuracy: 0.7962\n",
      "Epoch 79/100\n",
      "250/250 [==============================] - 0s 1ms/step - loss: 0.5056 - accuracy: 0.7962\n",
      "Epoch 80/100\n"
     ]
    },
    {
     "name": "stdout",
     "output_type": "stream",
     "text": [
      "250/250 [==============================] - 0s 1ms/step - loss: 0.5056 - accuracy: 0.7962\n",
      "Epoch 81/100\n",
      "250/250 [==============================] - 0s 1ms/step - loss: 0.5056 - accuracy: 0.7962\n",
      "Epoch 82/100\n",
      "250/250 [==============================] - 0s 1ms/step - loss: 0.5056 - accuracy: 0.7962\n",
      "Epoch 83/100\n",
      "250/250 [==============================] - 0s 1ms/step - loss: 0.5056 - accuracy: 0.7962\n",
      "Epoch 84/100\n",
      "250/250 [==============================] - 0s 1ms/step - loss: 0.5056 - accuracy: 0.7962\n",
      "Epoch 85/100\n",
      "250/250 [==============================] - 0s 1ms/step - loss: 0.5056 - accuracy: 0.7962\n",
      "Epoch 86/100\n",
      "250/250 [==============================] - 0s 2ms/step - loss: 0.5056 - accuracy: 0.7962\n",
      "Epoch 87/100\n",
      "250/250 [==============================] - 0s 2ms/step - loss: 0.5056 - accuracy: 0.7962\n",
      "Epoch 88/100\n",
      "250/250 [==============================] - 0s 1ms/step - loss: 0.5056 - accuracy: 0.7962\n",
      "Epoch 89/100\n",
      "250/250 [==============================] - 0s 1ms/step - loss: 0.5056 - accuracy: 0.7962\n",
      "Epoch 90/100\n",
      "250/250 [==============================] - 0s 1ms/step - loss: 0.5056 - accuracy: 0.7962\n",
      "Epoch 91/100\n",
      "250/250 [==============================] - 0s 1ms/step - loss: 0.5056 - accuracy: 0.7962\n",
      "Epoch 92/100\n",
      "250/250 [==============================] - 0s 2ms/step - loss: 0.5056 - accuracy: 0.7962\n",
      "Epoch 93/100\n",
      "250/250 [==============================] - 0s 1ms/step - loss: 0.5056 - accuracy: 0.7962\n",
      "Epoch 94/100\n",
      "250/250 [==============================] - 0s 1ms/step - loss: 0.5056 - accuracy: 0.7962\n",
      "Epoch 95/100\n",
      "250/250 [==============================] - 0s 1ms/step - loss: 0.5056 - accuracy: 0.7962\n",
      "Epoch 96/100\n",
      "250/250 [==============================] - 0s 1ms/step - loss: 0.5056 - accuracy: 0.7962\n",
      "Epoch 97/100\n",
      "250/250 [==============================] - 0s 1ms/step - loss: 0.5056 - accuracy: 0.7962\n",
      "Epoch 98/100\n",
      "250/250 [==============================] - 0s 1ms/step - loss: 0.5056 - accuracy: 0.7962\n",
      "Epoch 99/100\n",
      "250/250 [==============================] - 0s 1ms/step - loss: 0.5056 - accuracy: 0.7962\n",
      "Epoch 100/100\n",
      "250/250 [==============================] - 0s 1ms/step - loss: 0.5056 - accuracy: 0.7962\n",
      "63/63 [==============================] - 0s 955us/step\n"
     ]
    }
   ],
   "source": [
    "from sklearn.model_selection import cross_val_score\n",
    "accuracies= cross_val_score(classifier,X,y,cv=5)"
   ]
  },
  {
   "cell_type": "code",
   "execution_count": 36,
   "id": "1a0bd602",
   "metadata": {},
   "outputs": [
    {
     "name": "stdout",
     "output_type": "stream",
     "text": [
      "[0.796  0.796  0.7965 0.7965 0.7965]\n"
     ]
    },
    {
     "data": {
      "text/plain": [
       "0.7963"
      ]
     },
     "execution_count": 36,
     "metadata": {},
     "output_type": "execute_result"
    }
   ],
   "source": [
    "print(accuracies)\n",
    "accuracies.mean()"
   ]
  },
  {
   "cell_type": "markdown",
   "id": "88818be2",
   "metadata": {},
   "source": [
    "### Improving and tuning ANN"
   ]
  },
  {
   "cell_type": "markdown",
   "id": "ceaffca2",
   "metadata": {},
   "source": [
    "### 3 options: HPT, Reguralization(L1&L2),Dropout"
   ]
  },
  {
   "cell_type": "markdown",
   "id": "2cac2acb",
   "metadata": {},
   "source": [
    "### HPT"
   ]
  },
  {
   "cell_type": "code",
   "execution_count": 39,
   "id": "1559d2b8",
   "metadata": {},
   "outputs": [],
   "source": [
    "estimator=KerasClassifier(build_cross_classifier())\n",
    "\n",
    "param_grid={'batch_size':[10,32], 'epochs':[50,100],'optimizer':['adam','rmsprop']}"
   ]
  },
  {
   "cell_type": "code",
   "execution_count": null,
   "id": "d82aabe2",
   "metadata": {},
   "outputs": [
    {
     "name": "stderr",
     "output_type": "stream",
     "text": [
      "WARNING:absl:Found untraced functions such as _update_step_xla while saving (showing 1 of 1). These functions will not be directly callable after loading.\n"
     ]
    },
    {
     "name": "stdout",
     "output_type": "stream",
     "text": [
      "INFO:tensorflow:Assets written to: C:\\Users\\user\\AppData\\Local\\Temp\\tmpbloohvz5\\assets\n"
     ]
    },
    {
     "name": "stderr",
     "output_type": "stream",
     "text": [
      "INFO:tensorflow:Assets written to: C:\\Users\\user\\AppData\\Local\\Temp\\tmpbloohvz5\\assets\n",
      "WARNING:absl:Found untraced functions such as _update_step_xla while saving (showing 1 of 1). These functions will not be directly callable after loading.\n"
     ]
    },
    {
     "name": "stdout",
     "output_type": "stream",
     "text": [
      "INFO:tensorflow:Assets written to: C:\\Users\\user\\AppData\\Local\\Temp\\tmp54vtqqgz\\assets\n"
     ]
    },
    {
     "name": "stderr",
     "output_type": "stream",
     "text": [
      "INFO:tensorflow:Assets written to: C:\\Users\\user\\AppData\\Local\\Temp\\tmp54vtqqgz\\assets\n"
     ]
    },
    {
     "name": "stdout",
     "output_type": "stream",
     "text": [
      "Epoch 1/50\n",
      "640/640 [==============================] - 1s 2ms/step - loss: 0.4992 - accuracy: 0.7952\n",
      "Epoch 2/50\n",
      "640/640 [==============================] - 1s 2ms/step - loss: 0.4318 - accuracy: 0.7959\n",
      "Epoch 3/50\n",
      "640/640 [==============================] - 1s 1ms/step - loss: 0.4280 - accuracy: 0.7959\n",
      "Epoch 4/50\n",
      "640/640 [==============================] - 1s 2ms/step - loss: 0.4241 - accuracy: 0.7959\n",
      "Epoch 5/50\n",
      "640/640 [==============================] - 1s 1ms/step - loss: 0.4205 - accuracy: 0.8092\n",
      "Epoch 6/50\n",
      "640/640 [==============================] - 1s 1ms/step - loss: 0.4184 - accuracy: 0.8236\n",
      "Epoch 7/50\n",
      "640/640 [==============================] - 1s 2ms/step - loss: 0.4170 - accuracy: 0.8267\n",
      "Epoch 8/50\n",
      "640/640 [==============================] - 1s 1ms/step - loss: 0.4157 - accuracy: 0.8277\n",
      "Epoch 9/50\n",
      "640/640 [==============================] - 1s 1ms/step - loss: 0.4146 - accuracy: 0.8292\n",
      "Epoch 10/50\n",
      "640/640 [==============================] - 1s 2ms/step - loss: 0.4139 - accuracy: 0.8311\n",
      "Epoch 11/50\n",
      "640/640 [==============================] - 1s 1ms/step - loss: 0.4132 - accuracy: 0.8302\n",
      "Epoch 12/50\n",
      "640/640 [==============================] - 1s 1ms/step - loss: 0.4126 - accuracy: 0.8305\n",
      "Epoch 13/50\n",
      "640/640 [==============================] - 1s 1ms/step - loss: 0.4118 - accuracy: 0.8313\n",
      "Epoch 14/50\n",
      "640/640 [==============================] - 1s 1ms/step - loss: 0.4110 - accuracy: 0.8317\n",
      "Epoch 15/50\n",
      "640/640 [==============================] - 1s 2ms/step - loss: 0.4100 - accuracy: 0.8305\n",
      "Epoch 16/50\n",
      "640/640 [==============================] - 1s 2ms/step - loss: 0.4096 - accuracy: 0.8322\n",
      "Epoch 17/50\n",
      "640/640 [==============================] - 1s 2ms/step - loss: 0.4085 - accuracy: 0.8327\n",
      "Epoch 18/50\n",
      "640/640 [==============================] - 1s 2ms/step - loss: 0.4080 - accuracy: 0.8327\n",
      "Epoch 19/50\n",
      "640/640 [==============================] - 1s 2ms/step - loss: 0.4076 - accuracy: 0.8334\n",
      "Epoch 20/50\n",
      "640/640 [==============================] - 1s 2ms/step - loss: 0.4068 - accuracy: 0.8327\n",
      "Epoch 21/50\n",
      "640/640 [==============================] - 1s 2ms/step - loss: 0.4060 - accuracy: 0.8338\n",
      "Epoch 22/50\n",
      "640/640 [==============================] - 1s 1ms/step - loss: 0.4043 - accuracy: 0.8353\n",
      "Epoch 23/50\n",
      "640/640 [==============================] - 1s 1ms/step - loss: 0.4039 - accuracy: 0.8341\n",
      "Epoch 24/50\n",
      "640/640 [==============================] - 1s 2ms/step - loss: 0.4042 - accuracy: 0.8333\n",
      "Epoch 25/50\n",
      "640/640 [==============================] - 1s 2ms/step - loss: 0.4032 - accuracy: 0.8336\n",
      "Epoch 26/50\n",
      "640/640 [==============================] - 1s 1ms/step - loss: 0.4026 - accuracy: 0.8358\n",
      "Epoch 27/50\n",
      "640/640 [==============================] - 1s 1ms/step - loss: 0.4022 - accuracy: 0.8331\n",
      "Epoch 28/50\n",
      "640/640 [==============================] - 1s 2ms/step - loss: 0.4020 - accuracy: 0.8355\n",
      "Epoch 29/50\n",
      "640/640 [==============================] - 1s 1ms/step - loss: 0.4012 - accuracy: 0.8348\n",
      "Epoch 30/50\n",
      "640/640 [==============================] - 1s 2ms/step - loss: 0.4008 - accuracy: 0.8347\n",
      "Epoch 31/50\n",
      "640/640 [==============================] - 1s 2ms/step - loss: 0.4008 - accuracy: 0.8344\n",
      "Epoch 32/50\n",
      "640/640 [==============================] - 1s 2ms/step - loss: 0.4007 - accuracy: 0.8339\n",
      "Epoch 33/50\n",
      "640/640 [==============================] - 1s 1ms/step - loss: 0.4002 - accuracy: 0.8342\n",
      "Epoch 34/50\n",
      "640/640 [==============================] - 1s 2ms/step - loss: 0.3995 - accuracy: 0.8363\n",
      "Epoch 35/50\n",
      "640/640 [==============================] - 1s 2ms/step - loss: 0.3991 - accuracy: 0.8366\n",
      "Epoch 36/50\n",
      "640/640 [==============================] - 1s 2ms/step - loss: 0.3995 - accuracy: 0.8342\n",
      "Epoch 37/50\n",
      "640/640 [==============================] - 1s 2ms/step - loss: 0.3994 - accuracy: 0.8352\n",
      "Epoch 38/50\n",
      "640/640 [==============================] - 1s 2ms/step - loss: 0.3987 - accuracy: 0.8369\n",
      "Epoch 39/50\n",
      "640/640 [==============================] - 1s 2ms/step - loss: 0.3984 - accuracy: 0.8377\n",
      "Epoch 40/50\n",
      "640/640 [==============================] - 1s 2ms/step - loss: 0.3987 - accuracy: 0.8355\n",
      "Epoch 41/50\n",
      "640/640 [==============================] - 1s 2ms/step - loss: 0.3986 - accuracy: 0.8339\n",
      "Epoch 42/50\n",
      "640/640 [==============================] - 1s 2ms/step - loss: 0.3985 - accuracy: 0.8373\n",
      "Epoch 43/50\n",
      "640/640 [==============================] - 1s 1ms/step - loss: 0.3979 - accuracy: 0.8350\n",
      "Epoch 44/50\n",
      "640/640 [==============================] - 1s 2ms/step - loss: 0.3984 - accuracy: 0.8383\n",
      "Epoch 45/50\n",
      "640/640 [==============================] - 1s 2ms/step - loss: 0.3980 - accuracy: 0.8356\n",
      "Epoch 46/50\n",
      "640/640 [==============================] - 1s 1ms/step - loss: 0.3976 - accuracy: 0.8361\n",
      "Epoch 47/50\n",
      "640/640 [==============================] - 1s 2ms/step - loss: 0.3969 - accuracy: 0.8355\n",
      "Epoch 48/50\n",
      "640/640 [==============================] - 1s 1ms/step - loss: 0.3968 - accuracy: 0.8381\n",
      "Epoch 49/50\n",
      "640/640 [==============================] - 1s 2ms/step - loss: 0.3969 - accuracy: 0.8366\n",
      "Epoch 50/50\n",
      "640/640 [==============================] - 1s 2ms/step - loss: 0.3963 - accuracy: 0.8375\n",
      "160/160 [==============================] - 0s 1ms/step\n"
     ]
    },
    {
     "name": "stderr",
     "output_type": "stream",
     "text": [
      "WARNING:absl:Found untraced functions such as _update_step_xla while saving (showing 1 of 1). These functions will not be directly callable after loading.\n"
     ]
    },
    {
     "name": "stdout",
     "output_type": "stream",
     "text": [
      "INFO:tensorflow:Assets written to: C:\\Users\\user\\AppData\\Local\\Temp\\tmp1pgzspdn\\assets\n"
     ]
    },
    {
     "name": "stderr",
     "output_type": "stream",
     "text": [
      "INFO:tensorflow:Assets written to: C:\\Users\\user\\AppData\\Local\\Temp\\tmp1pgzspdn\\assets\n"
     ]
    },
    {
     "name": "stdout",
     "output_type": "stream",
     "text": [
      "Epoch 1/50\n",
      "640/640 [==============================] - 1s 2ms/step - loss: 0.4953 - accuracy: 0.7955\n",
      "Epoch 2/50\n",
      "640/640 [==============================] - 1s 2ms/step - loss: 0.4300 - accuracy: 0.7959\n",
      "Epoch 3/50\n",
      "640/640 [==============================] - 1s 1ms/step - loss: 0.4249 - accuracy: 0.7959\n",
      "Epoch 4/50\n",
      "640/640 [==============================] - 1s 1ms/step - loss: 0.4209 - accuracy: 0.7959\n",
      "Epoch 5/50\n",
      "640/640 [==============================] - 1s 1ms/step - loss: 0.4184 - accuracy: 0.8208\n",
      "Epoch 6/50\n",
      "640/640 [==============================] - 1s 1ms/step - loss: 0.4158 - accuracy: 0.8250\n",
      "Epoch 7/50\n",
      "640/640 [==============================] - 1s 1ms/step - loss: 0.4145 - accuracy: 0.8273\n",
      "Epoch 8/50\n",
      "640/640 [==============================] - 1s 1ms/step - loss: 0.4130 - accuracy: 0.8322\n",
      "Epoch 9/50\n",
      "640/640 [==============================] - 1s 1ms/step - loss: 0.4116 - accuracy: 0.8327\n",
      "Epoch 10/50\n",
      "640/640 [==============================] - 1s 2ms/step - loss: 0.4107 - accuracy: 0.8323\n",
      "Epoch 11/50\n",
      "640/640 [==============================] - 1s 1ms/step - loss: 0.4097 - accuracy: 0.8342\n",
      "Epoch 12/50\n",
      "640/640 [==============================] - 1s 1ms/step - loss: 0.4090 - accuracy: 0.8330\n",
      "Epoch 13/50\n",
      "640/640 [==============================] - 1s 1ms/step - loss: 0.4084 - accuracy: 0.8331\n",
      "Epoch 14/50\n",
      "640/640 [==============================] - 1s 2ms/step - loss: 0.4075 - accuracy: 0.8359\n",
      "Epoch 15/50\n",
      "640/640 [==============================] - 1s 1ms/step - loss: 0.4068 - accuracy: 0.8352\n",
      "Epoch 16/50\n",
      "640/640 [==============================] - 1s 1ms/step - loss: 0.4069 - accuracy: 0.8344\n",
      "Epoch 17/50\n",
      "640/640 [==============================] - 1s 1ms/step - loss: 0.4064 - accuracy: 0.8352\n",
      "Epoch 18/50\n",
      "640/640 [==============================] - 1s 2ms/step - loss: 0.4053 - accuracy: 0.8345\n",
      "Epoch 19/50\n",
      "640/640 [==============================] - 1s 2ms/step - loss: 0.4056 - accuracy: 0.8352\n",
      "Epoch 20/50\n",
      "640/640 [==============================] - 1s 2ms/step - loss: 0.4043 - accuracy: 0.8347\n",
      "Epoch 21/50\n",
      "640/640 [==============================] - 1s 2ms/step - loss: 0.4042 - accuracy: 0.8350\n",
      "Epoch 22/50\n",
      "640/640 [==============================] - 1s 2ms/step - loss: 0.4041 - accuracy: 0.8359\n",
      "Epoch 23/50\n",
      "640/640 [==============================] - 1s 2ms/step - loss: 0.4038 - accuracy: 0.8367\n",
      "Epoch 24/50\n",
      "640/640 [==============================] - 1s 1ms/step - loss: 0.4036 - accuracy: 0.8364\n",
      "Epoch 25/50\n",
      "640/640 [==============================] - 1s 1ms/step - loss: 0.4036 - accuracy: 0.8355\n",
      "Epoch 26/50\n",
      "640/640 [==============================] - 1s 1ms/step - loss: 0.4031 - accuracy: 0.8344\n",
      "Epoch 27/50\n",
      "640/640 [==============================] - 1s 1ms/step - loss: 0.4032 - accuracy: 0.8341\n",
      "Epoch 28/50\n",
      "640/640 [==============================] - 1s 2ms/step - loss: 0.4030 - accuracy: 0.8356\n",
      "Epoch 29/50\n",
      "640/640 [==============================] - 1s 1ms/step - loss: 0.4025 - accuracy: 0.8355\n",
      "Epoch 30/50\n",
      "640/640 [==============================] - 1s 2ms/step - loss: 0.4020 - accuracy: 0.8341\n",
      "Epoch 31/50\n",
      "640/640 [==============================] - 1s 2ms/step - loss: 0.4021 - accuracy: 0.8361\n",
      "Epoch 32/50\n",
      "640/640 [==============================] - 1s 1ms/step - loss: 0.4017 - accuracy: 0.8366\n",
      "Epoch 33/50\n",
      "640/640 [==============================] - 1s 1ms/step - loss: 0.4018 - accuracy: 0.8347\n",
      "Epoch 34/50\n",
      "640/640 [==============================] - 1s 1ms/step - loss: 0.4018 - accuracy: 0.8347\n",
      "Epoch 35/50\n",
      "640/640 [==============================] - 1s 1ms/step - loss: 0.4017 - accuracy: 0.8359\n",
      "Epoch 36/50\n",
      "640/640 [==============================] - 1s 1ms/step - loss: 0.4014 - accuracy: 0.8350\n",
      "Epoch 37/50\n",
      "640/640 [==============================] - 1s 1ms/step - loss: 0.4009 - accuracy: 0.8352\n",
      "Epoch 38/50\n",
      "640/640 [==============================] - 1s 1ms/step - loss: 0.4013 - accuracy: 0.8352\n",
      "Epoch 39/50\n",
      "640/640 [==============================] - 1s 1ms/step - loss: 0.4002 - accuracy: 0.8342\n",
      "Epoch 40/50\n",
      "640/640 [==============================] - 1s 2ms/step - loss: 0.4010 - accuracy: 0.8366\n",
      "Epoch 41/50\n",
      "640/640 [==============================] - 1s 1ms/step - loss: 0.4008 - accuracy: 0.8358\n",
      "Epoch 42/50\n",
      "640/640 [==============================] - 1s 2ms/step - loss: 0.4008 - accuracy: 0.8344\n",
      "Epoch 43/50\n",
      "640/640 [==============================] - 1s 1ms/step - loss: 0.4012 - accuracy: 0.8347\n",
      "Epoch 44/50\n",
      "640/640 [==============================] - 1s 1ms/step - loss: 0.4003 - accuracy: 0.8347\n",
      "Epoch 45/50\n",
      "640/640 [==============================] - 1s 1ms/step - loss: 0.3999 - accuracy: 0.8369\n",
      "Epoch 46/50\n",
      "640/640 [==============================] - 1s 1ms/step - loss: 0.4006 - accuracy: 0.8350\n",
      "Epoch 47/50\n",
      "640/640 [==============================] - 1s 1ms/step - loss: 0.4001 - accuracy: 0.8333\n",
      "Epoch 48/50\n",
      "640/640 [==============================] - 1s 1ms/step - loss: 0.4001 - accuracy: 0.8366\n",
      "Epoch 49/50\n",
      "640/640 [==============================] - 1s 2ms/step - loss: 0.4003 - accuracy: 0.8358\n",
      "Epoch 50/50\n",
      "640/640 [==============================] - 1s 1ms/step - loss: 0.4002 - accuracy: 0.8355\n",
      "160/160 [==============================] - 0s 994us/step\n"
     ]
    },
    {
     "name": "stderr",
     "output_type": "stream",
     "text": [
      "WARNING:absl:Found untraced functions such as _update_step_xla while saving (showing 1 of 1). These functions will not be directly callable after loading.\n"
     ]
    },
    {
     "name": "stdout",
     "output_type": "stream",
     "text": [
      "INFO:tensorflow:Assets written to: C:\\Users\\user\\AppData\\Local\\Temp\\tmpbjh2hc13\\assets\n"
     ]
    },
    {
     "name": "stderr",
     "output_type": "stream",
     "text": [
      "INFO:tensorflow:Assets written to: C:\\Users\\user\\AppData\\Local\\Temp\\tmpbjh2hc13\\assets\n"
     ]
    },
    {
     "name": "stdout",
     "output_type": "stream",
     "text": [
      "Epoch 1/50\n",
      "640/640 [==============================] - 1s 1ms/step - loss: 0.4968 - accuracy: 0.7955\n",
      "Epoch 2/50\n",
      "640/640 [==============================] - 1s 1ms/step - loss: 0.4308 - accuracy: 0.7959\n",
      "Epoch 3/50\n",
      "640/640 [==============================] - 1s 1ms/step - loss: 0.4270 - accuracy: 0.7959\n",
      "Epoch 4/50\n",
      "640/640 [==============================] - 1s 1ms/step - loss: 0.4244 - accuracy: 0.7959\n",
      "Epoch 5/50\n",
      "640/640 [==============================] - 1s 1ms/step - loss: 0.4209 - accuracy: 0.8120\n",
      "Epoch 6/50\n",
      "640/640 [==============================] - 1s 2ms/step - loss: 0.4186 - accuracy: 0.8231\n",
      "Epoch 7/50\n",
      "640/640 [==============================] - 1s 2ms/step - loss: 0.4167 - accuracy: 0.8264\n",
      "Epoch 8/50\n",
      "640/640 [==============================] - 1s 1ms/step - loss: 0.4154 - accuracy: 0.8291\n",
      "Epoch 9/50\n",
      "640/640 [==============================] - 1s 2ms/step - loss: 0.4137 - accuracy: 0.8294\n",
      "Epoch 10/50\n",
      "640/640 [==============================] - 1s 1ms/step - loss: 0.4124 - accuracy: 0.8328\n",
      "Epoch 11/50\n",
      "640/640 [==============================] - 1s 2ms/step - loss: 0.4118 - accuracy: 0.8320\n",
      "Epoch 12/50\n",
      "640/640 [==============================] - 1s 2ms/step - loss: 0.4106 - accuracy: 0.8319\n",
      "Epoch 13/50\n",
      "640/640 [==============================] - 1s 2ms/step - loss: 0.4099 - accuracy: 0.8350\n",
      "Epoch 14/50\n",
      "640/640 [==============================] - 1s 1ms/step - loss: 0.4089 - accuracy: 0.8334\n",
      "Epoch 15/50\n",
      "640/640 [==============================] - 1s 1ms/step - loss: 0.4086 - accuracy: 0.8352\n",
      "Epoch 16/50\n",
      "640/640 [==============================] - 1s 1ms/step - loss: 0.4080 - accuracy: 0.8347\n",
      "Epoch 17/50\n",
      "640/640 [==============================] - 1s 1ms/step - loss: 0.4072 - accuracy: 0.8352\n",
      "Epoch 18/50\n",
      "640/640 [==============================] - 1s 1ms/step - loss: 0.4065 - accuracy: 0.8347\n",
      "Epoch 19/50\n",
      "640/640 [==============================] - 1s 1ms/step - loss: 0.4063 - accuracy: 0.8347\n",
      "Epoch 20/50\n",
      "640/640 [==============================] - 1s 1ms/step - loss: 0.4060 - accuracy: 0.8342\n",
      "Epoch 21/50\n",
      "640/640 [==============================] - 1s 2ms/step - loss: 0.4051 - accuracy: 0.8336\n",
      "Epoch 22/50\n",
      "640/640 [==============================] - 1s 2ms/step - loss: 0.4051 - accuracy: 0.8345\n",
      "Epoch 23/50\n",
      "640/640 [==============================] - 1s 1ms/step - loss: 0.4048 - accuracy: 0.8342\n",
      "Epoch 24/50\n",
      "640/640 [==============================] - 1s 2ms/step - loss: 0.4046 - accuracy: 0.8352\n",
      "Epoch 25/50\n",
      "640/640 [==============================] - 1s 2ms/step - loss: 0.4036 - accuracy: 0.8342\n",
      "Epoch 26/50\n",
      "640/640 [==============================] - 1s 1ms/step - loss: 0.4036 - accuracy: 0.8366\n",
      "Epoch 27/50\n",
      "640/640 [==============================] - 1s 1ms/step - loss: 0.4037 - accuracy: 0.8355\n",
      "Epoch 28/50\n",
      "640/640 [==============================] - 1s 1ms/step - loss: 0.4033 - accuracy: 0.8342\n",
      "Epoch 29/50\n",
      "640/640 [==============================] - 1s 2ms/step - loss: 0.4032 - accuracy: 0.8350\n",
      "Epoch 30/50\n",
      "640/640 [==============================] - 1s 1ms/step - loss: 0.4028 - accuracy: 0.8358\n",
      "Epoch 31/50\n",
      "640/640 [==============================] - 1s 1ms/step - loss: 0.4024 - accuracy: 0.8355\n",
      "Epoch 32/50\n",
      "640/640 [==============================] - 1s 1ms/step - loss: 0.4024 - accuracy: 0.8344\n",
      "Epoch 33/50\n",
      "640/640 [==============================] - 1s 1ms/step - loss: 0.4026 - accuracy: 0.8347\n",
      "Epoch 34/50\n",
      "640/640 [==============================] - 1s 1ms/step - loss: 0.4021 - accuracy: 0.8350\n",
      "Epoch 35/50\n",
      "640/640 [==============================] - 1s 2ms/step - loss: 0.4019 - accuracy: 0.8366\n",
      "Epoch 36/50\n",
      "640/640 [==============================] - 1s 1ms/step - loss: 0.4017 - accuracy: 0.8338\n",
      "Epoch 37/50\n",
      "640/640 [==============================] - 1s 1ms/step - loss: 0.4015 - accuracy: 0.8355\n",
      "Epoch 38/50\n",
      "640/640 [==============================] - 1s 1ms/step - loss: 0.4019 - accuracy: 0.8344\n",
      "Epoch 39/50\n",
      "640/640 [==============================] - 1s 1ms/step - loss: 0.4013 - accuracy: 0.8350\n",
      "Epoch 40/50\n",
      "640/640 [==============================] - 1s 1ms/step - loss: 0.4012 - accuracy: 0.8345\n",
      "Epoch 41/50\n",
      "640/640 [==============================] - 1s 1ms/step - loss: 0.4011 - accuracy: 0.8358\n",
      "Epoch 42/50\n",
      "640/640 [==============================] - 1s 1ms/step - loss: 0.4011 - accuracy: 0.8339\n",
      "Epoch 43/50\n",
      "640/640 [==============================] - 1s 2ms/step - loss: 0.4011 - accuracy: 0.8344\n",
      "Epoch 44/50\n",
      "640/640 [==============================] - 1s 1ms/step - loss: 0.4012 - accuracy: 0.8342\n",
      "Epoch 45/50\n",
      "640/640 [==============================] - 1s 1ms/step - loss: 0.4009 - accuracy: 0.8350\n",
      "Epoch 46/50\n",
      "640/640 [==============================] - 1s 2ms/step - loss: 0.4007 - accuracy: 0.8341\n",
      "Epoch 47/50\n",
      "640/640 [==============================] - 1s 1ms/step - loss: 0.4006 - accuracy: 0.8334\n",
      "Epoch 48/50\n",
      "640/640 [==============================] - 1s 1ms/step - loss: 0.4001 - accuracy: 0.8341\n",
      "Epoch 49/50\n",
      "640/640 [==============================] - 1s 2ms/step - loss: 0.3996 - accuracy: 0.8369\n",
      "Epoch 50/50\n",
      "640/640 [==============================] - 1s 1ms/step - loss: 0.4006 - accuracy: 0.8339\n",
      "160/160 [==============================] - 0s 1ms/step\n"
     ]
    },
    {
     "name": "stderr",
     "output_type": "stream",
     "text": [
      "WARNING:absl:Found untraced functions such as _update_step_xla while saving (showing 1 of 1). These functions will not be directly callable after loading.\n"
     ]
    },
    {
     "name": "stdout",
     "output_type": "stream",
     "text": [
      "INFO:tensorflow:Assets written to: C:\\Users\\user\\AppData\\Local\\Temp\\tmp6op7dq6l\\assets\n"
     ]
    },
    {
     "name": "stderr",
     "output_type": "stream",
     "text": [
      "INFO:tensorflow:Assets written to: C:\\Users\\user\\AppData\\Local\\Temp\\tmp6op7dq6l\\assets\n"
     ]
    },
    {
     "name": "stdout",
     "output_type": "stream",
     "text": [
      "Epoch 1/50\n",
      "640/640 [==============================] - 1s 2ms/step - loss: 0.4978 - accuracy: 0.7955\n",
      "Epoch 2/50\n",
      "640/640 [==============================] - 1s 1ms/step - loss: 0.4311 - accuracy: 0.7961\n",
      "Epoch 3/50\n",
      "640/640 [==============================] - 1s 2ms/step - loss: 0.4268 - accuracy: 0.7961\n",
      "Epoch 4/50\n",
      "640/640 [==============================] - 1s 1ms/step - loss: 0.4230 - accuracy: 0.7961\n",
      "Epoch 5/50\n",
      "640/640 [==============================] - 1s 1ms/step - loss: 0.4194 - accuracy: 0.8130\n",
      "Epoch 6/50\n",
      "640/640 [==============================] - 1s 1ms/step - loss: 0.4170 - accuracy: 0.8259\n",
      "Epoch 7/50\n",
      "640/640 [==============================] - 1s 1ms/step - loss: 0.4153 - accuracy: 0.8298\n",
      "Epoch 8/50\n",
      "640/640 [==============================] - 1s 1ms/step - loss: 0.4136 - accuracy: 0.8300\n",
      "Epoch 9/50\n",
      "640/640 [==============================] - 1s 2ms/step - loss: 0.4128 - accuracy: 0.8316\n",
      "Epoch 10/50\n",
      "640/640 [==============================] - 1s 2ms/step - loss: 0.4112 - accuracy: 0.8334\n",
      "Epoch 11/50\n",
      "640/640 [==============================] - 1s 2ms/step - loss: 0.4106 - accuracy: 0.8319\n",
      "Epoch 12/50\n",
      "640/640 [==============================] - 1s 1ms/step - loss: 0.4100 - accuracy: 0.8328\n",
      "Epoch 13/50\n",
      "640/640 [==============================] - 1s 1ms/step - loss: 0.4092 - accuracy: 0.8345\n",
      "Epoch 14/50\n",
      "640/640 [==============================] - 1s 1ms/step - loss: 0.4085 - accuracy: 0.8339\n",
      "Epoch 15/50\n",
      "640/640 [==============================] - 1s 1ms/step - loss: 0.4082 - accuracy: 0.8350\n",
      "Epoch 16/50\n",
      "640/640 [==============================] - 1s 1ms/step - loss: 0.4074 - accuracy: 0.8341\n",
      "Epoch 17/50\n",
      "640/640 [==============================] - 1s 1ms/step - loss: 0.4074 - accuracy: 0.8344\n",
      "Epoch 18/50\n",
      "640/640 [==============================] - 1s 2ms/step - loss: 0.4067 - accuracy: 0.8342\n",
      "Epoch 19/50\n",
      "640/640 [==============================] - 1s 1ms/step - loss: 0.4060 - accuracy: 0.8344\n",
      "Epoch 20/50\n",
      "640/640 [==============================] - 1s 1ms/step - loss: 0.4060 - accuracy: 0.8338\n",
      "Epoch 21/50\n",
      "640/640 [==============================] - 1s 2ms/step - loss: 0.4056 - accuracy: 0.8342\n",
      "Epoch 22/50\n",
      "640/640 [==============================] - 1s 1ms/step - loss: 0.4053 - accuracy: 0.8336\n",
      "Epoch 23/50\n",
      "640/640 [==============================] - 1s 2ms/step - loss: 0.4047 - accuracy: 0.8352\n",
      "Epoch 24/50\n",
      "640/640 [==============================] - 1s 1ms/step - loss: 0.4041 - accuracy: 0.8347\n",
      "Epoch 25/50\n",
      "640/640 [==============================] - 1s 2ms/step - loss: 0.4041 - accuracy: 0.8350\n",
      "Epoch 26/50\n",
      "640/640 [==============================] - 1s 2ms/step - loss: 0.4043 - accuracy: 0.8350\n",
      "Epoch 27/50\n",
      "640/640 [==============================] - 1s 1ms/step - loss: 0.4035 - accuracy: 0.8323\n",
      "Epoch 28/50\n",
      "640/640 [==============================] - 1s 1ms/step - loss: 0.4038 - accuracy: 0.8352\n",
      "Epoch 29/50\n",
      "640/640 [==============================] - 1s 2ms/step - loss: 0.4037 - accuracy: 0.8336\n",
      "Epoch 30/50\n",
      "640/640 [==============================] - 1s 2ms/step - loss: 0.4026 - accuracy: 0.8338\n",
      "Epoch 31/50\n",
      "640/640 [==============================] - 1s 2ms/step - loss: 0.4031 - accuracy: 0.8350\n",
      "Epoch 32/50\n",
      "640/640 [==============================] - 1s 1ms/step - loss: 0.4028 - accuracy: 0.8342\n",
      "Epoch 33/50\n",
      "640/640 [==============================] - 1s 2ms/step - loss: 0.4024 - accuracy: 0.8358\n",
      "Epoch 34/50\n",
      "640/640 [==============================] - 1s 1ms/step - loss: 0.4027 - accuracy: 0.8355\n",
      "Epoch 35/50\n",
      "640/640 [==============================] - 1s 2ms/step - loss: 0.4017 - accuracy: 0.8338\n",
      "Epoch 36/50\n",
      "640/640 [==============================] - 1s 1ms/step - loss: 0.4028 - accuracy: 0.8348\n",
      "Epoch 37/50\n",
      "640/640 [==============================] - 1s 2ms/step - loss: 0.4025 - accuracy: 0.8342\n",
      "Epoch 38/50\n",
      "640/640 [==============================] - 1s 1ms/step - loss: 0.4023 - accuracy: 0.8336\n",
      "Epoch 39/50\n",
      "640/640 [==============================] - 1s 1ms/step - loss: 0.4024 - accuracy: 0.8341\n",
      "Epoch 40/50\n",
      "640/640 [==============================] - 1s 2ms/step - loss: 0.4019 - accuracy: 0.8358\n",
      "Epoch 41/50\n",
      "640/640 [==============================] - 1s 2ms/step - loss: 0.4013 - accuracy: 0.8347\n",
      "Epoch 42/50\n",
      "640/640 [==============================] - 1s 1ms/step - loss: 0.4012 - accuracy: 0.8355\n",
      "Epoch 43/50\n",
      "640/640 [==============================] - 1s 2ms/step - loss: 0.4019 - accuracy: 0.8334\n",
      "Epoch 44/50\n",
      "640/640 [==============================] - 1s 2ms/step - loss: 0.4017 - accuracy: 0.8333\n",
      "Epoch 45/50\n",
      "640/640 [==============================] - 1s 1ms/step - loss: 0.4014 - accuracy: 0.8367\n",
      "Epoch 46/50\n",
      "640/640 [==============================] - 1s 1ms/step - loss: 0.4013 - accuracy: 0.8352\n",
      "Epoch 47/50\n",
      "640/640 [==============================] - 1s 2ms/step - loss: 0.4011 - accuracy: 0.8344\n",
      "Epoch 48/50\n",
      "640/640 [==============================] - 1s 1ms/step - loss: 0.4013 - accuracy: 0.8358\n",
      "Epoch 49/50\n",
      "640/640 [==============================] - 1s 2ms/step - loss: 0.4008 - accuracy: 0.8344\n",
      "Epoch 50/50\n",
      "640/640 [==============================] - 1s 1ms/step - loss: 0.4009 - accuracy: 0.8363\n",
      "160/160 [==============================] - 0s 884us/step\n"
     ]
    },
    {
     "name": "stderr",
     "output_type": "stream",
     "text": [
      "WARNING:absl:Found untraced functions such as _update_step_xla while saving (showing 1 of 1). These functions will not be directly callable after loading.\n"
     ]
    },
    {
     "name": "stdout",
     "output_type": "stream",
     "text": [
      "INFO:tensorflow:Assets written to: C:\\Users\\user\\AppData\\Local\\Temp\\tmp6qsox7ir\\assets\n"
     ]
    },
    {
     "name": "stderr",
     "output_type": "stream",
     "text": [
      "INFO:tensorflow:Assets written to: C:\\Users\\user\\AppData\\Local\\Temp\\tmp6qsox7ir\\assets\n"
     ]
    },
    {
     "name": "stdout",
     "output_type": "stream",
     "text": [
      "WARNING:tensorflow:Detecting that an object or model or tf.train.Checkpoint is being deleted with unrestored values. See the following logs for the specific values in question. To silence these warnings, use `status.expect_partial()`. See https://www.tensorflow.org/api_docs/python/tf/train/Checkpoint#restorefor details about the status object returned by the restore function.\n"
     ]
    },
    {
     "name": "stderr",
     "output_type": "stream",
     "text": [
      "WARNING:tensorflow:Detecting that an object or model or tf.train.Checkpoint is being deleted with unrestored values. See the following logs for the specific values in question. To silence these warnings, use `status.expect_partial()`. See https://www.tensorflow.org/api_docs/python/tf/train/Checkpoint#restorefor details about the status object returned by the restore function.\n"
     ]
    },
    {
     "name": "stdout",
     "output_type": "stream",
     "text": [
      "WARNING:tensorflow:Value in checkpoint could not be found in the restored object: (root).keras_api.metrics.0.total\n"
     ]
    },
    {
     "name": "stderr",
     "output_type": "stream",
     "text": [
      "WARNING:tensorflow:Value in checkpoint could not be found in the restored object: (root).keras_api.metrics.0.total\n"
     ]
    },
    {
     "name": "stdout",
     "output_type": "stream",
     "text": [
      "WARNING:tensorflow:Value in checkpoint could not be found in the restored object: (root).keras_api.metrics.0.count\n"
     ]
    },
    {
     "name": "stderr",
     "output_type": "stream",
     "text": [
      "WARNING:tensorflow:Value in checkpoint could not be found in the restored object: (root).keras_api.metrics.0.count\n"
     ]
    },
    {
     "name": "stdout",
     "output_type": "stream",
     "text": [
      "WARNING:tensorflow:Value in checkpoint could not be found in the restored object: (root).keras_api.metrics.1.total\n"
     ]
    },
    {
     "name": "stderr",
     "output_type": "stream",
     "text": [
      "WARNING:tensorflow:Value in checkpoint could not be found in the restored object: (root).keras_api.metrics.1.total\n"
     ]
    },
    {
     "name": "stdout",
     "output_type": "stream",
     "text": [
      "WARNING:tensorflow:Value in checkpoint could not be found in the restored object: (root).keras_api.metrics.1.count\n"
     ]
    },
    {
     "name": "stderr",
     "output_type": "stream",
     "text": [
      "WARNING:tensorflow:Value in checkpoint could not be found in the restored object: (root).keras_api.metrics.1.count\n"
     ]
    },
    {
     "name": "stdout",
     "output_type": "stream",
     "text": [
      "WARNING:tensorflow:Detecting that an object or model or tf.train.Checkpoint is being deleted with unrestored values. See the following logs for the specific values in question. To silence these warnings, use `status.expect_partial()`. See https://www.tensorflow.org/api_docs/python/tf/train/Checkpoint#restorefor details about the status object returned by the restore function.\n"
     ]
    },
    {
     "name": "stderr",
     "output_type": "stream",
     "text": [
      "WARNING:tensorflow:Detecting that an object or model or tf.train.Checkpoint is being deleted with unrestored values. See the following logs for the specific values in question. To silence these warnings, use `status.expect_partial()`. See https://www.tensorflow.org/api_docs/python/tf/train/Checkpoint#restorefor details about the status object returned by the restore function.\n"
     ]
    },
    {
     "name": "stdout",
     "output_type": "stream",
     "text": [
      "WARNING:tensorflow:Value in checkpoint could not be found in the restored object: (root).keras_api.metrics.0.total\n"
     ]
    },
    {
     "name": "stderr",
     "output_type": "stream",
     "text": [
      "WARNING:tensorflow:Value in checkpoint could not be found in the restored object: (root).keras_api.metrics.0.total\n"
     ]
    },
    {
     "name": "stdout",
     "output_type": "stream",
     "text": [
      "WARNING:tensorflow:Value in checkpoint could not be found in the restored object: (root).keras_api.metrics.0.count\n"
     ]
    },
    {
     "name": "stderr",
     "output_type": "stream",
     "text": [
      "WARNING:tensorflow:Value in checkpoint could not be found in the restored object: (root).keras_api.metrics.0.count\n"
     ]
    },
    {
     "name": "stdout",
     "output_type": "stream",
     "text": [
      "WARNING:tensorflow:Value in checkpoint could not be found in the restored object: (root).keras_api.metrics.1.total\n"
     ]
    },
    {
     "name": "stderr",
     "output_type": "stream",
     "text": [
      "WARNING:tensorflow:Value in checkpoint could not be found in the restored object: (root).keras_api.metrics.1.total\n"
     ]
    },
    {
     "name": "stdout",
     "output_type": "stream",
     "text": [
      "WARNING:tensorflow:Value in checkpoint could not be found in the restored object: (root).keras_api.metrics.1.count\n"
     ]
    },
    {
     "name": "stderr",
     "output_type": "stream",
     "text": [
      "WARNING:tensorflow:Value in checkpoint could not be found in the restored object: (root).keras_api.metrics.1.count\n"
     ]
    },
    {
     "name": "stdout",
     "output_type": "stream",
     "text": [
      "WARNING:tensorflow:Detecting that an object or model or tf.train.Checkpoint is being deleted with unrestored values. See the following logs for the specific values in question. To silence these warnings, use `status.expect_partial()`. See https://www.tensorflow.org/api_docs/python/tf/train/Checkpoint#restorefor details about the status object returned by the restore function.\n"
     ]
    },
    {
     "name": "stderr",
     "output_type": "stream",
     "text": [
      "WARNING:tensorflow:Detecting that an object or model or tf.train.Checkpoint is being deleted with unrestored values. See the following logs for the specific values in question. To silence these warnings, use `status.expect_partial()`. See https://www.tensorflow.org/api_docs/python/tf/train/Checkpoint#restorefor details about the status object returned by the restore function.\n"
     ]
    },
    {
     "name": "stdout",
     "output_type": "stream",
     "text": [
      "WARNING:tensorflow:Value in checkpoint could not be found in the restored object: (root).keras_api.metrics.0.total\n"
     ]
    },
    {
     "name": "stderr",
     "output_type": "stream",
     "text": [
      "WARNING:tensorflow:Value in checkpoint could not be found in the restored object: (root).keras_api.metrics.0.total\n"
     ]
    },
    {
     "name": "stdout",
     "output_type": "stream",
     "text": [
      "WARNING:tensorflow:Value in checkpoint could not be found in the restored object: (root).keras_api.metrics.0.count\n"
     ]
    },
    {
     "name": "stderr",
     "output_type": "stream",
     "text": [
      "WARNING:tensorflow:Value in checkpoint could not be found in the restored object: (root).keras_api.metrics.0.count\n"
     ]
    },
    {
     "name": "stdout",
     "output_type": "stream",
     "text": [
      "WARNING:tensorflow:Value in checkpoint could not be found in the restored object: (root).keras_api.metrics.1.total\n"
     ]
    },
    {
     "name": "stderr",
     "output_type": "stream",
     "text": [
      "WARNING:tensorflow:Value in checkpoint could not be found in the restored object: (root).keras_api.metrics.1.total\n"
     ]
    },
    {
     "name": "stdout",
     "output_type": "stream",
     "text": [
      "WARNING:tensorflow:Value in checkpoint could not be found in the restored object: (root).keras_api.metrics.1.count\n"
     ]
    },
    {
     "name": "stderr",
     "output_type": "stream",
     "text": [
      "WARNING:tensorflow:Value in checkpoint could not be found in the restored object: (root).keras_api.metrics.1.count\n"
     ]
    },
    {
     "name": "stdout",
     "output_type": "stream",
     "text": [
      "Epoch 1/50\n",
      "640/640 [==============================] - 1s 1ms/step - loss: 0.4988 - accuracy: 0.7959\n",
      "Epoch 2/50\n",
      "640/640 [==============================] - 1s 2ms/step - loss: 0.4292 - accuracy: 0.7961\n",
      "Epoch 3/50\n",
      "640/640 [==============================] - 1s 1ms/step - loss: 0.4262 - accuracy: 0.7961\n",
      "Epoch 4/50\n",
      "640/640 [==============================] - 1s 1ms/step - loss: 0.4232 - accuracy: 0.7961\n",
      "Epoch 5/50\n",
      "640/640 [==============================] - 1s 2ms/step - loss: 0.4206 - accuracy: 0.7983\n",
      "Epoch 6/50\n",
      "640/640 [==============================] - 1s 2ms/step - loss: 0.4170 - accuracy: 0.8205\n",
      "Epoch 7/50\n",
      "640/640 [==============================] - 1s 1ms/step - loss: 0.4154 - accuracy: 0.8266\n",
      "Epoch 8/50\n",
      "640/640 [==============================] - 1s 2ms/step - loss: 0.4140 - accuracy: 0.8281\n",
      "Epoch 9/50\n",
      "640/640 [==============================] - 1s 1ms/step - loss: 0.4129 - accuracy: 0.8305\n",
      "Epoch 10/50\n",
      "640/640 [==============================] - 1s 1ms/step - loss: 0.4113 - accuracy: 0.8306\n",
      "Epoch 11/50\n",
      "640/640 [==============================] - 1s 1ms/step - loss: 0.4102 - accuracy: 0.8323\n",
      "Epoch 12/50\n",
      "640/640 [==============================] - 1s 1ms/step - loss: 0.4097 - accuracy: 0.8344\n",
      "Epoch 13/50\n",
      "640/640 [==============================] - 1s 1ms/step - loss: 0.4089 - accuracy: 0.8338\n",
      "Epoch 14/50\n",
      "640/640 [==============================] - 1s 1ms/step - loss: 0.4080 - accuracy: 0.8334\n",
      "Epoch 15/50\n",
      "640/640 [==============================] - 1s 1ms/step - loss: 0.4072 - accuracy: 0.8356\n",
      "Epoch 16/50\n",
      "640/640 [==============================] - 1s 1ms/step - loss: 0.4071 - accuracy: 0.8338\n",
      "Epoch 17/50\n",
      "640/640 [==============================] - 1s 1ms/step - loss: 0.4062 - accuracy: 0.8347\n",
      "Epoch 18/50\n",
      "640/640 [==============================] - 1s 1ms/step - loss: 0.4058 - accuracy: 0.8361\n",
      "Epoch 19/50\n",
      "640/640 [==============================] - 1s 2ms/step - loss: 0.4051 - accuracy: 0.8348\n",
      "Epoch 20/50\n",
      "640/640 [==============================] - 1s 2ms/step - loss: 0.4045 - accuracy: 0.8345\n",
      "Epoch 21/50\n",
      "640/640 [==============================] - 1s 2ms/step - loss: 0.4043 - accuracy: 0.8348\n",
      "Epoch 22/50\n",
      "640/640 [==============================] - 1s 2ms/step - loss: 0.4040 - accuracy: 0.8344\n",
      "Epoch 23/50\n",
      "640/640 [==============================] - 1s 1ms/step - loss: 0.4038 - accuracy: 0.8356\n",
      "Epoch 24/50\n",
      "640/640 [==============================] - 1s 2ms/step - loss: 0.4028 - accuracy: 0.8350\n",
      "Epoch 25/50\n",
      "640/640 [==============================] - 1s 2ms/step - loss: 0.4029 - accuracy: 0.8347\n",
      "Epoch 26/50\n",
      "640/640 [==============================] - 1s 2ms/step - loss: 0.4024 - accuracy: 0.8334\n",
      "Epoch 27/50\n",
      "640/640 [==============================] - 1s 2ms/step - loss: 0.4023 - accuracy: 0.8352\n",
      "Epoch 28/50\n",
      "640/640 [==============================] - 1s 1ms/step - loss: 0.4021 - accuracy: 0.8352\n",
      "Epoch 29/50\n",
      "640/640 [==============================] - 1s 1ms/step - loss: 0.4019 - accuracy: 0.8369\n",
      "Epoch 30/50\n",
      "640/640 [==============================] - 1s 2ms/step - loss: 0.4019 - accuracy: 0.8350\n",
      "Epoch 31/50\n",
      "640/640 [==============================] - 1s 2ms/step - loss: 0.4015 - accuracy: 0.8369\n",
      "Epoch 32/50\n",
      "640/640 [==============================] - 1s 1ms/step - loss: 0.4012 - accuracy: 0.8342\n",
      "Epoch 33/50\n",
      "640/640 [==============================] - 1s 1ms/step - loss: 0.4013 - accuracy: 0.8345\n",
      "Epoch 34/50\n",
      "640/640 [==============================] - 1s 2ms/step - loss: 0.4007 - accuracy: 0.8356\n",
      "Epoch 35/50\n",
      "640/640 [==============================] - 1s 1ms/step - loss: 0.4014 - accuracy: 0.8342\n",
      "Epoch 36/50\n",
      "640/640 [==============================] - 1s 2ms/step - loss: 0.4008 - accuracy: 0.8345\n",
      "Epoch 37/50\n",
      "640/640 [==============================] - 1s 2ms/step - loss: 0.4008 - accuracy: 0.8341\n",
      "Epoch 38/50\n",
      "640/640 [==============================] - 1s 2ms/step - loss: 0.4004 - accuracy: 0.8358\n",
      "Epoch 39/50\n",
      "640/640 [==============================] - 1s 1ms/step - loss: 0.4004 - accuracy: 0.8352\n",
      "Epoch 40/50\n",
      "640/640 [==============================] - 1s 2ms/step - loss: 0.4004 - accuracy: 0.8348\n",
      "Epoch 41/50\n",
      "640/640 [==============================] - 1s 1ms/step - loss: 0.4003 - accuracy: 0.8364\n",
      "Epoch 42/50\n",
      "640/640 [==============================] - 1s 2ms/step - loss: 0.4001 - accuracy: 0.8352\n",
      "Epoch 43/50\n",
      "640/640 [==============================] - 1s 1ms/step - loss: 0.4002 - accuracy: 0.8352\n",
      "Epoch 44/50\n",
      "640/640 [==============================] - 1s 2ms/step - loss: 0.4003 - accuracy: 0.8372\n",
      "Epoch 45/50\n",
      "640/640 [==============================] - 1s 2ms/step - loss: 0.4000 - accuracy: 0.8352\n",
      "Epoch 46/50\n",
      "640/640 [==============================] - 1s 1ms/step - loss: 0.4003 - accuracy: 0.8358\n",
      "Epoch 47/50\n",
      "640/640 [==============================] - 1s 1ms/step - loss: 0.4000 - accuracy: 0.8369\n",
      "Epoch 48/50\n",
      "640/640 [==============================] - 1s 1ms/step - loss: 0.3996 - accuracy: 0.8348\n",
      "Epoch 49/50\n",
      "640/640 [==============================] - 1s 2ms/step - loss: 0.4002 - accuracy: 0.8353\n",
      "Epoch 50/50\n",
      "640/640 [==============================] - 1s 1ms/step - loss: 0.3999 - accuracy: 0.8345\n",
      "160/160 [==============================] - 0s 982us/step\n"
     ]
    },
    {
     "name": "stderr",
     "output_type": "stream",
     "text": [
      "WARNING:absl:Found untraced functions such as _update_step_xla while saving (showing 1 of 1). These functions will not be directly callable after loading.\n"
     ]
    },
    {
     "name": "stdout",
     "output_type": "stream",
     "text": [
      "INFO:tensorflow:Assets written to: C:\\Users\\user\\AppData\\Local\\Temp\\tmpyar1h2i9\\assets\n"
     ]
    },
    {
     "name": "stderr",
     "output_type": "stream",
     "text": [
      "INFO:tensorflow:Assets written to: C:\\Users\\user\\AppData\\Local\\Temp\\tmpyar1h2i9\\assets\n"
     ]
    },
    {
     "name": "stdout",
     "output_type": "stream",
     "text": [
      "Epoch 1/50\n",
      "640/640 [==============================] - 1s 2ms/step - loss: 0.5060 - accuracy: 0.7961\n",
      "Epoch 2/50\n",
      "640/640 [==============================] - 1s 1ms/step - loss: 0.4308 - accuracy: 0.7959\n",
      "Epoch 3/50\n",
      "640/640 [==============================] - 1s 1ms/step - loss: 0.4267 - accuracy: 0.7959\n",
      "Epoch 4/50\n",
      "640/640 [==============================] - 1s 2ms/step - loss: 0.4231 - accuracy: 0.8034\n",
      "Epoch 5/50\n",
      "640/640 [==============================] - 1s 1ms/step - loss: 0.4190 - accuracy: 0.8236\n",
      "Epoch 6/50\n",
      "640/640 [==============================] - 1s 2ms/step - loss: 0.4151 - accuracy: 0.8286\n",
      "Epoch 7/50\n",
      "640/640 [==============================] - 1s 1ms/step - loss: 0.4126 - accuracy: 0.8281\n",
      "Epoch 8/50\n",
      "640/640 [==============================] - 1s 1ms/step - loss: 0.4106 - accuracy: 0.8294\n",
      "Epoch 9/50\n",
      "640/640 [==============================] - 1s 2ms/step - loss: 0.4087 - accuracy: 0.8308\n",
      "Epoch 10/50\n",
      "640/640 [==============================] - 1s 1ms/step - loss: 0.4069 - accuracy: 0.8325\n",
      "Epoch 11/50\n",
      "640/640 [==============================] - 1s 1ms/step - loss: 0.4058 - accuracy: 0.8345\n",
      "Epoch 12/50\n",
      "640/640 [==============================] - 1s 1ms/step - loss: 0.4046 - accuracy: 0.8341\n",
      "Epoch 13/50\n",
      "640/640 [==============================] - 1s 1ms/step - loss: 0.4034 - accuracy: 0.8341\n",
      "Epoch 14/50\n",
      "640/640 [==============================] - 1s 1ms/step - loss: 0.4027 - accuracy: 0.8361\n",
      "Epoch 15/50\n",
      "640/640 [==============================] - 1s 1ms/step - loss: 0.4019 - accuracy: 0.8345\n",
      "Epoch 16/50\n",
      "640/640 [==============================] - 1s 2ms/step - loss: 0.4010 - accuracy: 0.8353\n",
      "Epoch 17/50\n",
      "640/640 [==============================] - 1s 1ms/step - loss: 0.4006 - accuracy: 0.8350\n",
      "Epoch 18/50\n",
      "640/640 [==============================] - 1s 1ms/step - loss: 0.3996 - accuracy: 0.8348\n",
      "Epoch 19/50\n",
      "640/640 [==============================] - 1s 1ms/step - loss: 0.3989 - accuracy: 0.8355\n",
      "Epoch 20/50\n",
      "640/640 [==============================] - 1s 1ms/step - loss: 0.3993 - accuracy: 0.8342\n",
      "Epoch 21/50\n",
      "640/640 [==============================] - 1s 1ms/step - loss: 0.3986 - accuracy: 0.8350\n",
      "Epoch 22/50\n",
      "640/640 [==============================] - 1s 1ms/step - loss: 0.3985 - accuracy: 0.8359\n",
      "Epoch 23/50\n",
      "640/640 [==============================] - 1s 2ms/step - loss: 0.3980 - accuracy: 0.8350\n",
      "Epoch 24/50\n",
      "640/640 [==============================] - 1s 2ms/step - loss: 0.3977 - accuracy: 0.8363\n",
      "Epoch 25/50\n",
      "640/640 [==============================] - 1s 1ms/step - loss: 0.3980 - accuracy: 0.8353\n",
      "Epoch 26/50\n",
      "640/640 [==============================] - 1s 1ms/step - loss: 0.3972 - accuracy: 0.8334\n",
      "Epoch 27/50\n",
      "640/640 [==============================] - 1s 1ms/step - loss: 0.3970 - accuracy: 0.8359\n",
      "Epoch 28/50\n",
      "640/640 [==============================] - 1s 1ms/step - loss: 0.3976 - accuracy: 0.8359\n",
      "Epoch 29/50\n",
      "640/640 [==============================] - 1s 1ms/step - loss: 0.3971 - accuracy: 0.8359\n",
      "Epoch 30/50\n",
      "640/640 [==============================] - 1s 2ms/step - loss: 0.3973 - accuracy: 0.8370\n",
      "Epoch 31/50\n",
      "640/640 [==============================] - 1s 2ms/step - loss: 0.3969 - accuracy: 0.8364\n",
      "Epoch 32/50\n",
      "640/640 [==============================] - 1s 2ms/step - loss: 0.3969 - accuracy: 0.8361\n",
      "Epoch 33/50\n",
      "640/640 [==============================] - 1s 1ms/step - loss: 0.3967 - accuracy: 0.8378\n",
      "Epoch 34/50\n",
      "640/640 [==============================] - 1s 1ms/step - loss: 0.3968 - accuracy: 0.8359\n",
      "Epoch 35/50\n",
      "640/640 [==============================] - 1s 2ms/step - loss: 0.3962 - accuracy: 0.8370\n",
      "Epoch 36/50\n",
      "640/640 [==============================] - 1s 2ms/step - loss: 0.3964 - accuracy: 0.8350\n",
      "Epoch 37/50\n",
      "640/640 [==============================] - 1s 1ms/step - loss: 0.3963 - accuracy: 0.8383\n",
      "Epoch 38/50\n",
      "640/640 [==============================] - 1s 1ms/step - loss: 0.3966 - accuracy: 0.8375\n",
      "Epoch 39/50\n",
      "640/640 [==============================] - 1s 1ms/step - loss: 0.3960 - accuracy: 0.8375\n",
      "Epoch 40/50\n",
      "640/640 [==============================] - 1s 1ms/step - loss: 0.3960 - accuracy: 0.8372\n",
      "Epoch 41/50\n",
      "640/640 [==============================] - 1s 1ms/step - loss: 0.3961 - accuracy: 0.8366\n",
      "Epoch 42/50\n",
      "640/640 [==============================] - 1s 1ms/step - loss: 0.3961 - accuracy: 0.8373\n",
      "Epoch 43/50\n",
      "640/640 [==============================] - 1s 1ms/step - loss: 0.3961 - accuracy: 0.8380\n",
      "Epoch 44/50\n",
      "640/640 [==============================] - 1s 2ms/step - loss: 0.3960 - accuracy: 0.8380\n",
      "Epoch 45/50\n",
      "640/640 [==============================] - 1s 2ms/step - loss: 0.3959 - accuracy: 0.8375\n",
      "Epoch 46/50\n",
      "640/640 [==============================] - 1s 2ms/step - loss: 0.3962 - accuracy: 0.8372\n",
      "Epoch 47/50\n",
      "640/640 [==============================] - 1s 2ms/step - loss: 0.3959 - accuracy: 0.8352\n",
      "Epoch 48/50\n",
      "640/640 [==============================] - 1s 1ms/step - loss: 0.3955 - accuracy: 0.8363\n",
      "Epoch 49/50\n",
      "640/640 [==============================] - 1s 2ms/step - loss: 0.3956 - accuracy: 0.8372\n",
      "Epoch 50/50\n",
      "640/640 [==============================] - 1s 2ms/step - loss: 0.3955 - accuracy: 0.8384\n",
      "160/160 [==============================] - 0s 1ms/step\n"
     ]
    },
    {
     "name": "stderr",
     "output_type": "stream",
     "text": [
      "WARNING:absl:Found untraced functions such as _update_step_xla while saving (showing 1 of 1). These functions will not be directly callable after loading.\n"
     ]
    },
    {
     "name": "stdout",
     "output_type": "stream",
     "text": [
      "INFO:tensorflow:Assets written to: C:\\Users\\user\\AppData\\Local\\Temp\\tmp_f2168v7\\assets\n"
     ]
    },
    {
     "name": "stderr",
     "output_type": "stream",
     "text": [
      "INFO:tensorflow:Assets written to: C:\\Users\\user\\AppData\\Local\\Temp\\tmp_f2168v7\\assets\n"
     ]
    },
    {
     "name": "stdout",
     "output_type": "stream",
     "text": [
      "Epoch 1/50\n",
      "640/640 [==============================] - 1s 2ms/step - loss: 0.4972 - accuracy: 0.7959\n",
      "Epoch 2/50\n",
      "640/640 [==============================] - 1s 2ms/step - loss: 0.4294 - accuracy: 0.7959\n",
      "Epoch 3/50\n",
      "640/640 [==============================] - 1s 2ms/step - loss: 0.4253 - accuracy: 0.7959\n",
      "Epoch 4/50\n",
      "640/640 [==============================] - 1s 2ms/step - loss: 0.4215 - accuracy: 0.7959\n",
      "Epoch 5/50\n",
      "640/640 [==============================] - 1s 2ms/step - loss: 0.4186 - accuracy: 0.8127\n",
      "Epoch 6/50\n",
      "640/640 [==============================] - 1s 2ms/step - loss: 0.4164 - accuracy: 0.8245\n",
      "Epoch 7/50\n",
      "640/640 [==============================] - 1s 2ms/step - loss: 0.4147 - accuracy: 0.8294\n",
      "Epoch 8/50\n",
      "640/640 [==============================] - 1s 1ms/step - loss: 0.4131 - accuracy: 0.8289\n",
      "Epoch 9/50\n",
      "640/640 [==============================] - 1s 1ms/step - loss: 0.4120 - accuracy: 0.8309\n",
      "Epoch 10/50\n",
      "640/640 [==============================] - 1s 1ms/step - loss: 0.4108 - accuracy: 0.8327\n",
      "Epoch 11/50\n",
      "640/640 [==============================] - 1s 1ms/step - loss: 0.4101 - accuracy: 0.8322\n",
      "Epoch 12/50\n",
      "640/640 [==============================] - 1s 1ms/step - loss: 0.4089 - accuracy: 0.8363\n",
      "Epoch 13/50\n",
      "640/640 [==============================] - 1s 1ms/step - loss: 0.4086 - accuracy: 0.8344\n",
      "Epoch 14/50\n",
      "640/640 [==============================] - 1s 1ms/step - loss: 0.4075 - accuracy: 0.8341\n",
      "Epoch 15/50\n",
      "640/640 [==============================] - 1s 2ms/step - loss: 0.4074 - accuracy: 0.8348\n",
      "Epoch 16/50\n",
      "640/640 [==============================] - 1s 2ms/step - loss: 0.4071 - accuracy: 0.8345\n",
      "Epoch 17/50\n",
      "640/640 [==============================] - 1s 1ms/step - loss: 0.4066 - accuracy: 0.8363\n",
      "Epoch 18/50\n",
      "640/640 [==============================] - 1s 2ms/step - loss: 0.4055 - accuracy: 0.8350\n",
      "Epoch 19/50\n",
      "640/640 [==============================] - 1s 2ms/step - loss: 0.4054 - accuracy: 0.8370\n",
      "Epoch 20/50\n",
      "640/640 [==============================] - 1s 1ms/step - loss: 0.4044 - accuracy: 0.8352\n",
      "Epoch 21/50\n",
      "640/640 [==============================] - 1s 1ms/step - loss: 0.4047 - accuracy: 0.8352\n",
      "Epoch 22/50\n",
      "640/640 [==============================] - 1s 1ms/step - loss: 0.4045 - accuracy: 0.8367\n",
      "Epoch 23/50\n",
      "640/640 [==============================] - 1s 2ms/step - loss: 0.4041 - accuracy: 0.8347\n",
      "Epoch 24/50\n",
      "640/640 [==============================] - 1s 1ms/step - loss: 0.4038 - accuracy: 0.8367\n",
      "Epoch 25/50\n",
      "640/640 [==============================] - 1s 1ms/step - loss: 0.4035 - accuracy: 0.8330\n",
      "Epoch 26/50\n",
      "640/640 [==============================] - 1s 1ms/step - loss: 0.4027 - accuracy: 0.8345\n",
      "Epoch 27/50\n",
      "640/640 [==============================] - 1s 1ms/step - loss: 0.4032 - accuracy: 0.8352\n",
      "Epoch 28/50\n",
      "640/640 [==============================] - 1s 1ms/step - loss: 0.4030 - accuracy: 0.8334\n",
      "Epoch 29/50\n",
      "640/640 [==============================] - 1s 1ms/step - loss: 0.4027 - accuracy: 0.8347\n",
      "Epoch 30/50\n",
      "640/640 [==============================] - 1s 1ms/step - loss: 0.4025 - accuracy: 0.8359\n",
      "Epoch 31/50\n",
      "640/640 [==============================] - 1s 1ms/step - loss: 0.4021 - accuracy: 0.8367\n",
      "Epoch 32/50\n",
      "640/640 [==============================] - 1s 1ms/step - loss: 0.4021 - accuracy: 0.8369\n",
      "Epoch 33/50\n",
      "640/640 [==============================] - 1s 1ms/step - loss: 0.4019 - accuracy: 0.8352\n",
      "Epoch 34/50\n",
      "640/640 [==============================] - 1s 1ms/step - loss: 0.4021 - accuracy: 0.8342\n",
      "Epoch 35/50\n",
      "640/640 [==============================] - 1s 2ms/step - loss: 0.4016 - accuracy: 0.8361\n",
      "Epoch 36/50\n",
      "640/640 [==============================] - 1s 1ms/step - loss: 0.4016 - accuracy: 0.8367\n",
      "Epoch 37/50\n",
      "640/640 [==============================] - 1s 1ms/step - loss: 0.4012 - accuracy: 0.8375\n",
      "Epoch 38/50\n",
      "640/640 [==============================] - 1s 2ms/step - loss: 0.4010 - accuracy: 0.8359\n",
      "Epoch 39/50\n",
      "640/640 [==============================] - 1s 1ms/step - loss: 0.4011 - accuracy: 0.8352\n",
      "Epoch 40/50\n",
      "640/640 [==============================] - 1s 2ms/step - loss: 0.4005 - accuracy: 0.8350\n",
      "Epoch 41/50\n",
      "640/640 [==============================] - 1s 2ms/step - loss: 0.4007 - accuracy: 0.8363\n",
      "Epoch 42/50\n",
      "640/640 [==============================] - 1s 1ms/step - loss: 0.4006 - accuracy: 0.8344\n",
      "Epoch 43/50\n",
      "640/640 [==============================] - 1s 1ms/step - loss: 0.4005 - accuracy: 0.8364\n",
      "Epoch 44/50\n",
      "640/640 [==============================] - 1s 1ms/step - loss: 0.4003 - accuracy: 0.8355\n",
      "Epoch 45/50\n",
      "640/640 [==============================] - 1s 1ms/step - loss: 0.4003 - accuracy: 0.8358\n",
      "Epoch 46/50\n",
      "640/640 [==============================] - 1s 1ms/step - loss: 0.4004 - accuracy: 0.8348\n",
      "Epoch 47/50\n",
      "640/640 [==============================] - 1s 1ms/step - loss: 0.4002 - accuracy: 0.8347\n",
      "Epoch 48/50\n",
      "640/640 [==============================] - 1s 2ms/step - loss: 0.4000 - accuracy: 0.8358\n",
      "Epoch 49/50\n",
      "640/640 [==============================] - 1s 2ms/step - loss: 0.3993 - accuracy: 0.8336\n",
      "Epoch 50/50\n",
      "640/640 [==============================] - 1s 1ms/step - loss: 0.3999 - accuracy: 0.8363\n",
      "160/160 [==============================] - 0s 1ms/step\n"
     ]
    },
    {
     "name": "stderr",
     "output_type": "stream",
     "text": [
      "WARNING:absl:Found untraced functions such as _update_step_xla while saving (showing 1 of 1). These functions will not be directly callable after loading.\n"
     ]
    },
    {
     "name": "stdout",
     "output_type": "stream",
     "text": [
      "INFO:tensorflow:Assets written to: C:\\Users\\user\\AppData\\Local\\Temp\\tmp9nmml6tg\\assets\n"
     ]
    },
    {
     "name": "stderr",
     "output_type": "stream",
     "text": [
      "INFO:tensorflow:Assets written to: C:\\Users\\user\\AppData\\Local\\Temp\\tmp9nmml6tg\\assets\n"
     ]
    },
    {
     "name": "stdout",
     "output_type": "stream",
     "text": [
      "Epoch 1/50\n",
      "640/640 [==============================] - 1s 1ms/step - loss: 0.5053 - accuracy: 0.7955\n",
      "Epoch 2/50\n",
      "640/640 [==============================] - 1s 1ms/step - loss: 0.4312 - accuracy: 0.7959\n",
      "Epoch 3/50\n",
      "640/640 [==============================] - 1s 1ms/step - loss: 0.4271 - accuracy: 0.7959\n",
      "Epoch 4/50\n",
      "640/640 [==============================] - 1s 1ms/step - loss: 0.4242 - accuracy: 0.7959\n",
      "Epoch 5/50\n",
      "640/640 [==============================] - 1s 1ms/step - loss: 0.4208 - accuracy: 0.8138\n",
      "Epoch 6/50\n",
      "640/640 [==============================] - 1s 1ms/step - loss: 0.4183 - accuracy: 0.8231\n",
      "Epoch 7/50\n",
      "640/640 [==============================] - 1s 1ms/step - loss: 0.4162 - accuracy: 0.8255\n",
      "Epoch 8/50\n",
      "640/640 [==============================] - 1s 1ms/step - loss: 0.4151 - accuracy: 0.8284\n",
      "Epoch 9/50\n",
      "640/640 [==============================] - 1s 1ms/step - loss: 0.4137 - accuracy: 0.8300\n",
      "Epoch 10/50\n",
      "640/640 [==============================] - 1s 1ms/step - loss: 0.4125 - accuracy: 0.8325\n",
      "Epoch 11/50\n",
      "640/640 [==============================] - 1s 2ms/step - loss: 0.4113 - accuracy: 0.8302\n",
      "Epoch 12/50\n",
      "640/640 [==============================] - 1s 2ms/step - loss: 0.4106 - accuracy: 0.8338\n",
      "Epoch 13/50\n",
      "640/640 [==============================] - 1s 1ms/step - loss: 0.4098 - accuracy: 0.8347\n",
      "Epoch 14/50\n",
      "640/640 [==============================] - 1s 1ms/step - loss: 0.4091 - accuracy: 0.8347\n",
      "Epoch 15/50\n",
      "640/640 [==============================] - 1s 1ms/step - loss: 0.4079 - accuracy: 0.8338\n",
      "Epoch 16/50\n",
      "640/640 [==============================] - 1s 1ms/step - loss: 0.4078 - accuracy: 0.8333\n",
      "Epoch 17/50\n",
      "640/640 [==============================] - 1s 1ms/step - loss: 0.4071 - accuracy: 0.8345\n",
      "Epoch 18/50\n",
      "640/640 [==============================] - 1s 1ms/step - loss: 0.4066 - accuracy: 0.8323\n",
      "Epoch 19/50\n",
      "640/640 [==============================] - 1s 1ms/step - loss: 0.4067 - accuracy: 0.8358\n",
      "Epoch 20/50\n",
      "640/640 [==============================] - 1s 1ms/step - loss: 0.4054 - accuracy: 0.8350\n",
      "Epoch 21/50\n",
      "640/640 [==============================] - 1s 1ms/step - loss: 0.4055 - accuracy: 0.8342\n",
      "Epoch 22/50\n",
      "640/640 [==============================] - 1s 1ms/step - loss: 0.4050 - accuracy: 0.8356\n",
      "Epoch 23/50\n",
      "640/640 [==============================] - 1s 1ms/step - loss: 0.4055 - accuracy: 0.8345\n",
      "Epoch 24/50\n",
      "640/640 [==============================] - 1s 1ms/step - loss: 0.4049 - accuracy: 0.8330\n",
      "Epoch 25/50\n",
      "640/640 [==============================] - 1s 1ms/step - loss: 0.4047 - accuracy: 0.8347\n",
      "Epoch 26/50\n",
      "640/640 [==============================] - 1s 2ms/step - loss: 0.4040 - accuracy: 0.8350\n",
      "Epoch 27/50\n",
      "640/640 [==============================] - 1s 2ms/step - loss: 0.4040 - accuracy: 0.8356\n",
      "Epoch 28/50\n",
      "640/640 [==============================] - 1s 1ms/step - loss: 0.4035 - accuracy: 0.8356\n",
      "Epoch 29/50\n",
      "640/640 [==============================] - 1s 1ms/step - loss: 0.4036 - accuracy: 0.8353\n",
      "Epoch 30/50\n",
      "640/640 [==============================] - 1s 1ms/step - loss: 0.4035 - accuracy: 0.8348\n",
      "Epoch 31/50\n",
      "640/640 [==============================] - 1s 1ms/step - loss: 0.4036 - accuracy: 0.8352\n",
      "Epoch 32/50\n",
      "640/640 [==============================] - 1s 1ms/step - loss: 0.4030 - accuracy: 0.8359\n",
      "Epoch 33/50\n",
      "640/640 [==============================] - 1s 1ms/step - loss: 0.4027 - accuracy: 0.8356\n",
      "Epoch 34/50\n",
      "640/640 [==============================] - 1s 1ms/step - loss: 0.4033 - accuracy: 0.8367\n",
      "Epoch 35/50\n",
      "640/640 [==============================] - 1s 2ms/step - loss: 0.4027 - accuracy: 0.8341\n",
      "Epoch 36/50\n",
      "640/640 [==============================] - 1s 1ms/step - loss: 0.4026 - accuracy: 0.8373\n",
      "Epoch 37/50\n",
      "640/640 [==============================] - 1s 2ms/step - loss: 0.4026 - accuracy: 0.8353\n",
      "Epoch 38/50\n",
      "640/640 [==============================] - 1s 1ms/step - loss: 0.4023 - accuracy: 0.8348\n",
      "Epoch 39/50\n",
      "640/640 [==============================] - 1s 1ms/step - loss: 0.4020 - accuracy: 0.8344\n",
      "Epoch 40/50\n",
      "640/640 [==============================] - 1s 2ms/step - loss: 0.4026 - accuracy: 0.8350\n",
      "Epoch 41/50\n",
      "640/640 [==============================] - 1s 1ms/step - loss: 0.4023 - accuracy: 0.8342\n",
      "Epoch 42/50\n",
      "640/640 [==============================] - 1s 1ms/step - loss: 0.4022 - accuracy: 0.8369\n",
      "Epoch 43/50\n",
      "640/640 [==============================] - 1s 1ms/step - loss: 0.4017 - accuracy: 0.8338\n",
      "Epoch 44/50\n",
      "640/640 [==============================] - 1s 2ms/step - loss: 0.4022 - accuracy: 0.8353\n",
      "Epoch 45/50\n",
      "640/640 [==============================] - 1s 1ms/step - loss: 0.4017 - accuracy: 0.8353\n",
      "Epoch 46/50\n",
      "640/640 [==============================] - 1s 1ms/step - loss: 0.4015 - accuracy: 0.8327\n",
      "Epoch 47/50\n",
      "640/640 [==============================] - 1s 1ms/step - loss: 0.4016 - accuracy: 0.8352\n",
      "Epoch 48/50\n",
      "640/640 [==============================] - 1s 1ms/step - loss: 0.4009 - accuracy: 0.8359\n",
      "Epoch 49/50\n",
      "640/640 [==============================] - 1s 1ms/step - loss: 0.4013 - accuracy: 0.8348\n",
      "Epoch 50/50\n",
      "640/640 [==============================] - 1s 2ms/step - loss: 0.4011 - accuracy: 0.8358\n",
      "160/160 [==============================] - 0s 1ms/step\n"
     ]
    },
    {
     "name": "stderr",
     "output_type": "stream",
     "text": [
      "WARNING:absl:Found untraced functions such as _update_step_xla while saving (showing 1 of 1). These functions will not be directly callable after loading.\n"
     ]
    },
    {
     "name": "stdout",
     "output_type": "stream",
     "text": [
      "INFO:tensorflow:Assets written to: C:\\Users\\user\\AppData\\Local\\Temp\\tmpzm_j9cf7\\assets\n"
     ]
    },
    {
     "name": "stderr",
     "output_type": "stream",
     "text": [
      "INFO:tensorflow:Assets written to: C:\\Users\\user\\AppData\\Local\\Temp\\tmpzm_j9cf7\\assets\n"
     ]
    },
    {
     "name": "stdout",
     "output_type": "stream",
     "text": [
      "Epoch 1/50\n",
      "640/640 [==============================] - 2s 2ms/step - loss: 0.4982 - accuracy: 0.7959\n",
      "Epoch 2/50\n",
      "640/640 [==============================] - 1s 2ms/step - loss: 0.4298 - accuracy: 0.7961\n",
      "Epoch 3/50\n",
      "640/640 [==============================] - 1s 1ms/step - loss: 0.4254 - accuracy: 0.7961\n",
      "Epoch 4/50\n",
      "640/640 [==============================] - 1s 1ms/step - loss: 0.4216 - accuracy: 0.7966\n",
      "Epoch 5/50\n",
      "640/640 [==============================] - 1s 1ms/step - loss: 0.4190 - accuracy: 0.8191\n",
      "Epoch 6/50\n",
      "640/640 [==============================] - 1s 1ms/step - loss: 0.4166 - accuracy: 0.8280\n",
      "Epoch 7/50\n",
      "640/640 [==============================] - 1s 1ms/step - loss: 0.4145 - accuracy: 0.8291\n",
      "Epoch 8/50\n",
      "640/640 [==============================] - 1s 1ms/step - loss: 0.4137 - accuracy: 0.8306\n",
      "Epoch 9/50\n",
      "640/640 [==============================] - 1s 1ms/step - loss: 0.4126 - accuracy: 0.8313\n",
      "Epoch 10/50\n",
      "640/640 [==============================] - 1s 1ms/step - loss: 0.4113 - accuracy: 0.8325\n",
      "Epoch 11/50\n",
      "640/640 [==============================] - 1s 1ms/step - loss: 0.4107 - accuracy: 0.8342\n",
      "Epoch 12/50\n",
      "640/640 [==============================] - 1s 1ms/step - loss: 0.4098 - accuracy: 0.8327\n",
      "Epoch 13/50\n",
      "640/640 [==============================] - 1s 1ms/step - loss: 0.4085 - accuracy: 0.8333\n",
      "Epoch 14/50\n",
      "640/640 [==============================] - 1s 1ms/step - loss: 0.4082 - accuracy: 0.8350\n",
      "Epoch 15/50\n",
      "640/640 [==============================] - 1s 1ms/step - loss: 0.4071 - accuracy: 0.8350\n",
      "Epoch 16/50\n",
      "640/640 [==============================] - 1s 1ms/step - loss: 0.4067 - accuracy: 0.8350\n",
      "Epoch 17/50\n",
      "640/640 [==============================] - 1s 2ms/step - loss: 0.4061 - accuracy: 0.8359\n",
      "Epoch 18/50\n",
      "640/640 [==============================] - 1s 1ms/step - loss: 0.4056 - accuracy: 0.8348\n",
      "Epoch 19/50\n",
      "640/640 [==============================] - 1s 1ms/step - loss: 0.4053 - accuracy: 0.8355\n",
      "Epoch 20/50\n",
      "640/640 [==============================] - 1s 1ms/step - loss: 0.4049 - accuracy: 0.8353\n",
      "Epoch 21/50\n",
      "640/640 [==============================] - 1s 1ms/step - loss: 0.4047 - accuracy: 0.8350\n",
      "Epoch 22/50\n",
      "640/640 [==============================] - 1s 1ms/step - loss: 0.4044 - accuracy: 0.8356\n",
      "Epoch 23/50\n",
      "640/640 [==============================] - 1s 1ms/step - loss: 0.4038 - accuracy: 0.8361\n",
      "Epoch 24/50\n",
      "640/640 [==============================] - 1s 1ms/step - loss: 0.4037 - accuracy: 0.8366\n",
      "Epoch 25/50\n",
      "640/640 [==============================] - 1s 1ms/step - loss: 0.4034 - accuracy: 0.8356\n",
      "Epoch 26/50\n",
      "640/640 [==============================] - 1s 1ms/step - loss: 0.4034 - accuracy: 0.8364\n",
      "Epoch 27/50\n",
      "640/640 [==============================] - 1s 1ms/step - loss: 0.4030 - accuracy: 0.8356\n",
      "Epoch 28/50\n",
      "640/640 [==============================] - 1s 2ms/step - loss: 0.4025 - accuracy: 0.8336\n",
      "Epoch 29/50\n",
      "640/640 [==============================] - 1s 1ms/step - loss: 0.4027 - accuracy: 0.8363\n",
      "Epoch 30/50\n",
      "640/640 [==============================] - 1s 1ms/step - loss: 0.4027 - accuracy: 0.8359\n",
      "Epoch 31/50\n",
      "640/640 [==============================] - 1s 1ms/step - loss: 0.4022 - accuracy: 0.8345\n",
      "Epoch 32/50\n",
      "640/640 [==============================] - 1s 1ms/step - loss: 0.4017 - accuracy: 0.8356\n",
      "Epoch 33/50\n",
      "640/640 [==============================] - 1s 1ms/step - loss: 0.4020 - accuracy: 0.8366\n",
      "Epoch 34/50\n",
      "640/640 [==============================] - 1s 2ms/step - loss: 0.4018 - accuracy: 0.8361\n",
      "Epoch 35/50\n",
      "640/640 [==============================] - 1s 1ms/step - loss: 0.4020 - accuracy: 0.8341\n",
      "Epoch 36/50\n",
      "640/640 [==============================] - 1s 1ms/step - loss: 0.4016 - accuracy: 0.8347\n",
      "Epoch 37/50\n",
      "640/640 [==============================] - 1s 1ms/step - loss: 0.4017 - accuracy: 0.8363\n",
      "Epoch 38/50\n",
      "640/640 [==============================] - 1s 1ms/step - loss: 0.4014 - accuracy: 0.8352\n",
      "Epoch 39/50\n",
      "640/640 [==============================] - 1s 2ms/step - loss: 0.4011 - accuracy: 0.8369\n",
      "Epoch 40/50\n",
      "640/640 [==============================] - 1s 2ms/step - loss: 0.4011 - accuracy: 0.8364\n",
      "Epoch 41/50\n",
      "640/640 [==============================] - 1s 2ms/step - loss: 0.4014 - accuracy: 0.8344\n",
      "Epoch 42/50\n",
      "640/640 [==============================] - 1s 1ms/step - loss: 0.4012 - accuracy: 0.8355\n",
      "Epoch 43/50\n",
      "640/640 [==============================] - 1s 2ms/step - loss: 0.4009 - accuracy: 0.8363\n",
      "Epoch 44/50\n",
      "640/640 [==============================] - 1s 1ms/step - loss: 0.4005 - accuracy: 0.8372\n",
      "Epoch 45/50\n",
      "640/640 [==============================] - 1s 1ms/step - loss: 0.4010 - accuracy: 0.8353\n",
      "Epoch 46/50\n",
      "640/640 [==============================] - 1s 1ms/step - loss: 0.4006 - accuracy: 0.8363\n",
      "Epoch 47/50\n",
      "640/640 [==============================] - 1s 1ms/step - loss: 0.4000 - accuracy: 0.8356\n",
      "Epoch 48/50\n",
      "640/640 [==============================] - 1s 1ms/step - loss: 0.4008 - accuracy: 0.8363\n",
      "Epoch 49/50\n",
      "640/640 [==============================] - 1s 1ms/step - loss: 0.4006 - accuracy: 0.8361\n",
      "Epoch 50/50\n",
      "640/640 [==============================] - 1s 1ms/step - loss: 0.4000 - accuracy: 0.8363\n",
      "160/160 [==============================] - 0s 1ms/step\n",
      "WARNING:tensorflow:Detecting that an object or model or tf.train.Checkpoint is being deleted with unrestored values. See the following logs for the specific values in question. To silence these warnings, use `status.expect_partial()`. See https://www.tensorflow.org/api_docs/python/tf/train/Checkpoint#restorefor details about the status object returned by the restore function.\n"
     ]
    },
    {
     "name": "stderr",
     "output_type": "stream",
     "text": [
      "WARNING:tensorflow:Detecting that an object or model or tf.train.Checkpoint is being deleted with unrestored values. See the following logs for the specific values in question. To silence these warnings, use `status.expect_partial()`. See https://www.tensorflow.org/api_docs/python/tf/train/Checkpoint#restorefor details about the status object returned by the restore function.\n"
     ]
    },
    {
     "name": "stdout",
     "output_type": "stream",
     "text": [
      "WARNING:tensorflow:Value in checkpoint could not be found in the restored object: (root).keras_api.metrics.0.total\n"
     ]
    },
    {
     "name": "stderr",
     "output_type": "stream",
     "text": [
      "WARNING:tensorflow:Value in checkpoint could not be found in the restored object: (root).keras_api.metrics.0.total\n"
     ]
    },
    {
     "name": "stdout",
     "output_type": "stream",
     "text": [
      "WARNING:tensorflow:Value in checkpoint could not be found in the restored object: (root).keras_api.metrics.0.count\n"
     ]
    },
    {
     "name": "stderr",
     "output_type": "stream",
     "text": [
      "WARNING:tensorflow:Value in checkpoint could not be found in the restored object: (root).keras_api.metrics.0.count\n"
     ]
    },
    {
     "name": "stdout",
     "output_type": "stream",
     "text": [
      "WARNING:tensorflow:Value in checkpoint could not be found in the restored object: (root).keras_api.metrics.1.total\n"
     ]
    },
    {
     "name": "stderr",
     "output_type": "stream",
     "text": [
      "WARNING:tensorflow:Value in checkpoint could not be found in the restored object: (root).keras_api.metrics.1.total\n"
     ]
    },
    {
     "name": "stdout",
     "output_type": "stream",
     "text": [
      "WARNING:tensorflow:Value in checkpoint could not be found in the restored object: (root).keras_api.metrics.1.count\n"
     ]
    },
    {
     "name": "stderr",
     "output_type": "stream",
     "text": [
      "WARNING:tensorflow:Value in checkpoint could not be found in the restored object: (root).keras_api.metrics.1.count\n"
     ]
    },
    {
     "name": "stdout",
     "output_type": "stream",
     "text": [
      "WARNING:tensorflow:Detecting that an object or model or tf.train.Checkpoint is being deleted with unrestored values. See the following logs for the specific values in question. To silence these warnings, use `status.expect_partial()`. See https://www.tensorflow.org/api_docs/python/tf/train/Checkpoint#restorefor details about the status object returned by the restore function.\n"
     ]
    },
    {
     "name": "stderr",
     "output_type": "stream",
     "text": [
      "WARNING:tensorflow:Detecting that an object or model or tf.train.Checkpoint is being deleted with unrestored values. See the following logs for the specific values in question. To silence these warnings, use `status.expect_partial()`. See https://www.tensorflow.org/api_docs/python/tf/train/Checkpoint#restorefor details about the status object returned by the restore function.\n"
     ]
    },
    {
     "name": "stdout",
     "output_type": "stream",
     "text": [
      "WARNING:tensorflow:Value in checkpoint could not be found in the restored object: (root).keras_api.metrics.0.total\n"
     ]
    },
    {
     "name": "stderr",
     "output_type": "stream",
     "text": [
      "WARNING:tensorflow:Value in checkpoint could not be found in the restored object: (root).keras_api.metrics.0.total\n"
     ]
    },
    {
     "name": "stdout",
     "output_type": "stream",
     "text": [
      "WARNING:tensorflow:Value in checkpoint could not be found in the restored object: (root).keras_api.metrics.0.count\n"
     ]
    },
    {
     "name": "stderr",
     "output_type": "stream",
     "text": [
      "WARNING:tensorflow:Value in checkpoint could not be found in the restored object: (root).keras_api.metrics.0.count\n"
     ]
    },
    {
     "name": "stdout",
     "output_type": "stream",
     "text": [
      "WARNING:tensorflow:Value in checkpoint could not be found in the restored object: (root).keras_api.metrics.1.total\n"
     ]
    },
    {
     "name": "stderr",
     "output_type": "stream",
     "text": [
      "WARNING:tensorflow:Value in checkpoint could not be found in the restored object: (root).keras_api.metrics.1.total\n"
     ]
    },
    {
     "name": "stdout",
     "output_type": "stream",
     "text": [
      "WARNING:tensorflow:Value in checkpoint could not be found in the restored object: (root).keras_api.metrics.1.count\n"
     ]
    },
    {
     "name": "stderr",
     "output_type": "stream",
     "text": [
      "WARNING:tensorflow:Value in checkpoint could not be found in the restored object: (root).keras_api.metrics.1.count\n"
     ]
    },
    {
     "name": "stdout",
     "output_type": "stream",
     "text": [
      "WARNING:tensorflow:Detecting that an object or model or tf.train.Checkpoint is being deleted with unrestored values. See the following logs for the specific values in question. To silence these warnings, use `status.expect_partial()`. See https://www.tensorflow.org/api_docs/python/tf/train/Checkpoint#restorefor details about the status object returned by the restore function.\n"
     ]
    },
    {
     "name": "stderr",
     "output_type": "stream",
     "text": [
      "WARNING:tensorflow:Detecting that an object or model or tf.train.Checkpoint is being deleted with unrestored values. See the following logs for the specific values in question. To silence these warnings, use `status.expect_partial()`. See https://www.tensorflow.org/api_docs/python/tf/train/Checkpoint#restorefor details about the status object returned by the restore function.\n"
     ]
    },
    {
     "name": "stdout",
     "output_type": "stream",
     "text": [
      "WARNING:tensorflow:Value in checkpoint could not be found in the restored object: (root).keras_api.metrics.0.total\n"
     ]
    },
    {
     "name": "stderr",
     "output_type": "stream",
     "text": [
      "WARNING:tensorflow:Value in checkpoint could not be found in the restored object: (root).keras_api.metrics.0.total\n"
     ]
    },
    {
     "name": "stdout",
     "output_type": "stream",
     "text": [
      "WARNING:tensorflow:Value in checkpoint could not be found in the restored object: (root).keras_api.metrics.0.count\n"
     ]
    },
    {
     "name": "stderr",
     "output_type": "stream",
     "text": [
      "WARNING:tensorflow:Value in checkpoint could not be found in the restored object: (root).keras_api.metrics.0.count\n"
     ]
    },
    {
     "name": "stdout",
     "output_type": "stream",
     "text": [
      "WARNING:tensorflow:Value in checkpoint could not be found in the restored object: (root).keras_api.metrics.1.total\n"
     ]
    },
    {
     "name": "stderr",
     "output_type": "stream",
     "text": [
      "WARNING:tensorflow:Value in checkpoint could not be found in the restored object: (root).keras_api.metrics.1.total\n"
     ]
    },
    {
     "name": "stdout",
     "output_type": "stream",
     "text": [
      "WARNING:tensorflow:Value in checkpoint could not be found in the restored object: (root).keras_api.metrics.1.count\n"
     ]
    },
    {
     "name": "stderr",
     "output_type": "stream",
     "text": [
      "WARNING:tensorflow:Value in checkpoint could not be found in the restored object: (root).keras_api.metrics.1.count\n"
     ]
    },
    {
     "name": "stdout",
     "output_type": "stream",
     "text": [
      "WARNING:tensorflow:Detecting that an object or model or tf.train.Checkpoint is being deleted with unrestored values. See the following logs for the specific values in question. To silence these warnings, use `status.expect_partial()`. See https://www.tensorflow.org/api_docs/python/tf/train/Checkpoint#restorefor details about the status object returned by the restore function.\n"
     ]
    },
    {
     "name": "stderr",
     "output_type": "stream",
     "text": [
      "WARNING:tensorflow:Detecting that an object or model or tf.train.Checkpoint is being deleted with unrestored values. See the following logs for the specific values in question. To silence these warnings, use `status.expect_partial()`. See https://www.tensorflow.org/api_docs/python/tf/train/Checkpoint#restorefor details about the status object returned by the restore function.\n"
     ]
    },
    {
     "name": "stdout",
     "output_type": "stream",
     "text": [
      "WARNING:tensorflow:Value in checkpoint could not be found in the restored object: (root).keras_api.metrics.0.total\n"
     ]
    },
    {
     "name": "stderr",
     "output_type": "stream",
     "text": [
      "WARNING:tensorflow:Value in checkpoint could not be found in the restored object: (root).keras_api.metrics.0.total\n"
     ]
    },
    {
     "name": "stdout",
     "output_type": "stream",
     "text": [
      "WARNING:tensorflow:Value in checkpoint could not be found in the restored object: (root).keras_api.metrics.0.count\n"
     ]
    },
    {
     "name": "stderr",
     "output_type": "stream",
     "text": [
      "WARNING:tensorflow:Value in checkpoint could not be found in the restored object: (root).keras_api.metrics.0.count\n"
     ]
    },
    {
     "name": "stdout",
     "output_type": "stream",
     "text": [
      "WARNING:tensorflow:Value in checkpoint could not be found in the restored object: (root).keras_api.metrics.1.total\n"
     ]
    },
    {
     "name": "stderr",
     "output_type": "stream",
     "text": [
      "WARNING:tensorflow:Value in checkpoint could not be found in the restored object: (root).keras_api.metrics.1.total\n"
     ]
    },
    {
     "name": "stdout",
     "output_type": "stream",
     "text": [
      "WARNING:tensorflow:Value in checkpoint could not be found in the restored object: (root).keras_api.metrics.1.count\n"
     ]
    },
    {
     "name": "stderr",
     "output_type": "stream",
     "text": [
      "WARNING:tensorflow:Value in checkpoint could not be found in the restored object: (root).keras_api.metrics.1.count\n"
     ]
    },
    {
     "name": "stdout",
     "output_type": "stream",
     "text": [
      "WARNING:tensorflow:Detecting that an object or model or tf.train.Checkpoint is being deleted with unrestored values. See the following logs for the specific values in question. To silence these warnings, use `status.expect_partial()`. See https://www.tensorflow.org/api_docs/python/tf/train/Checkpoint#restorefor details about the status object returned by the restore function.\n"
     ]
    },
    {
     "name": "stderr",
     "output_type": "stream",
     "text": [
      "WARNING:tensorflow:Detecting that an object or model or tf.train.Checkpoint is being deleted with unrestored values. See the following logs for the specific values in question. To silence these warnings, use `status.expect_partial()`. See https://www.tensorflow.org/api_docs/python/tf/train/Checkpoint#restorefor details about the status object returned by the restore function.\n"
     ]
    },
    {
     "name": "stdout",
     "output_type": "stream",
     "text": [
      "WARNING:tensorflow:Value in checkpoint could not be found in the restored object: (root).keras_api.metrics.0.total\n"
     ]
    },
    {
     "name": "stderr",
     "output_type": "stream",
     "text": [
      "WARNING:tensorflow:Value in checkpoint could not be found in the restored object: (root).keras_api.metrics.0.total\n"
     ]
    },
    {
     "name": "stdout",
     "output_type": "stream",
     "text": [
      "WARNING:tensorflow:Value in checkpoint could not be found in the restored object: (root).keras_api.metrics.0.count\n"
     ]
    },
    {
     "name": "stderr",
     "output_type": "stream",
     "text": [
      "WARNING:tensorflow:Value in checkpoint could not be found in the restored object: (root).keras_api.metrics.0.count\n"
     ]
    },
    {
     "name": "stdout",
     "output_type": "stream",
     "text": [
      "WARNING:tensorflow:Value in checkpoint could not be found in the restored object: (root).keras_api.metrics.1.total\n"
     ]
    },
    {
     "name": "stderr",
     "output_type": "stream",
     "text": [
      "WARNING:tensorflow:Value in checkpoint could not be found in the restored object: (root).keras_api.metrics.1.total\n"
     ]
    },
    {
     "name": "stdout",
     "output_type": "stream",
     "text": [
      "WARNING:tensorflow:Value in checkpoint could not be found in the restored object: (root).keras_api.metrics.1.count\n"
     ]
    },
    {
     "name": "stderr",
     "output_type": "stream",
     "text": [
      "WARNING:tensorflow:Value in checkpoint could not be found in the restored object: (root).keras_api.metrics.1.count\n",
      "WARNING:absl:Found untraced functions such as _update_step_xla while saving (showing 1 of 1). These functions will not be directly callable after loading.\n"
     ]
    },
    {
     "name": "stdout",
     "output_type": "stream",
     "text": [
      "INFO:tensorflow:Assets written to: C:\\Users\\user\\AppData\\Local\\Temp\\tmp89dwt8nn\\assets\n"
     ]
    },
    {
     "name": "stderr",
     "output_type": "stream",
     "text": [
      "INFO:tensorflow:Assets written to: C:\\Users\\user\\AppData\\Local\\Temp\\tmp89dwt8nn\\assets\n"
     ]
    },
    {
     "name": "stdout",
     "output_type": "stream",
     "text": [
      "Epoch 1/50\n",
      "640/640 [==============================] - 1s 1ms/step - loss: 0.4999 - accuracy: 0.7952\n",
      "Epoch 2/50\n",
      "640/640 [==============================] - 1s 1ms/step - loss: 0.4288 - accuracy: 0.7961\n",
      "Epoch 3/50\n",
      "640/640 [==============================] - 1s 1ms/step - loss: 0.4255 - accuracy: 0.7961\n",
      "Epoch 4/50\n",
      "640/640 [==============================] - 1s 1ms/step - loss: 0.4221 - accuracy: 0.7961\n",
      "Epoch 5/50\n",
      "640/640 [==============================] - 1s 1ms/step - loss: 0.4197 - accuracy: 0.8098\n",
      "Epoch 6/50\n",
      "640/640 [==============================] - 1s 1ms/step - loss: 0.4164 - accuracy: 0.8241\n",
      "Epoch 7/50\n",
      "640/640 [==============================] - 1s 1ms/step - loss: 0.4158 - accuracy: 0.8266\n",
      "Epoch 8/50\n",
      "640/640 [==============================] - 1s 1ms/step - loss: 0.4142 - accuracy: 0.8281\n",
      "Epoch 9/50\n",
      "640/640 [==============================] - 1s 1ms/step - loss: 0.4131 - accuracy: 0.8308\n",
      "Epoch 10/50\n",
      "640/640 [==============================] - 1s 1ms/step - loss: 0.4120 - accuracy: 0.8319\n",
      "Epoch 11/50\n",
      "640/640 [==============================] - 1s 1ms/step - loss: 0.4111 - accuracy: 0.8314\n",
      "Epoch 12/50\n",
      "640/640 [==============================] - 1s 1ms/step - loss: 0.4094 - accuracy: 0.8338\n",
      "Epoch 13/50\n",
      "640/640 [==============================] - 1s 2ms/step - loss: 0.4096 - accuracy: 0.8338\n",
      "Epoch 14/50\n",
      "640/640 [==============================] - 1s 2ms/step - loss: 0.4081 - accuracy: 0.8342\n",
      "Epoch 15/50\n",
      "640/640 [==============================] - 1s 1ms/step - loss: 0.4080 - accuracy: 0.8363\n",
      "Epoch 16/50\n",
      "640/640 [==============================] - 1s 1ms/step - loss: 0.4069 - accuracy: 0.8348\n",
      "Epoch 17/50\n",
      "640/640 [==============================] - 1s 1ms/step - loss: 0.4069 - accuracy: 0.8348\n",
      "Epoch 18/50\n",
      "640/640 [==============================] - 1s 1ms/step - loss: 0.4065 - accuracy: 0.8350\n",
      "Epoch 19/50\n",
      "640/640 [==============================] - 1s 1ms/step - loss: 0.4059 - accuracy: 0.8353\n",
      "Epoch 20/50\n",
      "640/640 [==============================] - 1s 1ms/step - loss: 0.4051 - accuracy: 0.8348\n",
      "Epoch 21/50\n",
      "640/640 [==============================] - 1s 1ms/step - loss: 0.4050 - accuracy: 0.8361\n",
      "Epoch 22/50\n",
      "640/640 [==============================] - 1s 1ms/step - loss: 0.4046 - accuracy: 0.8359\n",
      "Epoch 23/50\n",
      "640/640 [==============================] - 1s 1ms/step - loss: 0.4041 - accuracy: 0.8350\n",
      "Epoch 24/50\n",
      "640/640 [==============================] - 1s 1ms/step - loss: 0.4041 - accuracy: 0.8353\n",
      "Epoch 25/50\n",
      "640/640 [==============================] - 1s 1ms/step - loss: 0.4035 - accuracy: 0.8361\n",
      "Epoch 26/50\n",
      "640/640 [==============================] - 1s 1ms/step - loss: 0.4031 - accuracy: 0.8364\n",
      "Epoch 27/50\n",
      "640/640 [==============================] - 1s 1ms/step - loss: 0.4028 - accuracy: 0.8367\n",
      "Epoch 28/50\n",
      "640/640 [==============================] - 1s 1ms/step - loss: 0.4024 - accuracy: 0.8361\n",
      "Epoch 29/50\n",
      "640/640 [==============================] - 1s 1ms/step - loss: 0.4026 - accuracy: 0.8366\n",
      "Epoch 30/50\n",
      "640/640 [==============================] - 1s 1ms/step - loss: 0.4021 - accuracy: 0.8361\n",
      "Epoch 31/50\n",
      "640/640 [==============================] - 1s 1ms/step - loss: 0.4021 - accuracy: 0.8356\n",
      "Epoch 32/50\n",
      "640/640 [==============================] - 1s 1ms/step - loss: 0.4017 - accuracy: 0.8359\n",
      "Epoch 33/50\n",
      "640/640 [==============================] - 1s 1ms/step - loss: 0.4018 - accuracy: 0.8358\n",
      "Epoch 34/50\n",
      "640/640 [==============================] - 1s 1ms/step - loss: 0.4009 - accuracy: 0.8369\n",
      "Epoch 35/50\n",
      "640/640 [==============================] - 1s 1ms/step - loss: 0.4010 - accuracy: 0.8359\n",
      "Epoch 36/50\n",
      "640/640 [==============================] - 1s 1ms/step - loss: 0.4011 - accuracy: 0.8367\n",
      "Epoch 37/50\n",
      "640/640 [==============================] - 1s 1ms/step - loss: 0.4007 - accuracy: 0.8358\n",
      "Epoch 38/50\n",
      "640/640 [==============================] - 1s 1ms/step - loss: 0.4011 - accuracy: 0.8364\n",
      "Epoch 39/50\n",
      "640/640 [==============================] - 1s 1ms/step - loss: 0.4005 - accuracy: 0.8369\n",
      "Epoch 40/50\n",
      "640/640 [==============================] - 1s 1ms/step - loss: 0.4004 - accuracy: 0.8356\n",
      "Epoch 41/50\n",
      "640/640 [==============================] - 1s 2ms/step - loss: 0.4004 - accuracy: 0.8367\n",
      "Epoch 42/50\n",
      "640/640 [==============================] - 1s 2ms/step - loss: 0.4003 - accuracy: 0.8355\n",
      "Epoch 43/50\n",
      "640/640 [==============================] - 1s 1ms/step - loss: 0.4002 - accuracy: 0.8359\n",
      "Epoch 44/50\n",
      "640/640 [==============================] - 1s 1ms/step - loss: 0.4006 - accuracy: 0.8348\n",
      "Epoch 45/50\n",
      "640/640 [==============================] - 1s 2ms/step - loss: 0.4003 - accuracy: 0.8350\n",
      "Epoch 46/50\n",
      "640/640 [==============================] - 1s 1ms/step - loss: 0.4001 - accuracy: 0.8353\n",
      "Epoch 47/50\n",
      "640/640 [==============================] - 1s 1ms/step - loss: 0.3999 - accuracy: 0.8350\n",
      "Epoch 48/50\n",
      "640/640 [==============================] - 1s 2ms/step - loss: 0.3996 - accuracy: 0.8348\n",
      "Epoch 49/50\n",
      "640/640 [==============================] - 1s 2ms/step - loss: 0.4002 - accuracy: 0.8356\n",
      "Epoch 50/50\n",
      "640/640 [==============================] - 1s 2ms/step - loss: 0.4000 - accuracy: 0.8355\n",
      "160/160 [==============================] - 0s 1ms/step\n"
     ]
    },
    {
     "name": "stderr",
     "output_type": "stream",
     "text": [
      "WARNING:absl:Found untraced functions such as _update_step_xla while saving (showing 1 of 1). These functions will not be directly callable after loading.\n"
     ]
    },
    {
     "name": "stdout",
     "output_type": "stream",
     "text": [
      "INFO:tensorflow:Assets written to: C:\\Users\\user\\AppData\\Local\\Temp\\tmpmvqykfxp\\assets\n"
     ]
    },
    {
     "name": "stderr",
     "output_type": "stream",
     "text": [
      "INFO:tensorflow:Assets written to: C:\\Users\\user\\AppData\\Local\\Temp\\tmpmvqykfxp\\assets\n"
     ]
    },
    {
     "name": "stdout",
     "output_type": "stream",
     "text": [
      "Epoch 1/100\n",
      "640/640 [==============================] - 1s 2ms/step - loss: 0.4980 - accuracy: 0.7959\n",
      "Epoch 2/100\n",
      "640/640 [==============================] - 1s 1ms/step - loss: 0.4309 - accuracy: 0.7959\n",
      "Epoch 3/100\n",
      "640/640 [==============================] - 1s 1ms/step - loss: 0.4262 - accuracy: 0.7959\n",
      "Epoch 4/100\n",
      "640/640 [==============================] - 1s 2ms/step - loss: 0.4215 - accuracy: 0.8167\n",
      "Epoch 5/100\n",
      "640/640 [==============================] - 1s 1ms/step - loss: 0.4164 - accuracy: 0.8292\n",
      "Epoch 6/100\n",
      "640/640 [==============================] - 1s 2ms/step - loss: 0.4127 - accuracy: 0.8297\n",
      "Epoch 7/100\n",
      "640/640 [==============================] - 1s 1ms/step - loss: 0.4094 - accuracy: 0.8319\n",
      "Epoch 8/100\n",
      "640/640 [==============================] - 1s 1ms/step - loss: 0.4067 - accuracy: 0.8331\n",
      "Epoch 9/100\n",
      "640/640 [==============================] - 1s 1ms/step - loss: 0.4060 - accuracy: 0.8328\n",
      "Epoch 10/100\n",
      "640/640 [==============================] - 1s 2ms/step - loss: 0.4042 - accuracy: 0.8342\n",
      "Epoch 11/100\n",
      "640/640 [==============================] - 1s 1ms/step - loss: 0.4026 - accuracy: 0.8348\n",
      "Epoch 12/100\n",
      "640/640 [==============================] - 1s 1ms/step - loss: 0.4021 - accuracy: 0.8339\n",
      "Epoch 13/100\n",
      "640/640 [==============================] - 1s 1ms/step - loss: 0.4010 - accuracy: 0.8345\n",
      "Epoch 14/100\n",
      "640/640 [==============================] - 1s 1ms/step - loss: 0.4007 - accuracy: 0.8366\n",
      "Epoch 15/100\n",
      "640/640 [==============================] - 1s 1ms/step - loss: 0.4000 - accuracy: 0.8347\n",
      "Epoch 16/100\n",
      "640/640 [==============================] - 1s 1ms/step - loss: 0.3997 - accuracy: 0.8348\n",
      "Epoch 17/100\n",
      "640/640 [==============================] - 1s 1ms/step - loss: 0.3992 - accuracy: 0.8347\n",
      "Epoch 18/100\n",
      "640/640 [==============================] - 1s 1ms/step - loss: 0.3989 - accuracy: 0.8366\n",
      "Epoch 19/100\n",
      "640/640 [==============================] - 1s 1ms/step - loss: 0.3979 - accuracy: 0.8352\n",
      "Epoch 20/100\n",
      "640/640 [==============================] - 1s 1ms/step - loss: 0.3970 - accuracy: 0.8370\n",
      "Epoch 21/100\n",
      "640/640 [==============================] - 1s 1ms/step - loss: 0.3972 - accuracy: 0.8352\n",
      "Epoch 22/100\n",
      "640/640 [==============================] - 1s 1ms/step - loss: 0.3964 - accuracy: 0.8366\n",
      "Epoch 23/100\n",
      "640/640 [==============================] - 1s 2ms/step - loss: 0.3961 - accuracy: 0.8352\n",
      "Epoch 24/100\n",
      "640/640 [==============================] - 1s 1ms/step - loss: 0.3961 - accuracy: 0.8370\n",
      "Epoch 25/100\n",
      "640/640 [==============================] - 1s 1ms/step - loss: 0.3953 - accuracy: 0.8372\n",
      "Epoch 26/100\n",
      "640/640 [==============================] - 1s 2ms/step - loss: 0.3946 - accuracy: 0.8359\n",
      "Epoch 27/100\n",
      "640/640 [==============================] - 1s 2ms/step - loss: 0.3935 - accuracy: 0.8380\n",
      "Epoch 28/100\n",
      "640/640 [==============================] - 1s 1ms/step - loss: 0.3932 - accuracy: 0.8386\n",
      "Epoch 29/100\n",
      "640/640 [==============================] - 1s 1ms/step - loss: 0.3912 - accuracy: 0.8392\n",
      "Epoch 30/100\n",
      "640/640 [==============================] - 1s 1ms/step - loss: 0.3891 - accuracy: 0.8402\n",
      "Epoch 31/100\n",
      "640/640 [==============================] - 1s 2ms/step - loss: 0.3861 - accuracy: 0.8406\n",
      "Epoch 32/100\n",
      "640/640 [==============================] - 1s 1ms/step - loss: 0.3843 - accuracy: 0.8425\n",
      "Epoch 33/100\n",
      "640/640 [==============================] - 1s 1ms/step - loss: 0.3817 - accuracy: 0.8422\n",
      "Epoch 34/100\n",
      "640/640 [==============================] - 1s 1ms/step - loss: 0.3775 - accuracy: 0.8434\n",
      "Epoch 35/100\n",
      "640/640 [==============================] - 1s 1ms/step - loss: 0.3745 - accuracy: 0.8425\n",
      "Epoch 36/100\n",
      "640/640 [==============================] - 1s 1ms/step - loss: 0.3701 - accuracy: 0.8450\n",
      "Epoch 37/100\n",
      "640/640 [==============================] - 1s 1ms/step - loss: 0.3649 - accuracy: 0.8475\n",
      "Epoch 38/100\n",
      "640/640 [==============================] - 1s 1ms/step - loss: 0.3633 - accuracy: 0.8466\n",
      "Epoch 39/100\n",
      "640/640 [==============================] - 1s 1ms/step - loss: 0.3596 - accuracy: 0.8475\n",
      "Epoch 40/100\n",
      "640/640 [==============================] - 1s 2ms/step - loss: 0.3582 - accuracy: 0.8505\n",
      "Epoch 41/100\n",
      "640/640 [==============================] - 1s 1ms/step - loss: 0.3562 - accuracy: 0.8522\n",
      "Epoch 42/100\n",
      "640/640 [==============================] - 1s 1ms/step - loss: 0.3545 - accuracy: 0.8547\n",
      "Epoch 43/100\n",
      "640/640 [==============================] - 1s 1ms/step - loss: 0.3530 - accuracy: 0.8545\n",
      "Epoch 44/100\n",
      "640/640 [==============================] - 1s 1ms/step - loss: 0.3514 - accuracy: 0.8536\n",
      "Epoch 45/100\n",
      "640/640 [==============================] - 1s 1ms/step - loss: 0.3516 - accuracy: 0.8558\n",
      "Epoch 46/100\n",
      "640/640 [==============================] - 1s 1ms/step - loss: 0.3495 - accuracy: 0.8552\n",
      "Epoch 47/100\n",
      "640/640 [==============================] - 1s 1ms/step - loss: 0.3487 - accuracy: 0.8544\n",
      "Epoch 48/100\n",
      "640/640 [==============================] - 1s 1ms/step - loss: 0.3478 - accuracy: 0.8575\n",
      "Epoch 49/100\n",
      "640/640 [==============================] - 1s 1ms/step - loss: 0.3479 - accuracy: 0.8561\n",
      "Epoch 50/100\n",
      "640/640 [==============================] - 1s 1ms/step - loss: 0.3471 - accuracy: 0.8555\n",
      "Epoch 51/100\n",
      "640/640 [==============================] - 1s 1ms/step - loss: 0.3462 - accuracy: 0.8569\n",
      "Epoch 52/100\n",
      "640/640 [==============================] - 1s 1ms/step - loss: 0.3452 - accuracy: 0.8589\n",
      "Epoch 53/100\n",
      "640/640 [==============================] - 1s 1ms/step - loss: 0.3452 - accuracy: 0.8573\n",
      "Epoch 54/100\n",
      "640/640 [==============================] - 1s 1ms/step - loss: 0.3447 - accuracy: 0.8578\n",
      "Epoch 55/100\n",
      "640/640 [==============================] - 1s 1ms/step - loss: 0.3446 - accuracy: 0.8570\n",
      "Epoch 56/100\n",
      "640/640 [==============================] - 1s 1ms/step - loss: 0.3445 - accuracy: 0.8572\n",
      "Epoch 57/100\n",
      "640/640 [==============================] - 1s 1ms/step - loss: 0.3431 - accuracy: 0.8577\n",
      "Epoch 58/100\n",
      "640/640 [==============================] - 1s 1ms/step - loss: 0.3428 - accuracy: 0.8586\n",
      "Epoch 59/100\n",
      "640/640 [==============================] - 1s 1ms/step - loss: 0.3426 - accuracy: 0.8577\n",
      "Epoch 60/100\n",
      "640/640 [==============================] - 1s 1ms/step - loss: 0.3421 - accuracy: 0.8578\n",
      "Epoch 61/100\n",
      "640/640 [==============================] - 1s 1ms/step - loss: 0.3419 - accuracy: 0.8595\n",
      "Epoch 62/100\n",
      "640/640 [==============================] - 1s 1ms/step - loss: 0.3414 - accuracy: 0.8591\n",
      "Epoch 63/100\n",
      "640/640 [==============================] - 1s 1ms/step - loss: 0.3407 - accuracy: 0.8603\n",
      "Epoch 64/100\n",
      "640/640 [==============================] - 1s 1ms/step - loss: 0.3412 - accuracy: 0.8608\n",
      "Epoch 65/100\n",
      "640/640 [==============================] - 1s 1ms/step - loss: 0.3427 - accuracy: 0.8583\n",
      "Epoch 66/100\n",
      "640/640 [==============================] - 1s 1ms/step - loss: 0.3411 - accuracy: 0.8575\n",
      "Epoch 67/100\n",
      "640/640 [==============================] - 1s 1ms/step - loss: 0.3411 - accuracy: 0.8595\n",
      "Epoch 68/100\n",
      "640/640 [==============================] - 1s 1ms/step - loss: 0.3403 - accuracy: 0.8623\n",
      "Epoch 69/100\n",
      "640/640 [==============================] - 1s 1ms/step - loss: 0.3400 - accuracy: 0.8605\n",
      "Epoch 70/100\n",
      "640/640 [==============================] - 1s 1ms/step - loss: 0.3410 - accuracy: 0.8619\n",
      "Epoch 71/100\n",
      "640/640 [==============================] - 1s 1ms/step - loss: 0.3397 - accuracy: 0.8594\n",
      "Epoch 72/100\n",
      "640/640 [==============================] - 1s 1ms/step - loss: 0.3404 - accuracy: 0.8597\n",
      "Epoch 73/100\n",
      "640/640 [==============================] - 1s 1ms/step - loss: 0.3403 - accuracy: 0.8608\n",
      "Epoch 74/100\n",
      "640/640 [==============================] - 1s 1ms/step - loss: 0.3393 - accuracy: 0.8598\n",
      "Epoch 75/100\n",
      "640/640 [==============================] - 1s 1ms/step - loss: 0.3401 - accuracy: 0.8608\n",
      "Epoch 76/100\n",
      "640/640 [==============================] - 1s 1ms/step - loss: 0.3395 - accuracy: 0.8606\n",
      "Epoch 77/100\n",
      "640/640 [==============================] - 1s 1ms/step - loss: 0.3401 - accuracy: 0.8595\n",
      "Epoch 78/100\n",
      "640/640 [==============================] - 1s 1ms/step - loss: 0.3394 - accuracy: 0.8616\n",
      "Epoch 79/100\n",
      "640/640 [==============================] - 1s 1ms/step - loss: 0.3385 - accuracy: 0.8602\n",
      "Epoch 80/100\n",
      "640/640 [==============================] - 1s 1ms/step - loss: 0.3410 - accuracy: 0.8606\n",
      "Epoch 81/100\n",
      "640/640 [==============================] - 1s 1ms/step - loss: 0.3406 - accuracy: 0.8623\n",
      "Epoch 82/100\n",
      "640/640 [==============================] - 1s 1ms/step - loss: 0.3392 - accuracy: 0.8605\n",
      "Epoch 83/100\n",
      "640/640 [==============================] - 1s 1ms/step - loss: 0.3387 - accuracy: 0.8645\n",
      "Epoch 84/100\n",
      "640/640 [==============================] - 1s 1ms/step - loss: 0.3396 - accuracy: 0.8622\n",
      "Epoch 85/100\n",
      "640/640 [==============================] - 1s 1ms/step - loss: 0.3397 - accuracy: 0.8602\n",
      "Epoch 86/100\n",
      "640/640 [==============================] - 1s 1ms/step - loss: 0.3401 - accuracy: 0.8600\n",
      "Epoch 87/100\n",
      "640/640 [==============================] - 1s 1ms/step - loss: 0.3395 - accuracy: 0.8581\n",
      "Epoch 88/100\n",
      "640/640 [==============================] - 1s 1ms/step - loss: 0.3390 - accuracy: 0.8602\n",
      "Epoch 89/100\n",
      "640/640 [==============================] - 1s 1ms/step - loss: 0.3390 - accuracy: 0.8641\n",
      "Epoch 90/100\n",
      "640/640 [==============================] - 1s 1ms/step - loss: 0.3383 - accuracy: 0.8612\n",
      "Epoch 91/100\n",
      "640/640 [==============================] - 1s 1ms/step - loss: 0.3390 - accuracy: 0.8612\n",
      "Epoch 92/100\n",
      "640/640 [==============================] - 1s 1ms/step - loss: 0.3373 - accuracy: 0.8625\n",
      "Epoch 93/100\n",
      "640/640 [==============================] - 1s 1ms/step - loss: 0.3391 - accuracy: 0.8617\n",
      "Epoch 94/100\n",
      "640/640 [==============================] - 1s 1ms/step - loss: 0.3374 - accuracy: 0.8623\n",
      "Epoch 95/100\n",
      "640/640 [==============================] - 1s 1ms/step - loss: 0.3386 - accuracy: 0.8628\n",
      "Epoch 96/100\n",
      "640/640 [==============================] - 1s 1ms/step - loss: 0.3378 - accuracy: 0.8639\n",
      "Epoch 97/100\n",
      "640/640 [==============================] - 1s 1ms/step - loss: 0.3382 - accuracy: 0.8598\n",
      "Epoch 98/100\n",
      "640/640 [==============================] - 1s 1ms/step - loss: 0.3379 - accuracy: 0.8623\n",
      "Epoch 99/100\n",
      "640/640 [==============================] - 1s 1ms/step - loss: 0.3383 - accuracy: 0.8611\n",
      "Epoch 100/100\n",
      "640/640 [==============================] - 1s 1ms/step - loss: 0.3380 - accuracy: 0.8600\n",
      "160/160 [==============================] - 0s 884us/step\n"
     ]
    },
    {
     "name": "stderr",
     "output_type": "stream",
     "text": [
      "WARNING:absl:Found untraced functions such as _update_step_xla while saving (showing 1 of 1). These functions will not be directly callable after loading.\n"
     ]
    },
    {
     "name": "stdout",
     "output_type": "stream",
     "text": [
      "INFO:tensorflow:Assets written to: C:\\Users\\user\\AppData\\Local\\Temp\\tmprc0n0808\\assets\n"
     ]
    },
    {
     "name": "stderr",
     "output_type": "stream",
     "text": [
      "INFO:tensorflow:Assets written to: C:\\Users\\user\\AppData\\Local\\Temp\\tmprc0n0808\\assets\n"
     ]
    },
    {
     "name": "stdout",
     "output_type": "stream",
     "text": [
      "Epoch 1/100\n",
      "640/640 [==============================] - 1s 1ms/step - loss: 0.4921 - accuracy: 0.7953\n",
      "Epoch 2/100\n",
      "640/640 [==============================] - 1s 1ms/step - loss: 0.4298 - accuracy: 0.7959\n",
      "Epoch 3/100\n",
      "640/640 [==============================] - 1s 1ms/step - loss: 0.4257 - accuracy: 0.7959\n",
      "Epoch 4/100\n",
      "640/640 [==============================] - 1s 1ms/step - loss: 0.4222 - accuracy: 0.7959\n",
      "Epoch 5/100\n",
      "640/640 [==============================] - 1s 1ms/step - loss: 0.4188 - accuracy: 0.8156\n",
      "Epoch 6/100\n",
      "640/640 [==============================] - 1s 1ms/step - loss: 0.4168 - accuracy: 0.8241\n",
      "Epoch 7/100\n",
      "640/640 [==============================] - 1s 1ms/step - loss: 0.4151 - accuracy: 0.8283\n",
      "Epoch 8/100\n",
      "640/640 [==============================] - 1s 1ms/step - loss: 0.4135 - accuracy: 0.8298\n",
      "Epoch 9/100\n",
      "640/640 [==============================] - 1s 1ms/step - loss: 0.4130 - accuracy: 0.8325\n",
      "Epoch 10/100\n",
      "640/640 [==============================] - 1s 1ms/step - loss: 0.4113 - accuracy: 0.8314\n",
      "Epoch 11/100\n",
      "640/640 [==============================] - 1s 1ms/step - loss: 0.4107 - accuracy: 0.8323\n",
      "Epoch 12/100\n",
      "640/640 [==============================] - 1s 1ms/step - loss: 0.4096 - accuracy: 0.8323\n",
      "Epoch 13/100\n",
      "640/640 [==============================] - 1s 1ms/step - loss: 0.4095 - accuracy: 0.8341\n",
      "Epoch 14/100\n",
      "640/640 [==============================] - 1s 1ms/step - loss: 0.4084 - accuracy: 0.8327\n",
      "Epoch 15/100\n",
      "640/640 [==============================] - 1s 1ms/step - loss: 0.4079 - accuracy: 0.8339\n",
      "Epoch 16/100\n",
      "640/640 [==============================] - 1s 1ms/step - loss: 0.4069 - accuracy: 0.8320\n",
      "Epoch 17/100\n",
      "640/640 [==============================] - 1s 1ms/step - loss: 0.4063 - accuracy: 0.8348\n",
      "Epoch 18/100\n",
      "640/640 [==============================] - 1s 1ms/step - loss: 0.4058 - accuracy: 0.8341\n",
      "Epoch 19/100\n",
      "640/640 [==============================] - 1s 1ms/step - loss: 0.4057 - accuracy: 0.8333\n",
      "Epoch 20/100\n",
      "640/640 [==============================] - 1s 1ms/step - loss: 0.4054 - accuracy: 0.8353\n",
      "Epoch 21/100\n",
      "640/640 [==============================] - 1s 1ms/step - loss: 0.4045 - accuracy: 0.8347\n",
      "Epoch 22/100\n",
      "640/640 [==============================] - 1s 1ms/step - loss: 0.4040 - accuracy: 0.8358\n",
      "Epoch 23/100\n",
      "640/640 [==============================] - 1s 1ms/step - loss: 0.4038 - accuracy: 0.8352\n",
      "Epoch 24/100\n",
      "640/640 [==============================] - 1s 1ms/step - loss: 0.4036 - accuracy: 0.8338\n",
      "Epoch 25/100\n",
      "640/640 [==============================] - 1s 1ms/step - loss: 0.4033 - accuracy: 0.8347\n",
      "Epoch 26/100\n",
      "640/640 [==============================] - 1s 1ms/step - loss: 0.4033 - accuracy: 0.8344\n",
      "Epoch 27/100\n",
      "640/640 [==============================] - 1s 1ms/step - loss: 0.4026 - accuracy: 0.8344\n",
      "Epoch 28/100\n",
      "640/640 [==============================] - 1s 1ms/step - loss: 0.4029 - accuracy: 0.8341\n",
      "Epoch 29/100\n",
      "640/640 [==============================] - 1s 1ms/step - loss: 0.4026 - accuracy: 0.8348\n",
      "Epoch 30/100\n",
      "640/640 [==============================] - 1s 1ms/step - loss: 0.4021 - accuracy: 0.8345\n",
      "Epoch 31/100\n",
      "640/640 [==============================] - 1s 1ms/step - loss: 0.4015 - accuracy: 0.8352\n",
      "Epoch 32/100\n",
      "640/640 [==============================] - 1s 1ms/step - loss: 0.4016 - accuracy: 0.8359\n",
      "Epoch 33/100\n",
      "640/640 [==============================] - 1s 1ms/step - loss: 0.4015 - accuracy: 0.8347\n",
      "Epoch 34/100\n",
      "640/640 [==============================] - 1s 1ms/step - loss: 0.4017 - accuracy: 0.8344\n",
      "Epoch 35/100\n",
      "640/640 [==============================] - 1s 1ms/step - loss: 0.4013 - accuracy: 0.8372\n",
      "Epoch 36/100\n",
      "640/640 [==============================] - 1s 1ms/step - loss: 0.4014 - accuracy: 0.8355\n",
      "Epoch 37/100\n",
      "640/640 [==============================] - 1s 1ms/step - loss: 0.4009 - accuracy: 0.8356\n",
      "Epoch 38/100\n",
      "640/640 [==============================] - 1s 1ms/step - loss: 0.4013 - accuracy: 0.8355\n",
      "Epoch 39/100\n",
      "640/640 [==============================] - 1s 1ms/step - loss: 0.4011 - accuracy: 0.8345\n",
      "Epoch 40/100\n",
      "640/640 [==============================] - 1s 1ms/step - loss: 0.4010 - accuracy: 0.8364\n",
      "Epoch 41/100\n",
      "640/640 [==============================] - 1s 1ms/step - loss: 0.4013 - accuracy: 0.8331\n",
      "Epoch 42/100\n",
      "640/640 [==============================] - 1s 1ms/step - loss: 0.4007 - accuracy: 0.8383\n",
      "Epoch 43/100\n",
      "640/640 [==============================] - 1s 1ms/step - loss: 0.4008 - accuracy: 0.8352\n",
      "Epoch 44/100\n",
      "640/640 [==============================] - 1s 1ms/step - loss: 0.4005 - accuracy: 0.8341\n",
      "Epoch 45/100\n",
      "640/640 [==============================] - 1s 1ms/step - loss: 0.3999 - accuracy: 0.8338\n",
      "Epoch 46/100\n",
      "640/640 [==============================] - 1s 1ms/step - loss: 0.4005 - accuracy: 0.8350\n",
      "Epoch 47/100\n",
      "640/640 [==============================] - 1s 1ms/step - loss: 0.3999 - accuracy: 0.8347\n",
      "Epoch 48/100\n",
      "640/640 [==============================] - 1s 1ms/step - loss: 0.4005 - accuracy: 0.8331\n",
      "Epoch 49/100\n",
      "640/640 [==============================] - 1s 1ms/step - loss: 0.4001 - accuracy: 0.8367\n",
      "Epoch 50/100\n",
      "640/640 [==============================] - 1s 1ms/step - loss: 0.3993 - accuracy: 0.8356\n",
      "Epoch 51/100\n",
      "640/640 [==============================] - 1s 1ms/step - loss: 0.4001 - accuracy: 0.8345\n",
      "Epoch 52/100\n",
      "640/640 [==============================] - 1s 1ms/step - loss: 0.4001 - accuracy: 0.8356\n",
      "Epoch 53/100\n",
      "640/640 [==============================] - 1s 1ms/step - loss: 0.4004 - accuracy: 0.8330\n",
      "Epoch 54/100\n",
      "640/640 [==============================] - 1s 1ms/step - loss: 0.4001 - accuracy: 0.8353\n",
      "Epoch 55/100\n",
      "640/640 [==============================] - 1s 1ms/step - loss: 0.4002 - accuracy: 0.8341\n",
      "Epoch 56/100\n",
      "640/640 [==============================] - 1s 1ms/step - loss: 0.3998 - accuracy: 0.8358\n",
      "Epoch 57/100\n",
      "640/640 [==============================] - 1s 1ms/step - loss: 0.4002 - accuracy: 0.8366\n",
      "Epoch 58/100\n",
      "640/640 [==============================] - 1s 1ms/step - loss: 0.3996 - accuracy: 0.8353\n",
      "Epoch 59/100\n",
      "640/640 [==============================] - 1s 1ms/step - loss: 0.4000 - accuracy: 0.8350\n",
      "Epoch 60/100\n",
      "640/640 [==============================] - 1s 1ms/step - loss: 0.3999 - accuracy: 0.8353\n",
      "Epoch 61/100\n",
      "640/640 [==============================] - 1s 1ms/step - loss: 0.3991 - accuracy: 0.8341\n",
      "Epoch 62/100\n",
      "640/640 [==============================] - 1s 1ms/step - loss: 0.3997 - accuracy: 0.8342\n",
      "Epoch 63/100\n",
      "640/640 [==============================] - 1s 1ms/step - loss: 0.3992 - accuracy: 0.8350\n",
      "Epoch 64/100\n",
      "640/640 [==============================] - 1s 1ms/step - loss: 0.3997 - accuracy: 0.8359\n",
      "Epoch 65/100\n",
      "640/640 [==============================] - 1s 1ms/step - loss: 0.3996 - accuracy: 0.8353\n",
      "Epoch 66/100\n",
      "640/640 [==============================] - 1s 1ms/step - loss: 0.3995 - accuracy: 0.8359\n",
      "Epoch 67/100\n",
      "640/640 [==============================] - 1s 1ms/step - loss: 0.3996 - accuracy: 0.8355\n",
      "Epoch 68/100\n",
      "640/640 [==============================] - 1s 1ms/step - loss: 0.3994 - accuracy: 0.8330\n",
      "Epoch 69/100\n",
      "640/640 [==============================] - 1s 1ms/step - loss: 0.3996 - accuracy: 0.8353\n",
      "Epoch 70/100\n",
      "640/640 [==============================] - 1s 1ms/step - loss: 0.3992 - accuracy: 0.8353\n",
      "Epoch 71/100\n",
      "640/640 [==============================] - 1s 1ms/step - loss: 0.3999 - accuracy: 0.8353\n",
      "Epoch 72/100\n",
      "640/640 [==============================] - 1s 1ms/step - loss: 0.3995 - accuracy: 0.8345\n",
      "Epoch 73/100\n",
      "640/640 [==============================] - 1s 1ms/step - loss: 0.3996 - accuracy: 0.8344\n",
      "Epoch 74/100\n",
      "640/640 [==============================] - 1s 1ms/step - loss: 0.3991 - accuracy: 0.8347\n",
      "Epoch 75/100\n",
      "640/640 [==============================] - 1s 1ms/step - loss: 0.3989 - accuracy: 0.8364\n",
      "Epoch 76/100\n",
      "640/640 [==============================] - 1s 1ms/step - loss: 0.3997 - accuracy: 0.8364\n",
      "Epoch 77/100\n",
      "640/640 [==============================] - 1s 1ms/step - loss: 0.3991 - accuracy: 0.8359\n",
      "Epoch 78/100\n",
      "640/640 [==============================] - 1s 1ms/step - loss: 0.3991 - accuracy: 0.8338\n",
      "Epoch 79/100\n",
      "640/640 [==============================] - 1s 1ms/step - loss: 0.3994 - accuracy: 0.8353\n",
      "Epoch 80/100\n",
      "640/640 [==============================] - 1s 1ms/step - loss: 0.3993 - accuracy: 0.8338\n",
      "Epoch 81/100\n",
      "640/640 [==============================] - 1s 1ms/step - loss: 0.4000 - accuracy: 0.8352\n",
      "Epoch 82/100\n",
      "640/640 [==============================] - 1s 1ms/step - loss: 0.3989 - accuracy: 0.8363\n",
      "Epoch 83/100\n",
      "640/640 [==============================] - 1s 1ms/step - loss: 0.3987 - accuracy: 0.8370\n",
      "Epoch 84/100\n",
      "640/640 [==============================] - 1s 1ms/step - loss: 0.3994 - accuracy: 0.8361\n",
      "Epoch 85/100\n",
      "640/640 [==============================] - 1s 1ms/step - loss: 0.3990 - accuracy: 0.8372\n",
      "Epoch 86/100\n",
      "640/640 [==============================] - 1s 1ms/step - loss: 0.3991 - accuracy: 0.8353\n",
      "Epoch 87/100\n",
      "640/640 [==============================] - 1s 1ms/step - loss: 0.3997 - accuracy: 0.8367\n",
      "Epoch 88/100\n",
      "640/640 [==============================] - 1s 1ms/step - loss: 0.3993 - accuracy: 0.8352\n",
      "Epoch 89/100\n",
      "640/640 [==============================] - 1s 1ms/step - loss: 0.3989 - accuracy: 0.8358\n",
      "Epoch 90/100\n",
      "640/640 [==============================] - 1s 1ms/step - loss: 0.3995 - accuracy: 0.8345\n",
      "Epoch 91/100\n",
      "640/640 [==============================] - 1s 1ms/step - loss: 0.3991 - accuracy: 0.8364\n",
      "Epoch 92/100\n",
      "640/640 [==============================] - 1s 1ms/step - loss: 0.3992 - accuracy: 0.8345\n",
      "Epoch 93/100\n",
      "640/640 [==============================] - 1s 1ms/step - loss: 0.3992 - accuracy: 0.8353\n",
      "Epoch 94/100\n",
      "640/640 [==============================] - 1s 1ms/step - loss: 0.3996 - accuracy: 0.8364\n",
      "Epoch 95/100\n",
      "640/640 [==============================] - 1s 2ms/step - loss: 0.3987 - accuracy: 0.8364\n",
      "Epoch 96/100\n",
      "640/640 [==============================] - 1s 1ms/step - loss: 0.3990 - accuracy: 0.8341\n",
      "Epoch 97/100\n",
      "640/640 [==============================] - 1s 1ms/step - loss: 0.3994 - accuracy: 0.8341\n",
      "Epoch 98/100\n",
      "640/640 [==============================] - 1s 2ms/step - loss: 0.3985 - accuracy: 0.8358\n",
      "Epoch 99/100\n",
      "640/640 [==============================] - 1s 1ms/step - loss: 0.3991 - accuracy: 0.8325\n",
      "Epoch 100/100\n",
      "640/640 [==============================] - 1s 1ms/step - loss: 0.3987 - accuracy: 0.8366\n",
      "160/160 [==============================] - 0s 947us/step\n"
     ]
    },
    {
     "name": "stderr",
     "output_type": "stream",
     "text": [
      "WARNING:absl:Found untraced functions such as _update_step_xla while saving (showing 1 of 1). These functions will not be directly callable after loading.\n"
     ]
    },
    {
     "name": "stdout",
     "output_type": "stream",
     "text": [
      "INFO:tensorflow:Assets written to: C:\\Users\\user\\AppData\\Local\\Temp\\tmp27r9cj1l\\assets\n"
     ]
    },
    {
     "name": "stderr",
     "output_type": "stream",
     "text": [
      "INFO:tensorflow:Assets written to: C:\\Users\\user\\AppData\\Local\\Temp\\tmp27r9cj1l\\assets\n"
     ]
    },
    {
     "name": "stdout",
     "output_type": "stream",
     "text": [
      "Epoch 1/100\n",
      "640/640 [==============================] - 1s 1ms/step - loss: 0.4938 - accuracy: 0.7952\n",
      "Epoch 2/100\n",
      "640/640 [==============================] - 1s 1ms/step - loss: 0.4305 - accuracy: 0.7959\n",
      "Epoch 3/100\n",
      "640/640 [==============================] - 1s 1ms/step - loss: 0.4265 - accuracy: 0.7959\n",
      "Epoch 4/100\n",
      "640/640 [==============================] - 1s 1ms/step - loss: 0.4235 - accuracy: 0.7959\n",
      "Epoch 5/100\n",
      "640/640 [==============================] - 1s 1ms/step - loss: 0.4196 - accuracy: 0.8180\n",
      "Epoch 6/100\n",
      "640/640 [==============================] - 1s 1ms/step - loss: 0.4181 - accuracy: 0.8248\n",
      "Epoch 7/100\n",
      "640/640 [==============================] - 1s 2ms/step - loss: 0.4163 - accuracy: 0.8273\n",
      "Epoch 8/100\n",
      "640/640 [==============================] - 1s 1ms/step - loss: 0.4149 - accuracy: 0.8308\n",
      "Epoch 9/100\n",
      "640/640 [==============================] - 1s 1ms/step - loss: 0.4139 - accuracy: 0.8303\n",
      "Epoch 10/100\n",
      "640/640 [==============================] - 1s 1ms/step - loss: 0.4127 - accuracy: 0.8306\n",
      "Epoch 11/100\n",
      "640/640 [==============================] - 1s 1ms/step - loss: 0.4117 - accuracy: 0.8322\n",
      "Epoch 12/100\n",
      "640/640 [==============================] - 1s 1ms/step - loss: 0.4107 - accuracy: 0.8327\n",
      "Epoch 13/100\n",
      "640/640 [==============================] - 1s 1ms/step - loss: 0.4101 - accuracy: 0.8345\n",
      "Epoch 14/100\n",
      "640/640 [==============================] - 1s 1ms/step - loss: 0.4097 - accuracy: 0.8331\n",
      "Epoch 15/100\n",
      "640/640 [==============================] - 1s 1ms/step - loss: 0.4083 - accuracy: 0.8358\n",
      "Epoch 16/100\n",
      "640/640 [==============================] - 1s 1ms/step - loss: 0.4078 - accuracy: 0.8350\n",
      "Epoch 17/100\n",
      "640/640 [==============================] - 1s 1ms/step - loss: 0.4081 - accuracy: 0.8350\n",
      "Epoch 18/100\n",
      "640/640 [==============================] - 1s 1ms/step - loss: 0.4077 - accuracy: 0.8341\n",
      "Epoch 19/100\n",
      "640/640 [==============================] - 1s 1ms/step - loss: 0.4072 - accuracy: 0.8361\n",
      "Epoch 20/100\n",
      "640/640 [==============================] - 1s 1ms/step - loss: 0.4064 - accuracy: 0.8364\n",
      "Epoch 21/100\n",
      "640/640 [==============================] - 1s 1ms/step - loss: 0.4066 - accuracy: 0.8352\n",
      "Epoch 22/100\n",
      "640/640 [==============================] - 1s 1ms/step - loss: 0.4059 - accuracy: 0.8327\n",
      "Epoch 23/100\n",
      "640/640 [==============================] - 1s 1ms/step - loss: 0.4057 - accuracy: 0.8352\n",
      "Epoch 24/100\n",
      "640/640 [==============================] - 1s 1ms/step - loss: 0.4058 - accuracy: 0.8344\n",
      "Epoch 25/100\n",
      "640/640 [==============================] - 1s 1ms/step - loss: 0.4054 - accuracy: 0.8330\n",
      "Epoch 26/100\n",
      "640/640 [==============================] - 1s 1ms/step - loss: 0.4049 - accuracy: 0.8348\n",
      "Epoch 27/100\n",
      "640/640 [==============================] - 1s 1ms/step - loss: 0.4047 - accuracy: 0.8333\n",
      "Epoch 28/100\n",
      "640/640 [==============================] - 1s 1ms/step - loss: 0.4046 - accuracy: 0.8330\n",
      "Epoch 29/100\n",
      "640/640 [==============================] - 1s 1ms/step - loss: 0.4047 - accuracy: 0.8347\n",
      "Epoch 30/100\n",
      "640/640 [==============================] - 1s 1ms/step - loss: 0.4041 - accuracy: 0.8350\n",
      "Epoch 31/100\n",
      "640/640 [==============================] - 1s 1ms/step - loss: 0.4041 - accuracy: 0.8373\n",
      "Epoch 32/100\n",
      "640/640 [==============================] - 1s 1ms/step - loss: 0.4040 - accuracy: 0.8339\n",
      "Epoch 33/100\n",
      "640/640 [==============================] - 1s 1ms/step - loss: 0.4038 - accuracy: 0.8334\n",
      "Epoch 34/100\n",
      "640/640 [==============================] - 1s 1ms/step - loss: 0.4037 - accuracy: 0.8353\n",
      "Epoch 35/100\n",
      "640/640 [==============================] - 1s 1ms/step - loss: 0.4035 - accuracy: 0.8330\n",
      "Epoch 36/100\n",
      "640/640 [==============================] - 1s 1ms/step - loss: 0.4035 - accuracy: 0.8327\n",
      "Epoch 37/100\n",
      "640/640 [==============================] - 1s 1ms/step - loss: 0.4029 - accuracy: 0.8352\n",
      "Epoch 38/100\n",
      "640/640 [==============================] - 1s 1ms/step - loss: 0.4025 - accuracy: 0.8342\n",
      "Epoch 39/100\n",
      "640/640 [==============================] - 1s 2ms/step - loss: 0.4028 - accuracy: 0.8342\n",
      "Epoch 40/100\n",
      "640/640 [==============================] - 1s 1ms/step - loss: 0.4028 - accuracy: 0.8359\n",
      "Epoch 41/100\n",
      "640/640 [==============================] - 1s 2ms/step - loss: 0.4023 - accuracy: 0.8348\n",
      "Epoch 42/100\n",
      "640/640 [==============================] - 1s 1ms/step - loss: 0.4019 - accuracy: 0.8342\n",
      "Epoch 43/100\n",
      "640/640 [==============================] - 1s 1ms/step - loss: 0.4020 - accuracy: 0.8345\n",
      "Epoch 44/100\n",
      "640/640 [==============================] - 1s 1ms/step - loss: 0.4012 - accuracy: 0.8347\n",
      "Epoch 45/100\n",
      "640/640 [==============================] - 1s 1ms/step - loss: 0.4021 - accuracy: 0.8345\n",
      "Epoch 46/100\n",
      "640/640 [==============================] - 1s 1ms/step - loss: 0.4021 - accuracy: 0.8334\n",
      "Epoch 47/100\n",
      "640/640 [==============================] - 1s 1ms/step - loss: 0.4020 - accuracy: 0.8358\n",
      "Epoch 48/100\n",
      "640/640 [==============================] - 1s 1ms/step - loss: 0.4015 - accuracy: 0.8350\n",
      "Epoch 49/100\n",
      "640/640 [==============================] - 1s 1ms/step - loss: 0.4016 - accuracy: 0.8342\n",
      "Epoch 50/100\n",
      "640/640 [==============================] - 1s 1ms/step - loss: 0.4012 - accuracy: 0.8342\n",
      "Epoch 51/100\n",
      "640/640 [==============================] - 1s 1ms/step - loss: 0.4008 - accuracy: 0.8356\n",
      "Epoch 52/100\n",
      "640/640 [==============================] - 1s 1ms/step - loss: 0.4019 - accuracy: 0.8339\n",
      "Epoch 53/100\n",
      "640/640 [==============================] - 1s 1ms/step - loss: 0.4013 - accuracy: 0.8344\n",
      "Epoch 54/100\n",
      "640/640 [==============================] - 1s 1ms/step - loss: 0.4014 - accuracy: 0.8336\n",
      "Epoch 55/100\n",
      "640/640 [==============================] - 1s 1ms/step - loss: 0.4014 - accuracy: 0.8345\n",
      "Epoch 56/100\n",
      "640/640 [==============================] - 1s 1ms/step - loss: 0.4014 - accuracy: 0.8358\n",
      "Epoch 57/100\n",
      "640/640 [==============================] - 1s 1ms/step - loss: 0.4011 - accuracy: 0.8338\n",
      "Epoch 58/100\n",
      "640/640 [==============================] - 1s 1ms/step - loss: 0.4011 - accuracy: 0.8355\n",
      "Epoch 59/100\n",
      "640/640 [==============================] - 1s 1ms/step - loss: 0.4010 - accuracy: 0.8350\n",
      "Epoch 60/100\n",
      "640/640 [==============================] - 1s 1ms/step - loss: 0.4009 - accuracy: 0.8330\n",
      "Epoch 61/100\n",
      "640/640 [==============================] - 1s 1ms/step - loss: 0.4012 - accuracy: 0.8347\n",
      "Epoch 62/100\n",
      "640/640 [==============================] - 1s 1ms/step - loss: 0.4009 - accuracy: 0.8341\n",
      "Epoch 63/100\n",
      "640/640 [==============================] - 1s 1ms/step - loss: 0.4010 - accuracy: 0.8339\n",
      "Epoch 64/100\n",
      "640/640 [==============================] - 1s 1ms/step - loss: 0.4008 - accuracy: 0.8341\n",
      "Epoch 65/100\n",
      "640/640 [==============================] - 1s 1ms/step - loss: 0.4003 - accuracy: 0.8348\n",
      "Epoch 66/100\n",
      "640/640 [==============================] - 1s 1ms/step - loss: 0.4004 - accuracy: 0.8348\n",
      "Epoch 67/100\n",
      "640/640 [==============================] - 1s 1ms/step - loss: 0.4004 - accuracy: 0.8347\n",
      "Epoch 68/100\n",
      "640/640 [==============================] - 1s 1ms/step - loss: 0.4001 - accuracy: 0.8341\n",
      "Epoch 69/100\n",
      "640/640 [==============================] - 1s 2ms/step - loss: 0.4001 - accuracy: 0.8345\n",
      "Epoch 70/100\n",
      "640/640 [==============================] - 1s 1ms/step - loss: 0.4000 - accuracy: 0.8355\n",
      "Epoch 71/100\n",
      "640/640 [==============================] - 1s 1ms/step - loss: 0.3996 - accuracy: 0.8359\n",
      "Epoch 72/100\n",
      "640/640 [==============================] - 1s 2ms/step - loss: 0.4000 - accuracy: 0.8342\n",
      "Epoch 73/100\n",
      "640/640 [==============================] - 1s 1ms/step - loss: 0.3994 - accuracy: 0.8342\n",
      "Epoch 74/100\n",
      "640/640 [==============================] - 1s 1ms/step - loss: 0.4003 - accuracy: 0.8339\n",
      "Epoch 75/100\n",
      "640/640 [==============================] - 1s 1ms/step - loss: 0.3992 - accuracy: 0.8338\n",
      "Epoch 76/100\n",
      "640/640 [==============================] - 1s 2ms/step - loss: 0.3994 - accuracy: 0.8356\n",
      "Epoch 77/100\n",
      "640/640 [==============================] - 1s 2ms/step - loss: 0.3994 - accuracy: 0.8333\n",
      "Epoch 78/100\n",
      "640/640 [==============================] - 1s 2ms/step - loss: 0.3998 - accuracy: 0.8358\n",
      "Epoch 79/100\n",
      "640/640 [==============================] - 1s 2ms/step - loss: 0.3995 - accuracy: 0.8366\n",
      "Epoch 80/100\n",
      "640/640 [==============================] - 1s 2ms/step - loss: 0.3996 - accuracy: 0.8333\n",
      "Epoch 81/100\n",
      "640/640 [==============================] - 1s 1ms/step - loss: 0.3992 - accuracy: 0.8367\n",
      "Epoch 82/100\n",
      "640/640 [==============================] - 1s 1ms/step - loss: 0.3990 - accuracy: 0.8345\n",
      "Epoch 83/100\n",
      "640/640 [==============================] - 1s 1ms/step - loss: 0.3991 - accuracy: 0.8348\n",
      "Epoch 84/100\n",
      "640/640 [==============================] - 1s 1ms/step - loss: 0.3987 - accuracy: 0.8345\n",
      "Epoch 85/100\n",
      "640/640 [==============================] - 1s 1ms/step - loss: 0.3988 - accuracy: 0.8355\n",
      "Epoch 86/100\n",
      "640/640 [==============================] - 1s 1ms/step - loss: 0.3980 - accuracy: 0.8373\n",
      "Epoch 87/100\n",
      "640/640 [==============================] - 1s 1ms/step - loss: 0.3990 - accuracy: 0.8353\n",
      "Epoch 88/100\n",
      "640/640 [==============================] - 1s 1ms/step - loss: 0.3984 - accuracy: 0.8353\n",
      "Epoch 89/100\n",
      "640/640 [==============================] - 1s 1ms/step - loss: 0.3980 - accuracy: 0.8367\n",
      "Epoch 90/100\n",
      "640/640 [==============================] - 1s 1ms/step - loss: 0.3978 - accuracy: 0.8363\n",
      "Epoch 91/100\n",
      "640/640 [==============================] - 1s 1ms/step - loss: 0.3982 - accuracy: 0.8355\n",
      "Epoch 92/100\n",
      "640/640 [==============================] - 1s 2ms/step - loss: 0.3983 - accuracy: 0.8373\n",
      "Epoch 93/100\n",
      "640/640 [==============================] - 1s 1ms/step - loss: 0.3980 - accuracy: 0.8359\n",
      "Epoch 94/100\n",
      "640/640 [==============================] - 1s 1ms/step - loss: 0.3983 - accuracy: 0.8369\n",
      "Epoch 95/100\n",
      "640/640 [==============================] - 1s 1ms/step - loss: 0.3986 - accuracy: 0.8356\n",
      "Epoch 96/100\n",
      "640/640 [==============================] - 1s 1ms/step - loss: 0.3980 - accuracy: 0.8381\n",
      "Epoch 97/100\n",
      "640/640 [==============================] - 1s 1ms/step - loss: 0.3984 - accuracy: 0.8392\n",
      "Epoch 98/100\n",
      "640/640 [==============================] - 1s 1ms/step - loss: 0.3979 - accuracy: 0.8355\n",
      "Epoch 99/100\n",
      "640/640 [==============================] - 1s 1ms/step - loss: 0.3981 - accuracy: 0.8389\n",
      "Epoch 100/100\n",
      "640/640 [==============================] - 1s 2ms/step - loss: 0.3974 - accuracy: 0.8389\n",
      "160/160 [==============================] - 0s 1ms/step\n",
      "WARNING:tensorflow:Detecting that an object or model or tf.train.Checkpoint is being deleted with unrestored values. See the following logs for the specific values in question. To silence these warnings, use `status.expect_partial()`. See https://www.tensorflow.org/api_docs/python/tf/train/Checkpoint#restorefor details about the status object returned by the restore function.\n"
     ]
    },
    {
     "name": "stderr",
     "output_type": "stream",
     "text": [
      "WARNING:tensorflow:Detecting that an object or model or tf.train.Checkpoint is being deleted with unrestored values. See the following logs for the specific values in question. To silence these warnings, use `status.expect_partial()`. See https://www.tensorflow.org/api_docs/python/tf/train/Checkpoint#restorefor details about the status object returned by the restore function.\n"
     ]
    },
    {
     "name": "stdout",
     "output_type": "stream",
     "text": [
      "WARNING:tensorflow:Value in checkpoint could not be found in the restored object: (root).keras_api.metrics.0.total\n"
     ]
    },
    {
     "name": "stderr",
     "output_type": "stream",
     "text": [
      "WARNING:tensorflow:Value in checkpoint could not be found in the restored object: (root).keras_api.metrics.0.total\n"
     ]
    },
    {
     "name": "stdout",
     "output_type": "stream",
     "text": [
      "WARNING:tensorflow:Value in checkpoint could not be found in the restored object: (root).keras_api.metrics.0.count\n"
     ]
    },
    {
     "name": "stderr",
     "output_type": "stream",
     "text": [
      "WARNING:tensorflow:Value in checkpoint could not be found in the restored object: (root).keras_api.metrics.0.count\n"
     ]
    },
    {
     "name": "stdout",
     "output_type": "stream",
     "text": [
      "WARNING:tensorflow:Value in checkpoint could not be found in the restored object: (root).keras_api.metrics.1.total\n"
     ]
    },
    {
     "name": "stderr",
     "output_type": "stream",
     "text": [
      "WARNING:tensorflow:Value in checkpoint could not be found in the restored object: (root).keras_api.metrics.1.total\n"
     ]
    },
    {
     "name": "stdout",
     "output_type": "stream",
     "text": [
      "WARNING:tensorflow:Value in checkpoint could not be found in the restored object: (root).keras_api.metrics.1.count\n"
     ]
    },
    {
     "name": "stderr",
     "output_type": "stream",
     "text": [
      "WARNING:tensorflow:Value in checkpoint could not be found in the restored object: (root).keras_api.metrics.1.count\n"
     ]
    },
    {
     "name": "stdout",
     "output_type": "stream",
     "text": [
      "WARNING:tensorflow:Detecting that an object or model or tf.train.Checkpoint is being deleted with unrestored values. See the following logs for the specific values in question. To silence these warnings, use `status.expect_partial()`. See https://www.tensorflow.org/api_docs/python/tf/train/Checkpoint#restorefor details about the status object returned by the restore function.\n"
     ]
    },
    {
     "name": "stderr",
     "output_type": "stream",
     "text": [
      "WARNING:tensorflow:Detecting that an object or model or tf.train.Checkpoint is being deleted with unrestored values. See the following logs for the specific values in question. To silence these warnings, use `status.expect_partial()`. See https://www.tensorflow.org/api_docs/python/tf/train/Checkpoint#restorefor details about the status object returned by the restore function.\n"
     ]
    },
    {
     "name": "stdout",
     "output_type": "stream",
     "text": [
      "WARNING:tensorflow:Value in checkpoint could not be found in the restored object: (root).keras_api.metrics.0.total\n"
     ]
    },
    {
     "name": "stderr",
     "output_type": "stream",
     "text": [
      "WARNING:tensorflow:Value in checkpoint could not be found in the restored object: (root).keras_api.metrics.0.total\n"
     ]
    },
    {
     "name": "stdout",
     "output_type": "stream",
     "text": [
      "WARNING:tensorflow:Value in checkpoint could not be found in the restored object: (root).keras_api.metrics.0.count\n"
     ]
    },
    {
     "name": "stderr",
     "output_type": "stream",
     "text": [
      "WARNING:tensorflow:Value in checkpoint could not be found in the restored object: (root).keras_api.metrics.0.count\n"
     ]
    },
    {
     "name": "stdout",
     "output_type": "stream",
     "text": [
      "WARNING:tensorflow:Value in checkpoint could not be found in the restored object: (root).keras_api.metrics.1.total\n"
     ]
    },
    {
     "name": "stderr",
     "output_type": "stream",
     "text": [
      "WARNING:tensorflow:Value in checkpoint could not be found in the restored object: (root).keras_api.metrics.1.total\n"
     ]
    },
    {
     "name": "stdout",
     "output_type": "stream",
     "text": [
      "WARNING:tensorflow:Value in checkpoint could not be found in the restored object: (root).keras_api.metrics.1.count\n"
     ]
    },
    {
     "name": "stderr",
     "output_type": "stream",
     "text": [
      "WARNING:tensorflow:Value in checkpoint could not be found in the restored object: (root).keras_api.metrics.1.count\n"
     ]
    },
    {
     "name": "stdout",
     "output_type": "stream",
     "text": [
      "WARNING:tensorflow:Detecting that an object or model or tf.train.Checkpoint is being deleted with unrestored values. See the following logs for the specific values in question. To silence these warnings, use `status.expect_partial()`. See https://www.tensorflow.org/api_docs/python/tf/train/Checkpoint#restorefor details about the status object returned by the restore function.\n"
     ]
    },
    {
     "name": "stderr",
     "output_type": "stream",
     "text": [
      "WARNING:tensorflow:Detecting that an object or model or tf.train.Checkpoint is being deleted with unrestored values. See the following logs for the specific values in question. To silence these warnings, use `status.expect_partial()`. See https://www.tensorflow.org/api_docs/python/tf/train/Checkpoint#restorefor details about the status object returned by the restore function.\n"
     ]
    },
    {
     "name": "stdout",
     "output_type": "stream",
     "text": [
      "WARNING:tensorflow:Value in checkpoint could not be found in the restored object: (root).keras_api.metrics.0.total\n"
     ]
    },
    {
     "name": "stderr",
     "output_type": "stream",
     "text": [
      "WARNING:tensorflow:Value in checkpoint could not be found in the restored object: (root).keras_api.metrics.0.total\n"
     ]
    },
    {
     "name": "stdout",
     "output_type": "stream",
     "text": [
      "WARNING:tensorflow:Value in checkpoint could not be found in the restored object: (root).keras_api.metrics.0.count\n"
     ]
    },
    {
     "name": "stderr",
     "output_type": "stream",
     "text": [
      "WARNING:tensorflow:Value in checkpoint could not be found in the restored object: (root).keras_api.metrics.0.count\n"
     ]
    },
    {
     "name": "stdout",
     "output_type": "stream",
     "text": [
      "WARNING:tensorflow:Value in checkpoint could not be found in the restored object: (root).keras_api.metrics.1.total\n"
     ]
    },
    {
     "name": "stderr",
     "output_type": "stream",
     "text": [
      "WARNING:tensorflow:Value in checkpoint could not be found in the restored object: (root).keras_api.metrics.1.total\n"
     ]
    },
    {
     "name": "stdout",
     "output_type": "stream",
     "text": [
      "WARNING:tensorflow:Value in checkpoint could not be found in the restored object: (root).keras_api.metrics.1.count\n"
     ]
    },
    {
     "name": "stderr",
     "output_type": "stream",
     "text": [
      "WARNING:tensorflow:Value in checkpoint could not be found in the restored object: (root).keras_api.metrics.1.count\n"
     ]
    },
    {
     "name": "stdout",
     "output_type": "stream",
     "text": [
      "WARNING:tensorflow:Detecting that an object or model or tf.train.Checkpoint is being deleted with unrestored values. See the following logs for the specific values in question. To silence these warnings, use `status.expect_partial()`. See https://www.tensorflow.org/api_docs/python/tf/train/Checkpoint#restorefor details about the status object returned by the restore function.\n"
     ]
    },
    {
     "name": "stderr",
     "output_type": "stream",
     "text": [
      "WARNING:tensorflow:Detecting that an object or model or tf.train.Checkpoint is being deleted with unrestored values. See the following logs for the specific values in question. To silence these warnings, use `status.expect_partial()`. See https://www.tensorflow.org/api_docs/python/tf/train/Checkpoint#restorefor details about the status object returned by the restore function.\n"
     ]
    },
    {
     "name": "stdout",
     "output_type": "stream",
     "text": [
      "WARNING:tensorflow:Value in checkpoint could not be found in the restored object: (root).keras_api.metrics.0.total\n"
     ]
    },
    {
     "name": "stderr",
     "output_type": "stream",
     "text": [
      "WARNING:tensorflow:Value in checkpoint could not be found in the restored object: (root).keras_api.metrics.0.total\n"
     ]
    },
    {
     "name": "stdout",
     "output_type": "stream",
     "text": [
      "WARNING:tensorflow:Value in checkpoint could not be found in the restored object: (root).keras_api.metrics.0.count\n"
     ]
    },
    {
     "name": "stderr",
     "output_type": "stream",
     "text": [
      "WARNING:tensorflow:Value in checkpoint could not be found in the restored object: (root).keras_api.metrics.0.count\n"
     ]
    },
    {
     "name": "stdout",
     "output_type": "stream",
     "text": [
      "WARNING:tensorflow:Value in checkpoint could not be found in the restored object: (root).keras_api.metrics.1.total\n"
     ]
    },
    {
     "name": "stderr",
     "output_type": "stream",
     "text": [
      "WARNING:tensorflow:Value in checkpoint could not be found in the restored object: (root).keras_api.metrics.1.total\n"
     ]
    },
    {
     "name": "stdout",
     "output_type": "stream",
     "text": [
      "WARNING:tensorflow:Value in checkpoint could not be found in the restored object: (root).keras_api.metrics.1.count\n"
     ]
    },
    {
     "name": "stderr",
     "output_type": "stream",
     "text": [
      "WARNING:tensorflow:Value in checkpoint could not be found in the restored object: (root).keras_api.metrics.1.count\n",
      "WARNING:absl:Found untraced functions such as _update_step_xla while saving (showing 1 of 1). These functions will not be directly callable after loading.\n"
     ]
    },
    {
     "name": "stdout",
     "output_type": "stream",
     "text": [
      "INFO:tensorflow:Assets written to: C:\\Users\\user\\AppData\\Local\\Temp\\tmpzo6yaxjy\\assets\n"
     ]
    },
    {
     "name": "stderr",
     "output_type": "stream",
     "text": [
      "INFO:tensorflow:Assets written to: C:\\Users\\user\\AppData\\Local\\Temp\\tmpzo6yaxjy\\assets\n"
     ]
    },
    {
     "name": "stdout",
     "output_type": "stream",
     "text": [
      "Epoch 1/100\n",
      "640/640 [==============================] - 1s 1ms/step - loss: 0.4972 - accuracy: 0.7956\n",
      "Epoch 2/100\n",
      "640/640 [==============================] - 1s 2ms/step - loss: 0.4306 - accuracy: 0.7961\n",
      "Epoch 3/100\n",
      "640/640 [==============================] - 1s 1ms/step - loss: 0.4266 - accuracy: 0.7961\n",
      "Epoch 4/100\n",
      "640/640 [==============================] - 1s 1ms/step - loss: 0.4221 - accuracy: 0.7961\n",
      "Epoch 5/100\n",
      "640/640 [==============================] - 1s 2ms/step - loss: 0.4195 - accuracy: 0.8180\n",
      "Epoch 6/100\n",
      "640/640 [==============================] - 1s 2ms/step - loss: 0.4169 - accuracy: 0.8242\n",
      "Epoch 7/100\n",
      "640/640 [==============================] - 1s 1ms/step - loss: 0.4151 - accuracy: 0.8289\n",
      "Epoch 8/100\n",
      "640/640 [==============================] - 1s 1ms/step - loss: 0.4140 - accuracy: 0.8308\n",
      "Epoch 9/100\n",
      "640/640 [==============================] - 1s 1ms/step - loss: 0.4126 - accuracy: 0.8317\n",
      "Epoch 10/100\n",
      "640/640 [==============================] - 1s 1ms/step - loss: 0.4116 - accuracy: 0.8325\n",
      "Epoch 11/100\n",
      "640/640 [==============================] - 1s 1ms/step - loss: 0.4107 - accuracy: 0.8328\n",
      "Epoch 12/100\n",
      "640/640 [==============================] - 1s 1ms/step - loss: 0.4098 - accuracy: 0.8350\n",
      "Epoch 13/100\n",
      "640/640 [==============================] - 1s 1ms/step - loss: 0.4091 - accuracy: 0.8325\n",
      "Epoch 14/100\n",
      "640/640 [==============================] - 1s 1ms/step - loss: 0.4086 - accuracy: 0.8328\n",
      "Epoch 15/100\n",
      "640/640 [==============================] - 1s 1ms/step - loss: 0.4082 - accuracy: 0.8348\n",
      "Epoch 16/100\n",
      "640/640 [==============================] - 1s 1ms/step - loss: 0.4076 - accuracy: 0.8336\n",
      "Epoch 17/100\n",
      "640/640 [==============================] - 1s 2ms/step - loss: 0.4073 - accuracy: 0.8352\n",
      "Epoch 18/100\n",
      "640/640 [==============================] - 1s 1ms/step - loss: 0.4070 - accuracy: 0.8350\n",
      "Epoch 19/100\n",
      "640/640 [==============================] - 1s 1ms/step - loss: 0.4065 - accuracy: 0.8355\n",
      "Epoch 20/100\n",
      "640/640 [==============================] - 1s 2ms/step - loss: 0.4063 - accuracy: 0.8338\n",
      "Epoch 21/100\n",
      "640/640 [==============================] - 1s 1ms/step - loss: 0.4062 - accuracy: 0.8367\n",
      "Epoch 22/100\n",
      "640/640 [==============================] - 1s 1ms/step - loss: 0.4052 - accuracy: 0.8358\n",
      "Epoch 23/100\n",
      "640/640 [==============================] - 1s 1ms/step - loss: 0.4052 - accuracy: 0.8338\n",
      "Epoch 24/100\n",
      "640/640 [==============================] - 1s 1ms/step - loss: 0.4047 - accuracy: 0.8367\n",
      "Epoch 25/100\n",
      "640/640 [==============================] - 1s 1ms/step - loss: 0.4045 - accuracy: 0.8341\n",
      "Epoch 26/100\n",
      "640/640 [==============================] - 1s 1ms/step - loss: 0.4044 - accuracy: 0.8375\n",
      "Epoch 27/100\n",
      "640/640 [==============================] - 1s 1ms/step - loss: 0.4037 - accuracy: 0.8347\n",
      "Epoch 28/100\n",
      "640/640 [==============================] - 1s 1ms/step - loss: 0.4036 - accuracy: 0.8352\n",
      "Epoch 29/100\n",
      "640/640 [==============================] - 1s 1ms/step - loss: 0.4038 - accuracy: 0.8358\n",
      "Epoch 30/100\n",
      "640/640 [==============================] - 1s 1ms/step - loss: 0.4035 - accuracy: 0.8361\n",
      "Epoch 31/100\n",
      "640/640 [==============================] - 1s 1ms/step - loss: 0.4030 - accuracy: 0.8355\n",
      "Epoch 32/100\n",
      "640/640 [==============================] - 1s 1ms/step - loss: 0.4030 - accuracy: 0.8372\n",
      "Epoch 33/100\n",
      "640/640 [==============================] - 1s 1ms/step - loss: 0.4026 - accuracy: 0.8352\n",
      "Epoch 34/100\n",
      "640/640 [==============================] - 1s 1ms/step - loss: 0.4027 - accuracy: 0.8348\n",
      "Epoch 35/100\n",
      "640/640 [==============================] - 1s 1ms/step - loss: 0.4020 - accuracy: 0.8348\n",
      "Epoch 36/100\n",
      "640/640 [==============================] - 1s 1ms/step - loss: 0.4022 - accuracy: 0.8339\n",
      "Epoch 37/100\n",
      "640/640 [==============================] - 1s 1ms/step - loss: 0.4021 - accuracy: 0.8355\n",
      "Epoch 38/100\n",
      "640/640 [==============================] - 1s 1ms/step - loss: 0.4015 - accuracy: 0.8359\n",
      "Epoch 39/100\n",
      "640/640 [==============================] - 1s 1ms/step - loss: 0.4015 - accuracy: 0.8353\n",
      "Epoch 40/100\n",
      "640/640 [==============================] - 1s 1ms/step - loss: 0.4016 - accuracy: 0.8359\n",
      "Epoch 41/100\n",
      "640/640 [==============================] - 1s 1ms/step - loss: 0.4013 - accuracy: 0.8344\n",
      "Epoch 42/100\n",
      "640/640 [==============================] - 1s 1ms/step - loss: 0.4014 - accuracy: 0.8363\n",
      "Epoch 43/100\n",
      "640/640 [==============================] - 1s 1ms/step - loss: 0.4010 - accuracy: 0.8361\n",
      "Epoch 44/100\n",
      "640/640 [==============================] - 1s 1ms/step - loss: 0.4006 - accuracy: 0.8358\n",
      "Epoch 45/100\n",
      "640/640 [==============================] - 1s 1ms/step - loss: 0.4013 - accuracy: 0.8364\n",
      "Epoch 46/100\n",
      "640/640 [==============================] - 1s 1ms/step - loss: 0.4010 - accuracy: 0.8367\n",
      "Epoch 47/100\n",
      "640/640 [==============================] - 1s 1ms/step - loss: 0.4002 - accuracy: 0.8358\n",
      "Epoch 48/100\n",
      "640/640 [==============================] - 1s 1ms/step - loss: 0.4008 - accuracy: 0.8358\n",
      "Epoch 49/100\n",
      "640/640 [==============================] - 1s 1ms/step - loss: 0.4007 - accuracy: 0.8361\n",
      "Epoch 50/100\n",
      "640/640 [==============================] - 1s 1ms/step - loss: 0.3999 - accuracy: 0.8363\n",
      "Epoch 51/100\n",
      "640/640 [==============================] - 1s 1ms/step - loss: 0.4004 - accuracy: 0.8347\n",
      "Epoch 52/100\n",
      "640/640 [==============================] - 1s 1ms/step - loss: 0.4006 - accuracy: 0.8356\n",
      "Epoch 53/100\n",
      "640/640 [==============================] - 1s 1ms/step - loss: 0.4000 - accuracy: 0.8350\n",
      "Epoch 54/100\n",
      "640/640 [==============================] - 1s 1ms/step - loss: 0.4006 - accuracy: 0.8345\n",
      "Epoch 55/100\n",
      "640/640 [==============================] - 1s 1ms/step - loss: 0.4001 - accuracy: 0.8359\n",
      "Epoch 56/100\n",
      "640/640 [==============================] - 1s 1ms/step - loss: 0.4008 - accuracy: 0.8336\n",
      "Epoch 57/100\n",
      "640/640 [==============================] - 1s 1ms/step - loss: 0.4006 - accuracy: 0.8363\n",
      "Epoch 58/100\n",
      "640/640 [==============================] - 1s 1ms/step - loss: 0.4002 - accuracy: 0.8370\n",
      "Epoch 59/100\n",
      "640/640 [==============================] - 1s 1ms/step - loss: 0.4002 - accuracy: 0.8356\n",
      "Epoch 60/100\n",
      "640/640 [==============================] - 1s 1ms/step - loss: 0.4003 - accuracy: 0.8358\n",
      "Epoch 61/100\n",
      "640/640 [==============================] - 1s 1ms/step - loss: 0.3994 - accuracy: 0.8342\n",
      "Epoch 62/100\n",
      "640/640 [==============================] - 1s 1ms/step - loss: 0.4004 - accuracy: 0.8353\n",
      "Epoch 63/100\n",
      "640/640 [==============================] - 1s 1ms/step - loss: 0.4001 - accuracy: 0.8367\n",
      "Epoch 64/100\n",
      "640/640 [==============================] - 1s 1ms/step - loss: 0.3998 - accuracy: 0.8367\n",
      "Epoch 65/100\n",
      "640/640 [==============================] - 1s 1ms/step - loss: 0.4000 - accuracy: 0.8352\n",
      "Epoch 66/100\n",
      "640/640 [==============================] - 1s 1ms/step - loss: 0.3996 - accuracy: 0.8358\n",
      "Epoch 67/100\n",
      "640/640 [==============================] - 1s 1ms/step - loss: 0.4000 - accuracy: 0.8352\n",
      "Epoch 68/100\n",
      "640/640 [==============================] - 1s 1ms/step - loss: 0.3999 - accuracy: 0.8353\n",
      "Epoch 69/100\n",
      "640/640 [==============================] - 1s 1ms/step - loss: 0.3997 - accuracy: 0.8348\n",
      "Epoch 70/100\n",
      "640/640 [==============================] - 1s 1ms/step - loss: 0.3996 - accuracy: 0.8363\n",
      "Epoch 71/100\n",
      "640/640 [==============================] - 1s 1ms/step - loss: 0.3997 - accuracy: 0.8366\n",
      "Epoch 72/100\n",
      "640/640 [==============================] - 1s 1ms/step - loss: 0.3999 - accuracy: 0.8348\n",
      "Epoch 73/100\n",
      "640/640 [==============================] - 1s 1ms/step - loss: 0.3989 - accuracy: 0.8364\n",
      "Epoch 74/100\n",
      "640/640 [==============================] - 1s 1ms/step - loss: 0.3992 - accuracy: 0.8353\n",
      "Epoch 75/100\n",
      "640/640 [==============================] - 1s 2ms/step - loss: 0.3998 - accuracy: 0.8359\n",
      "Epoch 76/100\n",
      "640/640 [==============================] - 1s 1ms/step - loss: 0.3997 - accuracy: 0.8361\n",
      "Epoch 77/100\n",
      "640/640 [==============================] - 1s 1ms/step - loss: 0.4002 - accuracy: 0.8341\n",
      "Epoch 78/100\n",
      "640/640 [==============================] - 1s 1ms/step - loss: 0.3994 - accuracy: 0.8345\n",
      "Epoch 79/100\n",
      "640/640 [==============================] - 1s 1ms/step - loss: 0.3988 - accuracy: 0.8370\n",
      "Epoch 80/100\n",
      "640/640 [==============================] - 1s 1ms/step - loss: 0.3995 - accuracy: 0.8364\n",
      "Epoch 81/100\n",
      "640/640 [==============================] - 1s 1ms/step - loss: 0.3981 - accuracy: 0.8356\n",
      "Epoch 82/100\n",
      "640/640 [==============================] - 1s 1ms/step - loss: 0.3996 - accuracy: 0.8366\n",
      "Epoch 83/100\n",
      "640/640 [==============================] - 1s 1ms/step - loss: 0.3997 - accuracy: 0.8359\n",
      "Epoch 84/100\n",
      "640/640 [==============================] - 1s 1ms/step - loss: 0.3993 - accuracy: 0.8355\n",
      "Epoch 85/100\n",
      "640/640 [==============================] - 1s 1ms/step - loss: 0.3990 - accuracy: 0.8348\n",
      "Epoch 86/100\n",
      "640/640 [==============================] - 1s 1ms/step - loss: 0.3993 - accuracy: 0.8358\n",
      "Epoch 87/100\n",
      "640/640 [==============================] - 1s 1ms/step - loss: 0.3995 - accuracy: 0.8359\n",
      "Epoch 88/100\n",
      "640/640 [==============================] - 1s 1ms/step - loss: 0.3994 - accuracy: 0.8358\n",
      "Epoch 89/100\n",
      "640/640 [==============================] - 1s 1ms/step - loss: 0.3997 - accuracy: 0.8338\n",
      "Epoch 90/100\n",
      "640/640 [==============================] - 1s 1ms/step - loss: 0.3993 - accuracy: 0.8353\n",
      "Epoch 91/100\n",
      "640/640 [==============================] - 1s 1ms/step - loss: 0.3992 - accuracy: 0.8356\n",
      "Epoch 92/100\n",
      "640/640 [==============================] - 1s 1ms/step - loss: 0.3995 - accuracy: 0.8336\n",
      "Epoch 93/100\n",
      "640/640 [==============================] - 1s 1ms/step - loss: 0.3997 - accuracy: 0.8366\n",
      "Epoch 94/100\n",
      "640/640 [==============================] - 1s 1ms/step - loss: 0.3992 - accuracy: 0.8364\n",
      "Epoch 95/100\n",
      "640/640 [==============================] - 1s 1ms/step - loss: 0.3991 - accuracy: 0.8353\n",
      "Epoch 96/100\n",
      "640/640 [==============================] - 1s 1ms/step - loss: 0.3990 - accuracy: 0.8347\n",
      "Epoch 97/100\n",
      "640/640 [==============================] - 1s 1ms/step - loss: 0.3995 - accuracy: 0.8353\n",
      "Epoch 98/100\n",
      "640/640 [==============================] - 1s 1ms/step - loss: 0.3987 - accuracy: 0.8372\n",
      "Epoch 99/100\n",
      "640/640 [==============================] - 1s 1ms/step - loss: 0.3991 - accuracy: 0.8345\n",
      "Epoch 100/100\n",
      "640/640 [==============================] - 1s 1ms/step - loss: 0.3992 - accuracy: 0.8363\n",
      "160/160 [==============================] - 0s 1ms/step\n"
     ]
    },
    {
     "name": "stderr",
     "output_type": "stream",
     "text": [
      "WARNING:absl:Found untraced functions such as _update_step_xla while saving (showing 1 of 1). These functions will not be directly callable after loading.\n"
     ]
    },
    {
     "name": "stdout",
     "output_type": "stream",
     "text": [
      "INFO:tensorflow:Assets written to: C:\\Users\\user\\AppData\\Local\\Temp\\tmp34vffc48\\assets\n"
     ]
    },
    {
     "name": "stderr",
     "output_type": "stream",
     "text": [
      "INFO:tensorflow:Assets written to: C:\\Users\\user\\AppData\\Local\\Temp\\tmp34vffc48\\assets\n"
     ]
    },
    {
     "name": "stdout",
     "output_type": "stream",
     "text": [
      "Epoch 1/100\n",
      "640/640 [==============================] - 1s 1ms/step - loss: 0.4911 - accuracy: 0.7953\n",
      "Epoch 2/100\n",
      "640/640 [==============================] - 1s 1ms/step - loss: 0.4294 - accuracy: 0.7961\n",
      "Epoch 3/100\n",
      "640/640 [==============================] - 1s 1ms/step - loss: 0.4265 - accuracy: 0.7961\n",
      "Epoch 4/100\n",
      "640/640 [==============================] - 1s 1ms/step - loss: 0.4237 - accuracy: 0.7961\n",
      "Epoch 5/100\n",
      "640/640 [==============================] - 1s 1ms/step - loss: 0.4208 - accuracy: 0.8062\n",
      "Epoch 6/100\n",
      "640/640 [==============================] - 1s 1ms/step - loss: 0.4176 - accuracy: 0.8219\n",
      "Epoch 7/100\n",
      "640/640 [==============================] - 1s 1ms/step - loss: 0.4157 - accuracy: 0.8250\n",
      "Epoch 8/100\n",
      "640/640 [==============================] - 1s 1ms/step - loss: 0.4138 - accuracy: 0.8281\n",
      "Epoch 9/100\n",
      "640/640 [==============================] - 1s 1ms/step - loss: 0.4122 - accuracy: 0.8308\n",
      "Epoch 10/100\n",
      "640/640 [==============================] - 1s 1ms/step - loss: 0.4110 - accuracy: 0.8317\n",
      "Epoch 11/100\n",
      "640/640 [==============================] - 1s 1ms/step - loss: 0.4106 - accuracy: 0.8327\n",
      "Epoch 12/100\n",
      "640/640 [==============================] - 1s 1ms/step - loss: 0.4095 - accuracy: 0.8327\n",
      "Epoch 13/100\n",
      "640/640 [==============================] - 1s 1ms/step - loss: 0.4084 - accuracy: 0.8328\n",
      "Epoch 14/100\n",
      "640/640 [==============================] - 1s 1ms/step - loss: 0.4077 - accuracy: 0.8344\n",
      "Epoch 15/100\n",
      "640/640 [==============================] - 1s 1ms/step - loss: 0.4073 - accuracy: 0.8328\n",
      "Epoch 16/100\n",
      "640/640 [==============================] - 1s 1ms/step - loss: 0.4066 - accuracy: 0.8313\n",
      "Epoch 17/100\n",
      "640/640 [==============================] - 1s 1ms/step - loss: 0.4061 - accuracy: 0.8336\n",
      "Epoch 18/100\n",
      "640/640 [==============================] - 1s 1ms/step - loss: 0.4059 - accuracy: 0.8328\n",
      "Epoch 19/100\n",
      "640/640 [==============================] - 1s 1ms/step - loss: 0.4052 - accuracy: 0.8339\n",
      "Epoch 20/100\n",
      "640/640 [==============================] - 1s 1ms/step - loss: 0.4045 - accuracy: 0.8327\n",
      "Epoch 21/100\n",
      "640/640 [==============================] - 1s 1ms/step - loss: 0.4045 - accuracy: 0.8350\n",
      "Epoch 22/100\n",
      "640/640 [==============================] - 1s 1ms/step - loss: 0.4038 - accuracy: 0.8352\n",
      "Epoch 23/100\n",
      "640/640 [==============================] - 1s 1ms/step - loss: 0.4033 - accuracy: 0.8347\n",
      "Epoch 24/100\n",
      "640/640 [==============================] - 1s 2ms/step - loss: 0.4033 - accuracy: 0.8339\n",
      "Epoch 25/100\n",
      "640/640 [==============================] - 1s 1ms/step - loss: 0.4034 - accuracy: 0.8336\n",
      "Epoch 26/100\n",
      "640/640 [==============================] - 1s 1ms/step - loss: 0.4028 - accuracy: 0.8323\n",
      "Epoch 27/100\n",
      "640/640 [==============================] - 1s 1ms/step - loss: 0.4026 - accuracy: 0.8347\n",
      "Epoch 28/100\n",
      "640/640 [==============================] - 1s 1ms/step - loss: 0.4028 - accuracy: 0.8336\n",
      "Epoch 29/100\n",
      "640/640 [==============================] - 1s 1ms/step - loss: 0.4021 - accuracy: 0.8347\n",
      "Epoch 30/100\n",
      "640/640 [==============================] - 1s 1ms/step - loss: 0.4023 - accuracy: 0.8330\n",
      "Epoch 31/100\n",
      "640/640 [==============================] - 1s 1ms/step - loss: 0.4018 - accuracy: 0.8350\n",
      "Epoch 32/100\n",
      "640/640 [==============================] - 1s 1ms/step - loss: 0.4019 - accuracy: 0.8344\n",
      "Epoch 33/100\n",
      "640/640 [==============================] - 1s 1ms/step - loss: 0.4018 - accuracy: 0.8352\n",
      "Epoch 34/100\n",
      "640/640 [==============================] - 1s 1ms/step - loss: 0.4011 - accuracy: 0.8358\n",
      "Epoch 35/100\n",
      "640/640 [==============================] - 1s 1ms/step - loss: 0.4016 - accuracy: 0.8342\n",
      "Epoch 36/100\n",
      "640/640 [==============================] - 1s 1ms/step - loss: 0.4018 - accuracy: 0.8344\n",
      "Epoch 37/100\n",
      "640/640 [==============================] - 1s 1ms/step - loss: 0.4009 - accuracy: 0.8342\n",
      "Epoch 38/100\n",
      "640/640 [==============================] - 1s 1ms/step - loss: 0.4012 - accuracy: 0.8353\n",
      "Epoch 39/100\n",
      "640/640 [==============================] - 1s 1ms/step - loss: 0.4010 - accuracy: 0.8367\n",
      "Epoch 40/100\n",
      "640/640 [==============================] - 1s 1ms/step - loss: 0.4013 - accuracy: 0.8355\n",
      "Epoch 41/100\n",
      "640/640 [==============================] - 1s 1ms/step - loss: 0.4010 - accuracy: 0.8350\n",
      "Epoch 42/100\n",
      "640/640 [==============================] - 1s 1ms/step - loss: 0.4007 - accuracy: 0.8352\n",
      "Epoch 43/100\n",
      "640/640 [==============================] - 1s 1ms/step - loss: 0.4013 - accuracy: 0.8348\n",
      "Epoch 44/100\n",
      "640/640 [==============================] - 1s 1ms/step - loss: 0.4009 - accuracy: 0.8338\n",
      "Epoch 45/100\n",
      "640/640 [==============================] - 1s 1ms/step - loss: 0.4004 - accuracy: 0.8353\n",
      "Epoch 46/100\n",
      "640/640 [==============================] - 1s 1ms/step - loss: 0.4007 - accuracy: 0.8358\n",
      "Epoch 47/100\n",
      "640/640 [==============================] - 1s 1ms/step - loss: 0.4005 - accuracy: 0.8359\n",
      "Epoch 48/100\n",
      "640/640 [==============================] - 1s 1ms/step - loss: 0.4001 - accuracy: 0.8353\n",
      "Epoch 49/100\n",
      "640/640 [==============================] - 1s 2ms/step - loss: 0.4007 - accuracy: 0.8355\n",
      "Epoch 50/100\n",
      "640/640 [==============================] - 1s 1ms/step - loss: 0.4004 - accuracy: 0.8352\n",
      "Epoch 51/100\n",
      "640/640 [==============================] - 1s 1ms/step - loss: 0.4003 - accuracy: 0.8347\n",
      "Epoch 52/100\n",
      "640/640 [==============================] - 1s 1ms/step - loss: 0.4004 - accuracy: 0.8345\n",
      "Epoch 53/100\n",
      "640/640 [==============================] - 1s 1ms/step - loss: 0.4005 - accuracy: 0.8355\n",
      "Epoch 54/100\n",
      "640/640 [==============================] - 1s 1ms/step - loss: 0.4003 - accuracy: 0.8364\n",
      "Epoch 55/100\n",
      "640/640 [==============================] - 1s 1ms/step - loss: 0.4001 - accuracy: 0.8353\n",
      "Epoch 56/100\n",
      "640/640 [==============================] - 1s 2ms/step - loss: 0.4002 - accuracy: 0.8359\n",
      "Epoch 57/100\n",
      "640/640 [==============================] - 1s 2ms/step - loss: 0.4003 - accuracy: 0.8356\n",
      "Epoch 58/100\n",
      "640/640 [==============================] - 1s 1ms/step - loss: 0.3991 - accuracy: 0.8373\n",
      "Epoch 59/100\n",
      "640/640 [==============================] - 1s 2ms/step - loss: 0.4003 - accuracy: 0.8352\n",
      "Epoch 60/100\n",
      "640/640 [==============================] - 1s 1ms/step - loss: 0.4002 - accuracy: 0.8353\n",
      "Epoch 61/100\n",
      "640/640 [==============================] - 1s 1ms/step - loss: 0.4001 - accuracy: 0.8350\n",
      "Epoch 62/100\n",
      "640/640 [==============================] - 1s 1ms/step - loss: 0.4002 - accuracy: 0.8373\n",
      "Epoch 63/100\n",
      "640/640 [==============================] - 1s 1ms/step - loss: 0.3998 - accuracy: 0.8353\n",
      "Epoch 64/100\n",
      "640/640 [==============================] - 1s 1ms/step - loss: 0.4001 - accuracy: 0.8359\n",
      "Epoch 65/100\n",
      "640/640 [==============================] - 1s 1ms/step - loss: 0.4000 - accuracy: 0.8355\n",
      "Epoch 66/100\n",
      "640/640 [==============================] - 1s 1ms/step - loss: 0.3998 - accuracy: 0.8345\n",
      "Epoch 67/100\n",
      "640/640 [==============================] - 1s 1ms/step - loss: 0.4001 - accuracy: 0.8352\n",
      "Epoch 68/100\n",
      "640/640 [==============================] - 1s 1ms/step - loss: 0.3999 - accuracy: 0.8359\n",
      "Epoch 69/100\n",
      "640/640 [==============================] - 1s 1ms/step - loss: 0.3997 - accuracy: 0.8353\n",
      "Epoch 70/100\n",
      "640/640 [==============================] - 1s 1ms/step - loss: 0.3998 - accuracy: 0.8363\n",
      "Epoch 71/100\n",
      "640/640 [==============================] - 1s 1ms/step - loss: 0.4000 - accuracy: 0.8336\n",
      "Epoch 72/100\n",
      "640/640 [==============================] - 1s 1ms/step - loss: 0.4003 - accuracy: 0.8344\n",
      "Epoch 73/100\n",
      "640/640 [==============================] - 1s 1ms/step - loss: 0.3997 - accuracy: 0.8356\n",
      "Epoch 74/100\n",
      "640/640 [==============================] - 1s 1ms/step - loss: 0.3999 - accuracy: 0.8344\n",
      "Epoch 75/100\n",
      "640/640 [==============================] - 1s 1ms/step - loss: 0.3999 - accuracy: 0.8341\n",
      "Epoch 76/100\n",
      "640/640 [==============================] - 1s 1ms/step - loss: 0.3993 - accuracy: 0.8350\n",
      "Epoch 77/100\n",
      "640/640 [==============================] - 1s 1ms/step - loss: 0.3994 - accuracy: 0.8348\n",
      "Epoch 78/100\n",
      "640/640 [==============================] - 1s 1ms/step - loss: 0.3996 - accuracy: 0.8348\n",
      "Epoch 79/100\n",
      "640/640 [==============================] - 1s 1ms/step - loss: 0.4006 - accuracy: 0.8339\n",
      "Epoch 80/100\n",
      "640/640 [==============================] - 1s 1ms/step - loss: 0.3995 - accuracy: 0.8345\n",
      "Epoch 81/100\n",
      "640/640 [==============================] - 1s 1ms/step - loss: 0.3998 - accuracy: 0.8361\n",
      "Epoch 82/100\n",
      "640/640 [==============================] - 1s 1ms/step - loss: 0.3995 - accuracy: 0.8338\n",
      "Epoch 83/100\n",
      "640/640 [==============================] - 1s 1ms/step - loss: 0.3994 - accuracy: 0.8361\n",
      "Epoch 84/100\n",
      "640/640 [==============================] - 1s 1ms/step - loss: 0.3995 - accuracy: 0.8350\n",
      "Epoch 85/100\n",
      "640/640 [==============================] - 1s 1ms/step - loss: 0.4002 - accuracy: 0.8347\n",
      "Epoch 86/100\n",
      "640/640 [==============================] - 1s 2ms/step - loss: 0.3991 - accuracy: 0.8369\n",
      "Epoch 87/100\n",
      "640/640 [==============================] - 1s 2ms/step - loss: 0.3990 - accuracy: 0.8356\n",
      "Epoch 88/100\n",
      "640/640 [==============================] - 1s 1ms/step - loss: 0.3996 - accuracy: 0.8359\n",
      "Epoch 89/100\n",
      "640/640 [==============================] - 1s 2ms/step - loss: 0.3997 - accuracy: 0.8339\n",
      "Epoch 90/100\n",
      "640/640 [==============================] - 1s 1ms/step - loss: 0.3997 - accuracy: 0.8352\n",
      "Epoch 91/100\n",
      "640/640 [==============================] - 1s 1ms/step - loss: 0.3992 - accuracy: 0.8369\n",
      "Epoch 92/100\n",
      "640/640 [==============================] - 1s 2ms/step - loss: 0.3994 - accuracy: 0.8350\n",
      "Epoch 93/100\n",
      "640/640 [==============================] - 1s 2ms/step - loss: 0.3999 - accuracy: 0.8369\n",
      "Epoch 94/100\n",
      "640/640 [==============================] - 1s 1ms/step - loss: 0.3994 - accuracy: 0.8344\n",
      "Epoch 95/100\n",
      "640/640 [==============================] - 1s 1ms/step - loss: 0.3996 - accuracy: 0.8353\n",
      "Epoch 96/100\n",
      "640/640 [==============================] - 1s 2ms/step - loss: 0.3997 - accuracy: 0.8344\n",
      "Epoch 97/100\n",
      "640/640 [==============================] - 1s 1ms/step - loss: 0.3998 - accuracy: 0.8370\n",
      "Epoch 98/100\n",
      "640/640 [==============================] - 1s 1ms/step - loss: 0.3994 - accuracy: 0.8339\n",
      "Epoch 99/100\n",
      "640/640 [==============================] - 1s 1ms/step - loss: 0.3995 - accuracy: 0.8367\n",
      "Epoch 100/100\n",
      "640/640 [==============================] - 1s 1ms/step - loss: 0.3994 - accuracy: 0.8338\n",
      "160/160 [==============================] - 0s 1ms/step\n"
     ]
    },
    {
     "name": "stderr",
     "output_type": "stream",
     "text": [
      "WARNING:absl:Found untraced functions such as _update_step_xla while saving (showing 1 of 1). These functions will not be directly callable after loading.\n"
     ]
    },
    {
     "name": "stdout",
     "output_type": "stream",
     "text": [
      "INFO:tensorflow:Assets written to: C:\\Users\\user\\AppData\\Local\\Temp\\tmpgejy405u\\assets\n"
     ]
    },
    {
     "name": "stderr",
     "output_type": "stream",
     "text": [
      "INFO:tensorflow:Assets written to: C:\\Users\\user\\AppData\\Local\\Temp\\tmpgejy405u\\assets\n"
     ]
    },
    {
     "name": "stdout",
     "output_type": "stream",
     "text": [
      "Epoch 1/100\n",
      "640/640 [==============================] - 1s 1ms/step - loss: 0.4961 - accuracy: 0.7958\n",
      "Epoch 2/100\n",
      "640/640 [==============================] - 1s 1ms/step - loss: 0.4316 - accuracy: 0.7959\n",
      "Epoch 3/100\n",
      "640/640 [==============================] - 1s 1ms/step - loss: 0.4284 - accuracy: 0.7959\n",
      "Epoch 4/100\n",
      "640/640 [==============================] - 1s 1ms/step - loss: 0.4249 - accuracy: 0.7959\n",
      "Epoch 5/100\n",
      "640/640 [==============================] - 1s 1ms/step - loss: 0.4199 - accuracy: 0.8195\n",
      "Epoch 6/100\n",
      "640/640 [==============================] - 1s 1ms/step - loss: 0.4165 - accuracy: 0.8273\n",
      "Epoch 7/100\n",
      "640/640 [==============================] - 1s 2ms/step - loss: 0.4134 - accuracy: 0.8278\n",
      "Epoch 8/100\n",
      "640/640 [==============================] - 1s 1ms/step - loss: 0.4107 - accuracy: 0.8298\n",
      "Epoch 9/100\n",
      "640/640 [==============================] - 1s 1ms/step - loss: 0.4086 - accuracy: 0.8322\n",
      "Epoch 10/100\n",
      "640/640 [==============================] - 1s 1ms/step - loss: 0.4076 - accuracy: 0.8330\n",
      "Epoch 11/100\n",
      "640/640 [==============================] - 1s 1ms/step - loss: 0.4059 - accuracy: 0.8345\n",
      "Epoch 12/100\n",
      "640/640 [==============================] - 1s 1ms/step - loss: 0.4051 - accuracy: 0.8336\n",
      "Epoch 13/100\n",
      "640/640 [==============================] - 1s 1ms/step - loss: 0.4035 - accuracy: 0.8342\n",
      "Epoch 14/100\n",
      "640/640 [==============================] - 1s 1ms/step - loss: 0.4035 - accuracy: 0.8350\n",
      "Epoch 15/100\n",
      "640/640 [==============================] - 1s 1ms/step - loss: 0.4028 - accuracy: 0.8363\n",
      "Epoch 16/100\n",
      "640/640 [==============================] - 1s 1ms/step - loss: 0.4018 - accuracy: 0.8348\n",
      "Epoch 17/100\n",
      "640/640 [==============================] - 1s 1ms/step - loss: 0.4020 - accuracy: 0.8345\n",
      "Epoch 18/100\n",
      "640/640 [==============================] - 1s 2ms/step - loss: 0.4011 - accuracy: 0.8347\n",
      "Epoch 19/100\n",
      "640/640 [==============================] - 1s 1ms/step - loss: 0.4009 - accuracy: 0.8358\n",
      "Epoch 20/100\n",
      "640/640 [==============================] - 1s 1ms/step - loss: 0.4006 - accuracy: 0.8380\n",
      "Epoch 21/100\n",
      "640/640 [==============================] - 1s 1ms/step - loss: 0.3997 - accuracy: 0.8339\n",
      "Epoch 22/100\n",
      "640/640 [==============================] - 1s 1ms/step - loss: 0.3996 - accuracy: 0.8353\n",
      "Epoch 23/100\n",
      "640/640 [==============================] - 1s 1ms/step - loss: 0.3994 - accuracy: 0.8359\n",
      "Epoch 24/100\n",
      "640/640 [==============================] - 1s 1ms/step - loss: 0.3985 - accuracy: 0.8358\n",
      "Epoch 25/100\n",
      "640/640 [==============================] - 1s 1ms/step - loss: 0.3978 - accuracy: 0.8370\n",
      "Epoch 26/100\n",
      "640/640 [==============================] - 1s 1ms/step - loss: 0.3984 - accuracy: 0.8367\n",
      "Epoch 27/100\n",
      "640/640 [==============================] - 1s 1ms/step - loss: 0.3979 - accuracy: 0.8375\n",
      "Epoch 28/100\n",
      "640/640 [==============================] - 1s 1ms/step - loss: 0.3977 - accuracy: 0.8345\n",
      "Epoch 29/100\n",
      "640/640 [==============================] - 1s 1ms/step - loss: 0.3976 - accuracy: 0.8355\n",
      "Epoch 30/100\n",
      "640/640 [==============================] - 1s 1ms/step - loss: 0.3972 - accuracy: 0.8364\n",
      "Epoch 31/100\n",
      "640/640 [==============================] - 1s 1ms/step - loss: 0.3971 - accuracy: 0.8361\n",
      "Epoch 32/100\n",
      "640/640 [==============================] - 1s 2ms/step - loss: 0.3967 - accuracy: 0.8352\n",
      "Epoch 33/100\n",
      "640/640 [==============================] - 1s 1ms/step - loss: 0.3968 - accuracy: 0.8359\n",
      "Epoch 34/100\n",
      "640/640 [==============================] - 1s 1ms/step - loss: 0.3968 - accuracy: 0.8366\n",
      "Epoch 35/100\n",
      "640/640 [==============================] - 1s 1ms/step - loss: 0.3965 - accuracy: 0.8367\n",
      "Epoch 36/100\n",
      "640/640 [==============================] - 1s 1ms/step - loss: 0.3962 - accuracy: 0.8383\n",
      "Epoch 37/100\n",
      "640/640 [==============================] - 1s 2ms/step - loss: 0.3965 - accuracy: 0.8378\n",
      "Epoch 38/100\n",
      "640/640 [==============================] - 1s 1ms/step - loss: 0.3959 - accuracy: 0.8380\n",
      "Epoch 39/100\n",
      "640/640 [==============================] - 1s 1ms/step - loss: 0.3961 - accuracy: 0.8373\n",
      "Epoch 40/100\n",
      "640/640 [==============================] - 1s 1ms/step - loss: 0.3964 - accuracy: 0.8389\n",
      "Epoch 41/100\n",
      "640/640 [==============================] - 1s 1ms/step - loss: 0.3955 - accuracy: 0.8398\n",
      "Epoch 42/100\n",
      "640/640 [==============================] - 1s 1ms/step - loss: 0.3956 - accuracy: 0.8381\n",
      "Epoch 43/100\n",
      "640/640 [==============================] - 1s 1ms/step - loss: 0.3952 - accuracy: 0.8369\n",
      "Epoch 44/100\n",
      "640/640 [==============================] - 1s 2ms/step - loss: 0.3950 - accuracy: 0.8380\n",
      "Epoch 45/100\n",
      "640/640 [==============================] - 1s 1ms/step - loss: 0.3952 - accuracy: 0.8383\n",
      "Epoch 46/100\n",
      "640/640 [==============================] - 1s 1ms/step - loss: 0.3951 - accuracy: 0.8383\n",
      "Epoch 47/100\n",
      "640/640 [==============================] - 1s 1ms/step - loss: 0.3948 - accuracy: 0.8370\n",
      "Epoch 48/100\n",
      "640/640 [==============================] - 1s 1ms/step - loss: 0.3950 - accuracy: 0.8378\n",
      "Epoch 49/100\n",
      "640/640 [==============================] - 1s 1ms/step - loss: 0.3946 - accuracy: 0.8373\n",
      "Epoch 50/100\n",
      "640/640 [==============================] - 1s 1ms/step - loss: 0.3945 - accuracy: 0.8359\n",
      "Epoch 51/100\n",
      "640/640 [==============================] - 1s 1ms/step - loss: 0.3934 - accuracy: 0.8394\n",
      "Epoch 52/100\n",
      "640/640 [==============================] - 1s 1ms/step - loss: 0.3947 - accuracy: 0.8388\n",
      "Epoch 53/100\n",
      "640/640 [==============================] - 1s 1ms/step - loss: 0.3940 - accuracy: 0.8377\n",
      "Epoch 54/100\n",
      "640/640 [==============================] - 1s 1ms/step - loss: 0.3938 - accuracy: 0.8369\n",
      "Epoch 55/100\n",
      "640/640 [==============================] - 1s 1ms/step - loss: 0.3937 - accuracy: 0.8377\n",
      "Epoch 56/100\n",
      "640/640 [==============================] - 1s 1ms/step - loss: 0.3934 - accuracy: 0.8391\n",
      "Epoch 57/100\n",
      "640/640 [==============================] - 1s 1ms/step - loss: 0.3930 - accuracy: 0.8384\n",
      "Epoch 58/100\n",
      "640/640 [==============================] - 1s 1ms/step - loss: 0.3925 - accuracy: 0.8388\n",
      "Epoch 59/100\n",
      "640/640 [==============================] - 1s 1ms/step - loss: 0.3923 - accuracy: 0.8383\n",
      "Epoch 60/100\n",
      "640/640 [==============================] - 1s 1ms/step - loss: 0.3919 - accuracy: 0.8394\n",
      "Epoch 61/100\n",
      "640/640 [==============================] - 1s 2ms/step - loss: 0.3908 - accuracy: 0.8397\n",
      "Epoch 62/100\n",
      "640/640 [==============================] - 1s 1ms/step - loss: 0.3892 - accuracy: 0.8405\n",
      "Epoch 63/100\n",
      "640/640 [==============================] - 1s 1ms/step - loss: 0.3868 - accuracy: 0.8391\n",
      "Epoch 64/100\n",
      "640/640 [==============================] - 1s 1ms/step - loss: 0.3817 - accuracy: 0.8445\n",
      "Epoch 65/100\n",
      "640/640 [==============================] - 1s 2ms/step - loss: 0.3784 - accuracy: 0.8438\n",
      "Epoch 66/100\n",
      "640/640 [==============================] - 1s 1ms/step - loss: 0.3747 - accuracy: 0.8447\n",
      "Epoch 67/100\n",
      "640/640 [==============================] - 1s 1ms/step - loss: 0.3719 - accuracy: 0.8464\n",
      "Epoch 68/100\n",
      "640/640 [==============================] - 1s 1ms/step - loss: 0.3691 - accuracy: 0.8475\n",
      "Epoch 69/100\n",
      "640/640 [==============================] - 1s 1ms/step - loss: 0.3655 - accuracy: 0.8509\n",
      "Epoch 70/100\n",
      "640/640 [==============================] - 1s 1ms/step - loss: 0.3619 - accuracy: 0.8502\n",
      "Epoch 71/100\n",
      "640/640 [==============================] - 1s 1ms/step - loss: 0.3593 - accuracy: 0.8558\n",
      "Epoch 72/100\n",
      "640/640 [==============================] - 1s 1ms/step - loss: 0.3570 - accuracy: 0.8577\n",
      "Epoch 73/100\n",
      "640/640 [==============================] - 1s 1ms/step - loss: 0.3563 - accuracy: 0.8581\n",
      "Epoch 74/100\n",
      "640/640 [==============================] - 1s 1ms/step - loss: 0.3557 - accuracy: 0.8591\n",
      "Epoch 75/100\n",
      "640/640 [==============================] - 1s 1ms/step - loss: 0.3553 - accuracy: 0.8598\n",
      "Epoch 76/100\n",
      "640/640 [==============================] - 1s 1ms/step - loss: 0.3541 - accuracy: 0.8600\n",
      "Epoch 77/100\n",
      "640/640 [==============================] - 1s 1ms/step - loss: 0.3539 - accuracy: 0.8608\n",
      "Epoch 78/100\n",
      "640/640 [==============================] - 1s 2ms/step - loss: 0.3532 - accuracy: 0.8595\n",
      "Epoch 79/100\n",
      "640/640 [==============================] - 1s 2ms/step - loss: 0.3523 - accuracy: 0.8600\n",
      "Epoch 80/100\n",
      "640/640 [==============================] - 1s 1ms/step - loss: 0.3520 - accuracy: 0.8598\n",
      "Epoch 81/100\n",
      "640/640 [==============================] - 1s 1ms/step - loss: 0.3511 - accuracy: 0.8609\n",
      "Epoch 82/100\n",
      "640/640 [==============================] - 1s 1ms/step - loss: 0.3507 - accuracy: 0.8589\n",
      "Epoch 83/100\n",
      "640/640 [==============================] - 1s 1ms/step - loss: 0.3507 - accuracy: 0.8622\n",
      "Epoch 84/100\n",
      "640/640 [==============================] - 1s 1ms/step - loss: 0.3498 - accuracy: 0.8623\n",
      "Epoch 85/100\n",
      "640/640 [==============================] - 1s 1ms/step - loss: 0.3495 - accuracy: 0.8614\n",
      "Epoch 86/100\n",
      "640/640 [==============================] - 1s 1ms/step - loss: 0.3495 - accuracy: 0.8620\n",
      "Epoch 87/100\n",
      "640/640 [==============================] - 1s 1ms/step - loss: 0.3494 - accuracy: 0.8628\n",
      "Epoch 88/100\n",
      "640/640 [==============================] - 1s 1ms/step - loss: 0.3496 - accuracy: 0.8628\n",
      "Epoch 89/100\n",
      "640/640 [==============================] - 1s 1ms/step - loss: 0.3480 - accuracy: 0.8620\n",
      "Epoch 90/100\n",
      "640/640 [==============================] - 1s 1ms/step - loss: 0.3489 - accuracy: 0.8633\n",
      "Epoch 91/100\n",
      "640/640 [==============================] - 1s 1ms/step - loss: 0.3480 - accuracy: 0.8622\n",
      "Epoch 92/100\n",
      "640/640 [==============================] - 1s 1ms/step - loss: 0.3484 - accuracy: 0.8617\n",
      "Epoch 93/100\n",
      "640/640 [==============================] - 1s 1ms/step - loss: 0.3475 - accuracy: 0.8614\n",
      "Epoch 94/100\n",
      "640/640 [==============================] - 1s 1ms/step - loss: 0.3480 - accuracy: 0.8619\n",
      "Epoch 95/100\n",
      "640/640 [==============================] - 1s 1ms/step - loss: 0.3481 - accuracy: 0.8633\n",
      "Epoch 96/100\n",
      "640/640 [==============================] - 1s 1ms/step - loss: 0.3478 - accuracy: 0.8611\n",
      "Epoch 97/100\n",
      "640/640 [==============================] - 1s 1ms/step - loss: 0.3472 - accuracy: 0.8625\n",
      "Epoch 98/100\n",
      "640/640 [==============================] - 1s 1ms/step - loss: 0.3472 - accuracy: 0.8617\n",
      "Epoch 99/100\n",
      "640/640 [==============================] - 1s 1ms/step - loss: 0.3471 - accuracy: 0.8611\n",
      "Epoch 100/100\n",
      "640/640 [==============================] - 1s 1ms/step - loss: 0.3467 - accuracy: 0.8628\n",
      "160/160 [==============================] - 0s 884us/step\n"
     ]
    },
    {
     "name": "stderr",
     "output_type": "stream",
     "text": [
      "WARNING:absl:Found untraced functions such as _update_step_xla while saving (showing 1 of 1). These functions will not be directly callable after loading.\n"
     ]
    },
    {
     "name": "stdout",
     "output_type": "stream",
     "text": [
      "INFO:tensorflow:Assets written to: C:\\Users\\user\\AppData\\Local\\Temp\\tmp7ojqb6w8\\assets\n"
     ]
    },
    {
     "name": "stderr",
     "output_type": "stream",
     "text": [
      "INFO:tensorflow:Assets written to: C:\\Users\\user\\AppData\\Local\\Temp\\tmp7ojqb6w8\\assets\n"
     ]
    },
    {
     "name": "stdout",
     "output_type": "stream",
     "text": [
      "Epoch 1/100\n",
      "640/640 [==============================] - 1s 2ms/step - loss: 0.4943 - accuracy: 0.7955\n",
      "Epoch 2/100\n",
      "640/640 [==============================] - 1s 2ms/step - loss: 0.4298 - accuracy: 0.7959\n",
      "Epoch 3/100\n",
      "640/640 [==============================] - 1s 1ms/step - loss: 0.4256 - accuracy: 0.7959\n",
      "Epoch 4/100\n",
      "640/640 [==============================] - 1s 1ms/step - loss: 0.4223 - accuracy: 0.7959\n",
      "Epoch 5/100\n",
      "640/640 [==============================] - 1s 1ms/step - loss: 0.4196 - accuracy: 0.8116\n",
      "Epoch 6/100\n",
      "640/640 [==============================] - 1s 1ms/step - loss: 0.4177 - accuracy: 0.8241\n",
      "Epoch 7/100\n",
      "640/640 [==============================] - 1s 1ms/step - loss: 0.4157 - accuracy: 0.8270\n",
      "Epoch 8/100\n",
      "640/640 [==============================] - 1s 2ms/step - loss: 0.4144 - accuracy: 0.8306\n",
      "Epoch 9/100\n",
      "640/640 [==============================] - 1s 1ms/step - loss: 0.4130 - accuracy: 0.8327\n",
      "Epoch 10/100\n",
      "640/640 [==============================] - 1s 1ms/step - loss: 0.4118 - accuracy: 0.8323\n",
      "Epoch 11/100\n",
      "640/640 [==============================] - 1s 2ms/step - loss: 0.4106 - accuracy: 0.8353\n",
      "Epoch 12/100\n",
      "640/640 [==============================] - 1s 1ms/step - loss: 0.4098 - accuracy: 0.8333\n",
      "Epoch 13/100\n",
      "640/640 [==============================] - 1s 2ms/step - loss: 0.4089 - accuracy: 0.8348\n",
      "Epoch 14/100\n",
      "640/640 [==============================] - 1s 1ms/step - loss: 0.4086 - accuracy: 0.8342\n",
      "Epoch 15/100\n",
      "640/640 [==============================] - 1s 2ms/step - loss: 0.4077 - accuracy: 0.8353\n",
      "Epoch 16/100\n",
      "640/640 [==============================] - 1s 2ms/step - loss: 0.4073 - accuracy: 0.8359\n",
      "Epoch 17/100\n",
      "640/640 [==============================] - 1s 2ms/step - loss: 0.4069 - accuracy: 0.8348\n",
      "Epoch 18/100\n",
      "640/640 [==============================] - 1s 1ms/step - loss: 0.4062 - accuracy: 0.8352\n",
      "Epoch 19/100\n",
      "640/640 [==============================] - 1s 1ms/step - loss: 0.4058 - accuracy: 0.8358\n",
      "Epoch 20/100\n",
      "640/640 [==============================] - 1s 1ms/step - loss: 0.4055 - accuracy: 0.8342\n",
      "Epoch 21/100\n",
      "640/640 [==============================] - 1s 2ms/step - loss: 0.4051 - accuracy: 0.8350\n",
      "Epoch 22/100\n",
      "640/640 [==============================] - 1s 1ms/step - loss: 0.4050 - accuracy: 0.8352\n",
      "Epoch 23/100\n",
      "640/640 [==============================] - 1s 1ms/step - loss: 0.4046 - accuracy: 0.8344\n",
      "Epoch 24/100\n",
      "640/640 [==============================] - 1s 1ms/step - loss: 0.4039 - accuracy: 0.8330\n",
      "Epoch 25/100\n",
      "640/640 [==============================] - 1s 2ms/step - loss: 0.4041 - accuracy: 0.8336\n",
      "Epoch 26/100\n",
      "640/640 [==============================] - 1s 2ms/step - loss: 0.4043 - accuracy: 0.8367\n",
      "Epoch 27/100\n",
      "640/640 [==============================] - 1s 2ms/step - loss: 0.4032 - accuracy: 0.8345\n",
      "Epoch 28/100\n",
      "640/640 [==============================] - 1s 2ms/step - loss: 0.4034 - accuracy: 0.8347\n",
      "Epoch 29/100\n",
      "640/640 [==============================] - 1s 2ms/step - loss: 0.4032 - accuracy: 0.8344\n",
      "Epoch 30/100\n",
      "640/640 [==============================] - 1s 1ms/step - loss: 0.4035 - accuracy: 0.8356\n",
      "Epoch 31/100\n",
      "640/640 [==============================] - 1s 1ms/step - loss: 0.4029 - accuracy: 0.8347\n",
      "Epoch 32/100\n",
      "640/640 [==============================] - 1s 2ms/step - loss: 0.4026 - accuracy: 0.8330\n",
      "Epoch 33/100\n",
      "640/640 [==============================] - 1s 2ms/step - loss: 0.4029 - accuracy: 0.8358\n",
      "Epoch 34/100\n",
      "640/640 [==============================] - 1s 1ms/step - loss: 0.4025 - accuracy: 0.8339\n",
      "Epoch 35/100\n",
      "640/640 [==============================] - 1s 1ms/step - loss: 0.4024 - accuracy: 0.8347\n",
      "Epoch 36/100\n",
      "640/640 [==============================] - 1s 1ms/step - loss: 0.4025 - accuracy: 0.8345\n",
      "Epoch 37/100\n",
      "640/640 [==============================] - 1s 1ms/step - loss: 0.4017 - accuracy: 0.8367\n",
      "Epoch 38/100\n",
      "640/640 [==============================] - 1s 1ms/step - loss: 0.4019 - accuracy: 0.8333\n",
      "Epoch 39/100\n",
      "640/640 [==============================] - 1s 1ms/step - loss: 0.4017 - accuracy: 0.8339\n",
      "Epoch 40/100\n",
      "640/640 [==============================] - 1s 1ms/step - loss: 0.4022 - accuracy: 0.8345\n",
      "Epoch 41/100\n",
      "640/640 [==============================] - 1s 1ms/step - loss: 0.4014 - accuracy: 0.8347\n",
      "Epoch 42/100\n",
      "640/640 [==============================] - 1s 1ms/step - loss: 0.4016 - accuracy: 0.8356\n",
      "Epoch 43/100\n",
      "640/640 [==============================] - 1s 1ms/step - loss: 0.4014 - accuracy: 0.8345\n",
      "Epoch 44/100\n",
      "640/640 [==============================] - 1s 1ms/step - loss: 0.4011 - accuracy: 0.8345\n",
      "Epoch 45/100\n",
      "640/640 [==============================] - 1s 1ms/step - loss: 0.4013 - accuracy: 0.8341\n",
      "Epoch 46/100\n",
      "640/640 [==============================] - 1s 1ms/step - loss: 0.4006 - accuracy: 0.8338\n",
      "Epoch 47/100\n",
      "640/640 [==============================] - 1s 1ms/step - loss: 0.4012 - accuracy: 0.8350\n",
      "Epoch 48/100\n",
      "640/640 [==============================] - 1s 1ms/step - loss: 0.4003 - accuracy: 0.8344\n",
      "Epoch 49/100\n",
      "640/640 [==============================] - 1s 1ms/step - loss: 0.4008 - accuracy: 0.8353\n",
      "Epoch 50/100\n",
      "640/640 [==============================] - 1s 1ms/step - loss: 0.4010 - accuracy: 0.8338\n",
      "Epoch 51/100\n",
      "640/640 [==============================] - 1s 1ms/step - loss: 0.4004 - accuracy: 0.8353\n",
      "Epoch 52/100\n",
      "640/640 [==============================] - 1s 1ms/step - loss: 0.4006 - accuracy: 0.8325\n",
      "Epoch 53/100\n",
      "640/640 [==============================] - 1s 1ms/step - loss: 0.4006 - accuracy: 0.8352\n",
      "Epoch 54/100\n",
      "640/640 [==============================] - 1s 1ms/step - loss: 0.4005 - accuracy: 0.8339\n",
      "Epoch 55/100\n",
      "640/640 [==============================] - 1s 1ms/step - loss: 0.4006 - accuracy: 0.8356\n",
      "Epoch 56/100\n",
      "640/640 [==============================] - 1s 1ms/step - loss: 0.4002 - accuracy: 0.8342\n",
      "Epoch 57/100\n",
      "640/640 [==============================] - 1s 1ms/step - loss: 0.4008 - accuracy: 0.8342\n",
      "Epoch 58/100\n",
      "640/640 [==============================] - 1s 1ms/step - loss: 0.4003 - accuracy: 0.8342\n",
      "Epoch 59/100\n",
      "640/640 [==============================] - 1s 1ms/step - loss: 0.4001 - accuracy: 0.8350\n",
      "Epoch 60/100\n",
      "640/640 [==============================] - 1s 1ms/step - loss: 0.4006 - accuracy: 0.8341\n",
      "Epoch 61/100\n",
      "640/640 [==============================] - 1s 1ms/step - loss: 0.4004 - accuracy: 0.8352\n",
      "Epoch 62/100\n",
      "640/640 [==============================] - 1s 1ms/step - loss: 0.4003 - accuracy: 0.8345\n",
      "Epoch 63/100\n",
      "640/640 [==============================] - 1s 1ms/step - loss: 0.4001 - accuracy: 0.8339\n",
      "Epoch 64/100\n",
      "640/640 [==============================] - 1s 1ms/step - loss: 0.4000 - accuracy: 0.8328\n",
      "Epoch 65/100\n",
      "640/640 [==============================] - 1s 1ms/step - loss: 0.3998 - accuracy: 0.8366\n",
      "Epoch 66/100\n",
      "640/640 [==============================] - 1s 1ms/step - loss: 0.3999 - accuracy: 0.8348\n",
      "Epoch 67/100\n",
      "640/640 [==============================] - 1s 1ms/step - loss: 0.4000 - accuracy: 0.8350\n",
      "Epoch 68/100\n",
      "640/640 [==============================] - 1s 1ms/step - loss: 0.4002 - accuracy: 0.8355\n",
      "Epoch 69/100\n",
      "640/640 [==============================] - 1s 1ms/step - loss: 0.3996 - accuracy: 0.8359\n",
      "Epoch 70/100\n",
      "640/640 [==============================] - 1s 1ms/step - loss: 0.4004 - accuracy: 0.8352\n",
      "Epoch 71/100\n",
      "640/640 [==============================] - 1s 1ms/step - loss: 0.3999 - accuracy: 0.8353\n",
      "Epoch 72/100\n",
      "640/640 [==============================] - 1s 1ms/step - loss: 0.4001 - accuracy: 0.8352\n",
      "Epoch 73/100\n",
      "640/640 [==============================] - 1s 1ms/step - loss: 0.4002 - accuracy: 0.8366\n",
      "Epoch 74/100\n",
      "640/640 [==============================] - 1s 1ms/step - loss: 0.3998 - accuracy: 0.8347\n",
      "Epoch 75/100\n",
      "640/640 [==============================] - 1s 1ms/step - loss: 0.3999 - accuracy: 0.8356\n",
      "Epoch 76/100\n",
      "640/640 [==============================] - 1s 1ms/step - loss: 0.3997 - accuracy: 0.8344\n",
      "Epoch 77/100\n",
      "640/640 [==============================] - 1s 1ms/step - loss: 0.3999 - accuracy: 0.8350\n",
      "Epoch 78/100\n",
      "640/640 [==============================] - 1s 1ms/step - loss: 0.3998 - accuracy: 0.8359\n",
      "Epoch 79/100\n",
      "640/640 [==============================] - 1s 1ms/step - loss: 0.3998 - accuracy: 0.8345\n",
      "Epoch 80/100\n",
      "640/640 [==============================] - 1s 1ms/step - loss: 0.4000 - accuracy: 0.8355\n",
      "Epoch 81/100\n",
      "640/640 [==============================] - 1s 1ms/step - loss: 0.3998 - accuracy: 0.8345\n",
      "Epoch 82/100\n",
      "640/640 [==============================] - 1s 1ms/step - loss: 0.3997 - accuracy: 0.8361\n",
      "Epoch 83/100\n",
      "640/640 [==============================] - 1s 1ms/step - loss: 0.3993 - accuracy: 0.8336\n",
      "Epoch 84/100\n",
      "640/640 [==============================] - 1s 1ms/step - loss: 0.3998 - accuracy: 0.8353\n",
      "Epoch 85/100\n",
      "640/640 [==============================] - 1s 1ms/step - loss: 0.4000 - accuracy: 0.8358\n",
      "Epoch 86/100\n",
      "640/640 [==============================] - 1s 1ms/step - loss: 0.3994 - accuracy: 0.8344\n",
      "Epoch 87/100\n",
      "640/640 [==============================] - 1s 1ms/step - loss: 0.3990 - accuracy: 0.8345\n",
      "Epoch 88/100\n",
      "640/640 [==============================] - 1s 1ms/step - loss: 0.3997 - accuracy: 0.8348\n",
      "Epoch 89/100\n",
      "640/640 [==============================] - 1s 1ms/step - loss: 0.3997 - accuracy: 0.8344\n",
      "Epoch 90/100\n",
      "640/640 [==============================] - 1s 1ms/step - loss: 0.3995 - accuracy: 0.8352\n",
      "Epoch 91/100\n",
      "640/640 [==============================] - 1s 1ms/step - loss: 0.3984 - accuracy: 0.8363\n",
      "Epoch 92/100\n",
      "640/640 [==============================] - 1s 1ms/step - loss: 0.3988 - accuracy: 0.8355\n",
      "Epoch 93/100\n",
      "640/640 [==============================] - 1s 1ms/step - loss: 0.3996 - accuracy: 0.8358\n",
      "Epoch 94/100\n",
      "640/640 [==============================] - 1s 1ms/step - loss: 0.3993 - accuracy: 0.8353\n",
      "Epoch 95/100\n",
      "640/640 [==============================] - 1s 1ms/step - loss: 0.3994 - accuracy: 0.8364\n",
      "Epoch 96/100\n",
      "640/640 [==============================] - 1s 1ms/step - loss: 0.3992 - accuracy: 0.8334\n",
      "Epoch 97/100\n",
      "640/640 [==============================] - 1s 1ms/step - loss: 0.3992 - accuracy: 0.8341\n",
      "Epoch 98/100\n",
      "640/640 [==============================] - 1s 1ms/step - loss: 0.3993 - accuracy: 0.8352\n",
      "Epoch 99/100\n",
      "640/640 [==============================] - 1s 1ms/step - loss: 0.3992 - accuracy: 0.8366\n",
      "Epoch 100/100\n",
      "640/640 [==============================] - 1s 1ms/step - loss: 0.3993 - accuracy: 0.8352\n",
      "160/160 [==============================] - 0s 980us/step\n",
      "WARNING:tensorflow:Detecting that an object or model or tf.train.Checkpoint is being deleted with unrestored values. See the following logs for the specific values in question. To silence these warnings, use `status.expect_partial()`. See https://www.tensorflow.org/api_docs/python/tf/train/Checkpoint#restorefor details about the status object returned by the restore function.\n"
     ]
    },
    {
     "name": "stderr",
     "output_type": "stream",
     "text": [
      "WARNING:tensorflow:Detecting that an object or model or tf.train.Checkpoint is being deleted with unrestored values. See the following logs for the specific values in question. To silence these warnings, use `status.expect_partial()`. See https://www.tensorflow.org/api_docs/python/tf/train/Checkpoint#restorefor details about the status object returned by the restore function.\n"
     ]
    },
    {
     "name": "stdout",
     "output_type": "stream",
     "text": [
      "WARNING:tensorflow:Value in checkpoint could not be found in the restored object: (root).keras_api.metrics.0.total\n"
     ]
    },
    {
     "name": "stderr",
     "output_type": "stream",
     "text": [
      "WARNING:tensorflow:Value in checkpoint could not be found in the restored object: (root).keras_api.metrics.0.total\n"
     ]
    },
    {
     "name": "stdout",
     "output_type": "stream",
     "text": [
      "WARNING:tensorflow:Value in checkpoint could not be found in the restored object: (root).keras_api.metrics.0.count\n"
     ]
    },
    {
     "name": "stderr",
     "output_type": "stream",
     "text": [
      "WARNING:tensorflow:Value in checkpoint could not be found in the restored object: (root).keras_api.metrics.0.count\n"
     ]
    },
    {
     "name": "stdout",
     "output_type": "stream",
     "text": [
      "WARNING:tensorflow:Value in checkpoint could not be found in the restored object: (root).keras_api.metrics.1.total\n"
     ]
    },
    {
     "name": "stderr",
     "output_type": "stream",
     "text": [
      "WARNING:tensorflow:Value in checkpoint could not be found in the restored object: (root).keras_api.metrics.1.total\n"
     ]
    },
    {
     "name": "stdout",
     "output_type": "stream",
     "text": [
      "WARNING:tensorflow:Value in checkpoint could not be found in the restored object: (root).keras_api.metrics.1.count\n"
     ]
    },
    {
     "name": "stderr",
     "output_type": "stream",
     "text": [
      "WARNING:tensorflow:Value in checkpoint could not be found in the restored object: (root).keras_api.metrics.1.count\n"
     ]
    },
    {
     "name": "stdout",
     "output_type": "stream",
     "text": [
      "WARNING:tensorflow:Detecting that an object or model or tf.train.Checkpoint is being deleted with unrestored values. See the following logs for the specific values in question. To silence these warnings, use `status.expect_partial()`. See https://www.tensorflow.org/api_docs/python/tf/train/Checkpoint#restorefor details about the status object returned by the restore function.\n"
     ]
    },
    {
     "name": "stderr",
     "output_type": "stream",
     "text": [
      "WARNING:tensorflow:Detecting that an object or model or tf.train.Checkpoint is being deleted with unrestored values. See the following logs for the specific values in question. To silence these warnings, use `status.expect_partial()`. See https://www.tensorflow.org/api_docs/python/tf/train/Checkpoint#restorefor details about the status object returned by the restore function.\n"
     ]
    },
    {
     "name": "stdout",
     "output_type": "stream",
     "text": [
      "WARNING:tensorflow:Value in checkpoint could not be found in the restored object: (root).keras_api.metrics.0.total\n"
     ]
    },
    {
     "name": "stderr",
     "output_type": "stream",
     "text": [
      "WARNING:tensorflow:Value in checkpoint could not be found in the restored object: (root).keras_api.metrics.0.total\n"
     ]
    },
    {
     "name": "stdout",
     "output_type": "stream",
     "text": [
      "WARNING:tensorflow:Value in checkpoint could not be found in the restored object: (root).keras_api.metrics.0.count\n"
     ]
    },
    {
     "name": "stderr",
     "output_type": "stream",
     "text": [
      "WARNING:tensorflow:Value in checkpoint could not be found in the restored object: (root).keras_api.metrics.0.count\n"
     ]
    },
    {
     "name": "stdout",
     "output_type": "stream",
     "text": [
      "WARNING:tensorflow:Value in checkpoint could not be found in the restored object: (root).keras_api.metrics.1.total\n"
     ]
    },
    {
     "name": "stderr",
     "output_type": "stream",
     "text": [
      "WARNING:tensorflow:Value in checkpoint could not be found in the restored object: (root).keras_api.metrics.1.total\n"
     ]
    },
    {
     "name": "stdout",
     "output_type": "stream",
     "text": [
      "WARNING:tensorflow:Value in checkpoint could not be found in the restored object: (root).keras_api.metrics.1.count\n"
     ]
    },
    {
     "name": "stderr",
     "output_type": "stream",
     "text": [
      "WARNING:tensorflow:Value in checkpoint could not be found in the restored object: (root).keras_api.metrics.1.count\n"
     ]
    },
    {
     "name": "stdout",
     "output_type": "stream",
     "text": [
      "WARNING:tensorflow:Detecting that an object or model or tf.train.Checkpoint is being deleted with unrestored values. See the following logs for the specific values in question. To silence these warnings, use `status.expect_partial()`. See https://www.tensorflow.org/api_docs/python/tf/train/Checkpoint#restorefor details about the status object returned by the restore function.\n"
     ]
    },
    {
     "name": "stderr",
     "output_type": "stream",
     "text": [
      "WARNING:tensorflow:Detecting that an object or model or tf.train.Checkpoint is being deleted with unrestored values. See the following logs for the specific values in question. To silence these warnings, use `status.expect_partial()`. See https://www.tensorflow.org/api_docs/python/tf/train/Checkpoint#restorefor details about the status object returned by the restore function.\n"
     ]
    },
    {
     "name": "stdout",
     "output_type": "stream",
     "text": [
      "WARNING:tensorflow:Value in checkpoint could not be found in the restored object: (root).keras_api.metrics.0.total\n"
     ]
    },
    {
     "name": "stderr",
     "output_type": "stream",
     "text": [
      "WARNING:tensorflow:Value in checkpoint could not be found in the restored object: (root).keras_api.metrics.0.total\n"
     ]
    },
    {
     "name": "stdout",
     "output_type": "stream",
     "text": [
      "WARNING:tensorflow:Value in checkpoint could not be found in the restored object: (root).keras_api.metrics.0.count\n"
     ]
    },
    {
     "name": "stderr",
     "output_type": "stream",
     "text": [
      "WARNING:tensorflow:Value in checkpoint could not be found in the restored object: (root).keras_api.metrics.0.count\n"
     ]
    },
    {
     "name": "stdout",
     "output_type": "stream",
     "text": [
      "WARNING:tensorflow:Value in checkpoint could not be found in the restored object: (root).keras_api.metrics.1.total\n"
     ]
    },
    {
     "name": "stderr",
     "output_type": "stream",
     "text": [
      "WARNING:tensorflow:Value in checkpoint could not be found in the restored object: (root).keras_api.metrics.1.total\n"
     ]
    },
    {
     "name": "stdout",
     "output_type": "stream",
     "text": [
      "WARNING:tensorflow:Value in checkpoint could not be found in the restored object: (root).keras_api.metrics.1.count\n"
     ]
    },
    {
     "name": "stderr",
     "output_type": "stream",
     "text": [
      "WARNING:tensorflow:Value in checkpoint could not be found in the restored object: (root).keras_api.metrics.1.count\n"
     ]
    },
    {
     "name": "stdout",
     "output_type": "stream",
     "text": [
      "WARNING:tensorflow:Detecting that an object or model or tf.train.Checkpoint is being deleted with unrestored values. See the following logs for the specific values in question. To silence these warnings, use `status.expect_partial()`. See https://www.tensorflow.org/api_docs/python/tf/train/Checkpoint#restorefor details about the status object returned by the restore function.\n"
     ]
    },
    {
     "name": "stderr",
     "output_type": "stream",
     "text": [
      "WARNING:tensorflow:Detecting that an object or model or tf.train.Checkpoint is being deleted with unrestored values. See the following logs for the specific values in question. To silence these warnings, use `status.expect_partial()`. See https://www.tensorflow.org/api_docs/python/tf/train/Checkpoint#restorefor details about the status object returned by the restore function.\n"
     ]
    },
    {
     "name": "stdout",
     "output_type": "stream",
     "text": [
      "WARNING:tensorflow:Value in checkpoint could not be found in the restored object: (root).keras_api.metrics.0.total\n"
     ]
    },
    {
     "name": "stderr",
     "output_type": "stream",
     "text": [
      "WARNING:tensorflow:Value in checkpoint could not be found in the restored object: (root).keras_api.metrics.0.total\n"
     ]
    },
    {
     "name": "stdout",
     "output_type": "stream",
     "text": [
      "WARNING:tensorflow:Value in checkpoint could not be found in the restored object: (root).keras_api.metrics.0.count\n"
     ]
    },
    {
     "name": "stderr",
     "output_type": "stream",
     "text": [
      "WARNING:tensorflow:Value in checkpoint could not be found in the restored object: (root).keras_api.metrics.0.count\n"
     ]
    },
    {
     "name": "stdout",
     "output_type": "stream",
     "text": [
      "WARNING:tensorflow:Value in checkpoint could not be found in the restored object: (root).keras_api.metrics.1.total\n"
     ]
    },
    {
     "name": "stderr",
     "output_type": "stream",
     "text": [
      "WARNING:tensorflow:Value in checkpoint could not be found in the restored object: (root).keras_api.metrics.1.total\n"
     ]
    },
    {
     "name": "stdout",
     "output_type": "stream",
     "text": [
      "WARNING:tensorflow:Value in checkpoint could not be found in the restored object: (root).keras_api.metrics.1.count\n"
     ]
    },
    {
     "name": "stderr",
     "output_type": "stream",
     "text": [
      "WARNING:tensorflow:Value in checkpoint could not be found in the restored object: (root).keras_api.metrics.1.count\n",
      "WARNING:absl:Found untraced functions such as _update_step_xla while saving (showing 1 of 1). These functions will not be directly callable after loading.\n"
     ]
    },
    {
     "name": "stdout",
     "output_type": "stream",
     "text": [
      "INFO:tensorflow:Assets written to: C:\\Users\\user\\AppData\\Local\\Temp\\tmpa7elowgw\\assets\n"
     ]
    },
    {
     "name": "stderr",
     "output_type": "stream",
     "text": [
      "INFO:tensorflow:Assets written to: C:\\Users\\user\\AppData\\Local\\Temp\\tmpa7elowgw\\assets\n"
     ]
    },
    {
     "name": "stdout",
     "output_type": "stream",
     "text": [
      "Epoch 1/100\n",
      "640/640 [==============================] - 1s 1ms/step - loss: 0.5001 - accuracy: 0.7958\n",
      "Epoch 2/100\n",
      "640/640 [==============================] - 1s 1ms/step - loss: 0.4311 - accuracy: 0.7959\n",
      "Epoch 3/100\n",
      "640/640 [==============================] - 1s 1ms/step - loss: 0.4272 - accuracy: 0.7959\n",
      "Epoch 4/100\n",
      "640/640 [==============================] - 1s 1ms/step - loss: 0.4238 - accuracy: 0.7959\n",
      "Epoch 5/100\n",
      "640/640 [==============================] - 1s 1ms/step - loss: 0.4207 - accuracy: 0.8058\n",
      "Epoch 6/100\n",
      "640/640 [==============================] - 1s 1ms/step - loss: 0.4184 - accuracy: 0.8248\n",
      "Epoch 7/100\n",
      "640/640 [==============================] - 1s 1ms/step - loss: 0.4168 - accuracy: 0.8267\n",
      "Epoch 8/100\n",
      "640/640 [==============================] - 1s 1ms/step - loss: 0.4153 - accuracy: 0.8288\n",
      "Epoch 9/100\n",
      "640/640 [==============================] - 1s 1ms/step - loss: 0.4140 - accuracy: 0.8300\n",
      "Epoch 10/100\n",
      "640/640 [==============================] - 1s 1ms/step - loss: 0.4128 - accuracy: 0.8305\n",
      "Epoch 11/100\n",
      "640/640 [==============================] - 1s 1ms/step - loss: 0.4122 - accuracy: 0.8333\n",
      "Epoch 12/100\n",
      "640/640 [==============================] - 1s 1ms/step - loss: 0.4113 - accuracy: 0.8322\n",
      "Epoch 13/100\n",
      "640/640 [==============================] - 1s 1ms/step - loss: 0.4104 - accuracy: 0.8352\n",
      "Epoch 14/100\n",
      "640/640 [==============================] - 1s 1ms/step - loss: 0.4098 - accuracy: 0.8355\n",
      "Epoch 15/100\n",
      "640/640 [==============================] - 1s 1ms/step - loss: 0.4090 - accuracy: 0.8341\n",
      "Epoch 16/100\n",
      "640/640 [==============================] - 1s 1ms/step - loss: 0.4085 - accuracy: 0.8338\n",
      "Epoch 17/100\n",
      "640/640 [==============================] - 1s 1ms/step - loss: 0.4082 - accuracy: 0.8347\n",
      "Epoch 18/100\n",
      "640/640 [==============================] - 1s 1ms/step - loss: 0.4076 - accuracy: 0.8339\n",
      "Epoch 19/100\n",
      "640/640 [==============================] - 1s 1ms/step - loss: 0.4070 - accuracy: 0.8367\n",
      "Epoch 20/100\n",
      "640/640 [==============================] - 1s 1ms/step - loss: 0.4069 - accuracy: 0.8342\n",
      "Epoch 21/100\n",
      "640/640 [==============================] - 1s 1ms/step - loss: 0.4067 - accuracy: 0.8364\n",
      "Epoch 22/100\n",
      "640/640 [==============================] - 1s 1ms/step - loss: 0.4057 - accuracy: 0.8364\n",
      "Epoch 23/100\n",
      "640/640 [==============================] - 1s 1ms/step - loss: 0.4057 - accuracy: 0.8344\n",
      "Epoch 24/100\n",
      "640/640 [==============================] - 1s 1ms/step - loss: 0.4056 - accuracy: 0.8359\n",
      "Epoch 25/100\n",
      "640/640 [==============================] - 1s 1ms/step - loss: 0.4049 - accuracy: 0.8345\n",
      "Epoch 26/100\n",
      "640/640 [==============================] - 1s 1ms/step - loss: 0.4050 - accuracy: 0.8352\n",
      "Epoch 27/100\n",
      "640/640 [==============================] - 1s 1ms/step - loss: 0.4043 - accuracy: 0.8353\n",
      "Epoch 28/100\n",
      "640/640 [==============================] - 1s 1ms/step - loss: 0.4043 - accuracy: 0.8352\n",
      "Epoch 29/100\n",
      "640/640 [==============================] - 1s 1ms/step - loss: 0.4038 - accuracy: 0.8339\n",
      "Epoch 30/100\n",
      "640/640 [==============================] - 1s 1ms/step - loss: 0.4042 - accuracy: 0.8347\n",
      "Epoch 31/100\n",
      "640/640 [==============================] - 1s 1ms/step - loss: 0.4034 - accuracy: 0.8341\n",
      "Epoch 32/100\n",
      "640/640 [==============================] - 1s 1ms/step - loss: 0.4036 - accuracy: 0.8347\n",
      "Epoch 33/100\n",
      "640/640 [==============================] - 1s 1ms/step - loss: 0.4031 - accuracy: 0.8339\n",
      "Epoch 34/100\n",
      "640/640 [==============================] - 1s 1ms/step - loss: 0.4029 - accuracy: 0.8348\n",
      "Epoch 35/100\n",
      "640/640 [==============================] - 1s 2ms/step - loss: 0.4028 - accuracy: 0.8359\n",
      "Epoch 36/100\n",
      "640/640 [==============================] - 1s 1ms/step - loss: 0.4026 - accuracy: 0.8339\n",
      "Epoch 37/100\n",
      "640/640 [==============================] - 1s 1ms/step - loss: 0.4027 - accuracy: 0.8364\n",
      "Epoch 38/100\n",
      "640/640 [==============================] - 1s 2ms/step - loss: 0.4021 - accuracy: 0.8336\n",
      "Epoch 39/100\n",
      "640/640 [==============================] - 1s 1ms/step - loss: 0.4024 - accuracy: 0.8325\n",
      "Epoch 40/100\n",
      "640/640 [==============================] - 1s 1ms/step - loss: 0.4021 - accuracy: 0.8350\n",
      "Epoch 41/100\n",
      "640/640 [==============================] - 1s 1ms/step - loss: 0.4016 - accuracy: 0.8339\n",
      "Epoch 42/100\n",
      "640/640 [==============================] - 1s 1ms/step - loss: 0.4014 - accuracy: 0.8336\n",
      "Epoch 43/100\n",
      "640/640 [==============================] - 1s 1ms/step - loss: 0.4018 - accuracy: 0.8345\n",
      "Epoch 44/100\n",
      "640/640 [==============================] - 1s 1ms/step - loss: 0.4009 - accuracy: 0.8345\n",
      "Epoch 45/100\n",
      "640/640 [==============================] - 1s 1ms/step - loss: 0.4019 - accuracy: 0.8344\n",
      "Epoch 46/100\n",
      "640/640 [==============================] - 1s 1ms/step - loss: 0.4013 - accuracy: 0.8353\n",
      "Epoch 47/100\n",
      "640/640 [==============================] - 1s 1ms/step - loss: 0.4014 - accuracy: 0.8339\n",
      "Epoch 48/100\n",
      "640/640 [==============================] - 1s 1ms/step - loss: 0.4008 - accuracy: 0.8344\n",
      "Epoch 49/100\n",
      "640/640 [==============================] - 1s 2ms/step - loss: 0.4017 - accuracy: 0.8356\n",
      "Epoch 50/100\n",
      "640/640 [==============================] - 1s 1ms/step - loss: 0.4009 - accuracy: 0.8339\n",
      "Epoch 51/100\n",
      "640/640 [==============================] - 1s 1ms/step - loss: 0.4014 - accuracy: 0.8356\n",
      "Epoch 52/100\n",
      "640/640 [==============================] - 1s 1ms/step - loss: 0.4009 - accuracy: 0.8342\n",
      "Epoch 53/100\n",
      "640/640 [==============================] - 1s 1ms/step - loss: 0.4008 - accuracy: 0.8348\n",
      "Epoch 54/100\n",
      "640/640 [==============================] - 1s 1ms/step - loss: 0.4007 - accuracy: 0.8348\n",
      "Epoch 55/100\n",
      "640/640 [==============================] - 1s 1ms/step - loss: 0.4007 - accuracy: 0.8339\n",
      "Epoch 56/100\n",
      "640/640 [==============================] - 1s 1ms/step - loss: 0.4008 - accuracy: 0.8336\n",
      "Epoch 57/100\n",
      "640/640 [==============================] - 1s 1ms/step - loss: 0.4005 - accuracy: 0.8336\n",
      "Epoch 58/100\n",
      "640/640 [==============================] - 1s 1ms/step - loss: 0.4008 - accuracy: 0.8359\n",
      "Epoch 59/100\n",
      "640/640 [==============================] - 1s 1ms/step - loss: 0.4009 - accuracy: 0.8347\n",
      "Epoch 60/100\n",
      "640/640 [==============================] - 1s 1ms/step - loss: 0.4008 - accuracy: 0.8361\n",
      "Epoch 61/100\n",
      "640/640 [==============================] - 1s 1ms/step - loss: 0.4005 - accuracy: 0.8331\n",
      "Epoch 62/100\n",
      "640/640 [==============================] - 1s 1ms/step - loss: 0.4002 - accuracy: 0.8333\n",
      "Epoch 63/100\n",
      "640/640 [==============================] - 1s 1ms/step - loss: 0.4005 - accuracy: 0.8348\n",
      "Epoch 64/100\n",
      "640/640 [==============================] - 1s 2ms/step - loss: 0.4004 - accuracy: 0.8328\n",
      "Epoch 65/100\n",
      "640/640 [==============================] - 1s 1ms/step - loss: 0.3998 - accuracy: 0.8367\n",
      "Epoch 66/100\n",
      "640/640 [==============================] - 1s 1ms/step - loss: 0.4003 - accuracy: 0.8355\n",
      "Epoch 67/100\n",
      "640/640 [==============================] - 1s 1ms/step - loss: 0.4003 - accuracy: 0.8342\n",
      "Epoch 68/100\n",
      "640/640 [==============================] - 1s 1ms/step - loss: 0.4004 - accuracy: 0.8341\n",
      "Epoch 69/100\n",
      "640/640 [==============================] - 1s 1ms/step - loss: 0.4000 - accuracy: 0.8339\n",
      "Epoch 70/100\n",
      "640/640 [==============================] - 1s 1ms/step - loss: 0.4000 - accuracy: 0.8364\n",
      "Epoch 71/100\n",
      "640/640 [==============================] - 1s 1ms/step - loss: 0.3997 - accuracy: 0.8363\n",
      "Epoch 72/100\n",
      "640/640 [==============================] - 1s 1ms/step - loss: 0.4000 - accuracy: 0.8345\n",
      "Epoch 73/100\n",
      "640/640 [==============================] - 1s 1ms/step - loss: 0.3993 - accuracy: 0.8339\n",
      "Epoch 74/100\n",
      "640/640 [==============================] - 1s 1ms/step - loss: 0.3992 - accuracy: 0.8348\n",
      "Epoch 75/100\n",
      "640/640 [==============================] - 1s 1ms/step - loss: 0.3991 - accuracy: 0.8344\n",
      "Epoch 76/100\n",
      "640/640 [==============================] - 1s 1ms/step - loss: 0.3993 - accuracy: 0.8344\n",
      "Epoch 77/100\n",
      "640/640 [==============================] - 1s 1ms/step - loss: 0.3991 - accuracy: 0.8375\n",
      "Epoch 78/100\n",
      "640/640 [==============================] - 1s 1ms/step - loss: 0.3998 - accuracy: 0.8359\n",
      "Epoch 79/100\n",
      "640/640 [==============================] - 1s 1ms/step - loss: 0.3994 - accuracy: 0.8350\n",
      "Epoch 80/100\n",
      "640/640 [==============================] - 1s 2ms/step - loss: 0.3996 - accuracy: 0.8353\n",
      "Epoch 81/100\n",
      "640/640 [==============================] - 1s 2ms/step - loss: 0.3999 - accuracy: 0.8352\n",
      "Epoch 82/100\n",
      "640/640 [==============================] - 1s 1ms/step - loss: 0.3991 - accuracy: 0.8363\n",
      "Epoch 83/100\n",
      "640/640 [==============================] - 1s 1ms/step - loss: 0.3997 - accuracy: 0.8352\n",
      "Epoch 84/100\n",
      "640/640 [==============================] - 1s 1ms/step - loss: 0.3993 - accuracy: 0.8358\n",
      "Epoch 85/100\n",
      "640/640 [==============================] - 1s 1ms/step - loss: 0.3994 - accuracy: 0.8359\n",
      "Epoch 86/100\n",
      "640/640 [==============================] - 1s 1ms/step - loss: 0.3990 - accuracy: 0.8353\n",
      "Epoch 87/100\n",
      "640/640 [==============================] - 1s 1ms/step - loss: 0.3991 - accuracy: 0.8350\n",
      "Epoch 88/100\n",
      "640/640 [==============================] - 1s 2ms/step - loss: 0.3995 - accuracy: 0.8352\n",
      "Epoch 89/100\n",
      "640/640 [==============================] - 1s 1ms/step - loss: 0.3992 - accuracy: 0.8348\n",
      "Epoch 90/100\n",
      "640/640 [==============================] - 1s 2ms/step - loss: 0.3994 - accuracy: 0.8363\n",
      "Epoch 91/100\n",
      "640/640 [==============================] - 1s 2ms/step - loss: 0.3989 - accuracy: 0.8361\n",
      "Epoch 92/100\n",
      "640/640 [==============================] - 1s 1ms/step - loss: 0.3988 - accuracy: 0.8358\n",
      "Epoch 93/100\n",
      "640/640 [==============================] - 1s 1ms/step - loss: 0.3993 - accuracy: 0.8353\n",
      "Epoch 94/100\n",
      "640/640 [==============================] - 1s 2ms/step - loss: 0.3998 - accuracy: 0.8347\n",
      "Epoch 95/100\n",
      "640/640 [==============================] - 1s 2ms/step - loss: 0.3987 - accuracy: 0.8355\n",
      "Epoch 96/100\n",
      "640/640 [==============================] - 1s 2ms/step - loss: 0.3990 - accuracy: 0.8347\n",
      "Epoch 97/100\n",
      "640/640 [==============================] - 1s 2ms/step - loss: 0.3991 - accuracy: 0.8347\n",
      "Epoch 98/100\n",
      "640/640 [==============================] - 1s 2ms/step - loss: 0.3988 - accuracy: 0.8377\n",
      "Epoch 99/100\n",
      "640/640 [==============================] - 1s 1ms/step - loss: 0.3988 - accuracy: 0.8342\n",
      "Epoch 100/100\n",
      "640/640 [==============================] - 1s 1ms/step - loss: 0.3989 - accuracy: 0.8363\n",
      "160/160 [==============================] - 0s 2ms/step\n"
     ]
    },
    {
     "name": "stderr",
     "output_type": "stream",
     "text": [
      "WARNING:absl:Found untraced functions such as _update_step_xla while saving (showing 1 of 1). These functions will not be directly callable after loading.\n"
     ]
    },
    {
     "name": "stdout",
     "output_type": "stream",
     "text": [
      "INFO:tensorflow:Assets written to: C:\\Users\\user\\AppData\\Local\\Temp\\tmpbtlc_o_h\\assets\n"
     ]
    },
    {
     "name": "stderr",
     "output_type": "stream",
     "text": [
      "INFO:tensorflow:Assets written to: C:\\Users\\user\\AppData\\Local\\Temp\\tmpbtlc_o_h\\assets\n"
     ]
    },
    {
     "name": "stdout",
     "output_type": "stream",
     "text": [
      "Epoch 1/100\n",
      "640/640 [==============================] - 1s 1ms/step - loss: 0.4976 - accuracy: 0.7961\n",
      "Epoch 2/100\n",
      "640/640 [==============================] - 1s 1ms/step - loss: 0.4309 - accuracy: 0.7961\n",
      "Epoch 3/100\n",
      "640/640 [==============================] - 1s 1ms/step - loss: 0.4265 - accuracy: 0.7961\n",
      "Epoch 4/100\n",
      "640/640 [==============================] - 1s 1ms/step - loss: 0.4234 - accuracy: 0.7961\n",
      "Epoch 5/100\n",
      "640/640 [==============================] - 1s 1ms/step - loss: 0.4191 - accuracy: 0.8114\n",
      "Epoch 6/100\n",
      "640/640 [==============================] - 1s 1ms/step - loss: 0.4167 - accuracy: 0.8227\n",
      "Epoch 7/100\n",
      "640/640 [==============================] - 1s 1ms/step - loss: 0.4155 - accuracy: 0.8288\n",
      "Epoch 8/100\n",
      "640/640 [==============================] - 1s 1ms/step - loss: 0.4138 - accuracy: 0.8305\n",
      "Epoch 9/100\n",
      "640/640 [==============================] - 1s 1ms/step - loss: 0.4130 - accuracy: 0.8300\n",
      "Epoch 10/100\n",
      "640/640 [==============================] - 1s 1ms/step - loss: 0.4120 - accuracy: 0.8313\n",
      "Epoch 11/100\n",
      "640/640 [==============================] - 1s 1ms/step - loss: 0.4111 - accuracy: 0.8317\n",
      "Epoch 12/100\n",
      "640/640 [==============================] - 1s 1ms/step - loss: 0.4101 - accuracy: 0.8334\n",
      "Epoch 13/100\n",
      "640/640 [==============================] - 1s 1ms/step - loss: 0.4096 - accuracy: 0.8338\n",
      "Epoch 14/100\n",
      "640/640 [==============================] - 1s 1ms/step - loss: 0.4085 - accuracy: 0.8342\n",
      "Epoch 15/100\n",
      "640/640 [==============================] - 1s 2ms/step - loss: 0.4077 - accuracy: 0.8342\n",
      "Epoch 16/100\n",
      "640/640 [==============================] - 1s 1ms/step - loss: 0.4078 - accuracy: 0.8333\n",
      "Epoch 17/100\n",
      "640/640 [==============================] - 1s 1ms/step - loss: 0.4072 - accuracy: 0.8338\n",
      "Epoch 18/100\n",
      "640/640 [==============================] - 1s 1ms/step - loss: 0.4065 - accuracy: 0.8336\n",
      "Epoch 19/100\n",
      "640/640 [==============================] - 1s 1ms/step - loss: 0.4068 - accuracy: 0.8341\n",
      "Epoch 20/100\n",
      "640/640 [==============================] - 1s 1ms/step - loss: 0.4062 - accuracy: 0.8361\n",
      "Epoch 21/100\n",
      "640/640 [==============================] - 1s 1ms/step - loss: 0.4058 - accuracy: 0.8356\n",
      "Epoch 22/100\n",
      "640/640 [==============================] - 1s 1ms/step - loss: 0.4052 - accuracy: 0.8338\n",
      "Epoch 23/100\n",
      "640/640 [==============================] - 1s 1ms/step - loss: 0.4054 - accuracy: 0.8350\n",
      "Epoch 24/100\n",
      "640/640 [==============================] - 1s 1ms/step - loss: 0.4050 - accuracy: 0.8345\n",
      "Epoch 25/100\n",
      "640/640 [==============================] - 1s 1ms/step - loss: 0.4047 - accuracy: 0.8339\n",
      "Epoch 26/100\n",
      "640/640 [==============================] - 1s 1ms/step - loss: 0.4043 - accuracy: 0.8352\n",
      "Epoch 27/100\n",
      "640/640 [==============================] - 1s 1ms/step - loss: 0.4042 - accuracy: 0.8350\n",
      "Epoch 28/100\n",
      "640/640 [==============================] - 1s 1ms/step - loss: 0.4037 - accuracy: 0.8348\n",
      "Epoch 29/100\n",
      "640/640 [==============================] - 1s 1ms/step - loss: 0.4044 - accuracy: 0.8348\n",
      "Epoch 30/100\n",
      "640/640 [==============================] - 1s 1ms/step - loss: 0.4028 - accuracy: 0.8347\n",
      "Epoch 31/100\n",
      "640/640 [==============================] - 1s 1ms/step - loss: 0.4036 - accuracy: 0.8352\n",
      "Epoch 32/100\n",
      "640/640 [==============================] - 1s 1ms/step - loss: 0.4034 - accuracy: 0.8352\n",
      "Epoch 33/100\n",
      "640/640 [==============================] - 1s 1ms/step - loss: 0.4035 - accuracy: 0.8359\n",
      "Epoch 34/100\n",
      "640/640 [==============================] - 1s 1ms/step - loss: 0.4025 - accuracy: 0.8348\n",
      "Epoch 35/100\n",
      "640/640 [==============================] - 1s 1ms/step - loss: 0.4034 - accuracy: 0.8342\n",
      "Epoch 36/100\n",
      "640/640 [==============================] - 1s 1ms/step - loss: 0.4028 - accuracy: 0.8352\n",
      "Epoch 37/100\n",
      "640/640 [==============================] - 1s 1ms/step - loss: 0.4029 - accuracy: 0.8350\n",
      "Epoch 38/100\n",
      "640/640 [==============================] - 1s 1ms/step - loss: 0.4027 - accuracy: 0.8353\n",
      "Epoch 39/100\n",
      "640/640 [==============================] - 1s 1ms/step - loss: 0.4021 - accuracy: 0.8356\n",
      "Epoch 40/100\n",
      "640/640 [==============================] - 1s 1ms/step - loss: 0.4021 - accuracy: 0.8353\n",
      "Epoch 41/100\n",
      "640/640 [==============================] - 1s 1ms/step - loss: 0.4022 - accuracy: 0.8350\n",
      "Epoch 42/100\n",
      "640/640 [==============================] - 1s 1ms/step - loss: 0.4014 - accuracy: 0.8355\n",
      "Epoch 43/100\n",
      "640/640 [==============================] - 1s 1ms/step - loss: 0.4014 - accuracy: 0.8366\n",
      "Epoch 44/100\n",
      "640/640 [==============================] - 1s 1ms/step - loss: 0.4014 - accuracy: 0.8344\n",
      "Epoch 45/100\n",
      "640/640 [==============================] - 1s 1ms/step - loss: 0.4015 - accuracy: 0.8348\n",
      "Epoch 46/100\n",
      "640/640 [==============================] - 1s 1ms/step - loss: 0.4016 - accuracy: 0.8363\n",
      "Epoch 47/100\n",
      "640/640 [==============================] - 1s 1ms/step - loss: 0.4011 - accuracy: 0.8339\n",
      "Epoch 48/100\n",
      "640/640 [==============================] - 1s 1ms/step - loss: 0.4008 - accuracy: 0.8347\n",
      "Epoch 49/100\n",
      "640/640 [==============================] - 1s 1ms/step - loss: 0.4005 - accuracy: 0.8350\n",
      "Epoch 50/100\n",
      "640/640 [==============================] - 1s 1ms/step - loss: 0.4011 - accuracy: 0.8369\n",
      "Epoch 51/100\n",
      "640/640 [==============================] - 1s 1ms/step - loss: 0.4006 - accuracy: 0.8367\n",
      "Epoch 52/100\n",
      "640/640 [==============================] - 1s 1ms/step - loss: 0.4011 - accuracy: 0.8358\n",
      "Epoch 53/100\n",
      "640/640 [==============================] - 1s 1ms/step - loss: 0.4003 - accuracy: 0.8341\n",
      "Epoch 54/100\n",
      "640/640 [==============================] - 1s 1ms/step - loss: 0.4007 - accuracy: 0.8359\n",
      "Epoch 55/100\n",
      "640/640 [==============================] - 1s 1ms/step - loss: 0.4007 - accuracy: 0.8361\n",
      "Epoch 56/100\n",
      "640/640 [==============================] - 1s 1ms/step - loss: 0.4006 - accuracy: 0.8352\n",
      "Epoch 57/100\n",
      "640/640 [==============================] - 1s 1ms/step - loss: 0.3998 - accuracy: 0.8363\n",
      "Epoch 58/100\n",
      "640/640 [==============================] - 1s 1ms/step - loss: 0.4007 - accuracy: 0.8366\n",
      "Epoch 59/100\n",
      "640/640 [==============================] - 1s 1ms/step - loss: 0.4004 - accuracy: 0.8353\n",
      "Epoch 60/100\n",
      "640/640 [==============================] - 1s 1ms/step - loss: 0.4003 - accuracy: 0.8350\n",
      "Epoch 61/100\n",
      "640/640 [==============================] - 1s 1ms/step - loss: 0.4002 - accuracy: 0.8344\n",
      "Epoch 62/100\n",
      "640/640 [==============================] - 1s 1ms/step - loss: 0.4006 - accuracy: 0.8369\n",
      "Epoch 63/100\n",
      "640/640 [==============================] - 1s 1ms/step - loss: 0.4003 - accuracy: 0.8353\n",
      "Epoch 64/100\n",
      "640/640 [==============================] - 1s 1ms/step - loss: 0.4002 - accuracy: 0.8350\n",
      "Epoch 65/100\n",
      "640/640 [==============================] - 1s 1ms/step - loss: 0.4004 - accuracy: 0.8363\n",
      "Epoch 66/100\n",
      "640/640 [==============================] - 1s 1ms/step - loss: 0.4000 - accuracy: 0.8341\n",
      "Epoch 67/100\n",
      "640/640 [==============================] - 1s 1ms/step - loss: 0.3997 - accuracy: 0.8367\n",
      "Epoch 68/100\n",
      "640/640 [==============================] - 1s 1ms/step - loss: 0.4004 - accuracy: 0.8361\n",
      "Epoch 69/100\n",
      "640/640 [==============================] - 1s 1ms/step - loss: 0.4000 - accuracy: 0.8359\n",
      "Epoch 70/100\n",
      "640/640 [==============================] - 1s 1ms/step - loss: 0.3992 - accuracy: 0.8345\n",
      "Epoch 71/100\n",
      "640/640 [==============================] - 1s 1ms/step - loss: 0.3994 - accuracy: 0.8350\n",
      "Epoch 72/100\n",
      "640/640 [==============================] - 1s 1ms/step - loss: 0.3998 - accuracy: 0.8356\n",
      "Epoch 73/100\n",
      "640/640 [==============================] - 1s 1ms/step - loss: 0.3997 - accuracy: 0.8364\n",
      "Epoch 74/100\n",
      "640/640 [==============================] - 1s 1ms/step - loss: 0.3992 - accuracy: 0.8355\n",
      "Epoch 75/100\n",
      "640/640 [==============================] - 1s 1ms/step - loss: 0.4003 - accuracy: 0.8356\n",
      "Epoch 76/100\n",
      "640/640 [==============================] - 1s 1ms/step - loss: 0.4000 - accuracy: 0.8348\n",
      "Epoch 77/100\n",
      "640/640 [==============================] - 1s 1ms/step - loss: 0.3996 - accuracy: 0.8358\n",
      "Epoch 78/100\n",
      "640/640 [==============================] - 1s 1ms/step - loss: 0.3997 - accuracy: 0.8345\n",
      "Epoch 79/100\n",
      "640/640 [==============================] - 1s 1ms/step - loss: 0.3997 - accuracy: 0.8350\n",
      "Epoch 80/100\n",
      "640/640 [==============================] - 1s 1ms/step - loss: 0.4004 - accuracy: 0.8358\n",
      "Epoch 81/100\n",
      "640/640 [==============================] - 1s 1ms/step - loss: 0.3998 - accuracy: 0.8350\n",
      "Epoch 82/100\n",
      "640/640 [==============================] - 1s 1ms/step - loss: 0.3997 - accuracy: 0.8350\n",
      "Epoch 83/100\n",
      "640/640 [==============================] - 1s 1ms/step - loss: 0.3994 - accuracy: 0.8358\n",
      "Epoch 84/100\n",
      "640/640 [==============================] - 1s 1ms/step - loss: 0.3996 - accuracy: 0.8356\n",
      "Epoch 85/100\n",
      "640/640 [==============================] - 1s 1ms/step - loss: 0.3995 - accuracy: 0.8347\n",
      "Epoch 86/100\n",
      "640/640 [==============================] - 1s 1ms/step - loss: 0.3996 - accuracy: 0.8363\n",
      "Epoch 87/100\n",
      "640/640 [==============================] - 1s 1ms/step - loss: 0.3996 - accuracy: 0.8356\n",
      "Epoch 88/100\n",
      "640/640 [==============================] - 1s 1ms/step - loss: 0.3994 - accuracy: 0.8353\n",
      "Epoch 89/100\n",
      "640/640 [==============================] - 1s 1ms/step - loss: 0.3994 - accuracy: 0.8353\n",
      "Epoch 90/100\n",
      "640/640 [==============================] - 1s 1ms/step - loss: 0.3998 - accuracy: 0.8353\n",
      "Epoch 91/100\n",
      "640/640 [==============================] - 1s 2ms/step - loss: 0.3990 - accuracy: 0.8359\n",
      "Epoch 92/100\n",
      "640/640 [==============================] - 1s 2ms/step - loss: 0.3990 - accuracy: 0.8366\n",
      "Epoch 93/100\n",
      "640/640 [==============================] - 1s 2ms/step - loss: 0.3993 - accuracy: 0.8345\n",
      "Epoch 94/100\n",
      "640/640 [==============================] - 1s 1ms/step - loss: 0.3996 - accuracy: 0.8355\n",
      "Epoch 95/100\n",
      "640/640 [==============================] - 1s 2ms/step - loss: 0.3994 - accuracy: 0.8361\n",
      "Epoch 96/100\n",
      "640/640 [==============================] - 1s 1ms/step - loss: 0.3992 - accuracy: 0.8356\n",
      "Epoch 97/100\n",
      "640/640 [==============================] - 1s 1ms/step - loss: 0.3996 - accuracy: 0.8358\n",
      "Epoch 98/100\n",
      "640/640 [==============================] - 1s 1ms/step - loss: 0.3989 - accuracy: 0.8373\n",
      "Epoch 99/100\n",
      "640/640 [==============================] - 1s 1ms/step - loss: 0.3993 - accuracy: 0.8369\n",
      "Epoch 100/100\n",
      "640/640 [==============================] - 1s 1ms/step - loss: 0.3991 - accuracy: 0.8367\n",
      "160/160 [==============================] - 0s 884us/step\n"
     ]
    },
    {
     "name": "stderr",
     "output_type": "stream",
     "text": [
      "WARNING:absl:Found untraced functions such as _update_step_xla while saving (showing 1 of 1). These functions will not be directly callable after loading.\n"
     ]
    },
    {
     "name": "stdout",
     "output_type": "stream",
     "text": [
      "INFO:tensorflow:Assets written to: C:\\Users\\user\\AppData\\Local\\Temp\\tmpmw999hgl\\assets\n"
     ]
    },
    {
     "name": "stderr",
     "output_type": "stream",
     "text": [
      "INFO:tensorflow:Assets written to: C:\\Users\\user\\AppData\\Local\\Temp\\tmpmw999hgl\\assets\n"
     ]
    },
    {
     "name": "stdout",
     "output_type": "stream",
     "text": [
      "Epoch 1/100\n",
      "640/640 [==============================] - 1s 1ms/step - loss: 0.4933 - accuracy: 0.7958\n",
      "Epoch 2/100\n",
      "640/640 [==============================] - 1s 1ms/step - loss: 0.4285 - accuracy: 0.7961\n",
      "Epoch 3/100\n",
      "640/640 [==============================] - 1s 1ms/step - loss: 0.4253 - accuracy: 0.7961\n",
      "Epoch 4/100\n",
      "640/640 [==============================] - 1s 1ms/step - loss: 0.4223 - accuracy: 0.7961\n",
      "Epoch 5/100\n",
      "640/640 [==============================] - 1s 1ms/step - loss: 0.4192 - accuracy: 0.8080\n",
      "Epoch 6/100\n",
      "640/640 [==============================] - 1s 1ms/step - loss: 0.4175 - accuracy: 0.8217\n",
      "Epoch 7/100\n",
      "640/640 [==============================] - 1s 1ms/step - loss: 0.4156 - accuracy: 0.8267\n",
      "Epoch 8/100\n",
      "640/640 [==============================] - 1s 1ms/step - loss: 0.4142 - accuracy: 0.8292\n",
      "Epoch 9/100\n",
      "640/640 [==============================] - 1s 1ms/step - loss: 0.4125 - accuracy: 0.8303\n",
      "Epoch 10/100\n",
      "640/640 [==============================] - 1s 1ms/step - loss: 0.4119 - accuracy: 0.8306\n",
      "Epoch 11/100\n",
      "640/640 [==============================] - 1s 1ms/step - loss: 0.4108 - accuracy: 0.8323\n",
      "Epoch 12/100\n",
      "640/640 [==============================] - 1s 1ms/step - loss: 0.4101 - accuracy: 0.8334\n",
      "Epoch 13/100\n",
      "640/640 [==============================] - 1s 1ms/step - loss: 0.4090 - accuracy: 0.8338\n",
      "Epoch 14/100\n",
      "640/640 [==============================] - 1s 1ms/step - loss: 0.4079 - accuracy: 0.8334\n",
      "Epoch 15/100\n",
      "640/640 [==============================] - 1s 1ms/step - loss: 0.4074 - accuracy: 0.8347\n",
      "Epoch 16/100\n",
      "640/640 [==============================] - 1s 1ms/step - loss: 0.4067 - accuracy: 0.8334\n",
      "Epoch 17/100\n",
      "640/640 [==============================] - 1s 1ms/step - loss: 0.4063 - accuracy: 0.8348\n",
      "Epoch 18/100\n",
      "640/640 [==============================] - 1s 1ms/step - loss: 0.4059 - accuracy: 0.8350\n",
      "Epoch 19/100\n",
      "640/640 [==============================] - 1s 1ms/step - loss: 0.4052 - accuracy: 0.8356\n",
      "Epoch 20/100\n",
      "640/640 [==============================] - 1s 1ms/step - loss: 0.4047 - accuracy: 0.8359\n",
      "Epoch 21/100\n",
      "640/640 [==============================] - 1s 1ms/step - loss: 0.4043 - accuracy: 0.8372\n",
      "Epoch 22/100\n",
      "640/640 [==============================] - 1s 1ms/step - loss: 0.4035 - accuracy: 0.8359\n",
      "Epoch 23/100\n",
      "640/640 [==============================] - 1s 1ms/step - loss: 0.4030 - accuracy: 0.8363\n",
      "Epoch 24/100\n",
      "640/640 [==============================] - 1s 1ms/step - loss: 0.4030 - accuracy: 0.8342\n",
      "Epoch 25/100\n",
      "640/640 [==============================] - 1s 1ms/step - loss: 0.4025 - accuracy: 0.8372\n",
      "Epoch 26/100\n",
      "640/640 [==============================] - 1s 1ms/step - loss: 0.4021 - accuracy: 0.8353\n",
      "Epoch 27/100\n",
      "640/640 [==============================] - 1s 1ms/step - loss: 0.4022 - accuracy: 0.8361\n",
      "Epoch 28/100\n",
      "640/640 [==============================] - 1s 1ms/step - loss: 0.4015 - accuracy: 0.8363\n",
      "Epoch 29/100\n",
      "640/640 [==============================] - 1s 1ms/step - loss: 0.4017 - accuracy: 0.8358\n",
      "Epoch 30/100\n",
      "640/640 [==============================] - 1s 1ms/step - loss: 0.4008 - accuracy: 0.8369\n",
      "Epoch 31/100\n",
      "640/640 [==============================] - 1s 1ms/step - loss: 0.4010 - accuracy: 0.8367\n",
      "Epoch 32/100\n",
      "640/640 [==============================] - 1s 1ms/step - loss: 0.4007 - accuracy: 0.8361\n",
      "Epoch 33/100\n",
      "640/640 [==============================] - 1s 1ms/step - loss: 0.4003 - accuracy: 0.8359\n",
      "Epoch 34/100\n",
      "640/640 [==============================] - 1s 1ms/step - loss: 0.4001 - accuracy: 0.8378\n",
      "Epoch 35/100\n",
      "640/640 [==============================] - 1s 1ms/step - loss: 0.4002 - accuracy: 0.8369\n",
      "Epoch 36/100\n",
      "640/640 [==============================] - 1s 1ms/step - loss: 0.3998 - accuracy: 0.8372\n",
      "Epoch 37/100\n",
      "640/640 [==============================] - 1s 1ms/step - loss: 0.3989 - accuracy: 0.8364\n",
      "Epoch 38/100\n",
      "640/640 [==============================] - 1s 1ms/step - loss: 0.3988 - accuracy: 0.8380\n",
      "Epoch 39/100\n",
      "640/640 [==============================] - 1s 1ms/step - loss: 0.3991 - accuracy: 0.8369\n",
      "Epoch 40/100\n",
      "640/640 [==============================] - 1s 1ms/step - loss: 0.3984 - accuracy: 0.8370\n",
      "Epoch 41/100\n",
      "640/640 [==============================] - 1s 1ms/step - loss: 0.3986 - accuracy: 0.8378\n",
      "Epoch 42/100\n",
      "640/640 [==============================] - 1s 1ms/step - loss: 0.3981 - accuracy: 0.8378\n",
      "Epoch 43/100\n",
      "640/640 [==============================] - 1s 1ms/step - loss: 0.3983 - accuracy: 0.8383\n",
      "Epoch 44/100\n",
      "640/640 [==============================] - 1s 1ms/step - loss: 0.3984 - accuracy: 0.8366\n",
      "Epoch 45/100\n",
      "640/640 [==============================] - 1s 1ms/step - loss: 0.3977 - accuracy: 0.8395\n",
      "Epoch 46/100\n",
      "640/640 [==============================] - 1s 1ms/step - loss: 0.3981 - accuracy: 0.8391\n",
      "Epoch 47/100\n",
      "640/640 [==============================] - 1s 1ms/step - loss: 0.3978 - accuracy: 0.8384\n",
      "Epoch 48/100\n",
      "640/640 [==============================] - 1s 1ms/step - loss: 0.3971 - accuracy: 0.8392\n",
      "Epoch 49/100\n",
      "640/640 [==============================] - 1s 1ms/step - loss: 0.3979 - accuracy: 0.8391\n",
      "Epoch 50/100\n",
      "640/640 [==============================] - 1s 1ms/step - loss: 0.3974 - accuracy: 0.8369\n",
      "Epoch 51/100\n",
      "640/640 [==============================] - 1s 1ms/step - loss: 0.3976 - accuracy: 0.8384\n",
      "Epoch 52/100\n",
      "640/640 [==============================] - 1s 1ms/step - loss: 0.3974 - accuracy: 0.8367\n",
      "Epoch 53/100\n",
      "640/640 [==============================] - 1s 1ms/step - loss: 0.3965 - accuracy: 0.8395\n",
      "Epoch 54/100\n",
      "640/640 [==============================] - 1s 1ms/step - loss: 0.3973 - accuracy: 0.8380\n",
      "Epoch 55/100\n",
      "640/640 [==============================] - 1s 1ms/step - loss: 0.3972 - accuracy: 0.8388\n",
      "Epoch 56/100\n",
      "640/640 [==============================] - 1s 1ms/step - loss: 0.3971 - accuracy: 0.8395\n",
      "Epoch 57/100\n",
      "640/640 [==============================] - 1s 1ms/step - loss: 0.3971 - accuracy: 0.8384\n",
      "Epoch 58/100\n",
      "640/640 [==============================] - 1s 1ms/step - loss: 0.3971 - accuracy: 0.8372\n",
      "Epoch 59/100\n",
      "640/640 [==============================] - 1s 1ms/step - loss: 0.3968 - accuracy: 0.8383\n",
      "Epoch 60/100\n",
      "640/640 [==============================] - 1s 1ms/step - loss: 0.3966 - accuracy: 0.8372\n",
      "Epoch 61/100\n",
      "640/640 [==============================] - 1s 1ms/step - loss: 0.3970 - accuracy: 0.8381\n",
      "Epoch 62/100\n",
      "640/640 [==============================] - 1s 1ms/step - loss: 0.3969 - accuracy: 0.8391\n",
      "Epoch 63/100\n",
      "640/640 [==============================] - 1s 1ms/step - loss: 0.3969 - accuracy: 0.8391\n",
      "Epoch 64/100\n",
      "640/640 [==============================] - 1s 1ms/step - loss: 0.3964 - accuracy: 0.8386\n",
      "Epoch 65/100\n",
      "640/640 [==============================] - 1s 1ms/step - loss: 0.3968 - accuracy: 0.8384\n",
      "Epoch 66/100\n",
      "640/640 [==============================] - 1s 1ms/step - loss: 0.3968 - accuracy: 0.8386\n",
      "Epoch 67/100\n",
      "640/640 [==============================] - 1s 1ms/step - loss: 0.3969 - accuracy: 0.8389\n",
      "Epoch 68/100\n",
      "640/640 [==============================] - 1s 1ms/step - loss: 0.3963 - accuracy: 0.8383\n",
      "Epoch 69/100\n",
      "640/640 [==============================] - 1s 1ms/step - loss: 0.3963 - accuracy: 0.8392\n",
      "Epoch 70/100\n",
      "640/640 [==============================] - 1s 1ms/step - loss: 0.3965 - accuracy: 0.8384\n",
      "Epoch 71/100\n",
      "640/640 [==============================] - 1s 1ms/step - loss: 0.3962 - accuracy: 0.8408\n",
      "Epoch 72/100\n",
      "640/640 [==============================] - 1s 1ms/step - loss: 0.3965 - accuracy: 0.8408\n",
      "Epoch 73/100\n",
      "640/640 [==============================] - 1s 1ms/step - loss: 0.3964 - accuracy: 0.8388\n",
      "Epoch 74/100\n",
      "640/640 [==============================] - 1s 1ms/step - loss: 0.3963 - accuracy: 0.8372\n",
      "Epoch 75/100\n",
      "640/640 [==============================] - 1s 1ms/step - loss: 0.3966 - accuracy: 0.8386\n",
      "Epoch 76/100\n",
      "640/640 [==============================] - 1s 1ms/step - loss: 0.3962 - accuracy: 0.8381\n",
      "Epoch 77/100\n",
      "640/640 [==============================] - 1s 1ms/step - loss: 0.3963 - accuracy: 0.8392\n",
      "Epoch 78/100\n",
      "640/640 [==============================] - 1s 1ms/step - loss: 0.3960 - accuracy: 0.8392\n",
      "Epoch 79/100\n",
      "640/640 [==============================] - 1s 1ms/step - loss: 0.3966 - accuracy: 0.8395\n",
      "Epoch 80/100\n",
      "640/640 [==============================] - 1s 1ms/step - loss: 0.3962 - accuracy: 0.8389\n",
      "Epoch 81/100\n",
      "640/640 [==============================] - 1s 1ms/step - loss: 0.3963 - accuracy: 0.8386\n",
      "Epoch 82/100\n",
      "640/640 [==============================] - 1s 1ms/step - loss: 0.3960 - accuracy: 0.8384\n",
      "Epoch 83/100\n",
      "640/640 [==============================] - 1s 1ms/step - loss: 0.3960 - accuracy: 0.8403\n",
      "Epoch 84/100\n",
      "640/640 [==============================] - 1s 1ms/step - loss: 0.3958 - accuracy: 0.8389\n",
      "Epoch 85/100\n",
      "640/640 [==============================] - 1s 1ms/step - loss: 0.3962 - accuracy: 0.8397\n",
      "Epoch 86/100\n",
      "640/640 [==============================] - 1s 1ms/step - loss: 0.3957 - accuracy: 0.8384\n",
      "Epoch 87/100\n",
      "640/640 [==============================] - 1s 1ms/step - loss: 0.3962 - accuracy: 0.8383\n",
      "Epoch 88/100\n",
      "640/640 [==============================] - 1s 1ms/step - loss: 0.3960 - accuracy: 0.8406\n",
      "Epoch 89/100\n",
      "640/640 [==============================] - 1s 1ms/step - loss: 0.3959 - accuracy: 0.8394\n",
      "Epoch 90/100\n",
      "640/640 [==============================] - 1s 1ms/step - loss: 0.3960 - accuracy: 0.8383\n",
      "Epoch 91/100\n",
      "640/640 [==============================] - 1s 1ms/step - loss: 0.3959 - accuracy: 0.8403\n",
      "Epoch 92/100\n",
      "640/640 [==============================] - 1s 1ms/step - loss: 0.3957 - accuracy: 0.8409\n",
      "Epoch 93/100\n",
      "640/640 [==============================] - 1s 1ms/step - loss: 0.3956 - accuracy: 0.8398\n",
      "Epoch 94/100\n",
      "640/640 [==============================] - 1s 1ms/step - loss: 0.3956 - accuracy: 0.8403\n",
      "Epoch 95/100\n",
      "640/640 [==============================] - 1s 1ms/step - loss: 0.3962 - accuracy: 0.8408\n",
      "Epoch 96/100\n",
      "640/640 [==============================] - 1s 1ms/step - loss: 0.3957 - accuracy: 0.8395\n",
      "Epoch 97/100\n",
      "640/640 [==============================] - 1s 1ms/step - loss: 0.3958 - accuracy: 0.8397\n",
      "Epoch 98/100\n",
      "640/640 [==============================] - 1s 1ms/step - loss: 0.3959 - accuracy: 0.8384\n",
      "Epoch 99/100\n",
      "640/640 [==============================] - 1s 1ms/step - loss: 0.3952 - accuracy: 0.8398\n",
      "Epoch 100/100\n",
      "640/640 [==============================] - 1s 1ms/step - loss: 0.3957 - accuracy: 0.8380\n",
      "160/160 [==============================] - 0s 884us/step\n"
     ]
    },
    {
     "name": "stderr",
     "output_type": "stream",
     "text": [
      "WARNING:absl:Found untraced functions such as _update_step_xla while saving (showing 1 of 1). These functions will not be directly callable after loading.\n"
     ]
    },
    {
     "name": "stdout",
     "output_type": "stream",
     "text": [
      "INFO:tensorflow:Assets written to: C:\\Users\\user\\AppData\\Local\\Temp\\tmpj_3p5cl8\\assets\n"
     ]
    },
    {
     "name": "stderr",
     "output_type": "stream",
     "text": [
      "INFO:tensorflow:Assets written to: C:\\Users\\user\\AppData\\Local\\Temp\\tmpj_3p5cl8\\assets\n"
     ]
    },
    {
     "name": "stdout",
     "output_type": "stream",
     "text": [
      "Epoch 1/50\n",
      "200/200 [==============================] - 1s 1ms/step - loss: 0.5992 - accuracy: 0.7952\n",
      "Epoch 2/50\n",
      "200/200 [==============================] - 0s 1ms/step - loss: 0.4421 - accuracy: 0.7959\n",
      "Epoch 3/50\n",
      "200/200 [==============================] - 0s 1ms/step - loss: 0.4334 - accuracy: 0.7959\n",
      "Epoch 4/50\n",
      "200/200 [==============================] - 0s 1ms/step - loss: 0.4307 - accuracy: 0.7959\n",
      "Epoch 5/50\n",
      "200/200 [==============================] - 0s 1ms/step - loss: 0.4289 - accuracy: 0.7959\n",
      "Epoch 6/50\n",
      "200/200 [==============================] - 0s 1ms/step - loss: 0.4274 - accuracy: 0.7959\n",
      "Epoch 7/50\n",
      "200/200 [==============================] - 0s 1ms/step - loss: 0.4256 - accuracy: 0.7959\n",
      "Epoch 8/50\n",
      "200/200 [==============================] - 0s 1ms/step - loss: 0.4236 - accuracy: 0.7959\n",
      "Epoch 9/50\n",
      "200/200 [==============================] - 0s 1ms/step - loss: 0.4218 - accuracy: 0.7959\n",
      "Epoch 10/50\n",
      "200/200 [==============================] - 0s 1ms/step - loss: 0.4204 - accuracy: 0.8120\n",
      "Epoch 11/50\n",
      "200/200 [==============================] - 0s 1ms/step - loss: 0.4191 - accuracy: 0.8222\n",
      "Epoch 12/50\n",
      "200/200 [==============================] - 0s 1ms/step - loss: 0.4181 - accuracy: 0.8220\n",
      "Epoch 13/50\n",
      "200/200 [==============================] - 0s 1ms/step - loss: 0.4173 - accuracy: 0.8242\n",
      "Epoch 14/50\n",
      "200/200 [==============================] - 0s 1ms/step - loss: 0.4167 - accuracy: 0.8258\n",
      "Epoch 15/50\n",
      "200/200 [==============================] - 0s 1ms/step - loss: 0.4159 - accuracy: 0.8277\n",
      "Epoch 16/50\n",
      "200/200 [==============================] - 0s 1ms/step - loss: 0.4150 - accuracy: 0.8283\n",
      "Epoch 17/50\n",
      "200/200 [==============================] - 0s 1ms/step - loss: 0.4144 - accuracy: 0.8300\n",
      "Epoch 18/50\n",
      "200/200 [==============================] - 0s 1ms/step - loss: 0.4141 - accuracy: 0.8289\n",
      "Epoch 19/50\n",
      "200/200 [==============================] - 0s 1ms/step - loss: 0.4133 - accuracy: 0.8292\n",
      "Epoch 20/50\n",
      "200/200 [==============================] - 0s 1ms/step - loss: 0.4131 - accuracy: 0.8297\n",
      "Epoch 21/50\n",
      "200/200 [==============================] - 0s 1ms/step - loss: 0.4124 - accuracy: 0.8308\n",
      "Epoch 22/50\n",
      "200/200 [==============================] - 0s 1ms/step - loss: 0.4122 - accuracy: 0.8305\n",
      "Epoch 23/50\n",
      "200/200 [==============================] - 0s 1ms/step - loss: 0.4115 - accuracy: 0.8297\n",
      "Epoch 24/50\n",
      "200/200 [==============================] - 0s 1ms/step - loss: 0.4115 - accuracy: 0.8308\n",
      "Epoch 25/50\n",
      "200/200 [==============================] - 0s 1ms/step - loss: 0.4111 - accuracy: 0.8313\n",
      "Epoch 26/50\n",
      "200/200 [==============================] - 0s 1ms/step - loss: 0.4109 - accuracy: 0.8311\n",
      "Epoch 27/50\n",
      "200/200 [==============================] - 0s 1ms/step - loss: 0.4102 - accuracy: 0.8300\n",
      "Epoch 28/50\n",
      "200/200 [==============================] - 0s 1ms/step - loss: 0.4102 - accuracy: 0.8308\n",
      "Epoch 29/50\n",
      "200/200 [==============================] - 0s 1ms/step - loss: 0.4099 - accuracy: 0.8306\n",
      "Epoch 30/50\n",
      "200/200 [==============================] - 0s 1ms/step - loss: 0.4094 - accuracy: 0.8311\n",
      "Epoch 31/50\n",
      "200/200 [==============================] - 0s 1ms/step - loss: 0.4094 - accuracy: 0.8314\n",
      "Epoch 32/50\n",
      "200/200 [==============================] - 0s 1ms/step - loss: 0.4086 - accuracy: 0.8325\n",
      "Epoch 33/50\n",
      "200/200 [==============================] - 0s 1ms/step - loss: 0.4087 - accuracy: 0.8319\n",
      "Epoch 34/50\n",
      "200/200 [==============================] - 0s 1ms/step - loss: 0.4083 - accuracy: 0.8334\n",
      "Epoch 35/50\n",
      "200/200 [==============================] - 0s 1ms/step - loss: 0.4080 - accuracy: 0.8305\n",
      "Epoch 36/50\n",
      "200/200 [==============================] - 0s 1ms/step - loss: 0.4079 - accuracy: 0.8306\n",
      "Epoch 37/50\n",
      "200/200 [==============================] - 0s 1ms/step - loss: 0.4075 - accuracy: 0.8323\n",
      "Epoch 38/50\n",
      "200/200 [==============================] - 0s 1ms/step - loss: 0.4073 - accuracy: 0.8325\n",
      "Epoch 39/50\n",
      "200/200 [==============================] - 0s 1ms/step - loss: 0.4068 - accuracy: 0.8320\n",
      "Epoch 40/50\n",
      "200/200 [==============================] - 0s 2ms/step - loss: 0.4065 - accuracy: 0.8316\n",
      "Epoch 41/50\n",
      "200/200 [==============================] - 0s 2ms/step - loss: 0.4061 - accuracy: 0.8345\n",
      "Epoch 42/50\n",
      "200/200 [==============================] - 0s 2ms/step - loss: 0.4061 - accuracy: 0.8338\n",
      "Epoch 43/50\n",
      "200/200 [==============================] - 0s 1ms/step - loss: 0.4058 - accuracy: 0.8339\n",
      "Epoch 44/50\n",
      "200/200 [==============================] - 0s 1ms/step - loss: 0.4056 - accuracy: 0.8336\n",
      "Epoch 45/50\n",
      "200/200 [==============================] - 0s 1ms/step - loss: 0.4052 - accuracy: 0.8344\n",
      "Epoch 46/50\n",
      "200/200 [==============================] - 0s 1ms/step - loss: 0.4052 - accuracy: 0.8341\n",
      "Epoch 47/50\n",
      "200/200 [==============================] - 0s 1ms/step - loss: 0.4049 - accuracy: 0.8339\n",
      "Epoch 48/50\n",
      "200/200 [==============================] - 0s 1ms/step - loss: 0.4047 - accuracy: 0.8336\n",
      "Epoch 49/50\n",
      "200/200 [==============================] - 0s 1ms/step - loss: 0.4048 - accuracy: 0.8339\n",
      "Epoch 50/50\n",
      "200/200 [==============================] - 0s 1ms/step - loss: 0.4043 - accuracy: 0.8339\n",
      "50/50 [==============================] - 0s 955us/step\n"
     ]
    },
    {
     "name": "stderr",
     "output_type": "stream",
     "text": [
      "WARNING:absl:Found untraced functions such as _update_step_xla while saving (showing 1 of 1). These functions will not be directly callable after loading.\n"
     ]
    },
    {
     "name": "stdout",
     "output_type": "stream",
     "text": [
      "INFO:tensorflow:Assets written to: C:\\Users\\user\\AppData\\Local\\Temp\\tmp88c0hki5\\assets\n"
     ]
    },
    {
     "name": "stderr",
     "output_type": "stream",
     "text": [
      "INFO:tensorflow:Assets written to: C:\\Users\\user\\AppData\\Local\\Temp\\tmp88c0hki5\\assets\n"
     ]
    },
    {
     "name": "stdout",
     "output_type": "stream",
     "text": [
      "WARNING:tensorflow:Detecting that an object or model or tf.train.Checkpoint is being deleted with unrestored values. See the following logs for the specific values in question. To silence these warnings, use `status.expect_partial()`. See https://www.tensorflow.org/api_docs/python/tf/train/Checkpoint#restorefor details about the status object returned by the restore function.\n"
     ]
    },
    {
     "name": "stderr",
     "output_type": "stream",
     "text": [
      "WARNING:tensorflow:Detecting that an object or model or tf.train.Checkpoint is being deleted with unrestored values. See the following logs for the specific values in question. To silence these warnings, use `status.expect_partial()`. See https://www.tensorflow.org/api_docs/python/tf/train/Checkpoint#restorefor details about the status object returned by the restore function.\n"
     ]
    },
    {
     "name": "stdout",
     "output_type": "stream",
     "text": [
      "WARNING:tensorflow:Value in checkpoint could not be found in the restored object: (root).keras_api.metrics.0.total\n"
     ]
    },
    {
     "name": "stderr",
     "output_type": "stream",
     "text": [
      "WARNING:tensorflow:Value in checkpoint could not be found in the restored object: (root).keras_api.metrics.0.total\n"
     ]
    },
    {
     "name": "stdout",
     "output_type": "stream",
     "text": [
      "WARNING:tensorflow:Value in checkpoint could not be found in the restored object: (root).keras_api.metrics.0.count\n"
     ]
    },
    {
     "name": "stderr",
     "output_type": "stream",
     "text": [
      "WARNING:tensorflow:Value in checkpoint could not be found in the restored object: (root).keras_api.metrics.0.count\n"
     ]
    },
    {
     "name": "stdout",
     "output_type": "stream",
     "text": [
      "WARNING:tensorflow:Value in checkpoint could not be found in the restored object: (root).keras_api.metrics.1.total\n"
     ]
    },
    {
     "name": "stderr",
     "output_type": "stream",
     "text": [
      "WARNING:tensorflow:Value in checkpoint could not be found in the restored object: (root).keras_api.metrics.1.total\n"
     ]
    },
    {
     "name": "stdout",
     "output_type": "stream",
     "text": [
      "WARNING:tensorflow:Value in checkpoint could not be found in the restored object: (root).keras_api.metrics.1.count\n"
     ]
    },
    {
     "name": "stderr",
     "output_type": "stream",
     "text": [
      "WARNING:tensorflow:Value in checkpoint could not be found in the restored object: (root).keras_api.metrics.1.count\n"
     ]
    },
    {
     "name": "stdout",
     "output_type": "stream",
     "text": [
      "WARNING:tensorflow:Detecting that an object or model or tf.train.Checkpoint is being deleted with unrestored values. See the following logs for the specific values in question. To silence these warnings, use `status.expect_partial()`. See https://www.tensorflow.org/api_docs/python/tf/train/Checkpoint#restorefor details about the status object returned by the restore function.\n"
     ]
    },
    {
     "name": "stderr",
     "output_type": "stream",
     "text": [
      "WARNING:tensorflow:Detecting that an object or model or tf.train.Checkpoint is being deleted with unrestored values. See the following logs for the specific values in question. To silence these warnings, use `status.expect_partial()`. See https://www.tensorflow.org/api_docs/python/tf/train/Checkpoint#restorefor details about the status object returned by the restore function.\n"
     ]
    },
    {
     "name": "stdout",
     "output_type": "stream",
     "text": [
      "WARNING:tensorflow:Value in checkpoint could not be found in the restored object: (root).keras_api.metrics.0.total\n"
     ]
    },
    {
     "name": "stderr",
     "output_type": "stream",
     "text": [
      "WARNING:tensorflow:Value in checkpoint could not be found in the restored object: (root).keras_api.metrics.0.total\n"
     ]
    },
    {
     "name": "stdout",
     "output_type": "stream",
     "text": [
      "WARNING:tensorflow:Value in checkpoint could not be found in the restored object: (root).keras_api.metrics.0.count\n"
     ]
    },
    {
     "name": "stderr",
     "output_type": "stream",
     "text": [
      "WARNING:tensorflow:Value in checkpoint could not be found in the restored object: (root).keras_api.metrics.0.count\n"
     ]
    },
    {
     "name": "stdout",
     "output_type": "stream",
     "text": [
      "WARNING:tensorflow:Value in checkpoint could not be found in the restored object: (root).keras_api.metrics.1.total\n"
     ]
    },
    {
     "name": "stderr",
     "output_type": "stream",
     "text": [
      "WARNING:tensorflow:Value in checkpoint could not be found in the restored object: (root).keras_api.metrics.1.total\n"
     ]
    },
    {
     "name": "stdout",
     "output_type": "stream",
     "text": [
      "WARNING:tensorflow:Value in checkpoint could not be found in the restored object: (root).keras_api.metrics.1.count\n"
     ]
    },
    {
     "name": "stderr",
     "output_type": "stream",
     "text": [
      "WARNING:tensorflow:Value in checkpoint could not be found in the restored object: (root).keras_api.metrics.1.count\n"
     ]
    },
    {
     "name": "stdout",
     "output_type": "stream",
     "text": [
      "WARNING:tensorflow:Detecting that an object or model or tf.train.Checkpoint is being deleted with unrestored values. See the following logs for the specific values in question. To silence these warnings, use `status.expect_partial()`. See https://www.tensorflow.org/api_docs/python/tf/train/Checkpoint#restorefor details about the status object returned by the restore function.\n"
     ]
    },
    {
     "name": "stderr",
     "output_type": "stream",
     "text": [
      "WARNING:tensorflow:Detecting that an object or model or tf.train.Checkpoint is being deleted with unrestored values. See the following logs for the specific values in question. To silence these warnings, use `status.expect_partial()`. See https://www.tensorflow.org/api_docs/python/tf/train/Checkpoint#restorefor details about the status object returned by the restore function.\n"
     ]
    },
    {
     "name": "stdout",
     "output_type": "stream",
     "text": [
      "WARNING:tensorflow:Value in checkpoint could not be found in the restored object: (root).keras_api.metrics.0.total\n"
     ]
    },
    {
     "name": "stderr",
     "output_type": "stream",
     "text": [
      "WARNING:tensorflow:Value in checkpoint could not be found in the restored object: (root).keras_api.metrics.0.total\n"
     ]
    },
    {
     "name": "stdout",
     "output_type": "stream",
     "text": [
      "WARNING:tensorflow:Value in checkpoint could not be found in the restored object: (root).keras_api.metrics.0.count\n"
     ]
    },
    {
     "name": "stderr",
     "output_type": "stream",
     "text": [
      "WARNING:tensorflow:Value in checkpoint could not be found in the restored object: (root).keras_api.metrics.0.count\n"
     ]
    },
    {
     "name": "stdout",
     "output_type": "stream",
     "text": [
      "WARNING:tensorflow:Value in checkpoint could not be found in the restored object: (root).keras_api.metrics.1.total\n"
     ]
    },
    {
     "name": "stderr",
     "output_type": "stream",
     "text": [
      "WARNING:tensorflow:Value in checkpoint could not be found in the restored object: (root).keras_api.metrics.1.total\n"
     ]
    },
    {
     "name": "stdout",
     "output_type": "stream",
     "text": [
      "WARNING:tensorflow:Value in checkpoint could not be found in the restored object: (root).keras_api.metrics.1.count\n"
     ]
    },
    {
     "name": "stderr",
     "output_type": "stream",
     "text": [
      "WARNING:tensorflow:Value in checkpoint could not be found in the restored object: (root).keras_api.metrics.1.count\n"
     ]
    },
    {
     "name": "stdout",
     "output_type": "stream",
     "text": [
      "WARNING:tensorflow:Detecting that an object or model or tf.train.Checkpoint is being deleted with unrestored values. See the following logs for the specific values in question. To silence these warnings, use `status.expect_partial()`. See https://www.tensorflow.org/api_docs/python/tf/train/Checkpoint#restorefor details about the status object returned by the restore function.\n"
     ]
    },
    {
     "name": "stderr",
     "output_type": "stream",
     "text": [
      "WARNING:tensorflow:Detecting that an object or model or tf.train.Checkpoint is being deleted with unrestored values. See the following logs for the specific values in question. To silence these warnings, use `status.expect_partial()`. See https://www.tensorflow.org/api_docs/python/tf/train/Checkpoint#restorefor details about the status object returned by the restore function.\n"
     ]
    },
    {
     "name": "stdout",
     "output_type": "stream",
     "text": [
      "WARNING:tensorflow:Value in checkpoint could not be found in the restored object: (root).keras_api.metrics.0.total\n"
     ]
    },
    {
     "name": "stderr",
     "output_type": "stream",
     "text": [
      "WARNING:tensorflow:Value in checkpoint could not be found in the restored object: (root).keras_api.metrics.0.total\n"
     ]
    },
    {
     "name": "stdout",
     "output_type": "stream",
     "text": [
      "WARNING:tensorflow:Value in checkpoint could not be found in the restored object: (root).keras_api.metrics.0.count\n"
     ]
    },
    {
     "name": "stderr",
     "output_type": "stream",
     "text": [
      "WARNING:tensorflow:Value in checkpoint could not be found in the restored object: (root).keras_api.metrics.0.count\n"
     ]
    },
    {
     "name": "stdout",
     "output_type": "stream",
     "text": [
      "WARNING:tensorflow:Value in checkpoint could not be found in the restored object: (root).keras_api.metrics.1.total\n"
     ]
    },
    {
     "name": "stderr",
     "output_type": "stream",
     "text": [
      "WARNING:tensorflow:Value in checkpoint could not be found in the restored object: (root).keras_api.metrics.1.total\n"
     ]
    },
    {
     "name": "stdout",
     "output_type": "stream",
     "text": [
      "WARNING:tensorflow:Value in checkpoint could not be found in the restored object: (root).keras_api.metrics.1.count\n"
     ]
    },
    {
     "name": "stderr",
     "output_type": "stream",
     "text": [
      "WARNING:tensorflow:Value in checkpoint could not be found in the restored object: (root).keras_api.metrics.1.count\n"
     ]
    },
    {
     "name": "stdout",
     "output_type": "stream",
     "text": [
      "Epoch 1/50\n",
      "200/200 [==============================] - 1s 1ms/step - loss: 0.6058 - accuracy: 0.7945\n",
      "Epoch 2/50\n",
      "200/200 [==============================] - 0s 1ms/step - loss: 0.4410 - accuracy: 0.7959\n",
      "Epoch 3/50\n",
      "200/200 [==============================] - 0s 1ms/step - loss: 0.4326 - accuracy: 0.7959\n",
      "Epoch 4/50\n",
      "200/200 [==============================] - 0s 1ms/step - loss: 0.4304 - accuracy: 0.7959\n",
      "Epoch 5/50\n",
      "200/200 [==============================] - 0s 1ms/step - loss: 0.4284 - accuracy: 0.7959\n",
      "Epoch 6/50\n",
      "200/200 [==============================] - 0s 1ms/step - loss: 0.4267 - accuracy: 0.7959\n",
      "Epoch 7/50\n",
      "200/200 [==============================] - 0s 1ms/step - loss: 0.4251 - accuracy: 0.7959\n",
      "Epoch 8/50\n",
      "200/200 [==============================] - 0s 1ms/step - loss: 0.4230 - accuracy: 0.7959\n",
      "Epoch 9/50\n",
      "200/200 [==============================] - 0s 1ms/step - loss: 0.4213 - accuracy: 0.7959\n",
      "Epoch 10/50\n",
      "200/200 [==============================] - 0s 1ms/step - loss: 0.4190 - accuracy: 0.8103\n",
      "Epoch 11/50\n",
      "200/200 [==============================] - 0s 1ms/step - loss: 0.4181 - accuracy: 0.8205\n",
      "Epoch 12/50\n",
      "200/200 [==============================] - 0s 1ms/step - loss: 0.4171 - accuracy: 0.8219\n",
      "Epoch 13/50\n",
      "200/200 [==============================] - 0s 1ms/step - loss: 0.4161 - accuracy: 0.8231\n",
      "Epoch 14/50\n",
      "200/200 [==============================] - 0s 1ms/step - loss: 0.4154 - accuracy: 0.8244\n",
      "Epoch 15/50\n",
      "200/200 [==============================] - 0s 1ms/step - loss: 0.4146 - accuracy: 0.8270\n",
      "Epoch 16/50\n",
      "200/200 [==============================] - 0s 1ms/step - loss: 0.4137 - accuracy: 0.8289\n",
      "Epoch 17/50\n",
      "200/200 [==============================] - 0s 1ms/step - loss: 0.4129 - accuracy: 0.8277\n",
      "Epoch 18/50\n",
      "200/200 [==============================] - 0s 1ms/step - loss: 0.4124 - accuracy: 0.8308\n",
      "Epoch 19/50\n",
      "200/200 [==============================] - 0s 1ms/step - loss: 0.4116 - accuracy: 0.8303\n",
      "Epoch 20/50\n",
      "200/200 [==============================] - 0s 1ms/step - loss: 0.4114 - accuracy: 0.8316\n",
      "Epoch 21/50\n",
      "200/200 [==============================] - 0s 1ms/step - loss: 0.4104 - accuracy: 0.8298\n",
      "Epoch 22/50\n",
      "200/200 [==============================] - 0s 1ms/step - loss: 0.4103 - accuracy: 0.8316\n",
      "Epoch 23/50\n",
      "200/200 [==============================] - 0s 1ms/step - loss: 0.4095 - accuracy: 0.8317\n",
      "Epoch 24/50\n",
      "200/200 [==============================] - 0s 2ms/step - loss: 0.4088 - accuracy: 0.8333\n",
      "Epoch 25/50\n",
      "200/200 [==============================] - 0s 2ms/step - loss: 0.4085 - accuracy: 0.8320\n",
      "Epoch 26/50\n",
      "200/200 [==============================] - 0s 1ms/step - loss: 0.4077 - accuracy: 0.8334\n",
      "Epoch 27/50\n",
      "200/200 [==============================] - 0s 1ms/step - loss: 0.4079 - accuracy: 0.8344\n",
      "Epoch 28/50\n",
      "200/200 [==============================] - 0s 1ms/step - loss: 0.4071 - accuracy: 0.8355\n",
      "Epoch 29/50\n",
      "200/200 [==============================] - 0s 1ms/step - loss: 0.4068 - accuracy: 0.8336\n",
      "Epoch 30/50\n",
      "200/200 [==============================] - 0s 1ms/step - loss: 0.4064 - accuracy: 0.8330\n",
      "Epoch 31/50\n",
      "200/200 [==============================] - 0s 1ms/step - loss: 0.4061 - accuracy: 0.8353\n",
      "Epoch 32/50\n",
      "200/200 [==============================] - 0s 1ms/step - loss: 0.4054 - accuracy: 0.8348\n",
      "Epoch 33/50\n",
      "200/200 [==============================] - 0s 1ms/step - loss: 0.4052 - accuracy: 0.8352\n",
      "Epoch 34/50\n",
      "200/200 [==============================] - 0s 1ms/step - loss: 0.4053 - accuracy: 0.8355\n",
      "Epoch 35/50\n",
      "200/200 [==============================] - 0s 1ms/step - loss: 0.4047 - accuracy: 0.8336\n",
      "Epoch 36/50\n",
      "200/200 [==============================] - 0s 1ms/step - loss: 0.4046 - accuracy: 0.8350\n",
      "Epoch 37/50\n",
      "200/200 [==============================] - 0s 1ms/step - loss: 0.4043 - accuracy: 0.8356\n",
      "Epoch 38/50\n",
      "200/200 [==============================] - 0s 1ms/step - loss: 0.4041 - accuracy: 0.8344\n",
      "Epoch 39/50\n",
      "200/200 [==============================] - 0s 1ms/step - loss: 0.4039 - accuracy: 0.8356\n",
      "Epoch 40/50\n",
      "200/200 [==============================] - 0s 1ms/step - loss: 0.4038 - accuracy: 0.8348\n",
      "Epoch 41/50\n",
      "200/200 [==============================] - 0s 1ms/step - loss: 0.4035 - accuracy: 0.8353\n",
      "Epoch 42/50\n",
      "200/200 [==============================] - 0s 1ms/step - loss: 0.4034 - accuracy: 0.8355\n",
      "Epoch 43/50\n",
      "200/200 [==============================] - 0s 1ms/step - loss: 0.4032 - accuracy: 0.8369\n",
      "Epoch 44/50\n",
      "200/200 [==============================] - 0s 1ms/step - loss: 0.4031 - accuracy: 0.8344\n",
      "Epoch 45/50\n",
      "200/200 [==============================] - 0s 1ms/step - loss: 0.4029 - accuracy: 0.8356\n",
      "Epoch 46/50\n",
      "200/200 [==============================] - 0s 1ms/step - loss: 0.4026 - accuracy: 0.8352\n",
      "Epoch 47/50\n",
      "200/200 [==============================] - 0s 1ms/step - loss: 0.4027 - accuracy: 0.8355\n",
      "Epoch 48/50\n",
      "200/200 [==============================] - 0s 1ms/step - loss: 0.4025 - accuracy: 0.8359\n",
      "Epoch 49/50\n",
      "200/200 [==============================] - 0s 1ms/step - loss: 0.4022 - accuracy: 0.8359\n",
      "Epoch 50/50\n",
      "200/200 [==============================] - 0s 1ms/step - loss: 0.4017 - accuracy: 0.8348\n",
      "50/50 [==============================] - 0s 956us/step\n"
     ]
    },
    {
     "name": "stderr",
     "output_type": "stream",
     "text": [
      "WARNING:absl:Found untraced functions such as _update_step_xla while saving (showing 1 of 1). These functions will not be directly callable after loading.\n"
     ]
    },
    {
     "name": "stdout",
     "output_type": "stream",
     "text": [
      "INFO:tensorflow:Assets written to: C:\\Users\\user\\AppData\\Local\\Temp\\tmprqpxq8ec\\assets\n"
     ]
    },
    {
     "name": "stderr",
     "output_type": "stream",
     "text": [
      "INFO:tensorflow:Assets written to: C:\\Users\\user\\AppData\\Local\\Temp\\tmprqpxq8ec\\assets\n"
     ]
    },
    {
     "name": "stdout",
     "output_type": "stream",
     "text": [
      "Epoch 1/50\n",
      "200/200 [==============================] - 1s 1ms/step - loss: 0.6047 - accuracy: 0.7944\n",
      "Epoch 2/50\n",
      "200/200 [==============================] - 0s 1ms/step - loss: 0.4424 - accuracy: 0.7959\n",
      "Epoch 3/50\n",
      "200/200 [==============================] - 0s 1ms/step - loss: 0.4330 - accuracy: 0.7959\n",
      "Epoch 4/50\n",
      "200/200 [==============================] - 0s 1ms/step - loss: 0.4306 - accuracy: 0.7959\n",
      "Epoch 5/50\n",
      "200/200 [==============================] - 0s 1ms/step - loss: 0.4291 - accuracy: 0.7959\n",
      "Epoch 6/50\n",
      "200/200 [==============================] - 0s 1ms/step - loss: 0.4275 - accuracy: 0.7959\n",
      "Epoch 7/50\n",
      "200/200 [==============================] - 0s 1ms/step - loss: 0.4258 - accuracy: 0.7959\n",
      "Epoch 8/50\n",
      "200/200 [==============================] - 0s 1ms/step - loss: 0.4240 - accuracy: 0.7959\n",
      "Epoch 9/50\n",
      "200/200 [==============================] - 0s 1ms/step - loss: 0.4220 - accuracy: 0.7959\n",
      "Epoch 10/50\n",
      "200/200 [==============================] - 0s 1ms/step - loss: 0.4197 - accuracy: 0.8095\n",
      "Epoch 11/50\n",
      "200/200 [==============================] - 0s 1ms/step - loss: 0.4187 - accuracy: 0.8236\n",
      "Epoch 12/50\n",
      "200/200 [==============================] - 0s 1ms/step - loss: 0.4173 - accuracy: 0.8256\n",
      "Epoch 13/50\n",
      "200/200 [==============================] - 0s 1ms/step - loss: 0.4161 - accuracy: 0.8252\n",
      "Epoch 14/50\n",
      "200/200 [==============================] - 0s 1ms/step - loss: 0.4150 - accuracy: 0.8280\n",
      "Epoch 15/50\n",
      "200/200 [==============================] - 0s 1ms/step - loss: 0.4127 - accuracy: 0.8314\n",
      "Epoch 16/50\n",
      "200/200 [==============================] - 0s 1ms/step - loss: 0.4103 - accuracy: 0.8327\n",
      "Epoch 17/50\n",
      "200/200 [==============================] - 0s 1ms/step - loss: 0.4086 - accuracy: 0.8331\n",
      "Epoch 18/50\n",
      "200/200 [==============================] - 0s 1ms/step - loss: 0.4074 - accuracy: 0.8330\n",
      "Epoch 19/50\n",
      "200/200 [==============================] - 0s 1ms/step - loss: 0.4061 - accuracy: 0.8338\n",
      "Epoch 20/50\n",
      "200/200 [==============================] - 0s 1ms/step - loss: 0.4046 - accuracy: 0.8348\n",
      "Epoch 21/50\n",
      "200/200 [==============================] - 0s 1ms/step - loss: 0.4040 - accuracy: 0.8353\n",
      "Epoch 22/50\n",
      "200/200 [==============================] - 0s 1ms/step - loss: 0.4032 - accuracy: 0.8352\n",
      "Epoch 23/50\n",
      "200/200 [==============================] - 0s 1ms/step - loss: 0.4026 - accuracy: 0.8359\n",
      "Epoch 24/50\n",
      "200/200 [==============================] - 0s 1ms/step - loss: 0.4016 - accuracy: 0.8356\n",
      "Epoch 25/50\n",
      "200/200 [==============================] - 0s 1ms/step - loss: 0.4012 - accuracy: 0.8358\n",
      "Epoch 26/50\n",
      "200/200 [==============================] - 0s 1ms/step - loss: 0.4006 - accuracy: 0.8347\n",
      "Epoch 27/50\n",
      "200/200 [==============================] - 0s 1ms/step - loss: 0.3997 - accuracy: 0.8342\n",
      "Epoch 28/50\n",
      "200/200 [==============================] - 0s 1ms/step - loss: 0.3993 - accuracy: 0.8353\n",
      "Epoch 29/50\n",
      "200/200 [==============================] - 0s 1ms/step - loss: 0.3988 - accuracy: 0.8355\n",
      "Epoch 30/50\n",
      "200/200 [==============================] - 0s 1ms/step - loss: 0.3982 - accuracy: 0.8358\n",
      "Epoch 31/50\n",
      "200/200 [==============================] - 0s 1ms/step - loss: 0.3977 - accuracy: 0.8370\n",
      "Epoch 32/50\n",
      "200/200 [==============================] - 0s 1ms/step - loss: 0.3977 - accuracy: 0.8364\n",
      "Epoch 33/50\n",
      "200/200 [==============================] - 0s 1ms/step - loss: 0.3971 - accuracy: 0.8366\n",
      "Epoch 34/50\n",
      "200/200 [==============================] - 0s 1ms/step - loss: 0.3972 - accuracy: 0.8366\n",
      "Epoch 35/50\n",
      "200/200 [==============================] - 0s 1ms/step - loss: 0.3969 - accuracy: 0.8363\n",
      "Epoch 36/50\n",
      "200/200 [==============================] - 0s 1ms/step - loss: 0.3962 - accuracy: 0.8389\n",
      "Epoch 37/50\n",
      "200/200 [==============================] - 0s 1ms/step - loss: 0.3962 - accuracy: 0.8372\n",
      "Epoch 38/50\n",
      "200/200 [==============================] - 0s 1ms/step - loss: 0.3960 - accuracy: 0.8361\n",
      "Epoch 39/50\n",
      "200/200 [==============================] - 0s 1ms/step - loss: 0.3954 - accuracy: 0.8353\n",
      "Epoch 40/50\n",
      "200/200 [==============================] - 0s 1ms/step - loss: 0.3952 - accuracy: 0.8388\n",
      "Epoch 41/50\n",
      "200/200 [==============================] - 0s 1ms/step - loss: 0.3954 - accuracy: 0.8381\n",
      "Epoch 42/50\n",
      "200/200 [==============================] - 0s 1ms/step - loss: 0.3950 - accuracy: 0.8369\n",
      "Epoch 43/50\n",
      "200/200 [==============================] - 0s 1ms/step - loss: 0.3949 - accuracy: 0.8355\n",
      "Epoch 44/50\n",
      "200/200 [==============================] - 0s 1ms/step - loss: 0.3942 - accuracy: 0.8377\n",
      "Epoch 45/50\n",
      "200/200 [==============================] - 0s 1ms/step - loss: 0.3939 - accuracy: 0.8364\n",
      "Epoch 46/50\n",
      "200/200 [==============================] - 0s 1ms/step - loss: 0.3941 - accuracy: 0.8366\n",
      "Epoch 47/50\n",
      "200/200 [==============================] - 0s 1ms/step - loss: 0.3940 - accuracy: 0.8389\n",
      "Epoch 48/50\n",
      "200/200 [==============================] - 0s 1ms/step - loss: 0.3938 - accuracy: 0.8375\n",
      "Epoch 49/50\n",
      "200/200 [==============================] - 0s 1ms/step - loss: 0.3939 - accuracy: 0.8381\n",
      "Epoch 50/50\n",
      "200/200 [==============================] - 0s 1ms/step - loss: 0.3938 - accuracy: 0.8383\n",
      "50/50 [==============================] - 0s 638us/step\n"
     ]
    },
    {
     "name": "stderr",
     "output_type": "stream",
     "text": [
      "WARNING:absl:Found untraced functions such as _update_step_xla while saving (showing 1 of 1). These functions will not be directly callable after loading.\n"
     ]
    },
    {
     "name": "stdout",
     "output_type": "stream",
     "text": [
      "INFO:tensorflow:Assets written to: C:\\Users\\user\\AppData\\Local\\Temp\\tmp2fvbhphn\\assets\n"
     ]
    },
    {
     "name": "stderr",
     "output_type": "stream",
     "text": [
      "INFO:tensorflow:Assets written to: C:\\Users\\user\\AppData\\Local\\Temp\\tmp2fvbhphn\\assets\n"
     ]
    },
    {
     "name": "stdout",
     "output_type": "stream",
     "text": [
      "Epoch 1/50\n",
      "200/200 [==============================] - 1s 1ms/step - loss: 0.6018 - accuracy: 0.7947\n",
      "Epoch 2/50\n",
      "200/200 [==============================] - 0s 1ms/step - loss: 0.4421 - accuracy: 0.7961\n",
      "Epoch 3/50\n",
      "200/200 [==============================] - 0s 1ms/step - loss: 0.4325 - accuracy: 0.7961\n",
      "Epoch 4/50\n",
      "200/200 [==============================] - 0s 1ms/step - loss: 0.4300 - accuracy: 0.7961\n",
      "Epoch 5/50\n",
      "200/200 [==============================] - 0s 1ms/step - loss: 0.4280 - accuracy: 0.7961\n",
      "Epoch 6/50\n",
      "200/200 [==============================] - 0s 1ms/step - loss: 0.4257 - accuracy: 0.7961\n",
      "Epoch 7/50\n",
      "200/200 [==============================] - 0s 1ms/step - loss: 0.4233 - accuracy: 0.7961\n",
      "Epoch 8/50\n",
      "200/200 [==============================] - 0s 1ms/step - loss: 0.4210 - accuracy: 0.7961\n",
      "Epoch 9/50\n",
      "200/200 [==============================] - 0s 1ms/step - loss: 0.4188 - accuracy: 0.8067\n",
      "Epoch 10/50\n",
      "200/200 [==============================] - 0s 1ms/step - loss: 0.4174 - accuracy: 0.8227\n",
      "Epoch 11/50\n",
      "200/200 [==============================] - 0s 1ms/step - loss: 0.4163 - accuracy: 0.8252\n",
      "Epoch 12/50\n",
      "200/200 [==============================] - 0s 1ms/step - loss: 0.4157 - accuracy: 0.8269\n",
      "Epoch 13/50\n",
      "200/200 [==============================] - 0s 2ms/step - loss: 0.4146 - accuracy: 0.8311\n",
      "Epoch 14/50\n",
      "200/200 [==============================] - 0s 2ms/step - loss: 0.4138 - accuracy: 0.8303\n",
      "Epoch 15/50\n",
      "200/200 [==============================] - 0s 1ms/step - loss: 0.4130 - accuracy: 0.8305\n",
      "Epoch 16/50\n",
      "200/200 [==============================] - 0s 1ms/step - loss: 0.4123 - accuracy: 0.8320\n",
      "Epoch 17/50\n",
      "200/200 [==============================] - 0s 1ms/step - loss: 0.4117 - accuracy: 0.8331\n",
      "Epoch 18/50\n",
      "200/200 [==============================] - 0s 1ms/step - loss: 0.4109 - accuracy: 0.8325\n",
      "Epoch 19/50\n",
      "200/200 [==============================] - 0s 1ms/step - loss: 0.4106 - accuracy: 0.8328\n",
      "Epoch 20/50\n",
      "200/200 [==============================] - 0s 1ms/step - loss: 0.4103 - accuracy: 0.8333\n",
      "Epoch 21/50\n",
      "200/200 [==============================] - 0s 1ms/step - loss: 0.4099 - accuracy: 0.8338\n",
      "Epoch 22/50\n",
      "200/200 [==============================] - 0s 1ms/step - loss: 0.4094 - accuracy: 0.8338\n",
      "Epoch 23/50\n",
      "200/200 [==============================] - 0s 1ms/step - loss: 0.4091 - accuracy: 0.8336\n",
      "Epoch 24/50\n",
      "200/200 [==============================] - 0s 1ms/step - loss: 0.4086 - accuracy: 0.8339\n",
      "Epoch 25/50\n",
      "200/200 [==============================] - 0s 1ms/step - loss: 0.4081 - accuracy: 0.8342\n",
      "Epoch 26/50\n",
      "200/200 [==============================] - 0s 1ms/step - loss: 0.4082 - accuracy: 0.8336\n",
      "Epoch 27/50\n",
      "200/200 [==============================] - 0s 1ms/step - loss: 0.4077 - accuracy: 0.8361\n",
      "Epoch 28/50\n",
      "200/200 [==============================] - 0s 1ms/step - loss: 0.4073 - accuracy: 0.8336\n",
      "Epoch 29/50\n",
      "200/200 [==============================] - 0s 1ms/step - loss: 0.4072 - accuracy: 0.8342\n",
      "Epoch 30/50\n",
      "200/200 [==============================] - 0s 1ms/step - loss: 0.4071 - accuracy: 0.8350\n",
      "Epoch 31/50\n",
      "200/200 [==============================] - 0s 1ms/step - loss: 0.4069 - accuracy: 0.8345\n",
      "Epoch 32/50\n",
      "200/200 [==============================] - 0s 1ms/step - loss: 0.4066 - accuracy: 0.8345\n",
      "Epoch 33/50\n",
      "200/200 [==============================] - 0s 1ms/step - loss: 0.4064 - accuracy: 0.8347\n",
      "Epoch 34/50\n",
      "200/200 [==============================] - 0s 1ms/step - loss: 0.4062 - accuracy: 0.8342\n",
      "Epoch 35/50\n",
      "200/200 [==============================] - 0s 1ms/step - loss: 0.4062 - accuracy: 0.8355\n",
      "Epoch 36/50\n",
      "200/200 [==============================] - 0s 1ms/step - loss: 0.4059 - accuracy: 0.8352\n",
      "Epoch 37/50\n",
      "200/200 [==============================] - 0s 2ms/step - loss: 0.4056 - accuracy: 0.8352\n",
      "Epoch 38/50\n",
      "200/200 [==============================] - 0s 2ms/step - loss: 0.4055 - accuracy: 0.8353\n",
      "Epoch 39/50\n",
      "200/200 [==============================] - 0s 1ms/step - loss: 0.4052 - accuracy: 0.8347\n",
      "Epoch 40/50\n",
      "200/200 [==============================] - 0s 2ms/step - loss: 0.4054 - accuracy: 0.8348\n",
      "Epoch 41/50\n",
      "200/200 [==============================] - 0s 2ms/step - loss: 0.4048 - accuracy: 0.8341\n",
      "Epoch 42/50\n",
      "200/200 [==============================] - 0s 1ms/step - loss: 0.4050 - accuracy: 0.8359\n",
      "Epoch 43/50\n",
      "200/200 [==============================] - 0s 1ms/step - loss: 0.4046 - accuracy: 0.8350\n",
      "Epoch 44/50\n",
      "200/200 [==============================] - 0s 1ms/step - loss: 0.4044 - accuracy: 0.8336\n",
      "Epoch 45/50\n",
      "200/200 [==============================] - 0s 1ms/step - loss: 0.4045 - accuracy: 0.8359\n",
      "Epoch 46/50\n",
      "200/200 [==============================] - 0s 1ms/step - loss: 0.4045 - accuracy: 0.8359\n",
      "Epoch 47/50\n",
      "200/200 [==============================] - 0s 1ms/step - loss: 0.4045 - accuracy: 0.8350\n",
      "Epoch 48/50\n",
      "200/200 [==============================] - 0s 1ms/step - loss: 0.4045 - accuracy: 0.8350\n",
      "Epoch 49/50\n",
      "200/200 [==============================] - 0s 1ms/step - loss: 0.4040 - accuracy: 0.8341\n",
      "Epoch 50/50\n",
      "200/200 [==============================] - 0s 1ms/step - loss: 0.4043 - accuracy: 0.8345\n",
      "50/50 [==============================] - 0s 1ms/step\n"
     ]
    },
    {
     "name": "stderr",
     "output_type": "stream",
     "text": [
      "WARNING:absl:Found untraced functions such as _update_step_xla while saving (showing 1 of 1). These functions will not be directly callable after loading.\n"
     ]
    },
    {
     "name": "stdout",
     "output_type": "stream",
     "text": [
      "INFO:tensorflow:Assets written to: C:\\Users\\user\\AppData\\Local\\Temp\\tmpk34s7u8f\\assets\n"
     ]
    },
    {
     "name": "stderr",
     "output_type": "stream",
     "text": [
      "INFO:tensorflow:Assets written to: C:\\Users\\user\\AppData\\Local\\Temp\\tmpk34s7u8f\\assets\n"
     ]
    },
    {
     "name": "stdout",
     "output_type": "stream",
     "text": [
      "Epoch 1/50\n",
      "200/200 [==============================] - 1s 1ms/step - loss: 0.6126 - accuracy: 0.7948\n",
      "Epoch 2/50\n",
      "200/200 [==============================] - 0s 1ms/step - loss: 0.4442 - accuracy: 0.7961\n",
      "Epoch 3/50\n",
      "200/200 [==============================] - 0s 1ms/step - loss: 0.4318 - accuracy: 0.7961\n",
      "Epoch 4/50\n",
      "200/200 [==============================] - 0s 1ms/step - loss: 0.4290 - accuracy: 0.7961\n",
      "Epoch 5/50\n",
      "200/200 [==============================] - 0s 1ms/step - loss: 0.4273 - accuracy: 0.7961\n",
      "Epoch 6/50\n",
      "200/200 [==============================] - 0s 1ms/step - loss: 0.4258 - accuracy: 0.7961\n",
      "Epoch 7/50\n",
      "200/200 [==============================] - 0s 1ms/step - loss: 0.4242 - accuracy: 0.7961\n",
      "Epoch 8/50\n",
      "200/200 [==============================] - 0s 1ms/step - loss: 0.4227 - accuracy: 0.7961\n",
      "Epoch 9/50\n",
      "200/200 [==============================] - 0s 1ms/step - loss: 0.4208 - accuracy: 0.7961\n",
      "Epoch 10/50\n",
      "200/200 [==============================] - 0s 1ms/step - loss: 0.4189 - accuracy: 0.8027\n",
      "Epoch 11/50\n",
      "200/200 [==============================] - 0s 1ms/step - loss: 0.4176 - accuracy: 0.8195\n",
      "Epoch 12/50\n",
      "200/200 [==============================] - 0s 1ms/step - loss: 0.4166 - accuracy: 0.8236\n",
      "Epoch 13/50\n",
      "200/200 [==============================] - 0s 1ms/step - loss: 0.4154 - accuracy: 0.8258\n",
      "Epoch 14/50\n",
      "200/200 [==============================] - 0s 1ms/step - loss: 0.4146 - accuracy: 0.8266\n",
      "Epoch 15/50\n",
      "200/200 [==============================] - 0s 1ms/step - loss: 0.4137 - accuracy: 0.8283\n",
      "Epoch 16/50\n",
      "200/200 [==============================] - 0s 1ms/step - loss: 0.4129 - accuracy: 0.8300\n",
      "Epoch 17/50\n",
      "200/200 [==============================] - 0s 1ms/step - loss: 0.4125 - accuracy: 0.8306\n",
      "Epoch 18/50\n",
      "200/200 [==============================] - 0s 1ms/step - loss: 0.4114 - accuracy: 0.8319\n",
      "Epoch 19/50\n",
      "200/200 [==============================] - 0s 1ms/step - loss: 0.4108 - accuracy: 0.8323\n",
      "Epoch 20/50\n",
      "200/200 [==============================] - 0s 1ms/step - loss: 0.4100 - accuracy: 0.8327\n",
      "Epoch 21/50\n",
      "200/200 [==============================] - 0s 1ms/step - loss: 0.4097 - accuracy: 0.8320\n",
      "Epoch 22/50\n",
      "200/200 [==============================] - 0s 1ms/step - loss: 0.4091 - accuracy: 0.8322\n",
      "Epoch 23/50\n",
      "200/200 [==============================] - 0s 2ms/step - loss: 0.4085 - accuracy: 0.8338\n",
      "Epoch 24/50\n",
      "200/200 [==============================] - 0s 1ms/step - loss: 0.4080 - accuracy: 0.8336\n",
      "Epoch 25/50\n",
      "200/200 [==============================] - 0s 1ms/step - loss: 0.4078 - accuracy: 0.8344\n",
      "Epoch 26/50\n",
      "200/200 [==============================] - 0s 1ms/step - loss: 0.4074 - accuracy: 0.8333\n",
      "Epoch 27/50\n",
      "200/200 [==============================] - 0s 1ms/step - loss: 0.4067 - accuracy: 0.8336\n",
      "Epoch 28/50\n",
      "200/200 [==============================] - 0s 1ms/step - loss: 0.4066 - accuracy: 0.8352\n",
      "Epoch 29/50\n",
      "200/200 [==============================] - 0s 1ms/step - loss: 0.4064 - accuracy: 0.8342\n",
      "Epoch 30/50\n",
      "200/200 [==============================] - 0s 1ms/step - loss: 0.4062 - accuracy: 0.8341\n",
      "Epoch 31/50\n",
      "200/200 [==============================] - 0s 1ms/step - loss: 0.4057 - accuracy: 0.8347\n",
      "Epoch 32/50\n",
      "200/200 [==============================] - 0s 1ms/step - loss: 0.4054 - accuracy: 0.8356\n",
      "Epoch 33/50\n",
      "200/200 [==============================] - 0s 1ms/step - loss: 0.4051 - accuracy: 0.8338\n",
      "Epoch 34/50\n",
      "200/200 [==============================] - 0s 1ms/step - loss: 0.4050 - accuracy: 0.8344\n",
      "Epoch 35/50\n",
      "200/200 [==============================] - 0s 1ms/step - loss: 0.4047 - accuracy: 0.8347\n",
      "Epoch 36/50\n",
      "200/200 [==============================] - 0s 1ms/step - loss: 0.4044 - accuracy: 0.8350\n",
      "Epoch 37/50\n",
      "200/200 [==============================] - 0s 1ms/step - loss: 0.4041 - accuracy: 0.8367\n",
      "Epoch 38/50\n",
      "200/200 [==============================] - 0s 1ms/step - loss: 0.4038 - accuracy: 0.8356\n",
      "Epoch 39/50\n",
      "200/200 [==============================] - 0s 1ms/step - loss: 0.4038 - accuracy: 0.8353\n",
      "Epoch 40/50\n",
      "200/200 [==============================] - 0s 1ms/step - loss: 0.4034 - accuracy: 0.8358\n",
      "Epoch 41/50\n",
      "200/200 [==============================] - 0s 1ms/step - loss: 0.4032 - accuracy: 0.8348\n",
      "Epoch 42/50\n",
      "200/200 [==============================] - 0s 1ms/step - loss: 0.4029 - accuracy: 0.8358\n",
      "Epoch 43/50\n",
      "200/200 [==============================] - 0s 1ms/step - loss: 0.4030 - accuracy: 0.8347\n",
      "Epoch 44/50\n",
      "200/200 [==============================] - 0s 1ms/step - loss: 0.4024 - accuracy: 0.8367\n",
      "Epoch 45/50\n",
      "200/200 [==============================] - 0s 1ms/step - loss: 0.4025 - accuracy: 0.8356\n",
      "Epoch 46/50\n",
      "200/200 [==============================] - 0s 1ms/step - loss: 0.4024 - accuracy: 0.8355\n",
      "Epoch 47/50\n",
      "200/200 [==============================] - 0s 1ms/step - loss: 0.4023 - accuracy: 0.8353\n",
      "Epoch 48/50\n",
      "200/200 [==============================] - 0s 1ms/step - loss: 0.4021 - accuracy: 0.8352\n",
      "Epoch 49/50\n",
      "200/200 [==============================] - 0s 1ms/step - loss: 0.4018 - accuracy: 0.8363\n",
      "Epoch 50/50\n",
      "200/200 [==============================] - 0s 1ms/step - loss: 0.4020 - accuracy: 0.8361\n",
      "50/50 [==============================] - 0s 1ms/step\n"
     ]
    },
    {
     "name": "stderr",
     "output_type": "stream",
     "text": [
      "WARNING:absl:Found untraced functions such as _update_step_xla while saving (showing 1 of 1). These functions will not be directly callable after loading.\n"
     ]
    },
    {
     "name": "stdout",
     "output_type": "stream",
     "text": [
      "INFO:tensorflow:Assets written to: C:\\Users\\user\\AppData\\Local\\Temp\\tmpul_jbz0g\\assets\n"
     ]
    },
    {
     "name": "stderr",
     "output_type": "stream",
     "text": [
      "INFO:tensorflow:Assets written to: C:\\Users\\user\\AppData\\Local\\Temp\\tmpul_jbz0g\\assets\n"
     ]
    },
    {
     "name": "stdout",
     "output_type": "stream",
     "text": [
      "Epoch 1/50\n",
      "200/200 [==============================] - 1s 2ms/step - loss: 0.6014 - accuracy: 0.7952\n",
      "Epoch 2/50\n",
      "200/200 [==============================] - 0s 1ms/step - loss: 0.4420 - accuracy: 0.7959\n",
      "Epoch 3/50\n",
      "200/200 [==============================] - 0s 1ms/step - loss: 0.4334 - accuracy: 0.7959\n",
      "Epoch 4/50\n",
      "200/200 [==============================] - 0s 1ms/step - loss: 0.4310 - accuracy: 0.7959\n",
      "Epoch 5/50\n",
      "200/200 [==============================] - 0s 1ms/step - loss: 0.4289 - accuracy: 0.7959\n",
      "Epoch 6/50\n",
      "200/200 [==============================] - 0s 1ms/step - loss: 0.4270 - accuracy: 0.7959\n",
      "Epoch 7/50\n",
      "200/200 [==============================] - 0s 1ms/step - loss: 0.4249 - accuracy: 0.7959\n",
      "Epoch 8/50\n",
      "200/200 [==============================] - 0s 1ms/step - loss: 0.4229 - accuracy: 0.7959\n",
      "Epoch 9/50\n",
      "200/200 [==============================] - 0s 1ms/step - loss: 0.4213 - accuracy: 0.7959\n",
      "Epoch 10/50\n",
      "200/200 [==============================] - 0s 1ms/step - loss: 0.4201 - accuracy: 0.8155\n",
      "Epoch 11/50\n",
      "200/200 [==============================] - 0s 1ms/step - loss: 0.4191 - accuracy: 0.8217\n",
      "Epoch 12/50\n",
      "200/200 [==============================] - 0s 1ms/step - loss: 0.4180 - accuracy: 0.8214\n",
      "Epoch 13/50\n",
      "200/200 [==============================] - 0s 1ms/step - loss: 0.4172 - accuracy: 0.8245\n",
      "Epoch 14/50\n",
      "200/200 [==============================] - 0s 1ms/step - loss: 0.4165 - accuracy: 0.8259\n",
      "Epoch 15/50\n",
      "200/200 [==============================] - 0s 1ms/step - loss: 0.4157 - accuracy: 0.8275\n",
      "Epoch 16/50\n",
      "200/200 [==============================] - 0s 1ms/step - loss: 0.4153 - accuracy: 0.8283\n",
      "Epoch 17/50\n",
      "200/200 [==============================] - 0s 1ms/step - loss: 0.4146 - accuracy: 0.8294\n",
      "Epoch 18/50\n",
      "200/200 [==============================] - 0s 1ms/step - loss: 0.4142 - accuracy: 0.8298\n",
      "Epoch 19/50\n",
      "200/200 [==============================] - 0s 1ms/step - loss: 0.4137 - accuracy: 0.8286\n",
      "Epoch 20/50\n",
      "200/200 [==============================] - 0s 1ms/step - loss: 0.4129 - accuracy: 0.8300\n",
      "Epoch 21/50\n",
      "200/200 [==============================] - 0s 1ms/step - loss: 0.4126 - accuracy: 0.8309\n",
      "Epoch 22/50\n",
      "200/200 [==============================] - 0s 1ms/step - loss: 0.4123 - accuracy: 0.8306\n",
      "Epoch 23/50\n",
      "200/200 [==============================] - 0s 1ms/step - loss: 0.4121 - accuracy: 0.8283\n",
      "Epoch 24/50\n",
      "200/200 [==============================] - 0s 1ms/step - loss: 0.4116 - accuracy: 0.8313\n",
      "Epoch 25/50\n",
      "200/200 [==============================] - 0s 1ms/step - loss: 0.4112 - accuracy: 0.8314\n",
      "Epoch 26/50\n",
      "200/200 [==============================] - 0s 1ms/step - loss: 0.4109 - accuracy: 0.8314\n",
      "Epoch 27/50\n",
      "200/200 [==============================] - 0s 1ms/step - loss: 0.4106 - accuracy: 0.8309\n",
      "Epoch 28/50\n",
      "200/200 [==============================] - 0s 1ms/step - loss: 0.4101 - accuracy: 0.8322\n",
      "Epoch 29/50\n",
      "200/200 [==============================] - 0s 1ms/step - loss: 0.4099 - accuracy: 0.8325\n",
      "Epoch 30/50\n",
      "200/200 [==============================] - 0s 1ms/step - loss: 0.4095 - accuracy: 0.8323\n",
      "Epoch 31/50\n",
      "200/200 [==============================] - 0s 1ms/step - loss: 0.4093 - accuracy: 0.8317\n",
      "Epoch 32/50\n",
      "200/200 [==============================] - 0s 1ms/step - loss: 0.4091 - accuracy: 0.8319\n",
      "Epoch 33/50\n",
      "200/200 [==============================] - 0s 1ms/step - loss: 0.4090 - accuracy: 0.8319\n",
      "Epoch 34/50\n",
      "200/200 [==============================] - 0s 1ms/step - loss: 0.4085 - accuracy: 0.8338\n",
      "Epoch 35/50\n",
      "200/200 [==============================] - 0s 1ms/step - loss: 0.4087 - accuracy: 0.8331\n",
      "Epoch 36/50\n",
      "200/200 [==============================] - 0s 1ms/step - loss: 0.4080 - accuracy: 0.8341\n",
      "Epoch 37/50\n",
      "200/200 [==============================] - 0s 1ms/step - loss: 0.4077 - accuracy: 0.8327\n",
      "Epoch 38/50\n",
      "200/200 [==============================] - 0s 1ms/step - loss: 0.4076 - accuracy: 0.8328\n",
      "Epoch 39/50\n",
      "200/200 [==============================] - 0s 1ms/step - loss: 0.4072 - accuracy: 0.8339\n",
      "Epoch 40/50\n",
      "200/200 [==============================] - 0s 1ms/step - loss: 0.4073 - accuracy: 0.8333\n",
      "Epoch 41/50\n",
      "200/200 [==============================] - 0s 1ms/step - loss: 0.4070 - accuracy: 0.8333\n",
      "Epoch 42/50\n",
      "200/200 [==============================] - 0s 1ms/step - loss: 0.4067 - accuracy: 0.8345\n",
      "Epoch 43/50\n",
      "200/200 [==============================] - 0s 1ms/step - loss: 0.4065 - accuracy: 0.8338\n",
      "Epoch 44/50\n",
      "200/200 [==============================] - 0s 1ms/step - loss: 0.4063 - accuracy: 0.8338\n",
      "Epoch 45/50\n",
      "200/200 [==============================] - 0s 1ms/step - loss: 0.4059 - accuracy: 0.8339\n",
      "Epoch 46/50\n",
      "200/200 [==============================] - 0s 1ms/step - loss: 0.4061 - accuracy: 0.8331\n",
      "Epoch 47/50\n",
      "200/200 [==============================] - 0s 1ms/step - loss: 0.4054 - accuracy: 0.8334\n",
      "Epoch 48/50\n",
      "200/200 [==============================] - 0s 1ms/step - loss: 0.4055 - accuracy: 0.8345\n",
      "Epoch 49/50\n",
      "200/200 [==============================] - 0s 1ms/step - loss: 0.4051 - accuracy: 0.8334\n",
      "Epoch 50/50\n",
      "200/200 [==============================] - 0s 1ms/step - loss: 0.4051 - accuracy: 0.8345\n",
      "50/50 [==============================] - 0s 1ms/step\n",
      "WARNING:tensorflow:Detecting that an object or model or tf.train.Checkpoint is being deleted with unrestored values. See the following logs for the specific values in question. To silence these warnings, use `status.expect_partial()`. See https://www.tensorflow.org/api_docs/python/tf/train/Checkpoint#restorefor details about the status object returned by the restore function.\n"
     ]
    },
    {
     "name": "stderr",
     "output_type": "stream",
     "text": [
      "WARNING:tensorflow:Detecting that an object or model or tf.train.Checkpoint is being deleted with unrestored values. See the following logs for the specific values in question. To silence these warnings, use `status.expect_partial()`. See https://www.tensorflow.org/api_docs/python/tf/train/Checkpoint#restorefor details about the status object returned by the restore function.\n"
     ]
    },
    {
     "name": "stdout",
     "output_type": "stream",
     "text": [
      "WARNING:tensorflow:Value in checkpoint could not be found in the restored object: (root).keras_api.metrics.0.total\n"
     ]
    },
    {
     "name": "stderr",
     "output_type": "stream",
     "text": [
      "WARNING:tensorflow:Value in checkpoint could not be found in the restored object: (root).keras_api.metrics.0.total\n"
     ]
    },
    {
     "name": "stdout",
     "output_type": "stream",
     "text": [
      "WARNING:tensorflow:Value in checkpoint could not be found in the restored object: (root).keras_api.metrics.0.count\n"
     ]
    },
    {
     "name": "stderr",
     "output_type": "stream",
     "text": [
      "WARNING:tensorflow:Value in checkpoint could not be found in the restored object: (root).keras_api.metrics.0.count\n"
     ]
    },
    {
     "name": "stdout",
     "output_type": "stream",
     "text": [
      "WARNING:tensorflow:Value in checkpoint could not be found in the restored object: (root).keras_api.metrics.1.total\n"
     ]
    },
    {
     "name": "stderr",
     "output_type": "stream",
     "text": [
      "WARNING:tensorflow:Value in checkpoint could not be found in the restored object: (root).keras_api.metrics.1.total\n"
     ]
    },
    {
     "name": "stdout",
     "output_type": "stream",
     "text": [
      "WARNING:tensorflow:Value in checkpoint could not be found in the restored object: (root).keras_api.metrics.1.count\n"
     ]
    },
    {
     "name": "stderr",
     "output_type": "stream",
     "text": [
      "WARNING:tensorflow:Value in checkpoint could not be found in the restored object: (root).keras_api.metrics.1.count\n"
     ]
    },
    {
     "name": "stdout",
     "output_type": "stream",
     "text": [
      "WARNING:tensorflow:Detecting that an object or model or tf.train.Checkpoint is being deleted with unrestored values. See the following logs for the specific values in question. To silence these warnings, use `status.expect_partial()`. See https://www.tensorflow.org/api_docs/python/tf/train/Checkpoint#restorefor details about the status object returned by the restore function.\n"
     ]
    },
    {
     "name": "stderr",
     "output_type": "stream",
     "text": [
      "WARNING:tensorflow:Detecting that an object or model or tf.train.Checkpoint is being deleted with unrestored values. See the following logs for the specific values in question. To silence these warnings, use `status.expect_partial()`. See https://www.tensorflow.org/api_docs/python/tf/train/Checkpoint#restorefor details about the status object returned by the restore function.\n"
     ]
    },
    {
     "name": "stdout",
     "output_type": "stream",
     "text": [
      "WARNING:tensorflow:Value in checkpoint could not be found in the restored object: (root).keras_api.metrics.0.total\n"
     ]
    },
    {
     "name": "stderr",
     "output_type": "stream",
     "text": [
      "WARNING:tensorflow:Value in checkpoint could not be found in the restored object: (root).keras_api.metrics.0.total\n"
     ]
    },
    {
     "name": "stdout",
     "output_type": "stream",
     "text": [
      "WARNING:tensorflow:Value in checkpoint could not be found in the restored object: (root).keras_api.metrics.0.count\n"
     ]
    },
    {
     "name": "stderr",
     "output_type": "stream",
     "text": [
      "WARNING:tensorflow:Value in checkpoint could not be found in the restored object: (root).keras_api.metrics.0.count\n"
     ]
    },
    {
     "name": "stdout",
     "output_type": "stream",
     "text": [
      "WARNING:tensorflow:Value in checkpoint could not be found in the restored object: (root).keras_api.metrics.1.total\n"
     ]
    },
    {
     "name": "stderr",
     "output_type": "stream",
     "text": [
      "WARNING:tensorflow:Value in checkpoint could not be found in the restored object: (root).keras_api.metrics.1.total\n"
     ]
    },
    {
     "name": "stdout",
     "output_type": "stream",
     "text": [
      "WARNING:tensorflow:Value in checkpoint could not be found in the restored object: (root).keras_api.metrics.1.count\n"
     ]
    },
    {
     "name": "stderr",
     "output_type": "stream",
     "text": [
      "WARNING:tensorflow:Value in checkpoint could not be found in the restored object: (root).keras_api.metrics.1.count\n"
     ]
    },
    {
     "name": "stdout",
     "output_type": "stream",
     "text": [
      "WARNING:tensorflow:Detecting that an object or model or tf.train.Checkpoint is being deleted with unrestored values. See the following logs for the specific values in question. To silence these warnings, use `status.expect_partial()`. See https://www.tensorflow.org/api_docs/python/tf/train/Checkpoint#restorefor details about the status object returned by the restore function.\n"
     ]
    },
    {
     "name": "stderr",
     "output_type": "stream",
     "text": [
      "WARNING:tensorflow:Detecting that an object or model or tf.train.Checkpoint is being deleted with unrestored values. See the following logs for the specific values in question. To silence these warnings, use `status.expect_partial()`. See https://www.tensorflow.org/api_docs/python/tf/train/Checkpoint#restorefor details about the status object returned by the restore function.\n"
     ]
    },
    {
     "name": "stdout",
     "output_type": "stream",
     "text": [
      "WARNING:tensorflow:Value in checkpoint could not be found in the restored object: (root).keras_api.metrics.0.total\n"
     ]
    },
    {
     "name": "stderr",
     "output_type": "stream",
     "text": [
      "WARNING:tensorflow:Value in checkpoint could not be found in the restored object: (root).keras_api.metrics.0.total\n"
     ]
    },
    {
     "name": "stdout",
     "output_type": "stream",
     "text": [
      "WARNING:tensorflow:Value in checkpoint could not be found in the restored object: (root).keras_api.metrics.0.count\n"
     ]
    },
    {
     "name": "stderr",
     "output_type": "stream",
     "text": [
      "WARNING:tensorflow:Value in checkpoint could not be found in the restored object: (root).keras_api.metrics.0.count\n"
     ]
    },
    {
     "name": "stdout",
     "output_type": "stream",
     "text": [
      "WARNING:tensorflow:Value in checkpoint could not be found in the restored object: (root).keras_api.metrics.1.total\n"
     ]
    },
    {
     "name": "stderr",
     "output_type": "stream",
     "text": [
      "WARNING:tensorflow:Value in checkpoint could not be found in the restored object: (root).keras_api.metrics.1.total\n"
     ]
    },
    {
     "name": "stdout",
     "output_type": "stream",
     "text": [
      "WARNING:tensorflow:Value in checkpoint could not be found in the restored object: (root).keras_api.metrics.1.count\n"
     ]
    },
    {
     "name": "stderr",
     "output_type": "stream",
     "text": [
      "WARNING:tensorflow:Value in checkpoint could not be found in the restored object: (root).keras_api.metrics.1.count\n"
     ]
    },
    {
     "name": "stdout",
     "output_type": "stream",
     "text": [
      "WARNING:tensorflow:Detecting that an object or model or tf.train.Checkpoint is being deleted with unrestored values. See the following logs for the specific values in question. To silence these warnings, use `status.expect_partial()`. See https://www.tensorflow.org/api_docs/python/tf/train/Checkpoint#restorefor details about the status object returned by the restore function.\n"
     ]
    },
    {
     "name": "stderr",
     "output_type": "stream",
     "text": [
      "WARNING:tensorflow:Detecting that an object or model or tf.train.Checkpoint is being deleted with unrestored values. See the following logs for the specific values in question. To silence these warnings, use `status.expect_partial()`. See https://www.tensorflow.org/api_docs/python/tf/train/Checkpoint#restorefor details about the status object returned by the restore function.\n"
     ]
    },
    {
     "name": "stdout",
     "output_type": "stream",
     "text": [
      "WARNING:tensorflow:Value in checkpoint could not be found in the restored object: (root).keras_api.metrics.0.total\n"
     ]
    },
    {
     "name": "stderr",
     "output_type": "stream",
     "text": [
      "WARNING:tensorflow:Value in checkpoint could not be found in the restored object: (root).keras_api.metrics.0.total\n"
     ]
    },
    {
     "name": "stdout",
     "output_type": "stream",
     "text": [
      "WARNING:tensorflow:Value in checkpoint could not be found in the restored object: (root).keras_api.metrics.0.count\n"
     ]
    },
    {
     "name": "stderr",
     "output_type": "stream",
     "text": [
      "WARNING:tensorflow:Value in checkpoint could not be found in the restored object: (root).keras_api.metrics.0.count\n"
     ]
    },
    {
     "name": "stdout",
     "output_type": "stream",
     "text": [
      "WARNING:tensorflow:Value in checkpoint could not be found in the restored object: (root).keras_api.metrics.1.total\n"
     ]
    },
    {
     "name": "stderr",
     "output_type": "stream",
     "text": [
      "WARNING:tensorflow:Value in checkpoint could not be found in the restored object: (root).keras_api.metrics.1.total\n"
     ]
    },
    {
     "name": "stdout",
     "output_type": "stream",
     "text": [
      "WARNING:tensorflow:Value in checkpoint could not be found in the restored object: (root).keras_api.metrics.1.count\n"
     ]
    },
    {
     "name": "stderr",
     "output_type": "stream",
     "text": [
      "WARNING:tensorflow:Value in checkpoint could not be found in the restored object: (root).keras_api.metrics.1.count\n"
     ]
    },
    {
     "name": "stdout",
     "output_type": "stream",
     "text": [
      "WARNING:tensorflow:Detecting that an object or model or tf.train.Checkpoint is being deleted with unrestored values. See the following logs for the specific values in question. To silence these warnings, use `status.expect_partial()`. See https://www.tensorflow.org/api_docs/python/tf/train/Checkpoint#restorefor details about the status object returned by the restore function.\n"
     ]
    },
    {
     "name": "stderr",
     "output_type": "stream",
     "text": [
      "WARNING:tensorflow:Detecting that an object or model or tf.train.Checkpoint is being deleted with unrestored values. See the following logs for the specific values in question. To silence these warnings, use `status.expect_partial()`. See https://www.tensorflow.org/api_docs/python/tf/train/Checkpoint#restorefor details about the status object returned by the restore function.\n"
     ]
    },
    {
     "name": "stdout",
     "output_type": "stream",
     "text": [
      "WARNING:tensorflow:Value in checkpoint could not be found in the restored object: (root).keras_api.metrics.0.total\n"
     ]
    },
    {
     "name": "stderr",
     "output_type": "stream",
     "text": [
      "WARNING:tensorflow:Value in checkpoint could not be found in the restored object: (root).keras_api.metrics.0.total\n"
     ]
    },
    {
     "name": "stdout",
     "output_type": "stream",
     "text": [
      "WARNING:tensorflow:Value in checkpoint could not be found in the restored object: (root).keras_api.metrics.0.count\n"
     ]
    },
    {
     "name": "stderr",
     "output_type": "stream",
     "text": [
      "WARNING:tensorflow:Value in checkpoint could not be found in the restored object: (root).keras_api.metrics.0.count\n"
     ]
    },
    {
     "name": "stdout",
     "output_type": "stream",
     "text": [
      "WARNING:tensorflow:Value in checkpoint could not be found in the restored object: (root).keras_api.metrics.1.total\n"
     ]
    },
    {
     "name": "stderr",
     "output_type": "stream",
     "text": [
      "WARNING:tensorflow:Value in checkpoint could not be found in the restored object: (root).keras_api.metrics.1.total\n"
     ]
    },
    {
     "name": "stdout",
     "output_type": "stream",
     "text": [
      "WARNING:tensorflow:Value in checkpoint could not be found in the restored object: (root).keras_api.metrics.1.count\n"
     ]
    },
    {
     "name": "stderr",
     "output_type": "stream",
     "text": [
      "WARNING:tensorflow:Value in checkpoint could not be found in the restored object: (root).keras_api.metrics.1.count\n",
      "WARNING:absl:Found untraced functions such as _update_step_xla while saving (showing 1 of 1). These functions will not be directly callable after loading.\n"
     ]
    },
    {
     "name": "stdout",
     "output_type": "stream",
     "text": [
      "INFO:tensorflow:Assets written to: C:\\Users\\user\\AppData\\Local\\Temp\\tmp4cl6max3\\assets\n"
     ]
    },
    {
     "name": "stderr",
     "output_type": "stream",
     "text": [
      "INFO:tensorflow:Assets written to: C:\\Users\\user\\AppData\\Local\\Temp\\tmp4cl6max3\\assets\n"
     ]
    },
    {
     "name": "stdout",
     "output_type": "stream",
     "text": [
      "Epoch 1/50\n",
      "200/200 [==============================] - 1s 1ms/step - loss: 0.5966 - accuracy: 0.7948\n",
      "Epoch 2/50\n",
      "200/200 [==============================] - 0s 1ms/step - loss: 0.4399 - accuracy: 0.7959\n",
      "Epoch 3/50\n",
      "200/200 [==============================] - 0s 1ms/step - loss: 0.4318 - accuracy: 0.7959\n",
      "Epoch 4/50\n",
      "200/200 [==============================] - 0s 1ms/step - loss: 0.4289 - accuracy: 0.7959\n",
      "Epoch 5/50\n",
      "200/200 [==============================] - 0s 1ms/step - loss: 0.4262 - accuracy: 0.7959\n",
      "Epoch 6/50\n",
      "200/200 [==============================] - 0s 1ms/step - loss: 0.4236 - accuracy: 0.7959\n",
      "Epoch 7/50\n",
      "200/200 [==============================] - 0s 1ms/step - loss: 0.4206 - accuracy: 0.8108\n",
      "Epoch 8/50\n",
      "200/200 [==============================] - 0s 1ms/step - loss: 0.4174 - accuracy: 0.8250\n",
      "Epoch 9/50\n",
      "200/200 [==============================] - 0s 1ms/step - loss: 0.4142 - accuracy: 0.8291\n",
      "Epoch 10/50\n",
      "200/200 [==============================] - 0s 1ms/step - loss: 0.4115 - accuracy: 0.8314\n",
      "Epoch 11/50\n",
      "200/200 [==============================] - 0s 1ms/step - loss: 0.4092 - accuracy: 0.8327\n",
      "Epoch 12/50\n",
      "200/200 [==============================] - 0s 1ms/step - loss: 0.4075 - accuracy: 0.8328\n",
      "Epoch 13/50\n",
      "200/200 [==============================] - 0s 2ms/step - loss: 0.4056 - accuracy: 0.8345\n",
      "Epoch 14/50\n",
      "200/200 [==============================] - 0s 1ms/step - loss: 0.4047 - accuracy: 0.8361\n",
      "Epoch 15/50\n",
      "200/200 [==============================] - 0s 1ms/step - loss: 0.4034 - accuracy: 0.8355\n",
      "Epoch 16/50\n",
      "200/200 [==============================] - 0s 1ms/step - loss: 0.4028 - accuracy: 0.8352\n",
      "Epoch 17/50\n",
      "200/200 [==============================] - 0s 1ms/step - loss: 0.4019 - accuracy: 0.8359\n",
      "Epoch 18/50\n",
      "200/200 [==============================] - 0s 1ms/step - loss: 0.4008 - accuracy: 0.8348\n",
      "Epoch 19/50\n",
      "200/200 [==============================] - 0s 1ms/step - loss: 0.3997 - accuracy: 0.8342\n",
      "Epoch 20/50\n",
      "200/200 [==============================] - 0s 1ms/step - loss: 0.3997 - accuracy: 0.8341\n",
      "Epoch 21/50\n",
      "200/200 [==============================] - 0s 1ms/step - loss: 0.3992 - accuracy: 0.8355\n",
      "Epoch 22/50\n",
      "200/200 [==============================] - 0s 1ms/step - loss: 0.3984 - accuracy: 0.8356\n",
      "Epoch 23/50\n",
      "200/200 [==============================] - 0s 1ms/step - loss: 0.3978 - accuracy: 0.8356\n",
      "Epoch 24/50\n",
      "200/200 [==============================] - 0s 1ms/step - loss: 0.3974 - accuracy: 0.8352\n",
      "Epoch 25/50\n",
      "200/200 [==============================] - 0s 1ms/step - loss: 0.3968 - accuracy: 0.8344\n",
      "Epoch 26/50\n",
      "200/200 [==============================] - 0s 1ms/step - loss: 0.3964 - accuracy: 0.8373\n",
      "Epoch 27/50\n",
      "200/200 [==============================] - 0s 1ms/step - loss: 0.3964 - accuracy: 0.8356\n",
      "Epoch 28/50\n",
      "200/200 [==============================] - 0s 2ms/step - loss: 0.3961 - accuracy: 0.8363\n",
      "Epoch 29/50\n",
      "200/200 [==============================] - 0s 2ms/step - loss: 0.3956 - accuracy: 0.8352\n",
      "Epoch 30/50\n",
      "200/200 [==============================] - 0s 1ms/step - loss: 0.3952 - accuracy: 0.8369\n",
      "Epoch 31/50\n",
      "200/200 [==============================] - 0s 1ms/step - loss: 0.3950 - accuracy: 0.8355\n",
      "Epoch 32/50\n",
      "200/200 [==============================] - 0s 1ms/step - loss: 0.3950 - accuracy: 0.8361\n",
      "Epoch 33/50\n",
      "200/200 [==============================] - 0s 1ms/step - loss: 0.3948 - accuracy: 0.8358\n",
      "Epoch 34/50\n",
      "200/200 [==============================] - 0s 1ms/step - loss: 0.3947 - accuracy: 0.8359\n",
      "Epoch 35/50\n",
      "200/200 [==============================] - 1s 4ms/step - loss: 0.3944 - accuracy: 0.8359\n",
      "Epoch 36/50\n",
      "200/200 [==============================] - 1s 3ms/step - loss: 0.3947 - accuracy: 0.8342\n",
      "Epoch 37/50\n",
      "200/200 [==============================] - 1s 2ms/step - loss: 0.3941 - accuracy: 0.8364\n",
      "Epoch 38/50\n",
      "200/200 [==============================] - 0s 2ms/step - loss: 0.3939 - accuracy: 0.8359\n",
      "Epoch 39/50\n",
      "200/200 [==============================] - 0s 2ms/step - loss: 0.3939 - accuracy: 0.8355\n",
      "Epoch 40/50\n",
      "200/200 [==============================] - 0s 2ms/step - loss: 0.3938 - accuracy: 0.8366\n",
      "Epoch 41/50\n",
      "200/200 [==============================] - 1s 3ms/step - loss: 0.3936 - accuracy: 0.8367\n",
      "Epoch 42/50\n",
      "200/200 [==============================] - 1s 3ms/step - loss: 0.3937 - accuracy: 0.8359\n",
      "Epoch 43/50\n",
      "200/200 [==============================] - 0s 2ms/step - loss: 0.3933 - accuracy: 0.8370\n",
      "Epoch 44/50\n",
      "200/200 [==============================] - 0s 2ms/step - loss: 0.3934 - accuracy: 0.8361\n",
      "Epoch 45/50\n",
      "200/200 [==============================] - 0s 2ms/step - loss: 0.3932 - accuracy: 0.8363\n",
      "Epoch 46/50\n",
      "200/200 [==============================] - 0s 2ms/step - loss: 0.3931 - accuracy: 0.8359\n",
      "Epoch 47/50\n",
      "200/200 [==============================] - 0s 2ms/step - loss: 0.3936 - accuracy: 0.8363\n",
      "Epoch 48/50\n",
      "200/200 [==============================] - 1s 4ms/step - loss: 0.3929 - accuracy: 0.8363\n",
      "Epoch 49/50\n",
      "200/200 [==============================] - 0s 2ms/step - loss: 0.3931 - accuracy: 0.8366\n",
      "Epoch 50/50\n",
      "200/200 [==============================] - 0s 1ms/step - loss: 0.3931 - accuracy: 0.8350\n",
      "50/50 [==============================] - 0s 2ms/step\n"
     ]
    },
    {
     "name": "stderr",
     "output_type": "stream",
     "text": [
      "WARNING:absl:Found untraced functions such as _update_step_xla while saving (showing 1 of 1). These functions will not be directly callable after loading.\n"
     ]
    },
    {
     "name": "stdout",
     "output_type": "stream",
     "text": [
      "INFO:tensorflow:Assets written to: C:\\Users\\user\\AppData\\Local\\Temp\\tmpee80q_08\\assets\n"
     ]
    },
    {
     "name": "stderr",
     "output_type": "stream",
     "text": [
      "INFO:tensorflow:Assets written to: C:\\Users\\user\\AppData\\Local\\Temp\\tmpee80q_08\\assets\n"
     ]
    },
    {
     "name": "stdout",
     "output_type": "stream",
     "text": [
      "Epoch 1/50\n",
      "200/200 [==============================] - 1s 2ms/step - loss: 0.6020 - accuracy: 0.7939\n",
      "Epoch 2/50\n",
      "200/200 [==============================] - 1s 3ms/step - loss: 0.4432 - accuracy: 0.7959\n",
      "Epoch 3/50\n",
      "200/200 [==============================] - 0s 2ms/step - loss: 0.4335 - accuracy: 0.7959\n",
      "Epoch 4/50\n",
      "200/200 [==============================] - 0s 2ms/step - loss: 0.4308 - accuracy: 0.7959\n",
      "Epoch 5/50\n",
      "200/200 [==============================] - 0s 2ms/step - loss: 0.4293 - accuracy: 0.7959\n",
      "Epoch 6/50\n",
      "200/200 [==============================] - 0s 1ms/step - loss: 0.4274 - accuracy: 0.7959\n",
      "Epoch 7/50\n",
      "200/200 [==============================] - 0s 1ms/step - loss: 0.4255 - accuracy: 0.7959\n",
      "Epoch 8/50\n",
      "200/200 [==============================] - 0s 1ms/step - loss: 0.4238 - accuracy: 0.7959\n",
      "Epoch 9/50\n",
      "200/200 [==============================] - 0s 1ms/step - loss: 0.4217 - accuracy: 0.7959\n",
      "Epoch 10/50\n",
      "200/200 [==============================] - 0s 1ms/step - loss: 0.4200 - accuracy: 0.8106\n",
      "Epoch 11/50\n",
      "200/200 [==============================] - 0s 1ms/step - loss: 0.4184 - accuracy: 0.8211\n",
      "Epoch 12/50\n",
      "200/200 [==============================] - 0s 1ms/step - loss: 0.4173 - accuracy: 0.8238\n",
      "Epoch 13/50\n",
      "200/200 [==============================] - 0s 1ms/step - loss: 0.4163 - accuracy: 0.8270\n",
      "Epoch 14/50\n",
      "200/200 [==============================] - 0s 1ms/step - loss: 0.4148 - accuracy: 0.8267\n",
      "Epoch 15/50\n",
      "200/200 [==============================] - 0s 1ms/step - loss: 0.4123 - accuracy: 0.8298\n",
      "Epoch 16/50\n",
      "200/200 [==============================] - 0s 1ms/step - loss: 0.4102 - accuracy: 0.8327\n",
      "Epoch 17/50\n",
      "200/200 [==============================] - 0s 1ms/step - loss: 0.4086 - accuracy: 0.8328\n",
      "Epoch 18/50\n",
      "200/200 [==============================] - 0s 2ms/step - loss: 0.4068 - accuracy: 0.8331\n",
      "Epoch 19/50\n",
      "200/200 [==============================] - 0s 1ms/step - loss: 0.4060 - accuracy: 0.8350\n",
      "Epoch 20/50\n",
      "200/200 [==============================] - 0s 1ms/step - loss: 0.4045 - accuracy: 0.8339\n",
      "Epoch 21/50\n",
      "200/200 [==============================] - 0s 1ms/step - loss: 0.4041 - accuracy: 0.8338\n",
      "Epoch 22/50\n",
      "200/200 [==============================] - 0s 1ms/step - loss: 0.4032 - accuracy: 0.8333\n",
      "Epoch 23/50\n",
      "200/200 [==============================] - 0s 1ms/step - loss: 0.4023 - accuracy: 0.8345\n",
      "Epoch 24/50\n",
      "200/200 [==============================] - 0s 1ms/step - loss: 0.4016 - accuracy: 0.8353\n",
      "Epoch 25/50\n",
      "200/200 [==============================] - 0s 1ms/step - loss: 0.4013 - accuracy: 0.8345\n",
      "Epoch 26/50\n",
      "200/200 [==============================] - 0s 2ms/step - loss: 0.4006 - accuracy: 0.8358\n",
      "Epoch 27/50\n",
      "200/200 [==============================] - 0s 1ms/step - loss: 0.4000 - accuracy: 0.8348\n",
      "Epoch 28/50\n",
      "200/200 [==============================] - 0s 1ms/step - loss: 0.3992 - accuracy: 0.8361\n",
      "Epoch 29/50\n",
      "200/200 [==============================] - 0s 2ms/step - loss: 0.3988 - accuracy: 0.8366\n",
      "Epoch 30/50\n",
      "200/200 [==============================] - 0s 1ms/step - loss: 0.3985 - accuracy: 0.8352\n",
      "Epoch 31/50\n",
      "200/200 [==============================] - 0s 1ms/step - loss: 0.3982 - accuracy: 0.8350\n",
      "Epoch 32/50\n",
      "200/200 [==============================] - 0s 1ms/step - loss: 0.3975 - accuracy: 0.8352\n",
      "Epoch 33/50\n",
      "200/200 [==============================] - 0s 1ms/step - loss: 0.3973 - accuracy: 0.8364\n",
      "Epoch 34/50\n",
      "200/200 [==============================] - 0s 1ms/step - loss: 0.3970 - accuracy: 0.8370\n",
      "Epoch 35/50\n",
      "200/200 [==============================] - 0s 1ms/step - loss: 0.3964 - accuracy: 0.8363\n",
      "Epoch 36/50\n",
      "200/200 [==============================] - 0s 1ms/step - loss: 0.3964 - accuracy: 0.8358\n",
      "Epoch 37/50\n",
      "200/200 [==============================] - 0s 1ms/step - loss: 0.3961 - accuracy: 0.8352\n",
      "Epoch 38/50\n",
      "200/200 [==============================] - 0s 1ms/step - loss: 0.3957 - accuracy: 0.8348\n",
      "Epoch 39/50\n",
      "200/200 [==============================] - 0s 1ms/step - loss: 0.3955 - accuracy: 0.8356\n",
      "Epoch 40/50\n",
      "200/200 [==============================] - 0s 1ms/step - loss: 0.3953 - accuracy: 0.8369\n",
      "Epoch 41/50\n",
      "200/200 [==============================] - 0s 1ms/step - loss: 0.3953 - accuracy: 0.8364\n",
      "Epoch 42/50\n",
      "200/200 [==============================] - 0s 1ms/step - loss: 0.3953 - accuracy: 0.8356\n",
      "Epoch 43/50\n",
      "200/200 [==============================] - 0s 1ms/step - loss: 0.3945 - accuracy: 0.8364\n",
      "Epoch 44/50\n",
      "200/200 [==============================] - 0s 1ms/step - loss: 0.3946 - accuracy: 0.8359\n",
      "Epoch 45/50\n",
      "200/200 [==============================] - 0s 1ms/step - loss: 0.3944 - accuracy: 0.8373\n",
      "Epoch 46/50\n",
      "200/200 [==============================] - 0s 1ms/step - loss: 0.3941 - accuracy: 0.8366\n",
      "Epoch 47/50\n",
      "200/200 [==============================] - 0s 1ms/step - loss: 0.3936 - accuracy: 0.8378\n",
      "Epoch 48/50\n",
      "200/200 [==============================] - 0s 1ms/step - loss: 0.3944 - accuracy: 0.8375\n",
      "Epoch 49/50\n",
      "200/200 [==============================] - 0s 1ms/step - loss: 0.3938 - accuracy: 0.8377\n",
      "Epoch 50/50\n",
      "200/200 [==============================] - 0s 1ms/step - loss: 0.3937 - accuracy: 0.8369\n",
      "50/50 [==============================] - 0s 1ms/step\n"
     ]
    },
    {
     "name": "stderr",
     "output_type": "stream",
     "text": [
      "WARNING:absl:Found untraced functions such as _update_step_xla while saving (showing 1 of 1). These functions will not be directly callable after loading.\n"
     ]
    },
    {
     "name": "stdout",
     "output_type": "stream",
     "text": [
      "INFO:tensorflow:Assets written to: C:\\Users\\user\\AppData\\Local\\Temp\\tmpl50l_tfk\\assets\n"
     ]
    },
    {
     "name": "stderr",
     "output_type": "stream",
     "text": [
      "INFO:tensorflow:Assets written to: C:\\Users\\user\\AppData\\Local\\Temp\\tmpl50l_tfk\\assets\n"
     ]
    },
    {
     "name": "stdout",
     "output_type": "stream",
     "text": [
      "Epoch 1/50\n",
      "200/200 [==============================] - 1s 2ms/step - loss: 0.6033 - accuracy: 0.7952\n",
      "Epoch 2/50\n",
      "200/200 [==============================] - 0s 2ms/step - loss: 0.4420 - accuracy: 0.7961\n",
      "Epoch 3/50\n",
      "200/200 [==============================] - 0s 2ms/step - loss: 0.4327 - accuracy: 0.7961\n",
      "Epoch 4/50\n",
      "200/200 [==============================] - 0s 2ms/step - loss: 0.4301 - accuracy: 0.7961\n",
      "Epoch 5/50\n",
      "200/200 [==============================] - 0s 2ms/step - loss: 0.4279 - accuracy: 0.7961\n",
      "Epoch 6/50\n",
      "200/200 [==============================] - 0s 2ms/step - loss: 0.4255 - accuracy: 0.7961\n",
      "Epoch 7/50\n",
      "200/200 [==============================] - 0s 1ms/step - loss: 0.4234 - accuracy: 0.7961\n",
      "Epoch 8/50\n",
      "200/200 [==============================] - 0s 1ms/step - loss: 0.4217 - accuracy: 0.7961\n",
      "Epoch 9/50\n",
      "200/200 [==============================] - 0s 1ms/step - loss: 0.4196 - accuracy: 0.8025\n",
      "Epoch 10/50\n",
      "200/200 [==============================] - 0s 1ms/step - loss: 0.4183 - accuracy: 0.8198\n",
      "Epoch 11/50\n",
      "200/200 [==============================] - 0s 1ms/step - loss: 0.4174 - accuracy: 0.8223\n",
      "Epoch 12/50\n",
      "200/200 [==============================] - 0s 1ms/step - loss: 0.4162 - accuracy: 0.8258\n",
      "Epoch 13/50\n",
      "200/200 [==============================] - 0s 2ms/step - loss: 0.4155 - accuracy: 0.8278\n",
      "Epoch 14/50\n",
      "200/200 [==============================] - 0s 1ms/step - loss: 0.4146 - accuracy: 0.8291\n",
      "Epoch 15/50\n",
      "200/200 [==============================] - 0s 1ms/step - loss: 0.4141 - accuracy: 0.8303\n",
      "Epoch 16/50\n",
      "200/200 [==============================] - 0s 1ms/step - loss: 0.4129 - accuracy: 0.8308\n",
      "Epoch 17/50\n",
      "200/200 [==============================] - 0s 1ms/step - loss: 0.4123 - accuracy: 0.8295\n",
      "Epoch 18/50\n",
      "200/200 [==============================] - 0s 1ms/step - loss: 0.4119 - accuracy: 0.8300\n",
      "Epoch 19/50\n",
      "200/200 [==============================] - 0s 1ms/step - loss: 0.4113 - accuracy: 0.8320\n",
      "Epoch 20/50\n",
      "200/200 [==============================] - 0s 1ms/step - loss: 0.4108 - accuracy: 0.8333\n",
      "Epoch 21/50\n",
      "200/200 [==============================] - 0s 1ms/step - loss: 0.4104 - accuracy: 0.8316\n",
      "Epoch 22/50\n",
      "200/200 [==============================] - 0s 1ms/step - loss: 0.4100 - accuracy: 0.8339\n",
      "Epoch 23/50\n",
      "200/200 [==============================] - 0s 2ms/step - loss: 0.4096 - accuracy: 0.8331\n",
      "Epoch 24/50\n",
      "200/200 [==============================] - 0s 2ms/step - loss: 0.4093 - accuracy: 0.8331\n",
      "Epoch 25/50\n",
      "200/200 [==============================] - 0s 1ms/step - loss: 0.4089 - accuracy: 0.8333\n",
      "Epoch 26/50\n",
      "200/200 [==============================] - 0s 1ms/step - loss: 0.4086 - accuracy: 0.8331\n",
      "Epoch 27/50\n",
      "200/200 [==============================] - 0s 1ms/step - loss: 0.4083 - accuracy: 0.8327\n",
      "Epoch 28/50\n",
      "200/200 [==============================] - 0s 1ms/step - loss: 0.4079 - accuracy: 0.8336\n",
      "Epoch 29/50\n",
      "200/200 [==============================] - 0s 2ms/step - loss: 0.4076 - accuracy: 0.8339\n",
      "Epoch 30/50\n",
      "200/200 [==============================] - 0s 1ms/step - loss: 0.4071 - accuracy: 0.8334\n",
      "Epoch 31/50\n",
      "200/200 [==============================] - 0s 1ms/step - loss: 0.4070 - accuracy: 0.8339\n",
      "Epoch 32/50\n",
      "200/200 [==============================] - 0s 2ms/step - loss: 0.4065 - accuracy: 0.8331\n",
      "Epoch 33/50\n",
      "200/200 [==============================] - 0s 1ms/step - loss: 0.4061 - accuracy: 0.8333\n",
      "Epoch 34/50\n",
      "200/200 [==============================] - 0s 2ms/step - loss: 0.4057 - accuracy: 0.8350\n",
      "Epoch 35/50\n",
      "200/200 [==============================] - 0s 1ms/step - loss: 0.4057 - accuracy: 0.8350\n",
      "Epoch 36/50\n",
      "200/200 [==============================] - 0s 1ms/step - loss: 0.4052 - accuracy: 0.8350\n",
      "Epoch 37/50\n",
      "200/200 [==============================] - 0s 2ms/step - loss: 0.4052 - accuracy: 0.8348\n",
      "Epoch 38/50\n",
      "200/200 [==============================] - 0s 2ms/step - loss: 0.4047 - accuracy: 0.8352\n",
      "Epoch 39/50\n",
      "200/200 [==============================] - 0s 1ms/step - loss: 0.4048 - accuracy: 0.8345\n",
      "Epoch 40/50\n",
      "200/200 [==============================] - 0s 2ms/step - loss: 0.4044 - accuracy: 0.8344\n",
      "Epoch 41/50\n",
      "200/200 [==============================] - 0s 1ms/step - loss: 0.4042 - accuracy: 0.8353\n",
      "Epoch 42/50\n",
      "200/200 [==============================] - 0s 2ms/step - loss: 0.4038 - accuracy: 0.8353\n",
      "Epoch 43/50\n",
      "200/200 [==============================] - 0s 1ms/step - loss: 0.4039 - accuracy: 0.8352\n",
      "Epoch 44/50\n",
      "200/200 [==============================] - 0s 1ms/step - loss: 0.4034 - accuracy: 0.8347\n",
      "Epoch 45/50\n",
      "200/200 [==============================] - 0s 1ms/step - loss: 0.4038 - accuracy: 0.8355\n",
      "Epoch 46/50\n",
      "200/200 [==============================] - 0s 1ms/step - loss: 0.4030 - accuracy: 0.8350\n",
      "Epoch 47/50\n",
      "200/200 [==============================] - 0s 1ms/step - loss: 0.4028 - accuracy: 0.8353\n",
      "Epoch 48/50\n",
      "200/200 [==============================] - 0s 1ms/step - loss: 0.4031 - accuracy: 0.8336\n",
      "Epoch 49/50\n",
      "200/200 [==============================] - 0s 1ms/step - loss: 0.4028 - accuracy: 0.8350\n",
      "Epoch 50/50\n",
      "200/200 [==============================] - 0s 1ms/step - loss: 0.4026 - accuracy: 0.8344\n",
      "50/50 [==============================] - 0s 1ms/step\n"
     ]
    },
    {
     "name": "stderr",
     "output_type": "stream",
     "text": [
      "WARNING:absl:Found untraced functions such as _update_step_xla while saving (showing 1 of 1). These functions will not be directly callable after loading.\n"
     ]
    },
    {
     "name": "stdout",
     "output_type": "stream",
     "text": [
      "INFO:tensorflow:Assets written to: C:\\Users\\user\\AppData\\Local\\Temp\\tmpx03jvms2\\assets\n"
     ]
    },
    {
     "name": "stderr",
     "output_type": "stream",
     "text": [
      "INFO:tensorflow:Assets written to: C:\\Users\\user\\AppData\\Local\\Temp\\tmpx03jvms2\\assets\n"
     ]
    },
    {
     "name": "stdout",
     "output_type": "stream",
     "text": [
      "Epoch 1/50\n",
      "WARNING:tensorflow:Detecting that an object or model or tf.train.Checkpoint is being deleted with unrestored values. See the following logs for the specific values in question. To silence these warnings, use `status.expect_partial()`. See https://www.tensorflow.org/api_docs/python/tf/train/Checkpoint#restorefor details about the status object returned by the restore function.\n"
     ]
    },
    {
     "name": "stderr",
     "output_type": "stream",
     "text": [
      "WARNING:tensorflow:Detecting that an object or model or tf.train.Checkpoint is being deleted with unrestored values. See the following logs for the specific values in question. To silence these warnings, use `status.expect_partial()`. See https://www.tensorflow.org/api_docs/python/tf/train/Checkpoint#restorefor details about the status object returned by the restore function.\n"
     ]
    },
    {
     "name": "stdout",
     "output_type": "stream",
     "text": [
      "WARNING:tensorflow:Value in checkpoint could not be found in the restored object: (root).keras_api.metrics.0.total\n"
     ]
    },
    {
     "name": "stderr",
     "output_type": "stream",
     "text": [
      "WARNING:tensorflow:Value in checkpoint could not be found in the restored object: (root).keras_api.metrics.0.total\n"
     ]
    },
    {
     "name": "stdout",
     "output_type": "stream",
     "text": [
      "WARNING:tensorflow:Value in checkpoint could not be found in the restored object: (root).keras_api.metrics.0.count\n"
     ]
    },
    {
     "name": "stderr",
     "output_type": "stream",
     "text": [
      "WARNING:tensorflow:Value in checkpoint could not be found in the restored object: (root).keras_api.metrics.0.count\n"
     ]
    },
    {
     "name": "stdout",
     "output_type": "stream",
     "text": [
      "WARNING:tensorflow:Value in checkpoint could not be found in the restored object: (root).keras_api.metrics.1.total\n"
     ]
    },
    {
     "name": "stderr",
     "output_type": "stream",
     "text": [
      "WARNING:tensorflow:Value in checkpoint could not be found in the restored object: (root).keras_api.metrics.1.total\n"
     ]
    },
    {
     "name": "stdout",
     "output_type": "stream",
     "text": [
      "WARNING:tensorflow:Value in checkpoint could not be found in the restored object: (root).keras_api.metrics.1.count\n"
     ]
    },
    {
     "name": "stderr",
     "output_type": "stream",
     "text": [
      "WARNING:tensorflow:Value in checkpoint could not be found in the restored object: (root).keras_api.metrics.1.count\n"
     ]
    },
    {
     "name": "stdout",
     "output_type": "stream",
     "text": [
      "WARNING:tensorflow:Detecting that an object or model or tf.train.Checkpoint is being deleted with unrestored values. See the following logs for the specific values in question. To silence these warnings, use `status.expect_partial()`. See https://www.tensorflow.org/api_docs/python/tf/train/Checkpoint#restorefor details about the status object returned by the restore function.\n"
     ]
    },
    {
     "name": "stderr",
     "output_type": "stream",
     "text": [
      "WARNING:tensorflow:Detecting that an object or model or tf.train.Checkpoint is being deleted with unrestored values. See the following logs for the specific values in question. To silence these warnings, use `status.expect_partial()`. See https://www.tensorflow.org/api_docs/python/tf/train/Checkpoint#restorefor details about the status object returned by the restore function.\n"
     ]
    },
    {
     "name": "stdout",
     "output_type": "stream",
     "text": [
      "WARNING:tensorflow:Value in checkpoint could not be found in the restored object: (root).keras_api.metrics.0.total\n"
     ]
    },
    {
     "name": "stderr",
     "output_type": "stream",
     "text": [
      "WARNING:tensorflow:Value in checkpoint could not be found in the restored object: (root).keras_api.metrics.0.total\n"
     ]
    },
    {
     "name": "stdout",
     "output_type": "stream",
     "text": [
      "WARNING:tensorflow:Value in checkpoint could not be found in the restored object: (root).keras_api.metrics.0.count\n"
     ]
    },
    {
     "name": "stderr",
     "output_type": "stream",
     "text": [
      "WARNING:tensorflow:Value in checkpoint could not be found in the restored object: (root).keras_api.metrics.0.count\n"
     ]
    },
    {
     "name": "stdout",
     "output_type": "stream",
     "text": [
      "WARNING:tensorflow:Value in checkpoint could not be found in the restored object: (root).keras_api.metrics.1.total\n"
     ]
    },
    {
     "name": "stderr",
     "output_type": "stream",
     "text": [
      "WARNING:tensorflow:Value in checkpoint could not be found in the restored object: (root).keras_api.metrics.1.total\n"
     ]
    },
    {
     "name": "stdout",
     "output_type": "stream",
     "text": [
      "WARNING:tensorflow:Value in checkpoint could not be found in the restored object: (root).keras_api.metrics.1.count\n"
     ]
    },
    {
     "name": "stderr",
     "output_type": "stream",
     "text": [
      "WARNING:tensorflow:Value in checkpoint could not be found in the restored object: (root).keras_api.metrics.1.count\n"
     ]
    },
    {
     "name": "stdout",
     "output_type": "stream",
     "text": [
      "WARNING:tensorflow:Detecting that an object or model or tf.train.Checkpoint is being deleted with unrestored values. See the following logs for the specific values in question. To silence these warnings, use `status.expect_partial()`. See https://www.tensorflow.org/api_docs/python/tf/train/Checkpoint#restorefor details about the status object returned by the restore function.\n"
     ]
    },
    {
     "name": "stderr",
     "output_type": "stream",
     "text": [
      "WARNING:tensorflow:Detecting that an object or model or tf.train.Checkpoint is being deleted with unrestored values. See the following logs for the specific values in question. To silence these warnings, use `status.expect_partial()`. See https://www.tensorflow.org/api_docs/python/tf/train/Checkpoint#restorefor details about the status object returned by the restore function.\n"
     ]
    },
    {
     "name": "stdout",
     "output_type": "stream",
     "text": [
      "WARNING:tensorflow:Value in checkpoint could not be found in the restored object: (root).keras_api.metrics.0.total\n"
     ]
    },
    {
     "name": "stderr",
     "output_type": "stream",
     "text": [
      "WARNING:tensorflow:Value in checkpoint could not be found in the restored object: (root).keras_api.metrics.0.total\n"
     ]
    },
    {
     "name": "stdout",
     "output_type": "stream",
     "text": [
      "WARNING:tensorflow:Value in checkpoint could not be found in the restored object: (root).keras_api.metrics.0.count\n"
     ]
    },
    {
     "name": "stderr",
     "output_type": "stream",
     "text": [
      "WARNING:tensorflow:Value in checkpoint could not be found in the restored object: (root).keras_api.metrics.0.count\n"
     ]
    },
    {
     "name": "stdout",
     "output_type": "stream",
     "text": [
      "WARNING:tensorflow:Value in checkpoint could not be found in the restored object: (root).keras_api.metrics.1.total\n"
     ]
    },
    {
     "name": "stderr",
     "output_type": "stream",
     "text": [
      "WARNING:tensorflow:Value in checkpoint could not be found in the restored object: (root).keras_api.metrics.1.total\n"
     ]
    },
    {
     "name": "stdout",
     "output_type": "stream",
     "text": [
      "WARNING:tensorflow:Value in checkpoint could not be found in the restored object: (root).keras_api.metrics.1.count\n"
     ]
    },
    {
     "name": "stderr",
     "output_type": "stream",
     "text": [
      "WARNING:tensorflow:Value in checkpoint could not be found in the restored object: (root).keras_api.metrics.1.count\n"
     ]
    },
    {
     "name": "stdout",
     "output_type": "stream",
     "text": [
      "200/200 [==============================] - 1s 1ms/step - loss: 0.6011 - accuracy: 0.7947\n",
      "Epoch 2/50\n",
      "200/200 [==============================] - 0s 1ms/step - loss: 0.4413 - accuracy: 0.7961\n",
      "Epoch 3/50\n",
      "200/200 [==============================] - 0s 2ms/step - loss: 0.4312 - accuracy: 0.7961\n",
      "Epoch 4/50\n",
      "200/200 [==============================] - 0s 1ms/step - loss: 0.4287 - accuracy: 0.7961\n",
      "Epoch 5/50\n",
      "200/200 [==============================] - 0s 2ms/step - loss: 0.4277 - accuracy: 0.7961\n",
      "Epoch 6/50\n",
      "200/200 [==============================] - 0s 1ms/step - loss: 0.4259 - accuracy: 0.7961\n",
      "Epoch 7/50\n",
      "200/200 [==============================] - 0s 2ms/step - loss: 0.4240 - accuracy: 0.7961\n",
      "Epoch 8/50\n",
      "200/200 [==============================] - 0s 1ms/step - loss: 0.4219 - accuracy: 0.7961\n",
      "Epoch 9/50\n",
      "200/200 [==============================] - 0s 2ms/step - loss: 0.4199 - accuracy: 0.7961\n",
      "Epoch 10/50\n",
      "200/200 [==============================] - 0s 1ms/step - loss: 0.4180 - accuracy: 0.8092\n",
      "Epoch 11/50\n",
      "200/200 [==============================] - 0s 2ms/step - loss: 0.4168 - accuracy: 0.8236\n",
      "Epoch 12/50\n",
      "200/200 [==============================] - 0s 1ms/step - loss: 0.4157 - accuracy: 0.8247\n",
      "Epoch 13/50\n",
      "200/200 [==============================] - 0s 1ms/step - loss: 0.4148 - accuracy: 0.8264\n",
      "Epoch 14/50\n",
      "200/200 [==============================] - 0s 1ms/step - loss: 0.4137 - accuracy: 0.8284\n",
      "Epoch 15/50\n",
      "200/200 [==============================] - 0s 1ms/step - loss: 0.4128 - accuracy: 0.8302\n",
      "Epoch 16/50\n",
      "200/200 [==============================] - 0s 1ms/step - loss: 0.4119 - accuracy: 0.8305\n",
      "Epoch 17/50\n",
      "200/200 [==============================] - 0s 1ms/step - loss: 0.4109 - accuracy: 0.8305\n",
      "Epoch 18/50\n",
      "200/200 [==============================] - 0s 1ms/step - loss: 0.4112 - accuracy: 0.8308\n",
      "Epoch 19/50\n",
      "200/200 [==============================] - 0s 1ms/step - loss: 0.4099 - accuracy: 0.8334\n",
      "Epoch 20/50\n",
      "200/200 [==============================] - 0s 2ms/step - loss: 0.4097 - accuracy: 0.8327\n",
      "Epoch 21/50\n",
      "200/200 [==============================] - 0s 2ms/step - loss: 0.4090 - accuracy: 0.8336\n",
      "Epoch 22/50\n",
      "200/200 [==============================] - 0s 1ms/step - loss: 0.4086 - accuracy: 0.8342\n",
      "Epoch 23/50\n",
      "200/200 [==============================] - 0s 2ms/step - loss: 0.4082 - accuracy: 0.8341\n",
      "Epoch 24/50\n",
      "200/200 [==============================] - 0s 1ms/step - loss: 0.4078 - accuracy: 0.8344\n",
      "Epoch 25/50\n",
      "200/200 [==============================] - 0s 2ms/step - loss: 0.4072 - accuracy: 0.8355\n",
      "Epoch 26/50\n",
      "200/200 [==============================] - 0s 1ms/step - loss: 0.4069 - accuracy: 0.8345\n",
      "Epoch 27/50\n",
      "200/200 [==============================] - 0s 2ms/step - loss: 0.4064 - accuracy: 0.8367\n",
      "Epoch 28/50\n",
      "200/200 [==============================] - 0s 1ms/step - loss: 0.4061 - accuracy: 0.8345\n",
      "Epoch 29/50\n",
      "200/200 [==============================] - 0s 2ms/step - loss: 0.4058 - accuracy: 0.8359\n",
      "Epoch 30/50\n",
      "200/200 [==============================] - 0s 1ms/step - loss: 0.4055 - accuracy: 0.8352\n",
      "Epoch 31/50\n",
      "200/200 [==============================] - 0s 2ms/step - loss: 0.4053 - accuracy: 0.8366\n",
      "Epoch 32/50\n",
      "200/200 [==============================] - 0s 1ms/step - loss: 0.4049 - accuracy: 0.8359\n",
      "Epoch 33/50\n",
      "200/200 [==============================] - 0s 2ms/step - loss: 0.4045 - accuracy: 0.8355\n",
      "Epoch 34/50\n",
      "200/200 [==============================] - 0s 1ms/step - loss: 0.4049 - accuracy: 0.8353\n",
      "Epoch 35/50\n",
      "200/200 [==============================] - 0s 2ms/step - loss: 0.4041 - accuracy: 0.8364\n",
      "Epoch 36/50\n",
      "200/200 [==============================] - 0s 1ms/step - loss: 0.4037 - accuracy: 0.8366\n",
      "Epoch 37/50\n",
      "200/200 [==============================] - 0s 1ms/step - loss: 0.4040 - accuracy: 0.8350\n",
      "Epoch 38/50\n",
      "200/200 [==============================] - 0s 1ms/step - loss: 0.4035 - accuracy: 0.8367\n",
      "Epoch 39/50\n",
      "200/200 [==============================] - 0s 1ms/step - loss: 0.4033 - accuracy: 0.8375\n",
      "Epoch 40/50\n",
      "200/200 [==============================] - 0s 1ms/step - loss: 0.4032 - accuracy: 0.8356\n",
      "Epoch 41/50\n",
      "200/200 [==============================] - 0s 1ms/step - loss: 0.4029 - accuracy: 0.8363\n",
      "Epoch 42/50\n",
      "200/200 [==============================] - 0s 1ms/step - loss: 0.4026 - accuracy: 0.8358\n",
      "Epoch 43/50\n",
      "200/200 [==============================] - 0s 1ms/step - loss: 0.4025 - accuracy: 0.8364\n",
      "Epoch 44/50\n",
      "200/200 [==============================] - 0s 1ms/step - loss: 0.4027 - accuracy: 0.8366\n",
      "Epoch 45/50\n",
      "200/200 [==============================] - 0s 1ms/step - loss: 0.4022 - accuracy: 0.8358\n",
      "Epoch 46/50\n",
      "200/200 [==============================] - 0s 2ms/step - loss: 0.4020 - accuracy: 0.8363\n",
      "Epoch 47/50\n",
      "200/200 [==============================] - 0s 1ms/step - loss: 0.4020 - accuracy: 0.8364\n",
      "Epoch 48/50\n",
      "200/200 [==============================] - 0s 2ms/step - loss: 0.4017 - accuracy: 0.8359\n",
      "Epoch 49/50\n",
      "200/200 [==============================] - 0s 2ms/step - loss: 0.4016 - accuracy: 0.8369\n",
      "Epoch 50/50\n",
      "200/200 [==============================] - 0s 2ms/step - loss: 0.4015 - accuracy: 0.8363\n",
      "50/50 [==============================] - 0s 1ms/step\n"
     ]
    },
    {
     "name": "stderr",
     "output_type": "stream",
     "text": [
      "WARNING:absl:Found untraced functions such as _update_step_xla while saving (showing 1 of 1). These functions will not be directly callable after loading.\n"
     ]
    },
    {
     "name": "stdout",
     "output_type": "stream",
     "text": [
      "INFO:tensorflow:Assets written to: C:\\Users\\user\\AppData\\Local\\Temp\\tmpd5pj2i26\\assets\n"
     ]
    },
    {
     "name": "stderr",
     "output_type": "stream",
     "text": [
      "INFO:tensorflow:Assets written to: C:\\Users\\user\\AppData\\Local\\Temp\\tmpd5pj2i26\\assets\n"
     ]
    },
    {
     "name": "stdout",
     "output_type": "stream",
     "text": [
      "Epoch 1/100\n",
      "200/200 [==============================] - 1s 2ms/step - loss: 0.5968 - accuracy: 0.7947\n",
      "Epoch 2/100\n",
      "200/200 [==============================] - 0s 1ms/step - loss: 0.4428 - accuracy: 0.7959\n",
      "Epoch 3/100\n",
      "200/200 [==============================] - 0s 1ms/step - loss: 0.4338 - accuracy: 0.7959\n",
      "Epoch 4/100\n",
      "200/200 [==============================] - 0s 2ms/step - loss: 0.4313 - accuracy: 0.7959\n",
      "Epoch 5/100\n",
      "200/200 [==============================] - 0s 1ms/step - loss: 0.4293 - accuracy: 0.7959\n",
      "Epoch 6/100\n",
      "200/200 [==============================] - 0s 1ms/step - loss: 0.4275 - accuracy: 0.7959\n",
      "Epoch 7/100\n",
      "200/200 [==============================] - 0s 1ms/step - loss: 0.4252 - accuracy: 0.7959\n",
      "Epoch 8/100\n",
      "200/200 [==============================] - 0s 1ms/step - loss: 0.4233 - accuracy: 0.7959\n",
      "Epoch 9/100\n",
      "200/200 [==============================] - 0s 1ms/step - loss: 0.4211 - accuracy: 0.7959\n",
      "Epoch 10/100\n",
      "200/200 [==============================] - 0s 1ms/step - loss: 0.4197 - accuracy: 0.8123\n",
      "Epoch 11/100\n",
      "200/200 [==============================] - 0s 1ms/step - loss: 0.4186 - accuracy: 0.8227\n",
      "Epoch 12/100\n",
      "200/200 [==============================] - 0s 1ms/step - loss: 0.4173 - accuracy: 0.8244\n",
      "Epoch 13/100\n",
      "200/200 [==============================] - 0s 1ms/step - loss: 0.4166 - accuracy: 0.8248\n",
      "Epoch 14/100\n",
      "200/200 [==============================] - 0s 2ms/step - loss: 0.4158 - accuracy: 0.8267\n",
      "Epoch 15/100\n",
      "200/200 [==============================] - 0s 2ms/step - loss: 0.4153 - accuracy: 0.8286\n",
      "Epoch 16/100\n",
      "200/200 [==============================] - 0s 1ms/step - loss: 0.4147 - accuracy: 0.8280\n",
      "Epoch 17/100\n",
      "200/200 [==============================] - 0s 1ms/step - loss: 0.4140 - accuracy: 0.8292\n",
      "Epoch 18/100\n",
      "200/200 [==============================] - 0s 2ms/step - loss: 0.4134 - accuracy: 0.8294\n",
      "Epoch 19/100\n",
      "200/200 [==============================] - 0s 1ms/step - loss: 0.4130 - accuracy: 0.8305\n",
      "Epoch 20/100\n",
      "200/200 [==============================] - 0s 1ms/step - loss: 0.4122 - accuracy: 0.8305\n",
      "Epoch 21/100\n",
      "200/200 [==============================] - 0s 1ms/step - loss: 0.4119 - accuracy: 0.8314\n",
      "Epoch 22/100\n",
      "200/200 [==============================] - 0s 2ms/step - loss: 0.4114 - accuracy: 0.8302\n",
      "Epoch 23/100\n",
      "200/200 [==============================] - 0s 2ms/step - loss: 0.4112 - accuracy: 0.8305\n",
      "Epoch 24/100\n",
      "200/200 [==============================] - 0s 2ms/step - loss: 0.4105 - accuracy: 0.8322\n",
      "Epoch 25/100\n",
      "200/200 [==============================] - 0s 2ms/step - loss: 0.4101 - accuracy: 0.8319\n",
      "Epoch 26/100\n",
      "200/200 [==============================] - 0s 2ms/step - loss: 0.4099 - accuracy: 0.8323\n",
      "Epoch 27/100\n",
      "200/200 [==============================] - 0s 2ms/step - loss: 0.4097 - accuracy: 0.8325\n",
      "Epoch 28/100\n",
      "200/200 [==============================] - 1s 3ms/step - loss: 0.4091 - accuracy: 0.8336\n",
      "Epoch 29/100\n",
      "200/200 [==============================] - 1s 3ms/step - loss: 0.4087 - accuracy: 0.8331\n",
      "Epoch 30/100\n",
      "200/200 [==============================] - 1s 3ms/step - loss: 0.4084 - accuracy: 0.8334\n",
      "Epoch 31/100\n",
      "200/200 [==============================] - 1s 4ms/step - loss: 0.4081 - accuracy: 0.8339\n",
      "Epoch 32/100\n",
      "200/200 [==============================] - 0s 2ms/step - loss: 0.4077 - accuracy: 0.8320\n",
      "Epoch 33/100\n",
      "200/200 [==============================] - 0s 1ms/step - loss: 0.4074 - accuracy: 0.8330\n",
      "Epoch 34/100\n",
      "200/200 [==============================] - 0s 1ms/step - loss: 0.4070 - accuracy: 0.8339\n",
      "Epoch 35/100\n",
      "200/200 [==============================] - 0s 1ms/step - loss: 0.4070 - accuracy: 0.8333\n",
      "Epoch 36/100\n",
      "200/200 [==============================] - 0s 1ms/step - loss: 0.4068 - accuracy: 0.8345\n",
      "Epoch 37/100\n",
      "200/200 [==============================] - 0s 2ms/step - loss: 0.4063 - accuracy: 0.8342\n",
      "Epoch 38/100\n",
      "200/200 [==============================] - 0s 2ms/step - loss: 0.4058 - accuracy: 0.8334\n",
      "Epoch 39/100\n",
      "200/200 [==============================] - 0s 2ms/step - loss: 0.4059 - accuracy: 0.8342\n",
      "Epoch 40/100\n",
      "200/200 [==============================] - 0s 2ms/step - loss: 0.4054 - accuracy: 0.8338\n",
      "Epoch 41/100\n",
      "200/200 [==============================] - 0s 1ms/step - loss: 0.4053 - accuracy: 0.8338\n",
      "Epoch 42/100\n",
      "200/200 [==============================] - 0s 1ms/step - loss: 0.4054 - accuracy: 0.8348\n",
      "Epoch 43/100\n",
      "200/200 [==============================] - 0s 1ms/step - loss: 0.4052 - accuracy: 0.8352\n",
      "Epoch 44/100\n",
      "200/200 [==============================] - 0s 1ms/step - loss: 0.4049 - accuracy: 0.8353\n",
      "Epoch 45/100\n",
      "200/200 [==============================] - 0s 2ms/step - loss: 0.4047 - accuracy: 0.8328\n",
      "Epoch 46/100\n",
      "200/200 [==============================] - 0s 1ms/step - loss: 0.4043 - accuracy: 0.8348\n",
      "Epoch 47/100\n",
      "200/200 [==============================] - 0s 2ms/step - loss: 0.4047 - accuracy: 0.8333\n",
      "Epoch 48/100\n",
      "200/200 [==============================] - 0s 1ms/step - loss: 0.4041 - accuracy: 0.8352\n",
      "Epoch 49/100\n",
      "200/200 [==============================] - 0s 1ms/step - loss: 0.4041 - accuracy: 0.8355\n",
      "Epoch 50/100\n",
      "200/200 [==============================] - 0s 2ms/step - loss: 0.4038 - accuracy: 0.8359\n",
      "Epoch 51/100\n",
      "200/200 [==============================] - 0s 1ms/step - loss: 0.4041 - accuracy: 0.8353\n",
      "Epoch 52/100\n",
      "200/200 [==============================] - 0s 1ms/step - loss: 0.4034 - accuracy: 0.8358\n",
      "Epoch 53/100\n",
      "200/200 [==============================] - 0s 1ms/step - loss: 0.4035 - accuracy: 0.8364\n",
      "Epoch 54/100\n",
      "200/200 [==============================] - 0s 1ms/step - loss: 0.4033 - accuracy: 0.8345\n",
      "Epoch 55/100\n",
      "200/200 [==============================] - 0s 2ms/step - loss: 0.4033 - accuracy: 0.8352\n",
      "Epoch 56/100\n",
      "200/200 [==============================] - 0s 2ms/step - loss: 0.4029 - accuracy: 0.8353\n",
      "Epoch 57/100\n",
      "200/200 [==============================] - 0s 2ms/step - loss: 0.4028 - accuracy: 0.8369\n",
      "Epoch 58/100\n",
      "200/200 [==============================] - 0s 2ms/step - loss: 0.4026 - accuracy: 0.8345\n",
      "Epoch 59/100\n",
      "200/200 [==============================] - 0s 2ms/step - loss: 0.4026 - accuracy: 0.8361\n",
      "Epoch 60/100\n",
      "200/200 [==============================] - 0s 2ms/step - loss: 0.4028 - accuracy: 0.8344\n",
      "Epoch 61/100\n",
      "200/200 [==============================] - 0s 1ms/step - loss: 0.4029 - accuracy: 0.8358\n",
      "Epoch 62/100\n",
      "200/200 [==============================] - 0s 1ms/step - loss: 0.4023 - accuracy: 0.8364\n",
      "Epoch 63/100\n",
      "200/200 [==============================] - 0s 1ms/step - loss: 0.4021 - accuracy: 0.8352\n",
      "Epoch 64/100\n",
      "200/200 [==============================] - 0s 1ms/step - loss: 0.4022 - accuracy: 0.8361\n",
      "Epoch 65/100\n",
      "200/200 [==============================] - 0s 2ms/step - loss: 0.4024 - accuracy: 0.8361\n",
      "Epoch 66/100\n",
      "200/200 [==============================] - 0s 2ms/step - loss: 0.4020 - accuracy: 0.8364\n",
      "Epoch 67/100\n",
      "200/200 [==============================] - 0s 2ms/step - loss: 0.4018 - accuracy: 0.8361\n",
      "Epoch 68/100\n",
      "200/200 [==============================] - 0s 2ms/step - loss: 0.4019 - accuracy: 0.8358\n",
      "Epoch 69/100\n",
      "200/200 [==============================] - 0s 1ms/step - loss: 0.4015 - accuracy: 0.8370\n",
      "Epoch 70/100\n",
      "200/200 [==============================] - 0s 2ms/step - loss: 0.4020 - accuracy: 0.8366\n",
      "Epoch 71/100\n",
      "200/200 [==============================] - 0s 2ms/step - loss: 0.4015 - accuracy: 0.8381\n",
      "Epoch 72/100\n",
      "200/200 [==============================] - 0s 2ms/step - loss: 0.4017 - accuracy: 0.8363\n",
      "Epoch 73/100\n",
      "200/200 [==============================] - 0s 2ms/step - loss: 0.4020 - accuracy: 0.8355\n",
      "Epoch 74/100\n",
      "200/200 [==============================] - 0s 1ms/step - loss: 0.4017 - accuracy: 0.8356\n",
      "Epoch 75/100\n",
      "200/200 [==============================] - 0s 1ms/step - loss: 0.4013 - accuracy: 0.8355\n",
      "Epoch 76/100\n",
      "200/200 [==============================] - 0s 1ms/step - loss: 0.4015 - accuracy: 0.8381\n",
      "Epoch 77/100\n",
      "200/200 [==============================] - 0s 1ms/step - loss: 0.4016 - accuracy: 0.8364\n",
      "Epoch 78/100\n",
      "200/200 [==============================] - 0s 2ms/step - loss: 0.4018 - accuracy: 0.8359\n",
      "Epoch 79/100\n",
      "200/200 [==============================] - 0s 1ms/step - loss: 0.4013 - accuracy: 0.8361\n",
      "Epoch 80/100\n",
      "200/200 [==============================] - 0s 1ms/step - loss: 0.4014 - accuracy: 0.8377\n",
      "Epoch 81/100\n",
      "200/200 [==============================] - 0s 1ms/step - loss: 0.4010 - accuracy: 0.8347\n",
      "Epoch 82/100\n",
      "200/200 [==============================] - 0s 1ms/step - loss: 0.4013 - accuracy: 0.8359\n",
      "Epoch 83/100\n",
      "200/200 [==============================] - 0s 1ms/step - loss: 0.4010 - accuracy: 0.8352\n",
      "Epoch 84/100\n",
      "200/200 [==============================] - 0s 2ms/step - loss: 0.4011 - accuracy: 0.8364\n",
      "Epoch 85/100\n",
      "200/200 [==============================] - 0s 1ms/step - loss: 0.4013 - accuracy: 0.8366\n",
      "Epoch 86/100\n",
      "200/200 [==============================] - 0s 1ms/step - loss: 0.4008 - accuracy: 0.8356\n",
      "Epoch 87/100\n",
      "200/200 [==============================] - 0s 1ms/step - loss: 0.4011 - accuracy: 0.8361\n",
      "Epoch 88/100\n",
      "200/200 [==============================] - 0s 2ms/step - loss: 0.4015 - accuracy: 0.8363\n",
      "Epoch 89/100\n",
      "200/200 [==============================] - 0s 1ms/step - loss: 0.4005 - accuracy: 0.8366\n",
      "Epoch 90/100\n",
      "200/200 [==============================] - 0s 2ms/step - loss: 0.4010 - accuracy: 0.8359\n",
      "Epoch 91/100\n",
      "200/200 [==============================] - 0s 2ms/step - loss: 0.4004 - accuracy: 0.8352\n",
      "Epoch 92/100\n",
      "200/200 [==============================] - 0s 2ms/step - loss: 0.4011 - accuracy: 0.8363\n",
      "Epoch 93/100\n",
      "200/200 [==============================] - 0s 2ms/step - loss: 0.4012 - accuracy: 0.8372\n",
      "Epoch 94/100\n",
      "200/200 [==============================] - 0s 1ms/step - loss: 0.4007 - accuracy: 0.8342\n",
      "Epoch 95/100\n",
      "200/200 [==============================] - 0s 2ms/step - loss: 0.4007 - accuracy: 0.8347\n",
      "Epoch 96/100\n",
      "200/200 [==============================] - 0s 2ms/step - loss: 0.4003 - accuracy: 0.8363\n",
      "Epoch 97/100\n",
      "200/200 [==============================] - 0s 2ms/step - loss: 0.4009 - accuracy: 0.8364\n",
      "Epoch 98/100\n",
      "200/200 [==============================] - 0s 2ms/step - loss: 0.4004 - accuracy: 0.8358\n",
      "Epoch 99/100\n",
      "200/200 [==============================] - 0s 2ms/step - loss: 0.4003 - accuracy: 0.8358\n",
      "Epoch 100/100\n",
      "200/200 [==============================] - 0s 2ms/step - loss: 0.4008 - accuracy: 0.8361\n",
      "50/50 [==============================] - 0s 1ms/step\n"
     ]
    },
    {
     "name": "stderr",
     "output_type": "stream",
     "text": [
      "WARNING:absl:Found untraced functions such as _update_step_xla while saving (showing 1 of 1). These functions will not be directly callable after loading.\n"
     ]
    },
    {
     "name": "stdout",
     "output_type": "stream",
     "text": [
      "INFO:tensorflow:Assets written to: C:\\Users\\user\\AppData\\Local\\Temp\\tmp8he4vxzu\\assets\n"
     ]
    },
    {
     "name": "stderr",
     "output_type": "stream",
     "text": [
      "INFO:tensorflow:Assets written to: C:\\Users\\user\\AppData\\Local\\Temp\\tmp8he4vxzu\\assets\n"
     ]
    },
    {
     "name": "stdout",
     "output_type": "stream",
     "text": [
      "Epoch 1/100\n",
      "200/200 [==============================] - 1s 2ms/step - loss: 0.6045 - accuracy: 0.7947\n",
      "Epoch 2/100\n",
      "200/200 [==============================] - 0s 2ms/step - loss: 0.4435 - accuracy: 0.7959\n",
      "Epoch 3/100\n",
      "200/200 [==============================] - 0s 2ms/step - loss: 0.4329 - accuracy: 0.7959\n",
      "Epoch 4/100\n",
      "200/200 [==============================] - 0s 2ms/step - loss: 0.4301 - accuracy: 0.7959\n",
      "Epoch 5/100\n",
      "200/200 [==============================] - 0s 2ms/step - loss: 0.4280 - accuracy: 0.7959\n",
      "Epoch 6/100\n",
      "200/200 [==============================] - 0s 2ms/step - loss: 0.4258 - accuracy: 0.7959\n",
      "Epoch 7/100\n",
      "200/200 [==============================] - 0s 2ms/step - loss: 0.4241 - accuracy: 0.7959\n",
      "Epoch 8/100\n",
      "200/200 [==============================] - 0s 1ms/step - loss: 0.4222 - accuracy: 0.7959\n",
      "Epoch 9/100\n",
      "200/200 [==============================] - 0s 1ms/step - loss: 0.4204 - accuracy: 0.7959\n",
      "Epoch 10/100\n",
      "200/200 [==============================] - 0s 1ms/step - loss: 0.4189 - accuracy: 0.8136\n",
      "Epoch 11/100\n",
      "200/200 [==============================] - 0s 2ms/step - loss: 0.4179 - accuracy: 0.8208\n",
      "Epoch 12/100\n",
      "200/200 [==============================] - 0s 2ms/step - loss: 0.4171 - accuracy: 0.8223\n",
      "Epoch 13/100\n",
      "200/200 [==============================] - 0s 2ms/step - loss: 0.4160 - accuracy: 0.8241\n",
      "Epoch 14/100\n",
      "200/200 [==============================] - 0s 2ms/step - loss: 0.4153 - accuracy: 0.8259\n",
      "Epoch 15/100\n",
      "200/200 [==============================] - 0s 1ms/step - loss: 0.4142 - accuracy: 0.8272\n",
      "Epoch 16/100\n",
      "200/200 [==============================] - 0s 1ms/step - loss: 0.4133 - accuracy: 0.8280\n",
      "Epoch 17/100\n",
      "200/200 [==============================] - 0s 2ms/step - loss: 0.4131 - accuracy: 0.8294\n",
      "Epoch 18/100\n",
      "200/200 [==============================] - 0s 2ms/step - loss: 0.4121 - accuracy: 0.8309\n",
      "Epoch 19/100\n",
      "200/200 [==============================] - 0s 1ms/step - loss: 0.4115 - accuracy: 0.8303\n",
      "Epoch 20/100\n",
      "200/200 [==============================] - 0s 1ms/step - loss: 0.4110 - accuracy: 0.8322\n",
      "Epoch 21/100\n",
      "200/200 [==============================] - 0s 1ms/step - loss: 0.4103 - accuracy: 0.8336\n",
      "Epoch 22/100\n",
      "200/200 [==============================] - 0s 1ms/step - loss: 0.4099 - accuracy: 0.8328\n",
      "Epoch 23/100\n",
      "200/200 [==============================] - 0s 2ms/step - loss: 0.4093 - accuracy: 0.8341\n",
      "Epoch 24/100\n",
      "200/200 [==============================] - 0s 2ms/step - loss: 0.4093 - accuracy: 0.8338\n",
      "Epoch 25/100\n",
      "200/200 [==============================] - 0s 2ms/step - loss: 0.4085 - accuracy: 0.8350\n",
      "Epoch 26/100\n",
      "200/200 [==============================] - 0s 1ms/step - loss: 0.4082 - accuracy: 0.8353\n",
      "Epoch 27/100\n",
      "200/200 [==============================] - 0s 1ms/step - loss: 0.4080 - accuracy: 0.8356\n",
      "Epoch 28/100\n",
      "200/200 [==============================] - 0s 1ms/step - loss: 0.4077 - accuracy: 0.8363\n",
      "Epoch 29/100\n",
      "200/200 [==============================] - 0s 1ms/step - loss: 0.4074 - accuracy: 0.8353\n",
      "Epoch 30/100\n",
      "200/200 [==============================] - 0s 1ms/step - loss: 0.4069 - accuracy: 0.8355\n",
      "Epoch 31/100\n",
      "200/200 [==============================] - 0s 2ms/step - loss: 0.4066 - accuracy: 0.8356\n",
      "Epoch 32/100\n",
      "200/200 [==============================] - 0s 1ms/step - loss: 0.4065 - accuracy: 0.8356\n",
      "Epoch 33/100\n",
      "200/200 [==============================] - 0s 1ms/step - loss: 0.4061 - accuracy: 0.8348\n",
      "Epoch 34/100\n",
      "200/200 [==============================] - 0s 1ms/step - loss: 0.4059 - accuracy: 0.8356\n",
      "Epoch 35/100\n",
      "200/200 [==============================] - 0s 2ms/step - loss: 0.4058 - accuracy: 0.8358\n",
      "Epoch 36/100\n",
      "200/200 [==============================] - 0s 1ms/step - loss: 0.4052 - accuracy: 0.8350\n",
      "Epoch 37/100\n",
      "200/200 [==============================] - 0s 1ms/step - loss: 0.4052 - accuracy: 0.8352\n",
      "Epoch 38/100\n",
      "200/200 [==============================] - 0s 2ms/step - loss: 0.4052 - accuracy: 0.8355\n",
      "Epoch 39/100\n",
      "200/200 [==============================] - 0s 1ms/step - loss: 0.4047 - accuracy: 0.8367\n",
      "Epoch 40/100\n",
      "200/200 [==============================] - 0s 2ms/step - loss: 0.4043 - accuracy: 0.8359\n",
      "Epoch 41/100\n",
      "200/200 [==============================] - 0s 2ms/step - loss: 0.4042 - accuracy: 0.8338\n",
      "Epoch 42/100\n",
      "200/200 [==============================] - 1s 3ms/step - loss: 0.4042 - accuracy: 0.8348\n",
      "Epoch 43/100\n",
      "200/200 [==============================] - 0s 2ms/step - loss: 0.4039 - accuracy: 0.8358\n",
      "Epoch 44/100\n",
      "200/200 [==============================] - 0s 2ms/step - loss: 0.4035 - accuracy: 0.8355\n",
      "Epoch 45/100\n",
      "200/200 [==============================] - 0s 2ms/step - loss: 0.4035 - accuracy: 0.8342\n",
      "Epoch 46/100\n",
      "200/200 [==============================] - 0s 2ms/step - loss: 0.4035 - accuracy: 0.8353\n",
      "Epoch 47/100\n",
      "200/200 [==============================] - 0s 2ms/step - loss: 0.4031 - accuracy: 0.8338\n",
      "Epoch 48/100\n",
      "200/200 [==============================] - 0s 2ms/step - loss: 0.4031 - accuracy: 0.8355\n",
      "Epoch 49/100\n",
      "200/200 [==============================] - 0s 2ms/step - loss: 0.4030 - accuracy: 0.8359\n",
      "Epoch 50/100\n",
      "200/200 [==============================] - 0s 2ms/step - loss: 0.4029 - accuracy: 0.8355\n",
      "Epoch 51/100\n",
      "200/200 [==============================] - 0s 2ms/step - loss: 0.4027 - accuracy: 0.8345\n",
      "Epoch 52/100\n",
      "200/200 [==============================] - 0s 2ms/step - loss: 0.4025 - accuracy: 0.8350\n",
      "Epoch 53/100\n",
      "200/200 [==============================] - 0s 2ms/step - loss: 0.4024 - accuracy: 0.8350\n",
      "Epoch 54/100\n",
      "200/200 [==============================] - 0s 1ms/step - loss: 0.4026 - accuracy: 0.8353\n",
      "Epoch 55/100\n",
      "200/200 [==============================] - 0s 2ms/step - loss: 0.4024 - accuracy: 0.8366\n",
      "Epoch 56/100\n",
      "200/200 [==============================] - 0s 2ms/step - loss: 0.4023 - accuracy: 0.8348\n",
      "Epoch 57/100\n",
      "200/200 [==============================] - 0s 2ms/step - loss: 0.4017 - accuracy: 0.8359\n",
      "Epoch 58/100\n",
      "200/200 [==============================] - 0s 2ms/step - loss: 0.4019 - accuracy: 0.8353\n",
      "Epoch 59/100\n",
      "200/200 [==============================] - 0s 2ms/step - loss: 0.4019 - accuracy: 0.8358\n",
      "Epoch 60/100\n",
      "200/200 [==============================] - 0s 2ms/step - loss: 0.4021 - accuracy: 0.8341\n",
      "Epoch 61/100\n",
      "200/200 [==============================] - 0s 2ms/step - loss: 0.4017 - accuracy: 0.8341\n",
      "Epoch 62/100\n",
      "200/200 [==============================] - 0s 2ms/step - loss: 0.4017 - accuracy: 0.8341\n",
      "Epoch 63/100\n",
      "200/200 [==============================] - 0s 2ms/step - loss: 0.4015 - accuracy: 0.8358\n",
      "Epoch 64/100\n",
      "200/200 [==============================] - 0s 2ms/step - loss: 0.4013 - accuracy: 0.8348\n",
      "Epoch 65/100\n",
      "200/200 [==============================] - 0s 2ms/step - loss: 0.4015 - accuracy: 0.8364\n",
      "Epoch 66/100\n",
      "200/200 [==============================] - 0s 2ms/step - loss: 0.4013 - accuracy: 0.8355\n",
      "Epoch 67/100\n",
      "200/200 [==============================] - 0s 2ms/step - loss: 0.4012 - accuracy: 0.8363\n",
      "Epoch 68/100\n",
      "200/200 [==============================] - 0s 2ms/step - loss: 0.4011 - accuracy: 0.8341\n",
      "Epoch 69/100\n",
      "200/200 [==============================] - 0s 2ms/step - loss: 0.4011 - accuracy: 0.8377\n",
      "Epoch 70/100\n",
      "200/200 [==============================] - 0s 2ms/step - loss: 0.4011 - accuracy: 0.8361\n",
      "Epoch 71/100\n",
      "200/200 [==============================] - 0s 2ms/step - loss: 0.4012 - accuracy: 0.8350\n",
      "Epoch 72/100\n",
      "200/200 [==============================] - 0s 2ms/step - loss: 0.4008 - accuracy: 0.8366\n",
      "Epoch 73/100\n",
      "200/200 [==============================] - 0s 2ms/step - loss: 0.4004 - accuracy: 0.8355\n",
      "Epoch 74/100\n",
      "200/200 [==============================] - 0s 2ms/step - loss: 0.4008 - accuracy: 0.8353\n",
      "Epoch 75/100\n",
      "200/200 [==============================] - 0s 2ms/step - loss: 0.4010 - accuracy: 0.8358\n",
      "Epoch 76/100\n",
      "200/200 [==============================] - 0s 2ms/step - loss: 0.4008 - accuracy: 0.8355\n",
      "Epoch 77/100\n",
      "200/200 [==============================] - 0s 2ms/step - loss: 0.4004 - accuracy: 0.8352\n",
      "Epoch 78/100\n",
      "200/200 [==============================] - 0s 2ms/step - loss: 0.4007 - accuracy: 0.8361\n",
      "Epoch 79/100\n",
      "200/200 [==============================] - 0s 2ms/step - loss: 0.4007 - accuracy: 0.8364\n",
      "Epoch 80/100\n",
      "200/200 [==============================] - 0s 2ms/step - loss: 0.4005 - accuracy: 0.8359\n",
      "Epoch 81/100\n",
      "200/200 [==============================] - 0s 1ms/step - loss: 0.4005 - accuracy: 0.8347\n",
      "Epoch 82/100\n",
      "200/200 [==============================] - 0s 1ms/step - loss: 0.4007 - accuracy: 0.8359\n",
      "Epoch 83/100\n",
      "200/200 [==============================] - 0s 1ms/step - loss: 0.4006 - accuracy: 0.8370\n",
      "Epoch 84/100\n",
      "200/200 [==============================] - 0s 1ms/step - loss: 0.4009 - accuracy: 0.8353\n",
      "Epoch 85/100\n",
      "200/200 [==============================] - 0s 1ms/step - loss: 0.4007 - accuracy: 0.8355\n",
      "Epoch 86/100\n",
      "200/200 [==============================] - 0s 1ms/step - loss: 0.4006 - accuracy: 0.8372\n",
      "Epoch 87/100\n",
      "200/200 [==============================] - 0s 1ms/step - loss: 0.4003 - accuracy: 0.8345\n",
      "Epoch 88/100\n",
      "200/200 [==============================] - 0s 1ms/step - loss: 0.4005 - accuracy: 0.8361\n",
      "Epoch 89/100\n",
      "200/200 [==============================] - 0s 1ms/step - loss: 0.4004 - accuracy: 0.8358\n",
      "Epoch 90/100\n",
      "200/200 [==============================] - 0s 1ms/step - loss: 0.4008 - accuracy: 0.8345\n",
      "Epoch 91/100\n",
      "200/200 [==============================] - 0s 1ms/step - loss: 0.4003 - accuracy: 0.8369\n",
      "Epoch 92/100\n",
      "200/200 [==============================] - 0s 1ms/step - loss: 0.4006 - accuracy: 0.8364\n",
      "Epoch 93/100\n",
      "200/200 [==============================] - 0s 1ms/step - loss: 0.4002 - accuracy: 0.8353\n",
      "Epoch 94/100\n",
      "200/200 [==============================] - 0s 1ms/step - loss: 0.4002 - accuracy: 0.8355\n",
      "Epoch 95/100\n",
      "200/200 [==============================] - 0s 1ms/step - loss: 0.4001 - accuracy: 0.8358\n",
      "Epoch 96/100\n",
      "200/200 [==============================] - 0s 1ms/step - loss: 0.4000 - accuracy: 0.8358\n",
      "Epoch 97/100\n",
      "200/200 [==============================] - 0s 1ms/step - loss: 0.3999 - accuracy: 0.8373\n",
      "Epoch 98/100\n",
      "200/200 [==============================] - 0s 1ms/step - loss: 0.4000 - accuracy: 0.8344\n",
      "Epoch 99/100\n",
      "200/200 [==============================] - 0s 1ms/step - loss: 0.3997 - accuracy: 0.8344\n",
      "Epoch 100/100\n",
      "200/200 [==============================] - 0s 1ms/step - loss: 0.3999 - accuracy: 0.8358\n",
      "50/50 [==============================] - 0s 1ms/step\n"
     ]
    },
    {
     "name": "stderr",
     "output_type": "stream",
     "text": [
      "WARNING:absl:Found untraced functions such as _update_step_xla while saving (showing 1 of 1). These functions will not be directly callable after loading.\n"
     ]
    },
    {
     "name": "stdout",
     "output_type": "stream",
     "text": [
      "INFO:tensorflow:Assets written to: C:\\Users\\user\\AppData\\Local\\Temp\\tmppc0kqqfr\\assets\n"
     ]
    },
    {
     "name": "stderr",
     "output_type": "stream",
     "text": [
      "INFO:tensorflow:Assets written to: C:\\Users\\user\\AppData\\Local\\Temp\\tmppc0kqqfr\\assets\n"
     ]
    },
    {
     "name": "stdout",
     "output_type": "stream",
     "text": [
      "Epoch 1/100\n",
      "200/200 [==============================] - 1s 1ms/step - loss: 0.6056 - accuracy: 0.7952\n",
      "Epoch 2/100\n",
      "200/200 [==============================] - 0s 1ms/step - loss: 0.4440 - accuracy: 0.7959\n",
      "Epoch 3/100\n",
      "200/200 [==============================] - 0s 1ms/step - loss: 0.4330 - accuracy: 0.7959\n",
      "Epoch 4/100\n",
      "200/200 [==============================] - 0s 2ms/step - loss: 0.4305 - accuracy: 0.7959\n",
      "Epoch 5/100\n",
      "200/200 [==============================] - 0s 2ms/step - loss: 0.4287 - accuracy: 0.7959\n",
      "Epoch 6/100\n",
      "200/200 [==============================] - 0s 2ms/step - loss: 0.4272 - accuracy: 0.7959\n",
      "Epoch 7/100\n",
      "200/200 [==============================] - 1s 3ms/step - loss: 0.4254 - accuracy: 0.7959\n",
      "Epoch 8/100\n",
      "200/200 [==============================] - 1s 3ms/step - loss: 0.4235 - accuracy: 0.7959\n",
      "Epoch 9/100\n",
      "200/200 [==============================] - 0s 1ms/step - loss: 0.4217 - accuracy: 0.7959\n",
      "Epoch 10/100\n",
      "200/200 [==============================] - 0s 1ms/step - loss: 0.4198 - accuracy: 0.8136\n",
      "Epoch 11/100\n",
      "200/200 [==============================] - 0s 1ms/step - loss: 0.4184 - accuracy: 0.8225\n",
      "Epoch 12/100\n",
      "200/200 [==============================] - 0s 1ms/step - loss: 0.4172 - accuracy: 0.8247\n",
      "Epoch 13/100\n",
      "200/200 [==============================] - 0s 1ms/step - loss: 0.4159 - accuracy: 0.8289\n",
      "Epoch 14/100\n",
      "200/200 [==============================] - 0s 1ms/step - loss: 0.4130 - accuracy: 0.8322\n",
      "Epoch 15/100\n",
      "200/200 [==============================] - 0s 1ms/step - loss: 0.4104 - accuracy: 0.8344\n",
      "Epoch 16/100\n",
      "200/200 [==============================] - 0s 1ms/step - loss: 0.4085 - accuracy: 0.8323\n",
      "Epoch 17/100\n",
      "200/200 [==============================] - 0s 1ms/step - loss: 0.4069 - accuracy: 0.8347\n",
      "Epoch 18/100\n",
      "200/200 [==============================] - 0s 2ms/step - loss: 0.4055 - accuracy: 0.8356\n",
      "Epoch 19/100\n",
      "200/200 [==============================] - 0s 1ms/step - loss: 0.4043 - accuracy: 0.8370\n",
      "Epoch 20/100\n",
      "200/200 [==============================] - 0s 1ms/step - loss: 0.4038 - accuracy: 0.8355\n",
      "Epoch 21/100\n",
      "200/200 [==============================] - 0s 1ms/step - loss: 0.4030 - accuracy: 0.8363\n",
      "Epoch 22/100\n",
      "200/200 [==============================] - 0s 1ms/step - loss: 0.4018 - accuracy: 0.8375\n",
      "Epoch 23/100\n",
      "200/200 [==============================] - 0s 2ms/step - loss: 0.4013 - accuracy: 0.8341\n",
      "Epoch 24/100\n",
      "200/200 [==============================] - 0s 2ms/step - loss: 0.4009 - accuracy: 0.8358\n",
      "Epoch 25/100\n",
      "200/200 [==============================] - 0s 1ms/step - loss: 0.4004 - accuracy: 0.8355\n",
      "Epoch 26/100\n",
      "200/200 [==============================] - 0s 1ms/step - loss: 0.3996 - accuracy: 0.8361\n",
      "Epoch 27/100\n",
      "200/200 [==============================] - 0s 2ms/step - loss: 0.3992 - accuracy: 0.8367\n",
      "Epoch 28/100\n",
      "200/200 [==============================] - 0s 2ms/step - loss: 0.3987 - accuracy: 0.8356\n",
      "Epoch 29/100\n",
      "200/200 [==============================] - 0s 1ms/step - loss: 0.3985 - accuracy: 0.8341\n",
      "Epoch 30/100\n",
      "200/200 [==============================] - 0s 2ms/step - loss: 0.3982 - accuracy: 0.8361\n",
      "Epoch 31/100\n",
      "200/200 [==============================] - 0s 2ms/step - loss: 0.3981 - accuracy: 0.8359\n",
      "Epoch 32/100\n",
      "200/200 [==============================] - 0s 1ms/step - loss: 0.3975 - accuracy: 0.8358\n",
      "Epoch 33/100\n",
      "200/200 [==============================] - 0s 2ms/step - loss: 0.3974 - accuracy: 0.8341\n",
      "Epoch 34/100\n",
      "200/200 [==============================] - 0s 1ms/step - loss: 0.3968 - accuracy: 0.8359\n",
      "Epoch 35/100\n",
      "200/200 [==============================] - 0s 1ms/step - loss: 0.3965 - accuracy: 0.8355\n",
      "Epoch 36/100\n",
      "200/200 [==============================] - 0s 1ms/step - loss: 0.3964 - accuracy: 0.8356\n",
      "Epoch 37/100\n",
      "200/200 [==============================] - 0s 1ms/step - loss: 0.3962 - accuracy: 0.8372\n",
      "Epoch 38/100\n",
      "200/200 [==============================] - 0s 1ms/step - loss: 0.3957 - accuracy: 0.8355\n",
      "Epoch 39/100\n",
      "200/200 [==============================] - 0s 1ms/step - loss: 0.3955 - accuracy: 0.8373\n",
      "Epoch 40/100\n",
      "200/200 [==============================] - 0s 1ms/step - loss: 0.3954 - accuracy: 0.8370\n",
      "Epoch 41/100\n",
      "200/200 [==============================] - 0s 1ms/step - loss: 0.3951 - accuracy: 0.8361\n",
      "Epoch 42/100\n",
      "200/200 [==============================] - 0s 1ms/step - loss: 0.3947 - accuracy: 0.8356\n",
      "Epoch 43/100\n",
      "200/200 [==============================] - 0s 1ms/step - loss: 0.3949 - accuracy: 0.8370\n",
      "Epoch 44/100\n",
      "200/200 [==============================] - 0s 2ms/step - loss: 0.3946 - accuracy: 0.8359\n",
      "Epoch 45/100\n",
      "200/200 [==============================] - 0s 1ms/step - loss: 0.3944 - accuracy: 0.8355\n",
      "Epoch 46/100\n",
      "200/200 [==============================] - 0s 1ms/step - loss: 0.3939 - accuracy: 0.8384\n",
      "Epoch 47/100\n",
      "200/200 [==============================] - 0s 2ms/step - loss: 0.3937 - accuracy: 0.8378\n",
      "Epoch 48/100\n",
      "200/200 [==============================] - 0s 1ms/step - loss: 0.3938 - accuracy: 0.8361\n",
      "Epoch 49/100\n",
      "200/200 [==============================] - 0s 1ms/step - loss: 0.3937 - accuracy: 0.8363\n",
      "Epoch 50/100\n",
      "200/200 [==============================] - 0s 1ms/step - loss: 0.3935 - accuracy: 0.8364\n",
      "Epoch 51/100\n",
      "200/200 [==============================] - 0s 1ms/step - loss: 0.3929 - accuracy: 0.8370\n",
      "Epoch 52/100\n",
      "200/200 [==============================] - 0s 2ms/step - loss: 0.3931 - accuracy: 0.8384\n",
      "Epoch 53/100\n",
      "200/200 [==============================] - 0s 1ms/step - loss: 0.3929 - accuracy: 0.8375\n",
      "Epoch 54/100\n",
      "200/200 [==============================] - 0s 1ms/step - loss: 0.3928 - accuracy: 0.8380\n",
      "Epoch 55/100\n",
      "200/200 [==============================] - 0s 2ms/step - loss: 0.3928 - accuracy: 0.8381\n",
      "Epoch 56/100\n",
      "200/200 [==============================] - 0s 1ms/step - loss: 0.3930 - accuracy: 0.8377\n",
      "Epoch 57/100\n",
      "200/200 [==============================] - 0s 1ms/step - loss: 0.3920 - accuracy: 0.8372\n",
      "Epoch 58/100\n",
      "200/200 [==============================] - 0s 1ms/step - loss: 0.3927 - accuracy: 0.8372\n",
      "Epoch 59/100\n",
      "200/200 [==============================] - 0s 1ms/step - loss: 0.3920 - accuracy: 0.8391\n",
      "Epoch 60/100\n",
      "200/200 [==============================] - 0s 2ms/step - loss: 0.3924 - accuracy: 0.8380\n",
      "Epoch 61/100\n",
      "200/200 [==============================] - 0s 1ms/step - loss: 0.3922 - accuracy: 0.8398\n",
      "Epoch 62/100\n",
      "200/200 [==============================] - 0s 1ms/step - loss: 0.3918 - accuracy: 0.8388\n",
      "Epoch 63/100\n",
      "200/200 [==============================] - 0s 1ms/step - loss: 0.3923 - accuracy: 0.8373\n",
      "Epoch 64/100\n",
      "200/200 [==============================] - 0s 1ms/step - loss: 0.3918 - accuracy: 0.8375\n",
      "Epoch 65/100\n",
      "200/200 [==============================] - 0s 2ms/step - loss: 0.3918 - accuracy: 0.8397\n",
      "Epoch 66/100\n",
      "200/200 [==============================] - 0s 1ms/step - loss: 0.3916 - accuracy: 0.8403\n",
      "Epoch 67/100\n",
      "200/200 [==============================] - 0s 1ms/step - loss: 0.3918 - accuracy: 0.8370\n",
      "Epoch 68/100\n",
      "200/200 [==============================] - 0s 2ms/step - loss: 0.3914 - accuracy: 0.8380\n",
      "Epoch 69/100\n",
      "200/200 [==============================] - 0s 1ms/step - loss: 0.3916 - accuracy: 0.8398\n",
      "Epoch 70/100\n",
      "200/200 [==============================] - 0s 1ms/step - loss: 0.3917 - accuracy: 0.8405\n",
      "Epoch 71/100\n",
      "200/200 [==============================] - 0s 1ms/step - loss: 0.3913 - accuracy: 0.8394\n",
      "Epoch 72/100\n",
      "200/200 [==============================] - 0s 1ms/step - loss: 0.3911 - accuracy: 0.8397\n",
      "Epoch 73/100\n",
      "200/200 [==============================] - 0s 1ms/step - loss: 0.3910 - accuracy: 0.8381\n",
      "Epoch 74/100\n",
      "200/200 [==============================] - 0s 1ms/step - loss: 0.3914 - accuracy: 0.8389\n",
      "Epoch 75/100\n",
      "200/200 [==============================] - 0s 1ms/step - loss: 0.3911 - accuracy: 0.8394\n",
      "Epoch 76/100\n",
      "200/200 [==============================] - 0s 1ms/step - loss: 0.3915 - accuracy: 0.8391\n",
      "Epoch 77/100\n",
      "200/200 [==============================] - 0s 1ms/step - loss: 0.3915 - accuracy: 0.8380\n",
      "Epoch 78/100\n",
      "200/200 [==============================] - 0s 1ms/step - loss: 0.3911 - accuracy: 0.8392\n",
      "Epoch 79/100\n",
      "200/200 [==============================] - 0s 2ms/step - loss: 0.3912 - accuracy: 0.8383\n",
      "Epoch 80/100\n",
      "200/200 [==============================] - 0s 1ms/step - loss: 0.3913 - accuracy: 0.8391\n",
      "Epoch 81/100\n",
      "200/200 [==============================] - 0s 2ms/step - loss: 0.3915 - accuracy: 0.8402\n",
      "Epoch 82/100\n",
      "200/200 [==============================] - 0s 1ms/step - loss: 0.3912 - accuracy: 0.8395\n",
      "Epoch 83/100\n",
      "200/200 [==============================] - 0s 1ms/step - loss: 0.3908 - accuracy: 0.8397\n",
      "Epoch 84/100\n",
      "200/200 [==============================] - 0s 1ms/step - loss: 0.3913 - accuracy: 0.8386\n",
      "Epoch 85/100\n",
      "200/200 [==============================] - 0s 1ms/step - loss: 0.3909 - accuracy: 0.8397\n",
      "Epoch 86/100\n",
      "200/200 [==============================] - 0s 1ms/step - loss: 0.3910 - accuracy: 0.8398\n",
      "Epoch 87/100\n",
      "200/200 [==============================] - 0s 1ms/step - loss: 0.3911 - accuracy: 0.8397\n",
      "Epoch 88/100\n",
      "200/200 [==============================] - 0s 1ms/step - loss: 0.3908 - accuracy: 0.8398\n",
      "Epoch 89/100\n",
      "200/200 [==============================] - 0s 1ms/step - loss: 0.3908 - accuracy: 0.8395\n",
      "Epoch 90/100\n",
      "200/200 [==============================] - 0s 1ms/step - loss: 0.3908 - accuracy: 0.8388\n",
      "Epoch 91/100\n",
      "200/200 [==============================] - 0s 1ms/step - loss: 0.3911 - accuracy: 0.8392\n",
      "Epoch 92/100\n",
      "200/200 [==============================] - 0s 1ms/step - loss: 0.3907 - accuracy: 0.8378\n",
      "Epoch 93/100\n",
      "200/200 [==============================] - 0s 1ms/step - loss: 0.3904 - accuracy: 0.8397\n",
      "Epoch 94/100\n",
      "200/200 [==============================] - 0s 1ms/step - loss: 0.3906 - accuracy: 0.8397\n",
      "Epoch 95/100\n",
      "200/200 [==============================] - 0s 1ms/step - loss: 0.3902 - accuracy: 0.8397\n",
      "Epoch 96/100\n",
      "200/200 [==============================] - 0s 1ms/step - loss: 0.3907 - accuracy: 0.8384\n",
      "Epoch 97/100\n",
      "200/200 [==============================] - 0s 1ms/step - loss: 0.3905 - accuracy: 0.8395\n",
      "Epoch 98/100\n",
      "200/200 [==============================] - 0s 1ms/step - loss: 0.3905 - accuracy: 0.8383\n",
      "Epoch 99/100\n",
      "200/200 [==============================] - 0s 1ms/step - loss: 0.3908 - accuracy: 0.8386\n",
      "Epoch 100/100\n",
      "200/200 [==============================] - 0s 1ms/step - loss: 0.3906 - accuracy: 0.8406\n",
      "50/50 [==============================] - 0s 1ms/step\n"
     ]
    },
    {
     "name": "stderr",
     "output_type": "stream",
     "text": [
      "WARNING:absl:Found untraced functions such as _update_step_xla while saving (showing 1 of 1). These functions will not be directly callable after loading.\n"
     ]
    },
    {
     "name": "stdout",
     "output_type": "stream",
     "text": [
      "INFO:tensorflow:Assets written to: C:\\Users\\user\\AppData\\Local\\Temp\\tmp3_ic2st7\\assets\n"
     ]
    },
    {
     "name": "stderr",
     "output_type": "stream",
     "text": [
      "INFO:tensorflow:Assets written to: C:\\Users\\user\\AppData\\Local\\Temp\\tmp3_ic2st7\\assets\n"
     ]
    },
    {
     "name": "stdout",
     "output_type": "stream",
     "text": [
      "Epoch 1/100\n",
      "200/200 [==============================] - 1s 2ms/step - loss: 0.5991 - accuracy: 0.7944\n",
      "Epoch 2/100\n",
      "200/200 [==============================] - 0s 1ms/step - loss: 0.4429 - accuracy: 0.7961\n",
      "Epoch 3/100\n",
      "200/200 [==============================] - 0s 1ms/step - loss: 0.4332 - accuracy: 0.7961\n",
      "Epoch 4/100\n",
      "200/200 [==============================] - 0s 2ms/step - loss: 0.4306 - accuracy: 0.7961\n",
      "Epoch 5/100\n",
      "200/200 [==============================] - 0s 2ms/step - loss: 0.4289 - accuracy: 0.7961\n",
      "Epoch 6/100\n",
      "200/200 [==============================] - 0s 1ms/step - loss: 0.4270 - accuracy: 0.7961\n",
      "Epoch 7/100\n",
      "200/200 [==============================] - 0s 1ms/step - loss: 0.4247 - accuracy: 0.7961\n",
      "Epoch 8/100\n",
      "200/200 [==============================] - 0s 1ms/step - loss: 0.4229 - accuracy: 0.7961\n",
      "Epoch 9/100\n",
      "200/200 [==============================] - 0s 2ms/step - loss: 0.4209 - accuracy: 0.7961\n",
      "Epoch 10/100\n",
      "200/200 [==============================] - 0s 2ms/step - loss: 0.4190 - accuracy: 0.8141\n",
      "Epoch 11/100\n",
      "200/200 [==============================] - 0s 1ms/step - loss: 0.4176 - accuracy: 0.8211\n",
      "Epoch 12/100\n",
      "200/200 [==============================] - 0s 1ms/step - loss: 0.4164 - accuracy: 0.8248\n",
      "Epoch 13/100\n",
      "200/200 [==============================] - 0s 1ms/step - loss: 0.4153 - accuracy: 0.8281\n",
      "Epoch 14/100\n",
      "200/200 [==============================] - 0s 1ms/step - loss: 0.4147 - accuracy: 0.8283\n",
      "Epoch 15/100\n",
      "200/200 [==============================] - 0s 1ms/step - loss: 0.4136 - accuracy: 0.8319\n",
      "Epoch 16/100\n",
      "200/200 [==============================] - 0s 2ms/step - loss: 0.4129 - accuracy: 0.8313\n",
      "Epoch 17/100\n",
      "200/200 [==============================] - 0s 1ms/step - loss: 0.4124 - accuracy: 0.8319\n",
      "Epoch 18/100\n",
      "200/200 [==============================] - 0s 1ms/step - loss: 0.4122 - accuracy: 0.8305\n",
      "Epoch 19/100\n",
      "200/200 [==============================] - 0s 1ms/step - loss: 0.4112 - accuracy: 0.8322\n",
      "Epoch 20/100\n",
      "200/200 [==============================] - 0s 1ms/step - loss: 0.4106 - accuracy: 0.8330\n",
      "Epoch 21/100\n",
      "200/200 [==============================] - 0s 1ms/step - loss: 0.4100 - accuracy: 0.8317\n",
      "Epoch 22/100\n",
      "200/200 [==============================] - 0s 2ms/step - loss: 0.4098 - accuracy: 0.8347\n",
      "Epoch 23/100\n",
      "200/200 [==============================] - 0s 1ms/step - loss: 0.4095 - accuracy: 0.8341\n",
      "Epoch 24/100\n",
      "200/200 [==============================] - 0s 1ms/step - loss: 0.4090 - accuracy: 0.8338\n",
      "Epoch 25/100\n",
      "200/200 [==============================] - 0s 1ms/step - loss: 0.4087 - accuracy: 0.8333\n",
      "Epoch 26/100\n",
      "200/200 [==============================] - 0s 1ms/step - loss: 0.4085 - accuracy: 0.8330\n",
      "Epoch 27/100\n",
      "200/200 [==============================] - 0s 1ms/step - loss: 0.4082 - accuracy: 0.8339\n",
      "Epoch 28/100\n",
      "200/200 [==============================] - 0s 2ms/step - loss: 0.4077 - accuracy: 0.8350\n",
      "Epoch 29/100\n",
      "200/200 [==============================] - 0s 1ms/step - loss: 0.4077 - accuracy: 0.8341\n",
      "Epoch 30/100\n",
      "200/200 [==============================] - 0s 1ms/step - loss: 0.4075 - accuracy: 0.8342\n",
      "Epoch 31/100\n",
      "200/200 [==============================] - 0s 1ms/step - loss: 0.4072 - accuracy: 0.8350\n",
      "Epoch 32/100\n",
      "200/200 [==============================] - 0s 1ms/step - loss: 0.4069 - accuracy: 0.8350\n",
      "Epoch 33/100\n",
      "200/200 [==============================] - 0s 1ms/step - loss: 0.4068 - accuracy: 0.8347\n",
      "Epoch 34/100\n",
      "200/200 [==============================] - 0s 1ms/step - loss: 0.4064 - accuracy: 0.8342\n",
      "Epoch 35/100\n",
      "200/200 [==============================] - 0s 1ms/step - loss: 0.4065 - accuracy: 0.8358\n",
      "Epoch 36/100\n",
      "200/200 [==============================] - 0s 1ms/step - loss: 0.4062 - accuracy: 0.8352\n",
      "Epoch 37/100\n",
      "200/200 [==============================] - 0s 1ms/step - loss: 0.4060 - accuracy: 0.8338\n",
      "Epoch 38/100\n",
      "200/200 [==============================] - 0s 1ms/step - loss: 0.4058 - accuracy: 0.8352\n",
      "Epoch 39/100\n",
      "200/200 [==============================] - 0s 1ms/step - loss: 0.4059 - accuracy: 0.8353\n",
      "Epoch 40/100\n",
      "200/200 [==============================] - 0s 1ms/step - loss: 0.4052 - accuracy: 0.8347\n",
      "Epoch 41/100\n",
      "200/200 [==============================] - 0s 1ms/step - loss: 0.4055 - accuracy: 0.8358\n",
      "Epoch 42/100\n",
      "200/200 [==============================] - 0s 1ms/step - loss: 0.4060 - accuracy: 0.8353\n",
      "Epoch 43/100\n",
      "200/200 [==============================] - 0s 1ms/step - loss: 0.4053 - accuracy: 0.8344\n",
      "Epoch 44/100\n",
      "200/200 [==============================] - 0s 1ms/step - loss: 0.4052 - accuracy: 0.8344\n",
      "Epoch 45/100\n",
      "200/200 [==============================] - 0s 1ms/step - loss: 0.4049 - accuracy: 0.8361\n",
      "Epoch 46/100\n",
      "200/200 [==============================] - 0s 1ms/step - loss: 0.4049 - accuracy: 0.8355\n",
      "Epoch 47/100\n",
      "200/200 [==============================] - 0s 1ms/step - loss: 0.4047 - accuracy: 0.8353\n",
      "Epoch 48/100\n",
      "200/200 [==============================] - 0s 1ms/step - loss: 0.4042 - accuracy: 0.8363\n",
      "Epoch 49/100\n",
      "200/200 [==============================] - 0s 1ms/step - loss: 0.4042 - accuracy: 0.8339\n",
      "Epoch 50/100\n",
      "200/200 [==============================] - 0s 1ms/step - loss: 0.4040 - accuracy: 0.8347\n",
      "Epoch 51/100\n",
      "200/200 [==============================] - 0s 1ms/step - loss: 0.4041 - accuracy: 0.8359\n",
      "Epoch 52/100\n",
      "200/200 [==============================] - 0s 1ms/step - loss: 0.4038 - accuracy: 0.8348\n",
      "Epoch 53/100\n",
      "200/200 [==============================] - 0s 2ms/step - loss: 0.4037 - accuracy: 0.8355\n",
      "Epoch 54/100\n",
      "200/200 [==============================] - 0s 1ms/step - loss: 0.4032 - accuracy: 0.8347\n",
      "Epoch 55/100\n",
      "200/200 [==============================] - 0s 1ms/step - loss: 0.4034 - accuracy: 0.8358\n",
      "Epoch 56/100\n",
      "200/200 [==============================] - 0s 2ms/step - loss: 0.4031 - accuracy: 0.8345\n",
      "Epoch 57/100\n",
      "200/200 [==============================] - 0s 1ms/step - loss: 0.4031 - accuracy: 0.8347\n",
      "Epoch 58/100\n",
      "200/200 [==============================] - 0s 2ms/step - loss: 0.4031 - accuracy: 0.8350\n",
      "Epoch 59/100\n",
      "200/200 [==============================] - 0s 2ms/step - loss: 0.4026 - accuracy: 0.8348\n",
      "Epoch 60/100\n",
      "200/200 [==============================] - 0s 2ms/step - loss: 0.4027 - accuracy: 0.8353\n",
      "Epoch 61/100\n",
      "200/200 [==============================] - 0s 1ms/step - loss: 0.4032 - accuracy: 0.8353\n",
      "Epoch 62/100\n",
      "200/200 [==============================] - 0s 1ms/step - loss: 0.4027 - accuracy: 0.8353\n",
      "Epoch 63/100\n",
      "200/200 [==============================] - 0s 2ms/step - loss: 0.4026 - accuracy: 0.8348\n",
      "Epoch 64/100\n",
      "200/200 [==============================] - 0s 2ms/step - loss: 0.4026 - accuracy: 0.8369\n",
      "Epoch 65/100\n",
      "200/200 [==============================] - 0s 2ms/step - loss: 0.4023 - accuracy: 0.8356\n",
      "Epoch 66/100\n",
      "200/200 [==============================] - 0s 1ms/step - loss: 0.4023 - accuracy: 0.8353\n",
      "Epoch 67/100\n",
      "200/200 [==============================] - 0s 2ms/step - loss: 0.4022 - accuracy: 0.8352\n",
      "Epoch 68/100\n",
      "200/200 [==============================] - 0s 1ms/step - loss: 0.4022 - accuracy: 0.8366\n",
      "Epoch 69/100\n",
      "200/200 [==============================] - 0s 2ms/step - loss: 0.4013 - accuracy: 0.8361\n",
      "Epoch 70/100\n",
      "200/200 [==============================] - 0s 1ms/step - loss: 0.4016 - accuracy: 0.8359\n",
      "Epoch 71/100\n",
      "200/200 [==============================] - 0s 2ms/step - loss: 0.4019 - accuracy: 0.8364\n",
      "Epoch 72/100\n",
      "200/200 [==============================] - 0s 1ms/step - loss: 0.4019 - accuracy: 0.8366\n",
      "Epoch 73/100\n",
      "200/200 [==============================] - 0s 1ms/step - loss: 0.4013 - accuracy: 0.8372\n",
      "Epoch 74/100\n",
      "200/200 [==============================] - 0s 1ms/step - loss: 0.4013 - accuracy: 0.8377\n",
      "Epoch 75/100\n",
      "200/200 [==============================] - 0s 1ms/step - loss: 0.4013 - accuracy: 0.8363\n",
      "Epoch 76/100\n",
      "200/200 [==============================] - 0s 1ms/step - loss: 0.4014 - accuracy: 0.8369\n",
      "Epoch 77/100\n",
      "200/200 [==============================] - 0s 1ms/step - loss: 0.4014 - accuracy: 0.8363\n",
      "Epoch 78/100\n",
      "200/200 [==============================] - 0s 2ms/step - loss: 0.4012 - accuracy: 0.8364\n",
      "Epoch 79/100\n",
      "200/200 [==============================] - 0s 1ms/step - loss: 0.4008 - accuracy: 0.8358\n",
      "Epoch 80/100\n",
      "200/200 [==============================] - 0s 1ms/step - loss: 0.4010 - accuracy: 0.8369\n",
      "Epoch 81/100\n",
      "200/200 [==============================] - 0s 1ms/step - loss: 0.4005 - accuracy: 0.8363\n",
      "Epoch 82/100\n",
      "200/200 [==============================] - 0s 2ms/step - loss: 0.4006 - accuracy: 0.8370\n",
      "Epoch 83/100\n",
      "200/200 [==============================] - 0s 1ms/step - loss: 0.4004 - accuracy: 0.8366\n",
      "Epoch 84/100\n",
      "200/200 [==============================] - 0s 1ms/step - loss: 0.4007 - accuracy: 0.8372\n",
      "Epoch 85/100\n",
      "200/200 [==============================] - 0s 1ms/step - loss: 0.4004 - accuracy: 0.8363\n",
      "Epoch 86/100\n",
      "200/200 [==============================] - 0s 1ms/step - loss: 0.4002 - accuracy: 0.8383\n",
      "Epoch 87/100\n",
      "200/200 [==============================] - 0s 1ms/step - loss: 0.4004 - accuracy: 0.8367\n",
      "Epoch 88/100\n",
      "200/200 [==============================] - 0s 1ms/step - loss: 0.4001 - accuracy: 0.8361\n",
      "Epoch 89/100\n",
      "200/200 [==============================] - 0s 1ms/step - loss: 0.3998 - accuracy: 0.8370\n",
      "Epoch 90/100\n",
      "200/200 [==============================] - 0s 1ms/step - loss: 0.3990 - accuracy: 0.8364\n",
      "Epoch 91/100\n",
      "200/200 [==============================] - 0s 2ms/step - loss: 0.3988 - accuracy: 0.8350\n",
      "Epoch 92/100\n",
      "200/200 [==============================] - 0s 1ms/step - loss: 0.3991 - accuracy: 0.8370\n",
      "Epoch 93/100\n",
      "200/200 [==============================] - 0s 1ms/step - loss: 0.3988 - accuracy: 0.8344\n",
      "Epoch 94/100\n",
      "200/200 [==============================] - 0s 1ms/step - loss: 0.3986 - accuracy: 0.8361\n",
      "Epoch 95/100\n",
      "200/200 [==============================] - 0s 1ms/step - loss: 0.3983 - accuracy: 0.8369\n",
      "Epoch 96/100\n",
      "200/200 [==============================] - 0s 1ms/step - loss: 0.3981 - accuracy: 0.8370\n",
      "Epoch 97/100\n",
      "200/200 [==============================] - 0s 2ms/step - loss: 0.3981 - accuracy: 0.8383\n",
      "Epoch 98/100\n",
      "200/200 [==============================] - 0s 2ms/step - loss: 0.3978 - accuracy: 0.8367\n",
      "Epoch 99/100\n",
      "200/200 [==============================] - 0s 2ms/step - loss: 0.3974 - accuracy: 0.8377\n",
      "Epoch 100/100\n",
      "200/200 [==============================] - 0s 2ms/step - loss: 0.3979 - accuracy: 0.8364\n",
      "50/50 [==============================] - 0s 1ms/step\n"
     ]
    },
    {
     "name": "stderr",
     "output_type": "stream",
     "text": [
      "WARNING:absl:Found untraced functions such as _update_step_xla while saving (showing 1 of 1). These functions will not be directly callable after loading.\n"
     ]
    },
    {
     "name": "stdout",
     "output_type": "stream",
     "text": [
      "WARNING:tensorflow:Detecting that an object or model or tf.train.Checkpoint is being deleted with unrestored values. See the following logs for the specific values in question. To silence these warnings, use `status.expect_partial()`. See https://www.tensorflow.org/api_docs/python/tf/train/Checkpoint#restorefor details about the status object returned by the restore function.\n"
     ]
    },
    {
     "name": "stderr",
     "output_type": "stream",
     "text": [
      "WARNING:tensorflow:Detecting that an object or model or tf.train.Checkpoint is being deleted with unrestored values. See the following logs for the specific values in question. To silence these warnings, use `status.expect_partial()`. See https://www.tensorflow.org/api_docs/python/tf/train/Checkpoint#restorefor details about the status object returned by the restore function.\n"
     ]
    },
    {
     "name": "stdout",
     "output_type": "stream",
     "text": [
      "WARNING:tensorflow:Value in checkpoint could not be found in the restored object: (root).keras_api.metrics.0.total\n"
     ]
    },
    {
     "name": "stderr",
     "output_type": "stream",
     "text": [
      "WARNING:tensorflow:Value in checkpoint could not be found in the restored object: (root).keras_api.metrics.0.total\n"
     ]
    },
    {
     "name": "stdout",
     "output_type": "stream",
     "text": [
      "WARNING:tensorflow:Value in checkpoint could not be found in the restored object: (root).keras_api.metrics.0.count\n"
     ]
    },
    {
     "name": "stderr",
     "output_type": "stream",
     "text": [
      "WARNING:tensorflow:Value in checkpoint could not be found in the restored object: (root).keras_api.metrics.0.count\n"
     ]
    },
    {
     "name": "stdout",
     "output_type": "stream",
     "text": [
      "WARNING:tensorflow:Value in checkpoint could not be found in the restored object: (root).keras_api.metrics.1.total\n"
     ]
    },
    {
     "name": "stderr",
     "output_type": "stream",
     "text": [
      "WARNING:tensorflow:Value in checkpoint could not be found in the restored object: (root).keras_api.metrics.1.total\n"
     ]
    },
    {
     "name": "stdout",
     "output_type": "stream",
     "text": [
      "WARNING:tensorflow:Value in checkpoint could not be found in the restored object: (root).keras_api.metrics.1.count\n"
     ]
    },
    {
     "name": "stderr",
     "output_type": "stream",
     "text": [
      "WARNING:tensorflow:Value in checkpoint could not be found in the restored object: (root).keras_api.metrics.1.count\n"
     ]
    },
    {
     "name": "stdout",
     "output_type": "stream",
     "text": [
      "WARNING:tensorflow:Detecting that an object or model or tf.train.Checkpoint is being deleted with unrestored values. See the following logs for the specific values in question. To silence these warnings, use `status.expect_partial()`. See https://www.tensorflow.org/api_docs/python/tf/train/Checkpoint#restorefor details about the status object returned by the restore function.\n"
     ]
    },
    {
     "name": "stderr",
     "output_type": "stream",
     "text": [
      "WARNING:tensorflow:Detecting that an object or model or tf.train.Checkpoint is being deleted with unrestored values. See the following logs for the specific values in question. To silence these warnings, use `status.expect_partial()`. See https://www.tensorflow.org/api_docs/python/tf/train/Checkpoint#restorefor details about the status object returned by the restore function.\n"
     ]
    },
    {
     "name": "stdout",
     "output_type": "stream",
     "text": [
      "WARNING:tensorflow:Value in checkpoint could not be found in the restored object: (root).keras_api.metrics.0.total\n"
     ]
    },
    {
     "name": "stderr",
     "output_type": "stream",
     "text": [
      "WARNING:tensorflow:Value in checkpoint could not be found in the restored object: (root).keras_api.metrics.0.total\n"
     ]
    },
    {
     "name": "stdout",
     "output_type": "stream",
     "text": [
      "WARNING:tensorflow:Value in checkpoint could not be found in the restored object: (root).keras_api.metrics.0.count\n"
     ]
    },
    {
     "name": "stderr",
     "output_type": "stream",
     "text": [
      "WARNING:tensorflow:Value in checkpoint could not be found in the restored object: (root).keras_api.metrics.0.count\n"
     ]
    },
    {
     "name": "stdout",
     "output_type": "stream",
     "text": [
      "WARNING:tensorflow:Value in checkpoint could not be found in the restored object: (root).keras_api.metrics.1.total\n"
     ]
    },
    {
     "name": "stderr",
     "output_type": "stream",
     "text": [
      "WARNING:tensorflow:Value in checkpoint could not be found in the restored object: (root).keras_api.metrics.1.total\n"
     ]
    },
    {
     "name": "stdout",
     "output_type": "stream",
     "text": [
      "WARNING:tensorflow:Value in checkpoint could not be found in the restored object: (root).keras_api.metrics.1.count\n"
     ]
    },
    {
     "name": "stderr",
     "output_type": "stream",
     "text": [
      "WARNING:tensorflow:Value in checkpoint could not be found in the restored object: (root).keras_api.metrics.1.count\n"
     ]
    },
    {
     "name": "stdout",
     "output_type": "stream",
     "text": [
      "WARNING:tensorflow:Detecting that an object or model or tf.train.Checkpoint is being deleted with unrestored values. See the following logs for the specific values in question. To silence these warnings, use `status.expect_partial()`. See https://www.tensorflow.org/api_docs/python/tf/train/Checkpoint#restorefor details about the status object returned by the restore function.\n"
     ]
    },
    {
     "name": "stderr",
     "output_type": "stream",
     "text": [
      "WARNING:tensorflow:Detecting that an object or model or tf.train.Checkpoint is being deleted with unrestored values. See the following logs for the specific values in question. To silence these warnings, use `status.expect_partial()`. See https://www.tensorflow.org/api_docs/python/tf/train/Checkpoint#restorefor details about the status object returned by the restore function.\n"
     ]
    },
    {
     "name": "stdout",
     "output_type": "stream",
     "text": [
      "WARNING:tensorflow:Value in checkpoint could not be found in the restored object: (root).keras_api.metrics.0.total\n"
     ]
    },
    {
     "name": "stderr",
     "output_type": "stream",
     "text": [
      "WARNING:tensorflow:Value in checkpoint could not be found in the restored object: (root).keras_api.metrics.0.total\n"
     ]
    },
    {
     "name": "stdout",
     "output_type": "stream",
     "text": [
      "WARNING:tensorflow:Value in checkpoint could not be found in the restored object: (root).keras_api.metrics.0.count\n"
     ]
    },
    {
     "name": "stderr",
     "output_type": "stream",
     "text": [
      "WARNING:tensorflow:Value in checkpoint could not be found in the restored object: (root).keras_api.metrics.0.count\n"
     ]
    },
    {
     "name": "stdout",
     "output_type": "stream",
     "text": [
      "WARNING:tensorflow:Value in checkpoint could not be found in the restored object: (root).keras_api.metrics.1.total\n"
     ]
    },
    {
     "name": "stderr",
     "output_type": "stream",
     "text": [
      "WARNING:tensorflow:Value in checkpoint could not be found in the restored object: (root).keras_api.metrics.1.total\n"
     ]
    },
    {
     "name": "stdout",
     "output_type": "stream",
     "text": [
      "WARNING:tensorflow:Value in checkpoint could not be found in the restored object: (root).keras_api.metrics.1.count\n"
     ]
    },
    {
     "name": "stderr",
     "output_type": "stream",
     "text": [
      "WARNING:tensorflow:Value in checkpoint could not be found in the restored object: (root).keras_api.metrics.1.count\n"
     ]
    },
    {
     "name": "stdout",
     "output_type": "stream",
     "text": [
      "WARNING:tensorflow:Detecting that an object or model or tf.train.Checkpoint is being deleted with unrestored values. See the following logs for the specific values in question. To silence these warnings, use `status.expect_partial()`. See https://www.tensorflow.org/api_docs/python/tf/train/Checkpoint#restorefor details about the status object returned by the restore function.\n"
     ]
    },
    {
     "name": "stderr",
     "output_type": "stream",
     "text": [
      "WARNING:tensorflow:Detecting that an object or model or tf.train.Checkpoint is being deleted with unrestored values. See the following logs for the specific values in question. To silence these warnings, use `status.expect_partial()`. See https://www.tensorflow.org/api_docs/python/tf/train/Checkpoint#restorefor details about the status object returned by the restore function.\n"
     ]
    },
    {
     "name": "stdout",
     "output_type": "stream",
     "text": [
      "WARNING:tensorflow:Value in checkpoint could not be found in the restored object: (root).keras_api.metrics.0.total\n"
     ]
    },
    {
     "name": "stderr",
     "output_type": "stream",
     "text": [
      "WARNING:tensorflow:Value in checkpoint could not be found in the restored object: (root).keras_api.metrics.0.total\n"
     ]
    },
    {
     "name": "stdout",
     "output_type": "stream",
     "text": [
      "WARNING:tensorflow:Value in checkpoint could not be found in the restored object: (root).keras_api.metrics.0.count\n"
     ]
    },
    {
     "name": "stderr",
     "output_type": "stream",
     "text": [
      "WARNING:tensorflow:Value in checkpoint could not be found in the restored object: (root).keras_api.metrics.0.count\n"
     ]
    },
    {
     "name": "stdout",
     "output_type": "stream",
     "text": [
      "WARNING:tensorflow:Value in checkpoint could not be found in the restored object: (root).keras_api.metrics.1.total\n"
     ]
    },
    {
     "name": "stderr",
     "output_type": "stream",
     "text": [
      "WARNING:tensorflow:Value in checkpoint could not be found in the restored object: (root).keras_api.metrics.1.total\n"
     ]
    },
    {
     "name": "stdout",
     "output_type": "stream",
     "text": [
      "WARNING:tensorflow:Value in checkpoint could not be found in the restored object: (root).keras_api.metrics.1.count\n"
     ]
    },
    {
     "name": "stderr",
     "output_type": "stream",
     "text": [
      "WARNING:tensorflow:Value in checkpoint could not be found in the restored object: (root).keras_api.metrics.1.count\n"
     ]
    },
    {
     "name": "stdout",
     "output_type": "stream",
     "text": [
      "WARNING:tensorflow:Detecting that an object or model or tf.train.Checkpoint is being deleted with unrestored values. See the following logs for the specific values in question. To silence these warnings, use `status.expect_partial()`. See https://www.tensorflow.org/api_docs/python/tf/train/Checkpoint#restorefor details about the status object returned by the restore function.\n"
     ]
    },
    {
     "name": "stderr",
     "output_type": "stream",
     "text": [
      "WARNING:tensorflow:Detecting that an object or model or tf.train.Checkpoint is being deleted with unrestored values. See the following logs for the specific values in question. To silence these warnings, use `status.expect_partial()`. See https://www.tensorflow.org/api_docs/python/tf/train/Checkpoint#restorefor details about the status object returned by the restore function.\n"
     ]
    },
    {
     "name": "stdout",
     "output_type": "stream",
     "text": [
      "WARNING:tensorflow:Value in checkpoint could not be found in the restored object: (root).keras_api.metrics.0.total\n"
     ]
    },
    {
     "name": "stderr",
     "output_type": "stream",
     "text": [
      "WARNING:tensorflow:Value in checkpoint could not be found in the restored object: (root).keras_api.metrics.0.total\n"
     ]
    },
    {
     "name": "stdout",
     "output_type": "stream",
     "text": [
      "WARNING:tensorflow:Value in checkpoint could not be found in the restored object: (root).keras_api.metrics.0.count\n"
     ]
    },
    {
     "name": "stderr",
     "output_type": "stream",
     "text": [
      "WARNING:tensorflow:Value in checkpoint could not be found in the restored object: (root).keras_api.metrics.0.count\n"
     ]
    },
    {
     "name": "stdout",
     "output_type": "stream",
     "text": [
      "WARNING:tensorflow:Value in checkpoint could not be found in the restored object: (root).keras_api.metrics.1.total\n"
     ]
    },
    {
     "name": "stderr",
     "output_type": "stream",
     "text": [
      "WARNING:tensorflow:Value in checkpoint could not be found in the restored object: (root).keras_api.metrics.1.total\n"
     ]
    },
    {
     "name": "stdout",
     "output_type": "stream",
     "text": [
      "WARNING:tensorflow:Value in checkpoint could not be found in the restored object: (root).keras_api.metrics.1.count\n"
     ]
    },
    {
     "name": "stderr",
     "output_type": "stream",
     "text": [
      "WARNING:tensorflow:Value in checkpoint could not be found in the restored object: (root).keras_api.metrics.1.count\n"
     ]
    },
    {
     "name": "stdout",
     "output_type": "stream",
     "text": [
      "INFO:tensorflow:Assets written to: C:\\Users\\user\\AppData\\Local\\Temp\\tmp7jriums3\\assets\n"
     ]
    },
    {
     "name": "stderr",
     "output_type": "stream",
     "text": [
      "INFO:tensorflow:Assets written to: C:\\Users\\user\\AppData\\Local\\Temp\\tmp7jriums3\\assets\n"
     ]
    },
    {
     "name": "stdout",
     "output_type": "stream",
     "text": [
      "Epoch 1/100\n",
      "200/200 [==============================] - 1s 1ms/step - loss: 0.6037 - accuracy: 0.7952\n",
      "Epoch 2/100\n",
      "200/200 [==============================] - 0s 1ms/step - loss: 0.4404 - accuracy: 0.7961\n",
      "Epoch 3/100\n",
      "200/200 [==============================] - 0s 1ms/step - loss: 0.4311 - accuracy: 0.7961\n",
      "Epoch 4/100\n",
      "200/200 [==============================] - 0s 1ms/step - loss: 0.4289 - accuracy: 0.7961\n",
      "Epoch 5/100\n",
      "200/200 [==============================] - 0s 1ms/step - loss: 0.4273 - accuracy: 0.7961\n",
      "Epoch 6/100\n",
      "200/200 [==============================] - 0s 1ms/step - loss: 0.4260 - accuracy: 0.7961\n",
      "Epoch 7/100\n",
      "200/200 [==============================] - 0s 1ms/step - loss: 0.4246 - accuracy: 0.7961\n",
      "Epoch 8/100\n",
      "200/200 [==============================] - 0s 1ms/step - loss: 0.4225 - accuracy: 0.7961\n",
      "Epoch 9/100\n",
      "200/200 [==============================] - 0s 1ms/step - loss: 0.4209 - accuracy: 0.7961\n",
      "Epoch 10/100\n",
      "200/200 [==============================] - 0s 1ms/step - loss: 0.4188 - accuracy: 0.8011\n",
      "Epoch 11/100\n",
      "200/200 [==============================] - 0s 1ms/step - loss: 0.4173 - accuracy: 0.8220\n",
      "Epoch 12/100\n",
      "200/200 [==============================] - 0s 1ms/step - loss: 0.4159 - accuracy: 0.8252\n",
      "Epoch 13/100\n",
      "200/200 [==============================] - 0s 1ms/step - loss: 0.4150 - accuracy: 0.8266\n",
      "Epoch 14/100\n",
      "200/200 [==============================] - 0s 1ms/step - loss: 0.4142 - accuracy: 0.8280\n",
      "Epoch 15/100\n",
      "200/200 [==============================] - 0s 1ms/step - loss: 0.4134 - accuracy: 0.8295\n",
      "Epoch 16/100\n",
      "200/200 [==============================] - 0s 1ms/step - loss: 0.4125 - accuracy: 0.8306\n",
      "Epoch 17/100\n",
      "200/200 [==============================] - 0s 1ms/step - loss: 0.4118 - accuracy: 0.8308\n",
      "Epoch 18/100\n",
      "200/200 [==============================] - 0s 1ms/step - loss: 0.4110 - accuracy: 0.8320\n",
      "Epoch 19/100\n",
      "200/200 [==============================] - 0s 1ms/step - loss: 0.4105 - accuracy: 0.8317\n",
      "Epoch 20/100\n",
      "200/200 [==============================] - 0s 1ms/step - loss: 0.4099 - accuracy: 0.8320\n",
      "Epoch 21/100\n",
      "200/200 [==============================] - 0s 1ms/step - loss: 0.4094 - accuracy: 0.8339\n",
      "Epoch 22/100\n",
      "200/200 [==============================] - 0s 1ms/step - loss: 0.4087 - accuracy: 0.8333\n",
      "Epoch 23/100\n",
      "200/200 [==============================] - 0s 1ms/step - loss: 0.4086 - accuracy: 0.8336\n",
      "Epoch 24/100\n",
      "200/200 [==============================] - 0s 1ms/step - loss: 0.4081 - accuracy: 0.8323\n",
      "Epoch 25/100\n",
      "200/200 [==============================] - 0s 1ms/step - loss: 0.4075 - accuracy: 0.8344\n",
      "Epoch 26/100\n",
      "200/200 [==============================] - 0s 1ms/step - loss: 0.4076 - accuracy: 0.8342\n",
      "Epoch 27/100\n",
      "200/200 [==============================] - 0s 1ms/step - loss: 0.4068 - accuracy: 0.8336\n",
      "Epoch 28/100\n",
      "200/200 [==============================] - 0s 1ms/step - loss: 0.4066 - accuracy: 0.8345\n",
      "Epoch 29/100\n",
      "200/200 [==============================] - 0s 1ms/step - loss: 0.4064 - accuracy: 0.8372\n",
      "Epoch 30/100\n",
      "200/200 [==============================] - 0s 1ms/step - loss: 0.4060 - accuracy: 0.8359\n",
      "Epoch 31/100\n",
      "200/200 [==============================] - 0s 1ms/step - loss: 0.4051 - accuracy: 0.8355\n",
      "Epoch 32/100\n",
      "200/200 [==============================] - 0s 1ms/step - loss: 0.4052 - accuracy: 0.8367\n",
      "Epoch 33/100\n",
      "200/200 [==============================] - 0s 1ms/step - loss: 0.4049 - accuracy: 0.8350\n",
      "Epoch 34/100\n",
      "200/200 [==============================] - 0s 1ms/step - loss: 0.4048 - accuracy: 0.8355\n",
      "Epoch 35/100\n",
      "200/200 [==============================] - 0s 1ms/step - loss: 0.4042 - accuracy: 0.8358\n",
      "Epoch 36/100\n",
      "200/200 [==============================] - 0s 1ms/step - loss: 0.4042 - accuracy: 0.8355\n",
      "Epoch 37/100\n",
      "200/200 [==============================] - 0s 1ms/step - loss: 0.4040 - accuracy: 0.8363\n",
      "Epoch 38/100\n",
      "200/200 [==============================] - 0s 1ms/step - loss: 0.4034 - accuracy: 0.8358\n",
      "Epoch 39/100\n",
      "200/200 [==============================] - 0s 1ms/step - loss: 0.4035 - accuracy: 0.8358\n",
      "Epoch 40/100\n",
      "200/200 [==============================] - 0s 1ms/step - loss: 0.4031 - accuracy: 0.8355\n",
      "Epoch 41/100\n",
      "200/200 [==============================] - 0s 1ms/step - loss: 0.4030 - accuracy: 0.8355\n",
      "Epoch 42/100\n",
      "200/200 [==============================] - 0s 1ms/step - loss: 0.4027 - accuracy: 0.8366\n",
      "Epoch 43/100\n",
      "200/200 [==============================] - 0s 1ms/step - loss: 0.4026 - accuracy: 0.8352\n",
      "Epoch 44/100\n",
      "200/200 [==============================] - 0s 1ms/step - loss: 0.4022 - accuracy: 0.8363\n",
      "Epoch 45/100\n",
      "200/200 [==============================] - 0s 1ms/step - loss: 0.4024 - accuracy: 0.8364\n",
      "Epoch 46/100\n",
      "200/200 [==============================] - 0s 1ms/step - loss: 0.4020 - accuracy: 0.8356\n",
      "Epoch 47/100\n",
      "200/200 [==============================] - 0s 1ms/step - loss: 0.4014 - accuracy: 0.8358\n",
      "Epoch 48/100\n",
      "200/200 [==============================] - 0s 2ms/step - loss: 0.4018 - accuracy: 0.8363\n",
      "Epoch 49/100\n",
      "200/200 [==============================] - 0s 1ms/step - loss: 0.4022 - accuracy: 0.8359\n",
      "Epoch 50/100\n",
      "200/200 [==============================] - 0s 1ms/step - loss: 0.4013 - accuracy: 0.8352\n",
      "Epoch 51/100\n",
      "200/200 [==============================] - 0s 2ms/step - loss: 0.4014 - accuracy: 0.8361\n",
      "Epoch 52/100\n",
      "200/200 [==============================] - 0s 2ms/step - loss: 0.4010 - accuracy: 0.8364\n",
      "Epoch 53/100\n",
      "200/200 [==============================] - 0s 2ms/step - loss: 0.4010 - accuracy: 0.8356\n",
      "Epoch 54/100\n",
      "200/200 [==============================] - 0s 1ms/step - loss: 0.4009 - accuracy: 0.8359\n",
      "Epoch 55/100\n",
      "200/200 [==============================] - 0s 1ms/step - loss: 0.4007 - accuracy: 0.8363\n",
      "Epoch 56/100\n",
      "200/200 [==============================] - 0s 1ms/step - loss: 0.4004 - accuracy: 0.8355\n",
      "Epoch 57/100\n",
      "200/200 [==============================] - 0s 2ms/step - loss: 0.4008 - accuracy: 0.8359\n",
      "Epoch 58/100\n",
      "200/200 [==============================] - 0s 1ms/step - loss: 0.4004 - accuracy: 0.8353\n",
      "Epoch 59/100\n",
      "200/200 [==============================] - 0s 2ms/step - loss: 0.4003 - accuracy: 0.8353\n",
      "Epoch 60/100\n",
      "200/200 [==============================] - 0s 2ms/step - loss: 0.4001 - accuracy: 0.8372\n",
      "Epoch 61/100\n",
      "200/200 [==============================] - 0s 1ms/step - loss: 0.4002 - accuracy: 0.8364\n",
      "Epoch 62/100\n",
      "200/200 [==============================] - 0s 2ms/step - loss: 0.3998 - accuracy: 0.8359\n",
      "Epoch 63/100\n",
      "200/200 [==============================] - 0s 1ms/step - loss: 0.3997 - accuracy: 0.8353\n",
      "Epoch 64/100\n",
      "200/200 [==============================] - 0s 2ms/step - loss: 0.3997 - accuracy: 0.8359\n",
      "Epoch 65/100\n",
      "200/200 [==============================] - 0s 1ms/step - loss: 0.3998 - accuracy: 0.8359\n",
      "Epoch 66/100\n",
      "200/200 [==============================] - 0s 2ms/step - loss: 0.3997 - accuracy: 0.8347\n",
      "Epoch 67/100\n",
      "200/200 [==============================] - 0s 1ms/step - loss: 0.3995 - accuracy: 0.8355\n",
      "Epoch 68/100\n",
      "200/200 [==============================] - 0s 1ms/step - loss: 0.3995 - accuracy: 0.8363\n",
      "Epoch 69/100\n",
      "200/200 [==============================] - 0s 2ms/step - loss: 0.3995 - accuracy: 0.8361\n",
      "Epoch 70/100\n",
      "200/200 [==============================] - 0s 1ms/step - loss: 0.3995 - accuracy: 0.8358\n",
      "Epoch 71/100\n",
      "200/200 [==============================] - 0s 2ms/step - loss: 0.3994 - accuracy: 0.8356\n",
      "Epoch 72/100\n",
      "200/200 [==============================] - 0s 2ms/step - loss: 0.3989 - accuracy: 0.8352\n",
      "Epoch 73/100\n",
      "200/200 [==============================] - 0s 2ms/step - loss: 0.3988 - accuracy: 0.8358\n",
      "Epoch 74/100\n",
      "200/200 [==============================] - 0s 2ms/step - loss: 0.3990 - accuracy: 0.8344\n",
      "Epoch 75/100\n",
      "200/200 [==============================] - 0s 2ms/step - loss: 0.3987 - accuracy: 0.8350\n",
      "Epoch 76/100\n",
      "200/200 [==============================] - 0s 2ms/step - loss: 0.3989 - accuracy: 0.8348\n",
      "Epoch 77/100\n",
      "200/200 [==============================] - 1s 5ms/step - loss: 0.3988 - accuracy: 0.8359\n",
      "Epoch 78/100\n",
      "200/200 [==============================] - 1s 4ms/step - loss: 0.3991 - accuracy: 0.8358\n",
      "Epoch 79/100\n",
      "200/200 [==============================] - 1s 3ms/step - loss: 0.3988 - accuracy: 0.8363\n",
      "Epoch 80/100\n",
      "200/200 [==============================] - 0s 2ms/step - loss: 0.3990 - accuracy: 0.8353\n",
      "Epoch 81/100\n",
      "200/200 [==============================] - 0s 2ms/step - loss: 0.3989 - accuracy: 0.8366\n",
      "Epoch 82/100\n",
      "200/200 [==============================] - 0s 1ms/step - loss: 0.3987 - accuracy: 0.8352\n",
      "Epoch 83/100\n",
      "200/200 [==============================] - 0s 2ms/step - loss: 0.3988 - accuracy: 0.8356\n",
      "Epoch 84/100\n",
      "200/200 [==============================] - 0s 1ms/step - loss: 0.3984 - accuracy: 0.8364\n",
      "Epoch 85/100\n",
      "200/200 [==============================] - 0s 2ms/step - loss: 0.3988 - accuracy: 0.8348\n",
      "Epoch 86/100\n",
      "200/200 [==============================] - 0s 2ms/step - loss: 0.3989 - accuracy: 0.8350\n",
      "Epoch 87/100\n",
      "200/200 [==============================] - 0s 1ms/step - loss: 0.3984 - accuracy: 0.8355\n",
      "Epoch 88/100\n",
      "200/200 [==============================] - 0s 2ms/step - loss: 0.3983 - accuracy: 0.8364\n",
      "Epoch 89/100\n",
      "200/200 [==============================] - 0s 2ms/step - loss: 0.3982 - accuracy: 0.8367\n",
      "Epoch 90/100\n",
      "200/200 [==============================] - 0s 2ms/step - loss: 0.3984 - accuracy: 0.8366\n",
      "Epoch 91/100\n",
      "200/200 [==============================] - 1s 4ms/step - loss: 0.3983 - accuracy: 0.8348\n",
      "Epoch 92/100\n",
      "200/200 [==============================] - 0s 2ms/step - loss: 0.3981 - accuracy: 0.8350\n",
      "Epoch 93/100\n",
      "200/200 [==============================] - 0s 1ms/step - loss: 0.3984 - accuracy: 0.8347\n",
      "Epoch 94/100\n",
      "200/200 [==============================] - 0s 2ms/step - loss: 0.3980 - accuracy: 0.8361\n",
      "Epoch 95/100\n",
      "200/200 [==============================] - 0s 2ms/step - loss: 0.3984 - accuracy: 0.8356\n",
      "Epoch 96/100\n",
      "200/200 [==============================] - 0s 2ms/step - loss: 0.3984 - accuracy: 0.8358\n",
      "Epoch 97/100\n",
      "200/200 [==============================] - 0s 2ms/step - loss: 0.3978 - accuracy: 0.8355\n",
      "Epoch 98/100\n",
      "200/200 [==============================] - 0s 2ms/step - loss: 0.3982 - accuracy: 0.8353\n",
      "Epoch 99/100\n",
      "200/200 [==============================] - 0s 2ms/step - loss: 0.3981 - accuracy: 0.8350\n",
      "Epoch 100/100\n",
      "200/200 [==============================] - 0s 2ms/step - loss: 0.3983 - accuracy: 0.8372\n",
      "50/50 [==============================] - 0s 2ms/step\n"
     ]
    },
    {
     "name": "stderr",
     "output_type": "stream",
     "text": [
      "WARNING:absl:Found untraced functions such as _update_step_xla while saving (showing 1 of 1). These functions will not be directly callable after loading.\n"
     ]
    },
    {
     "name": "stdout",
     "output_type": "stream",
     "text": [
      "INFO:tensorflow:Assets written to: C:\\Users\\user\\AppData\\Local\\Temp\\tmpbhaxtifs\\assets\n"
     ]
    },
    {
     "name": "stderr",
     "output_type": "stream",
     "text": [
      "INFO:tensorflow:Assets written to: C:\\Users\\user\\AppData\\Local\\Temp\\tmpbhaxtifs\\assets\n"
     ]
    },
    {
     "name": "stdout",
     "output_type": "stream",
     "text": [
      "Epoch 1/100\n",
      "200/200 [==============================] - 1s 2ms/step - loss: 0.6093 - accuracy: 0.7944\n",
      "Epoch 2/100\n",
      "200/200 [==============================] - 0s 2ms/step - loss: 0.4469 - accuracy: 0.7959\n",
      "Epoch 3/100\n",
      "200/200 [==============================] - 0s 2ms/step - loss: 0.4340 - accuracy: 0.7959\n",
      "Epoch 4/100\n",
      "200/200 [==============================] - 0s 1ms/step - loss: 0.4314 - accuracy: 0.7959\n",
      "Epoch 5/100\n",
      "200/200 [==============================] - 0s 2ms/step - loss: 0.4293 - accuracy: 0.7959\n",
      "Epoch 6/100\n",
      "200/200 [==============================] - 0s 1ms/step - loss: 0.4272 - accuracy: 0.7959\n",
      "Epoch 7/100\n",
      "200/200 [==============================] - 0s 1ms/step - loss: 0.4248 - accuracy: 0.7959\n",
      "Epoch 8/100\n",
      "200/200 [==============================] - 0s 1ms/step - loss: 0.4222 - accuracy: 0.8108\n",
      "Epoch 9/100\n",
      "200/200 [==============================] - 0s 1ms/step - loss: 0.4198 - accuracy: 0.8222\n",
      "Epoch 10/100\n",
      "200/200 [==============================] - 0s 2ms/step - loss: 0.4171 - accuracy: 0.8259\n",
      "Epoch 11/100\n",
      "200/200 [==============================] - 0s 2ms/step - loss: 0.4147 - accuracy: 0.8297\n",
      "Epoch 12/100\n",
      "200/200 [==============================] - 0s 1ms/step - loss: 0.4124 - accuracy: 0.8294\n",
      "Epoch 13/100\n",
      "200/200 [==============================] - 0s 1ms/step - loss: 0.4108 - accuracy: 0.8314\n",
      "Epoch 14/100\n",
      "200/200 [==============================] - 0s 2ms/step - loss: 0.4093 - accuracy: 0.8327\n",
      "Epoch 15/100\n",
      "200/200 [==============================] - 0s 2ms/step - loss: 0.4076 - accuracy: 0.8328\n",
      "Epoch 16/100\n",
      "200/200 [==============================] - 0s 1ms/step - loss: 0.4067 - accuracy: 0.8341\n",
      "Epoch 17/100\n",
      "200/200 [==============================] - 0s 2ms/step - loss: 0.4054 - accuracy: 0.8356\n",
      "Epoch 18/100\n",
      "200/200 [==============================] - 0s 2ms/step - loss: 0.4047 - accuracy: 0.8348\n",
      "Epoch 19/100\n",
      "200/200 [==============================] - 0s 1ms/step - loss: 0.4038 - accuracy: 0.8353\n",
      "Epoch 20/100\n",
      "200/200 [==============================] - 0s 2ms/step - loss: 0.4029 - accuracy: 0.8359\n",
      "Epoch 21/100\n",
      "200/200 [==============================] - 0s 2ms/step - loss: 0.4021 - accuracy: 0.8352\n",
      "Epoch 22/100\n",
      "200/200 [==============================] - 0s 2ms/step - loss: 0.4015 - accuracy: 0.8352\n",
      "Epoch 23/100\n",
      "200/200 [==============================] - 0s 2ms/step - loss: 0.4013 - accuracy: 0.8369\n",
      "Epoch 24/100\n",
      "200/200 [==============================] - 0s 1ms/step - loss: 0.4004 - accuracy: 0.8370\n",
      "Epoch 25/100\n",
      "200/200 [==============================] - 0s 1ms/step - loss: 0.4000 - accuracy: 0.8359\n",
      "Epoch 26/100\n",
      "200/200 [==============================] - 0s 1ms/step - loss: 0.3996 - accuracy: 0.8363\n",
      "Epoch 27/100\n",
      "200/200 [==============================] - 0s 1ms/step - loss: 0.3991 - accuracy: 0.8353\n",
      "Epoch 28/100\n",
      "200/200 [==============================] - 0s 2ms/step - loss: 0.3988 - accuracy: 0.8353\n",
      "Epoch 29/100\n",
      "200/200 [==============================] - 0s 2ms/step - loss: 0.3983 - accuracy: 0.8373\n",
      "Epoch 30/100\n",
      "200/200 [==============================] - 0s 1ms/step - loss: 0.3977 - accuracy: 0.8369\n",
      "Epoch 31/100\n",
      "200/200 [==============================] - 0s 1ms/step - loss: 0.3979 - accuracy: 0.8359\n",
      "Epoch 32/100\n",
      "200/200 [==============================] - 0s 1ms/step - loss: 0.3971 - accuracy: 0.8356\n",
      "Epoch 33/100\n",
      "200/200 [==============================] - 0s 2ms/step - loss: 0.3970 - accuracy: 0.8370\n",
      "Epoch 34/100\n",
      "200/200 [==============================] - 0s 1ms/step - loss: 0.3969 - accuracy: 0.8361\n",
      "Epoch 35/100\n",
      "200/200 [==============================] - 0s 2ms/step - loss: 0.3964 - accuracy: 0.8356\n",
      "Epoch 36/100\n",
      "200/200 [==============================] - 0s 2ms/step - loss: 0.3966 - accuracy: 0.8358\n",
      "Epoch 37/100\n",
      "200/200 [==============================] - 0s 1ms/step - loss: 0.3962 - accuracy: 0.8358\n",
      "Epoch 38/100\n",
      "200/200 [==============================] - 0s 1ms/step - loss: 0.3960 - accuracy: 0.8370\n",
      "Epoch 39/100\n",
      "200/200 [==============================] - 0s 1ms/step - loss: 0.3959 - accuracy: 0.8347\n",
      "Epoch 40/100\n",
      "200/200 [==============================] - 0s 1ms/step - loss: 0.3961 - accuracy: 0.8359\n",
      "Epoch 41/100\n",
      "200/200 [==============================] - 0s 2ms/step - loss: 0.3954 - accuracy: 0.8359\n",
      "Epoch 42/100\n",
      "200/200 [==============================] - 0s 1ms/step - loss: 0.3954 - accuracy: 0.8378\n",
      "Epoch 43/100\n",
      "200/200 [==============================] - 0s 1ms/step - loss: 0.3953 - accuracy: 0.8366\n",
      "Epoch 44/100\n",
      "200/200 [==============================] - 0s 2ms/step - loss: 0.3955 - accuracy: 0.8358\n",
      "Epoch 45/100\n",
      "200/200 [==============================] - 0s 2ms/step - loss: 0.3956 - accuracy: 0.8363\n",
      "Epoch 46/100\n",
      "200/200 [==============================] - 0s 2ms/step - loss: 0.3950 - accuracy: 0.8384\n",
      "Epoch 47/100\n",
      "200/200 [==============================] - 0s 2ms/step - loss: 0.3945 - accuracy: 0.8373\n",
      "Epoch 48/100\n",
      "200/200 [==============================] - 0s 2ms/step - loss: 0.3953 - accuracy: 0.8369\n",
      "Epoch 49/100\n",
      "200/200 [==============================] - 0s 1ms/step - loss: 0.3947 - accuracy: 0.8370\n",
      "Epoch 50/100\n",
      "200/200 [==============================] - 0s 1ms/step - loss: 0.3949 - accuracy: 0.8370\n",
      "Epoch 51/100\n",
      "200/200 [==============================] - 0s 1ms/step - loss: 0.3948 - accuracy: 0.8380\n",
      "Epoch 52/100\n",
      "200/200 [==============================] - 0s 2ms/step - loss: 0.3947 - accuracy: 0.8380\n",
      "Epoch 53/100\n",
      "200/200 [==============================] - 0s 2ms/step - loss: 0.3946 - accuracy: 0.8375\n",
      "Epoch 54/100\n",
      "200/200 [==============================] - 0s 2ms/step - loss: 0.3945 - accuracy: 0.8378\n",
      "Epoch 55/100\n",
      "200/200 [==============================] - 0s 1ms/step - loss: 0.3943 - accuracy: 0.8377\n",
      "Epoch 56/100\n",
      "200/200 [==============================] - 0s 2ms/step - loss: 0.3943 - accuracy: 0.8367\n",
      "Epoch 57/100\n",
      "200/200 [==============================] - 0s 1ms/step - loss: 0.3939 - accuracy: 0.8373\n",
      "Epoch 58/100\n",
      "200/200 [==============================] - 0s 2ms/step - loss: 0.3939 - accuracy: 0.8381\n",
      "Epoch 59/100\n",
      "200/200 [==============================] - 0s 1ms/step - loss: 0.3940 - accuracy: 0.8378\n",
      "Epoch 60/100\n",
      "200/200 [==============================] - 0s 2ms/step - loss: 0.3938 - accuracy: 0.8384\n",
      "Epoch 61/100\n",
      "200/200 [==============================] - 0s 1ms/step - loss: 0.3941 - accuracy: 0.8384\n",
      "Epoch 62/100\n",
      "200/200 [==============================] - 0s 1ms/step - loss: 0.3938 - accuracy: 0.8380\n",
      "Epoch 63/100\n",
      "200/200 [==============================] - 0s 2ms/step - loss: 0.3940 - accuracy: 0.8389\n",
      "Epoch 64/100\n",
      "200/200 [==============================] - 2s 8ms/step - loss: 0.3941 - accuracy: 0.8370\n",
      "Epoch 65/100\n",
      "200/200 [==============================] - 1s 5ms/step - loss: 0.3938 - accuracy: 0.8389\n",
      "Epoch 66/100\n",
      "200/200 [==============================] - 1s 3ms/step - loss: 0.3934 - accuracy: 0.8400\n",
      "Epoch 67/100\n",
      "200/200 [==============================] - 1s 3ms/step - loss: 0.3934 - accuracy: 0.8383\n",
      "Epoch 68/100\n",
      "200/200 [==============================] - 1s 3ms/step - loss: 0.3936 - accuracy: 0.8395\n",
      "Epoch 69/100\n",
      "200/200 [==============================] - 1s 3ms/step - loss: 0.3939 - accuracy: 0.8391\n",
      "Epoch 70/100\n",
      "200/200 [==============================] - 0s 2ms/step - loss: 0.3932 - accuracy: 0.8381\n",
      "Epoch 71/100\n",
      "200/200 [==============================] - 0s 2ms/step - loss: 0.3936 - accuracy: 0.8383\n",
      "Epoch 72/100\n",
      "200/200 [==============================] - 0s 2ms/step - loss: 0.3933 - accuracy: 0.8398\n",
      "Epoch 73/100\n",
      "200/200 [==============================] - 0s 2ms/step - loss: 0.3932 - accuracy: 0.8388\n",
      "Epoch 74/100\n",
      "200/200 [==============================] - 0s 2ms/step - loss: 0.3935 - accuracy: 0.8381\n",
      "Epoch 75/100\n",
      "200/200 [==============================] - 0s 2ms/step - loss: 0.3938 - accuracy: 0.8377\n",
      "Epoch 76/100\n",
      "200/200 [==============================] - 0s 2ms/step - loss: 0.3930 - accuracy: 0.8389\n",
      "Epoch 77/100\n",
      "200/200 [==============================] - 0s 2ms/step - loss: 0.3934 - accuracy: 0.8402\n",
      "Epoch 78/100\n",
      "200/200 [==============================] - 0s 2ms/step - loss: 0.3929 - accuracy: 0.8386\n",
      "Epoch 79/100\n",
      "200/200 [==============================] - 0s 2ms/step - loss: 0.3930 - accuracy: 0.8405\n",
      "Epoch 80/100\n",
      "200/200 [==============================] - 0s 2ms/step - loss: 0.3929 - accuracy: 0.8384\n",
      "Epoch 81/100\n",
      "200/200 [==============================] - 0s 2ms/step - loss: 0.3929 - accuracy: 0.8380\n",
      "Epoch 82/100\n",
      "200/200 [==============================] - 0s 2ms/step - loss: 0.3925 - accuracy: 0.8397\n",
      "Epoch 83/100\n",
      "200/200 [==============================] - 0s 2ms/step - loss: 0.3927 - accuracy: 0.8392\n",
      "Epoch 84/100\n",
      "200/200 [==============================] - 0s 2ms/step - loss: 0.3925 - accuracy: 0.8377\n",
      "Epoch 85/100\n",
      "200/200 [==============================] - 0s 2ms/step - loss: 0.3931 - accuracy: 0.8389\n",
      "Epoch 86/100\n",
      "200/200 [==============================] - 0s 2ms/step - loss: 0.3927 - accuracy: 0.8392\n",
      "Epoch 87/100\n",
      "200/200 [==============================] - 0s 2ms/step - loss: 0.3923 - accuracy: 0.8383\n",
      "Epoch 88/100\n",
      "200/200 [==============================] - 0s 2ms/step - loss: 0.3925 - accuracy: 0.8378\n",
      "Epoch 89/100\n",
      "200/200 [==============================] - 0s 2ms/step - loss: 0.3925 - accuracy: 0.8397\n",
      "Epoch 90/100\n",
      "200/200 [==============================] - 0s 2ms/step - loss: 0.3924 - accuracy: 0.8386\n",
      "Epoch 91/100\n",
      "200/200 [==============================] - 0s 2ms/step - loss: 0.3921 - accuracy: 0.8391\n",
      "Epoch 92/100\n",
      "200/200 [==============================] - 0s 2ms/step - loss: 0.3920 - accuracy: 0.8378\n",
      "Epoch 93/100\n",
      "200/200 [==============================] - 0s 2ms/step - loss: 0.3923 - accuracy: 0.8384\n",
      "Epoch 94/100\n",
      "200/200 [==============================] - 0s 2ms/step - loss: 0.3922 - accuracy: 0.8378\n",
      "Epoch 95/100\n",
      "200/200 [==============================] - 0s 2ms/step - loss: 0.3918 - accuracy: 0.8372\n",
      "Epoch 96/100\n",
      "200/200 [==============================] - 0s 2ms/step - loss: 0.3915 - accuracy: 0.8392\n",
      "Epoch 97/100\n",
      "200/200 [==============================] - 0s 2ms/step - loss: 0.3919 - accuracy: 0.8392\n",
      "Epoch 98/100\n",
      "200/200 [==============================] - 0s 2ms/step - loss: 0.3917 - accuracy: 0.8381\n",
      "Epoch 99/100\n",
      "200/200 [==============================] - 0s 2ms/step - loss: 0.3915 - accuracy: 0.8391\n",
      "Epoch 100/100\n",
      "200/200 [==============================] - 0s 2ms/step - loss: 0.3916 - accuracy: 0.8389\n",
      "50/50 [==============================] - 0s 2ms/step\n"
     ]
    },
    {
     "name": "stderr",
     "output_type": "stream",
     "text": [
      "WARNING:absl:Found untraced functions such as _update_step_xla while saving (showing 1 of 1). These functions will not be directly callable after loading.\n"
     ]
    },
    {
     "name": "stdout",
     "output_type": "stream",
     "text": [
      "INFO:tensorflow:Assets written to: C:\\Users\\user\\AppData\\Local\\Temp\\tmp5a24m6o9\\assets\n"
     ]
    },
    {
     "name": "stderr",
     "output_type": "stream",
     "text": [
      "INFO:tensorflow:Assets written to: C:\\Users\\user\\AppData\\Local\\Temp\\tmp5a24m6o9\\assets\n"
     ]
    },
    {
     "name": "stdout",
     "output_type": "stream",
     "text": [
      "Epoch 1/100\n",
      "200/200 [==============================] - 1s 2ms/step - loss: 0.6007 - accuracy: 0.7939\n",
      "Epoch 2/100\n",
      "200/200 [==============================] - 0s 2ms/step - loss: 0.4416 - accuracy: 0.7959\n",
      "Epoch 3/100\n",
      "200/200 [==============================] - 0s 2ms/step - loss: 0.4324 - accuracy: 0.7959\n",
      "Epoch 4/100\n",
      "200/200 [==============================] - 0s 2ms/step - loss: 0.4301 - accuracy: 0.7959\n",
      "Epoch 5/100\n",
      "200/200 [==============================] - 0s 2ms/step - loss: 0.4281 - accuracy: 0.7959\n",
      "Epoch 6/100\n",
      "200/200 [==============================] - 0s 2ms/step - loss: 0.4267 - accuracy: 0.7959\n",
      "Epoch 7/100\n",
      "200/200 [==============================] - 0s 2ms/step - loss: 0.4252 - accuracy: 0.7959\n",
      "Epoch 8/100\n",
      "200/200 [==============================] - 0s 2ms/step - loss: 0.4233 - accuracy: 0.7959\n",
      "Epoch 9/100\n",
      "200/200 [==============================] - 0s 2ms/step - loss: 0.4213 - accuracy: 0.7959\n",
      "Epoch 10/100\n",
      "200/200 [==============================] - 0s 2ms/step - loss: 0.4194 - accuracy: 0.8112\n",
      "Epoch 11/100\n",
      "200/200 [==============================] - 0s 2ms/step - loss: 0.4179 - accuracy: 0.8220\n",
      "Epoch 12/100\n",
      "200/200 [==============================] - 0s 2ms/step - loss: 0.4166 - accuracy: 0.8234\n",
      "Epoch 13/100\n",
      "200/200 [==============================] - 0s 2ms/step - loss: 0.4157 - accuracy: 0.8255\n",
      "Epoch 14/100\n",
      "200/200 [==============================] - 0s 2ms/step - loss: 0.4149 - accuracy: 0.8286\n",
      "Epoch 15/100\n",
      "200/200 [==============================] - 0s 2ms/step - loss: 0.4138 - accuracy: 0.8277\n",
      "Epoch 16/100\n",
      "200/200 [==============================] - 0s 2ms/step - loss: 0.4132 - accuracy: 0.8295\n",
      "Epoch 17/100\n",
      "200/200 [==============================] - 0s 2ms/step - loss: 0.4126 - accuracy: 0.8305\n",
      "Epoch 18/100\n",
      "200/200 [==============================] - 0s 2ms/step - loss: 0.4120 - accuracy: 0.8309\n",
      "Epoch 19/100\n",
      "200/200 [==============================] - 0s 2ms/step - loss: 0.4113 - accuracy: 0.8341\n",
      "Epoch 20/100\n",
      "200/200 [==============================] - 0s 2ms/step - loss: 0.4108 - accuracy: 0.8336\n",
      "Epoch 21/100\n",
      "200/200 [==============================] - 0s 2ms/step - loss: 0.4101 - accuracy: 0.8345\n",
      "Epoch 22/100\n",
      "200/200 [==============================] - 0s 2ms/step - loss: 0.4097 - accuracy: 0.8342\n",
      "Epoch 23/100\n",
      "200/200 [==============================] - 0s 2ms/step - loss: 0.4089 - accuracy: 0.8334\n",
      "Epoch 24/100\n",
      "200/200 [==============================] - 0s 2ms/step - loss: 0.4091 - accuracy: 0.8341\n",
      "Epoch 25/100\n",
      "200/200 [==============================] - 0s 2ms/step - loss: 0.4085 - accuracy: 0.8355\n",
      "Epoch 26/100\n",
      "200/200 [==============================] - 1s 4ms/step - loss: 0.4082 - accuracy: 0.8336\n",
      "Epoch 27/100\n",
      "200/200 [==============================] - 1s 5ms/step - loss: 0.4078 - accuracy: 0.8342\n",
      "Epoch 28/100\n",
      "200/200 [==============================] - 1s 3ms/step - loss: 0.4075 - accuracy: 0.8355\n",
      "Epoch 29/100\n",
      "200/200 [==============================] - 0s 2ms/step - loss: 0.4071 - accuracy: 0.8347\n",
      "Epoch 30/100\n",
      "200/200 [==============================] - 0s 2ms/step - loss: 0.4071 - accuracy: 0.8358\n",
      "Epoch 31/100\n",
      "200/200 [==============================] - 0s 2ms/step - loss: 0.4067 - accuracy: 0.8366\n",
      "Epoch 32/100\n",
      "200/200 [==============================] - 0s 2ms/step - loss: 0.4064 - accuracy: 0.8350\n",
      "Epoch 33/100\n",
      "200/200 [==============================] - 0s 2ms/step - loss: 0.4061 - accuracy: 0.8361\n",
      "Epoch 34/100\n",
      "200/200 [==============================] - 0s 2ms/step - loss: 0.4057 - accuracy: 0.8345\n",
      "Epoch 35/100\n",
      "200/200 [==============================] - 0s 2ms/step - loss: 0.4057 - accuracy: 0.8363\n",
      "Epoch 36/100\n",
      "200/200 [==============================] - 0s 2ms/step - loss: 0.4053 - accuracy: 0.8347\n",
      "Epoch 37/100\n",
      "200/200 [==============================] - 0s 2ms/step - loss: 0.4051 - accuracy: 0.8356\n",
      "Epoch 38/100\n",
      "200/200 [==============================] - 0s 2ms/step - loss: 0.4054 - accuracy: 0.8358\n",
      "Epoch 39/100\n",
      "200/200 [==============================] - 5s 26ms/step - loss: 0.4046 - accuracy: 0.8341\n",
      "Epoch 40/100\n",
      "200/200 [==============================] - 0s 1ms/step - loss: 0.4044 - accuracy: 0.8345\n",
      "Epoch 41/100\n",
      "200/200 [==============================] - 0s 1ms/step - loss: 0.4041 - accuracy: 0.8355\n",
      "Epoch 42/100\n",
      "200/200 [==============================] - 0s 1ms/step - loss: 0.4042 - accuracy: 0.8358\n",
      "Epoch 43/100\n",
      "200/200 [==============================] - 0s 1ms/step - loss: 0.4040 - accuracy: 0.8345\n",
      "Epoch 44/100\n",
      "200/200 [==============================] - 0s 1ms/step - loss: 0.4037 - accuracy: 0.8345\n",
      "Epoch 45/100\n",
      "200/200 [==============================] - 0s 1ms/step - loss: 0.4035 - accuracy: 0.8356\n",
      "Epoch 46/100\n",
      "200/200 [==============================] - 0s 1ms/step - loss: 0.4036 - accuracy: 0.8342\n",
      "Epoch 47/100\n",
      "200/200 [==============================] - 0s 1ms/step - loss: 0.4032 - accuracy: 0.8364\n",
      "Epoch 48/100\n",
      "200/200 [==============================] - 0s 1ms/step - loss: 0.4030 - accuracy: 0.8353\n",
      "Epoch 49/100\n",
      "200/200 [==============================] - 0s 1ms/step - loss: 0.4033 - accuracy: 0.8342\n",
      "Epoch 50/100\n",
      "200/200 [==============================] - 0s 1ms/step - loss: 0.4028 - accuracy: 0.8358\n",
      "Epoch 51/100\n",
      "200/200 [==============================] - 0s 1ms/step - loss: 0.4027 - accuracy: 0.8345\n",
      "Epoch 52/100\n",
      "200/200 [==============================] - 1s 3ms/step - loss: 0.4024 - accuracy: 0.8328\n",
      "Epoch 53/100\n",
      "200/200 [==============================] - 1s 5ms/step - loss: 0.4027 - accuracy: 0.8352\n",
      "Epoch 54/100\n",
      "200/200 [==============================] - 1s 3ms/step - loss: 0.4024 - accuracy: 0.8353\n",
      "Epoch 55/100\n",
      "200/200 [==============================] - 1s 3ms/step - loss: 0.4023 - accuracy: 0.8350\n",
      "Epoch 56/100\n",
      "200/200 [==============================] - 1s 3ms/step - loss: 0.4019 - accuracy: 0.8355\n",
      "Epoch 57/100\n",
      "200/200 [==============================] - 1s 3ms/step - loss: 0.4018 - accuracy: 0.8330\n",
      "Epoch 58/100\n",
      "200/200 [==============================] - 1s 3ms/step - loss: 0.4022 - accuracy: 0.8363\n",
      "Epoch 59/100\n",
      "200/200 [==============================] - 0s 2ms/step - loss: 0.4019 - accuracy: 0.8333\n",
      "Epoch 60/100\n",
      "200/200 [==============================] - 0s 1ms/step - loss: 0.4020 - accuracy: 0.8347\n",
      "Epoch 61/100\n",
      "200/200 [==============================] - 0s 1ms/step - loss: 0.4017 - accuracy: 0.8347\n",
      "Epoch 62/100\n",
      "200/200 [==============================] - 0s 1ms/step - loss: 0.4017 - accuracy: 0.8352\n",
      "Epoch 63/100\n",
      "200/200 [==============================] - 0s 1ms/step - loss: 0.4015 - accuracy: 0.8344\n",
      "Epoch 64/100\n",
      "200/200 [==============================] - 0s 1ms/step - loss: 0.4014 - accuracy: 0.8347\n",
      "Epoch 65/100\n",
      "200/200 [==============================] - 0s 1ms/step - loss: 0.4016 - accuracy: 0.8344\n",
      "Epoch 66/100\n",
      "200/200 [==============================] - 0s 1ms/step - loss: 0.4009 - accuracy: 0.8344\n",
      "Epoch 67/100\n",
      "200/200 [==============================] - 0s 1ms/step - loss: 0.4015 - accuracy: 0.8355\n",
      "Epoch 68/100\n",
      "200/200 [==============================] - 0s 1ms/step - loss: 0.4011 - accuracy: 0.8359\n",
      "Epoch 69/100\n",
      "200/200 [==============================] - 0s 1ms/step - loss: 0.4011 - accuracy: 0.8355\n",
      "Epoch 70/100\n",
      "200/200 [==============================] - 0s 1ms/step - loss: 0.4011 - accuracy: 0.8359\n",
      "Epoch 71/100\n",
      "200/200 [==============================] - 0s 1ms/step - loss: 0.4005 - accuracy: 0.8350\n",
      "Epoch 72/100\n",
      "200/200 [==============================] - 0s 1ms/step - loss: 0.4012 - accuracy: 0.8345\n",
      "Epoch 73/100\n",
      "200/200 [==============================] - 0s 1ms/step - loss: 0.4010 - accuracy: 0.8344\n",
      "Epoch 74/100\n",
      "200/200 [==============================] - 0s 1ms/step - loss: 0.4013 - accuracy: 0.8361\n",
      "Epoch 75/100\n",
      "200/200 [==============================] - 1s 4ms/step - loss: 0.4009 - accuracy: 0.8348\n",
      "Epoch 76/100\n",
      "200/200 [==============================] - 0s 2ms/step - loss: 0.4011 - accuracy: 0.8336\n",
      "Epoch 77/100\n",
      "200/200 [==============================] - 1s 2ms/step - loss: 0.4010 - accuracy: 0.8345\n",
      "Epoch 78/100\n",
      "200/200 [==============================] - 1s 3ms/step - loss: 0.4005 - accuracy: 0.8347\n",
      "Epoch 79/100\n",
      "200/200 [==============================] - 0s 2ms/step - loss: 0.4010 - accuracy: 0.8344\n",
      "Epoch 80/100\n",
      "200/200 [==============================] - 0s 2ms/step - loss: 0.4009 - accuracy: 0.8348\n",
      "Epoch 81/100\n",
      "200/200 [==============================] - 0s 1ms/step - loss: 0.4005 - accuracy: 0.8356\n",
      "Epoch 82/100\n",
      "200/200 [==============================] - 0s 2ms/step - loss: 0.4007 - accuracy: 0.8339\n",
      "Epoch 83/100\n",
      "200/200 [==============================] - 0s 2ms/step - loss: 0.4004 - accuracy: 0.8363\n",
      "Epoch 84/100\n",
      "200/200 [==============================] - 0s 2ms/step - loss: 0.4004 - accuracy: 0.8347\n",
      "Epoch 85/100\n",
      "200/200 [==============================] - 0s 2ms/step - loss: 0.4004 - accuracy: 0.8334\n",
      "Epoch 86/100\n",
      "200/200 [==============================] - 0s 2ms/step - loss: 0.4004 - accuracy: 0.8344\n",
      "Epoch 87/100\n",
      "200/200 [==============================] - 0s 2ms/step - loss: 0.4006 - accuracy: 0.8350\n",
      "Epoch 88/100\n",
      "200/200 [==============================] - 0s 2ms/step - loss: 0.4008 - accuracy: 0.8350\n",
      "Epoch 89/100\n",
      "200/200 [==============================] - 0s 2ms/step - loss: 0.4000 - accuracy: 0.8342\n",
      "Epoch 90/100\n",
      "200/200 [==============================] - 0s 2ms/step - loss: 0.4002 - accuracy: 0.8355\n",
      "Epoch 91/100\n",
      "200/200 [==============================] - 0s 1ms/step - loss: 0.4004 - accuracy: 0.8352\n",
      "Epoch 92/100\n",
      "200/200 [==============================] - 0s 2ms/step - loss: 0.4003 - accuracy: 0.8348\n",
      "Epoch 93/100\n",
      "200/200 [==============================] - 0s 2ms/step - loss: 0.4000 - accuracy: 0.8355\n",
      "Epoch 94/100\n",
      "200/200 [==============================] - 0s 2ms/step - loss: 0.4005 - accuracy: 0.8342\n",
      "Epoch 95/100\n",
      "200/200 [==============================] - 0s 2ms/step - loss: 0.4005 - accuracy: 0.8342\n",
      "Epoch 96/100\n",
      "200/200 [==============================] - 0s 2ms/step - loss: 0.4004 - accuracy: 0.8334\n",
      "Epoch 97/100\n",
      "200/200 [==============================] - 0s 2ms/step - loss: 0.3999 - accuracy: 0.8350\n",
      "Epoch 98/100\n",
      "200/200 [==============================] - 0s 2ms/step - loss: 0.4001 - accuracy: 0.8345\n",
      "Epoch 99/100\n",
      "200/200 [==============================] - 0s 2ms/step - loss: 0.4002 - accuracy: 0.8355\n",
      "Epoch 100/100\n",
      "200/200 [==============================] - 0s 2ms/step - loss: 0.4000 - accuracy: 0.8331\n",
      "50/50 [==============================] - 0s 1ms/step\n"
     ]
    },
    {
     "name": "stderr",
     "output_type": "stream",
     "text": [
      "WARNING:absl:Found untraced functions such as _update_step_xla while saving (showing 1 of 1). These functions will not be directly callable after loading.\n"
     ]
    },
    {
     "name": "stdout",
     "output_type": "stream",
     "text": [
      "INFO:tensorflow:Assets written to: C:\\Users\\user\\AppData\\Local\\Temp\\tmprd468akf\\assets\n"
     ]
    },
    {
     "name": "stderr",
     "output_type": "stream",
     "text": [
      "INFO:tensorflow:Assets written to: C:\\Users\\user\\AppData\\Local\\Temp\\tmprd468akf\\assets\n"
     ]
    },
    {
     "name": "stdout",
     "output_type": "stream",
     "text": [
      "Epoch 1/100\n",
      "200/200 [==============================] - 1s 1ms/step - loss: 0.5964 - accuracy: 0.7948\n",
      "Epoch 2/100\n",
      "200/200 [==============================] - 0s 1ms/step - loss: 0.4408 - accuracy: 0.7959\n",
      "Epoch 3/100\n",
      "200/200 [==============================] - 0s 2ms/step - loss: 0.4335 - accuracy: 0.7959\n",
      "Epoch 4/100\n",
      "200/200 [==============================] - 0s 1ms/step - loss: 0.4303 - accuracy: 0.7959\n",
      "Epoch 5/100\n",
      "200/200 [==============================] - 0s 2ms/step - loss: 0.4286 - accuracy: 0.7959\n",
      "Epoch 6/100\n",
      "200/200 [==============================] - 0s 2ms/step - loss: 0.4270 - accuracy: 0.7959\n",
      "Epoch 7/100\n",
      "200/200 [==============================] - 0s 2ms/step - loss: 0.4256 - accuracy: 0.7959\n",
      "Epoch 8/100\n",
      "200/200 [==============================] - 0s 2ms/step - loss: 0.4233 - accuracy: 0.7959\n",
      "Epoch 9/100\n",
      "200/200 [==============================] - 0s 2ms/step - loss: 0.4216 - accuracy: 0.7975\n",
      "Epoch 10/100\n",
      "200/200 [==============================] - 0s 2ms/step - loss: 0.4194 - accuracy: 0.8188\n",
      "Epoch 11/100\n",
      "200/200 [==============================] - 0s 2ms/step - loss: 0.4183 - accuracy: 0.8239\n",
      "Epoch 12/100\n",
      "200/200 [==============================] - 0s 2ms/step - loss: 0.4168 - accuracy: 0.8261\n",
      "Epoch 13/100\n",
      "200/200 [==============================] - 0s 2ms/step - loss: 0.4154 - accuracy: 0.8266\n",
      "Epoch 14/100\n",
      "200/200 [==============================] - 0s 1ms/step - loss: 0.4129 - accuracy: 0.8327\n",
      "Epoch 15/100\n",
      "200/200 [==============================] - 0s 1ms/step - loss: 0.4106 - accuracy: 0.8325\n",
      "Epoch 16/100\n",
      "200/200 [==============================] - 0s 1ms/step - loss: 0.4090 - accuracy: 0.8353\n",
      "Epoch 17/100\n",
      "200/200 [==============================] - 0s 1ms/step - loss: 0.4075 - accuracy: 0.8341\n",
      "Epoch 18/100\n",
      "200/200 [==============================] - 0s 1ms/step - loss: 0.4059 - accuracy: 0.8341\n",
      "Epoch 19/100\n",
      "200/200 [==============================] - 0s 1ms/step - loss: 0.4052 - accuracy: 0.8350\n",
      "Epoch 20/100\n",
      "200/200 [==============================] - 1s 3ms/step - loss: 0.4036 - accuracy: 0.8369\n",
      "Epoch 21/100\n",
      "200/200 [==============================] - 0s 2ms/step - loss: 0.4031 - accuracy: 0.8363\n",
      "Epoch 22/100\n",
      "200/200 [==============================] - 1s 3ms/step - loss: 0.4023 - accuracy: 0.8348\n",
      "Epoch 23/100\n",
      "200/200 [==============================] - 0s 1ms/step - loss: 0.4015 - accuracy: 0.8373\n",
      "Epoch 24/100\n",
      "200/200 [==============================] - 0s 1ms/step - loss: 0.4012 - accuracy: 0.8336\n",
      "Epoch 25/100\n",
      "200/200 [==============================] - 0s 2ms/step - loss: 0.4007 - accuracy: 0.8378\n",
      "Epoch 26/100\n",
      "200/200 [==============================] - 0s 2ms/step - loss: 0.3998 - accuracy: 0.8370\n",
      "Epoch 27/100\n",
      "200/200 [==============================] - 0s 2ms/step - loss: 0.3997 - accuracy: 0.8369\n",
      "Epoch 28/100\n",
      "200/200 [==============================] - 0s 1ms/step - loss: 0.3991 - accuracy: 0.8364\n",
      "Epoch 29/100\n",
      "200/200 [==============================] - 0s 1ms/step - loss: 0.3985 - accuracy: 0.8373\n",
      "Epoch 30/100\n",
      "200/200 [==============================] - 0s 2ms/step - loss: 0.3981 - accuracy: 0.8373\n",
      "Epoch 31/100\n",
      "200/200 [==============================] - 0s 1ms/step - loss: 0.3981 - accuracy: 0.8369\n",
      "Epoch 32/100\n",
      "200/200 [==============================] - 0s 1ms/step - loss: 0.3976 - accuracy: 0.8391\n",
      "Epoch 33/100\n",
      "200/200 [==============================] - 0s 1ms/step - loss: 0.3974 - accuracy: 0.8380\n",
      "Epoch 34/100\n",
      "200/200 [==============================] - 0s 1ms/step - loss: 0.3966 - accuracy: 0.8377\n",
      "Epoch 35/100\n",
      "200/200 [==============================] - 0s 2ms/step - loss: 0.3969 - accuracy: 0.8359\n",
      "Epoch 36/100\n",
      "200/200 [==============================] - 0s 2ms/step - loss: 0.3966 - accuracy: 0.8373\n",
      "Epoch 37/100\n",
      "200/200 [==============================] - 0s 2ms/step - loss: 0.3965 - accuracy: 0.8373\n",
      "Epoch 38/100\n",
      "200/200 [==============================] - 0s 2ms/step - loss: 0.3958 - accuracy: 0.8367\n",
      "Epoch 39/100\n",
      "200/200 [==============================] - 0s 2ms/step - loss: 0.3956 - accuracy: 0.8370\n",
      "Epoch 40/100\n",
      "200/200 [==============================] - 0s 1ms/step - loss: 0.3958 - accuracy: 0.8367\n",
      "Epoch 41/100\n",
      "200/200 [==============================] - 0s 1ms/step - loss: 0.3956 - accuracy: 0.8366\n",
      "Epoch 42/100\n",
      "200/200 [==============================] - 0s 1ms/step - loss: 0.3955 - accuracy: 0.8372\n",
      "Epoch 43/100\n",
      "200/200 [==============================] - 1s 3ms/step - loss: 0.3955 - accuracy: 0.8364\n",
      "Epoch 44/100\n",
      "200/200 [==============================] - 0s 2ms/step - loss: 0.3950 - accuracy: 0.8377\n",
      "Epoch 45/100\n",
      "200/200 [==============================] - 1s 3ms/step - loss: 0.3947 - accuracy: 0.8377\n",
      "Epoch 46/100\n",
      "200/200 [==============================] - 0s 2ms/step - loss: 0.3949 - accuracy: 0.8361\n",
      "Epoch 47/100\n",
      "200/200 [==============================] - 0s 1ms/step - loss: 0.3948 - accuracy: 0.8364\n",
      "Epoch 48/100\n",
      "200/200 [==============================] - 0s 1ms/step - loss: 0.3945 - accuracy: 0.8369\n",
      "Epoch 49/100\n",
      "200/200 [==============================] - 0s 1ms/step - loss: 0.3944 - accuracy: 0.8384\n",
      "Epoch 50/100\n",
      "200/200 [==============================] - 0s 1ms/step - loss: 0.3943 - accuracy: 0.8378\n",
      "Epoch 51/100\n",
      "200/200 [==============================] - 0s 1ms/step - loss: 0.3942 - accuracy: 0.8367\n",
      "Epoch 52/100\n",
      "200/200 [==============================] - 0s 1ms/step - loss: 0.3944 - accuracy: 0.8388\n",
      "Epoch 53/100\n",
      "200/200 [==============================] - 0s 1ms/step - loss: 0.3940 - accuracy: 0.8370\n",
      "Epoch 54/100\n",
      "200/200 [==============================] - 0s 1ms/step - loss: 0.3942 - accuracy: 0.8380\n",
      "Epoch 55/100\n",
      "200/200 [==============================] - 2134s 11s/step - loss: 0.3941 - accuracy: 0.8367\n",
      "Epoch 56/100\n",
      "200/200 [==============================] - 0s 1ms/step - loss: 0.3940 - accuracy: 0.8378\n",
      "Epoch 57/100\n",
      "200/200 [==============================] - 0s 2ms/step - loss: 0.3938 - accuracy: 0.8384\n",
      "Epoch 58/100\n",
      "200/200 [==============================] - 0s 1ms/step - loss: 0.3934 - accuracy: 0.8372\n",
      "Epoch 59/100\n",
      "200/200 [==============================] - 0s 1ms/step - loss: 0.3935 - accuracy: 0.8361\n",
      "Epoch 60/100\n",
      "200/200 [==============================] - 0s 1ms/step - loss: 0.3935 - accuracy: 0.8372\n",
      "Epoch 61/100\n",
      "200/200 [==============================] - 0s 1ms/step - loss: 0.3927 - accuracy: 0.8366\n",
      "Epoch 62/100\n",
      "200/200 [==============================] - 0s 1ms/step - loss: 0.3938 - accuracy: 0.8380\n",
      "Epoch 63/100\n",
      "200/200 [==============================] - 0s 1ms/step - loss: 0.3938 - accuracy: 0.8391\n",
      "Epoch 64/100\n",
      "200/200 [==============================] - 0s 1ms/step - loss: 0.3931 - accuracy: 0.8397\n",
      "Epoch 65/100\n",
      "200/200 [==============================] - 0s 1ms/step - loss: 0.3934 - accuracy: 0.8402\n",
      "Epoch 66/100\n",
      "200/200 [==============================] - 0s 1ms/step - loss: 0.3930 - accuracy: 0.8378\n",
      "Epoch 67/100\n",
      "200/200 [==============================] - 0s 2ms/step - loss: 0.3932 - accuracy: 0.8402\n",
      "Epoch 68/100\n",
      "200/200 [==============================] - 1s 4ms/step - loss: 0.3931 - accuracy: 0.8372\n",
      "Epoch 69/100\n",
      "200/200 [==============================] - 1s 3ms/step - loss: 0.3931 - accuracy: 0.8389\n",
      "Epoch 70/100\n",
      "200/200 [==============================] - 1s 3ms/step - loss: 0.3930 - accuracy: 0.8372\n",
      "Epoch 71/100\n",
      "200/200 [==============================] - 1s 3ms/step - loss: 0.3931 - accuracy: 0.8361\n",
      "Epoch 72/100\n",
      "200/200 [==============================] - 0s 2ms/step - loss: 0.3931 - accuracy: 0.8383\n",
      "Epoch 73/100\n",
      "200/200 [==============================] - 0s 1ms/step - loss: 0.3931 - accuracy: 0.8361\n",
      "Epoch 74/100\n",
      "200/200 [==============================] - 0s 1ms/step - loss: 0.3926 - accuracy: 0.8383\n",
      "Epoch 75/100\n",
      "200/200 [==============================] - 0s 2ms/step - loss: 0.3925 - accuracy: 0.8405\n",
      "Epoch 76/100\n",
      "200/200 [==============================] - 1s 4ms/step - loss: 0.3930 - accuracy: 0.8388\n",
      "Epoch 77/100\n",
      "200/200 [==============================] - 0s 2ms/step - loss: 0.3926 - accuracy: 0.8402\n",
      "Epoch 78/100\n",
      "200/200 [==============================] - 0s 1ms/step - loss: 0.3928 - accuracy: 0.8381\n",
      "Epoch 79/100\n",
      "200/200 [==============================] - 0s 1ms/step - loss: 0.3926 - accuracy: 0.8380\n",
      "Epoch 80/100\n",
      "200/200 [==============================] - 0s 1ms/step - loss: 0.3925 - accuracy: 0.8377\n",
      "Epoch 81/100\n",
      "200/200 [==============================] - 1s 4ms/step - loss: 0.3923 - accuracy: 0.8380\n",
      "Epoch 82/100\n",
      "200/200 [==============================] - 1s 3ms/step - loss: 0.3927 - accuracy: 0.8381\n",
      "Epoch 83/100\n",
      "200/200 [==============================] - 1s 4ms/step - loss: 0.3921 - accuracy: 0.8383\n",
      "Epoch 84/100\n",
      "200/200 [==============================] - 1s 3ms/step - loss: 0.3922 - accuracy: 0.8391\n",
      "Epoch 85/100\n",
      "200/200 [==============================] - 0s 2ms/step - loss: 0.3921 - accuracy: 0.8398\n",
      "Epoch 86/100\n",
      "200/200 [==============================] - 1s 3ms/step - loss: 0.3919 - accuracy: 0.8389\n",
      "Epoch 87/100\n",
      "200/200 [==============================] - 0s 2ms/step - loss: 0.3922 - accuracy: 0.8380\n",
      "Epoch 88/100\n",
      "200/200 [==============================] - 0s 2ms/step - loss: 0.3923 - accuracy: 0.8375\n",
      "Epoch 89/100\n",
      "200/200 [==============================] - 0s 2ms/step - loss: 0.3916 - accuracy: 0.8386\n",
      "Epoch 90/100\n",
      "200/200 [==============================] - 0s 2ms/step - loss: 0.3919 - accuracy: 0.8408\n",
      "Epoch 91/100\n",
      "200/200 [==============================] - 0s 2ms/step - loss: 0.3916 - accuracy: 0.8378\n",
      "Epoch 92/100\n",
      "200/200 [==============================] - 0s 2ms/step - loss: 0.3919 - accuracy: 0.8391\n",
      "Epoch 93/100\n",
      "200/200 [==============================] - 0s 2ms/step - loss: 0.3916 - accuracy: 0.8386\n",
      "Epoch 94/100\n",
      "200/200 [==============================] - 0s 2ms/step - loss: 0.3916 - accuracy: 0.8391\n",
      "Epoch 95/100\n",
      "200/200 [==============================] - 0s 2ms/step - loss: 0.3916 - accuracy: 0.8397\n",
      "Epoch 96/100\n",
      "200/200 [==============================] - 0s 2ms/step - loss: 0.3914 - accuracy: 0.8397\n",
      "Epoch 97/100\n",
      "200/200 [==============================] - 0s 2ms/step - loss: 0.3916 - accuracy: 0.8406\n",
      "Epoch 98/100\n",
      "200/200 [==============================] - 0s 2ms/step - loss: 0.3920 - accuracy: 0.8394\n",
      "Epoch 99/100\n",
      "200/200 [==============================] - 0s 2ms/step - loss: 0.3918 - accuracy: 0.8392\n",
      "Epoch 100/100\n",
      "200/200 [==============================] - 0s 2ms/step - loss: 0.3921 - accuracy: 0.8388\n",
      "50/50 [==============================] - 0s 1ms/step\n"
     ]
    },
    {
     "name": "stderr",
     "output_type": "stream",
     "text": [
      "WARNING:absl:Found untraced functions such as _update_step_xla while saving (showing 1 of 1). These functions will not be directly callable after loading.\n"
     ]
    },
    {
     "name": "stdout",
     "output_type": "stream",
     "text": [
      "WARNING:tensorflow:Detecting that an object or model or tf.train.Checkpoint is being deleted with unrestored values. See the following logs for the specific values in question. To silence these warnings, use `status.expect_partial()`. See https://www.tensorflow.org/api_docs/python/tf/train/Checkpoint#restorefor details about the status object returned by the restore function.\n"
     ]
    },
    {
     "name": "stderr",
     "output_type": "stream",
     "text": [
      "WARNING:tensorflow:Detecting that an object or model or tf.train.Checkpoint is being deleted with unrestored values. See the following logs for the specific values in question. To silence these warnings, use `status.expect_partial()`. See https://www.tensorflow.org/api_docs/python/tf/train/Checkpoint#restorefor details about the status object returned by the restore function.\n"
     ]
    },
    {
     "name": "stdout",
     "output_type": "stream",
     "text": [
      "WARNING:tensorflow:Value in checkpoint could not be found in the restored object: (root).keras_api.metrics.0.total\n"
     ]
    },
    {
     "name": "stderr",
     "output_type": "stream",
     "text": [
      "WARNING:tensorflow:Value in checkpoint could not be found in the restored object: (root).keras_api.metrics.0.total\n"
     ]
    },
    {
     "name": "stdout",
     "output_type": "stream",
     "text": [
      "WARNING:tensorflow:Value in checkpoint could not be found in the restored object: (root).keras_api.metrics.0.count\n"
     ]
    },
    {
     "name": "stderr",
     "output_type": "stream",
     "text": [
      "WARNING:tensorflow:Value in checkpoint could not be found in the restored object: (root).keras_api.metrics.0.count\n"
     ]
    },
    {
     "name": "stdout",
     "output_type": "stream",
     "text": [
      "WARNING:tensorflow:Value in checkpoint could not be found in the restored object: (root).keras_api.metrics.1.total\n"
     ]
    },
    {
     "name": "stderr",
     "output_type": "stream",
     "text": [
      "WARNING:tensorflow:Value in checkpoint could not be found in the restored object: (root).keras_api.metrics.1.total\n"
     ]
    },
    {
     "name": "stdout",
     "output_type": "stream",
     "text": [
      "WARNING:tensorflow:Value in checkpoint could not be found in the restored object: (root).keras_api.metrics.1.count\n"
     ]
    },
    {
     "name": "stderr",
     "output_type": "stream",
     "text": [
      "WARNING:tensorflow:Value in checkpoint could not be found in the restored object: (root).keras_api.metrics.1.count\n"
     ]
    },
    {
     "name": "stdout",
     "output_type": "stream",
     "text": [
      "WARNING:tensorflow:Detecting that an object or model or tf.train.Checkpoint is being deleted with unrestored values. See the following logs for the specific values in question. To silence these warnings, use `status.expect_partial()`. See https://www.tensorflow.org/api_docs/python/tf/train/Checkpoint#restorefor details about the status object returned by the restore function.\n"
     ]
    },
    {
     "name": "stderr",
     "output_type": "stream",
     "text": [
      "WARNING:tensorflow:Detecting that an object or model or tf.train.Checkpoint is being deleted with unrestored values. See the following logs for the specific values in question. To silence these warnings, use `status.expect_partial()`. See https://www.tensorflow.org/api_docs/python/tf/train/Checkpoint#restorefor details about the status object returned by the restore function.\n"
     ]
    },
    {
     "name": "stdout",
     "output_type": "stream",
     "text": [
      "WARNING:tensorflow:Value in checkpoint could not be found in the restored object: (root).keras_api.metrics.0.total\n"
     ]
    },
    {
     "name": "stderr",
     "output_type": "stream",
     "text": [
      "WARNING:tensorflow:Value in checkpoint could not be found in the restored object: (root).keras_api.metrics.0.total\n"
     ]
    },
    {
     "name": "stdout",
     "output_type": "stream",
     "text": [
      "WARNING:tensorflow:Value in checkpoint could not be found in the restored object: (root).keras_api.metrics.0.count\n"
     ]
    },
    {
     "name": "stderr",
     "output_type": "stream",
     "text": [
      "WARNING:tensorflow:Value in checkpoint could not be found in the restored object: (root).keras_api.metrics.0.count\n"
     ]
    },
    {
     "name": "stdout",
     "output_type": "stream",
     "text": [
      "WARNING:tensorflow:Value in checkpoint could not be found in the restored object: (root).keras_api.metrics.1.total\n"
     ]
    },
    {
     "name": "stderr",
     "output_type": "stream",
     "text": [
      "WARNING:tensorflow:Value in checkpoint could not be found in the restored object: (root).keras_api.metrics.1.total\n"
     ]
    },
    {
     "name": "stdout",
     "output_type": "stream",
     "text": [
      "WARNING:tensorflow:Value in checkpoint could not be found in the restored object: (root).keras_api.metrics.1.count\n"
     ]
    },
    {
     "name": "stderr",
     "output_type": "stream",
     "text": [
      "WARNING:tensorflow:Value in checkpoint could not be found in the restored object: (root).keras_api.metrics.1.count\n"
     ]
    },
    {
     "name": "stdout",
     "output_type": "stream",
     "text": [
      "WARNING:tensorflow:Detecting that an object or model or tf.train.Checkpoint is being deleted with unrestored values. See the following logs for the specific values in question. To silence these warnings, use `status.expect_partial()`. See https://www.tensorflow.org/api_docs/python/tf/train/Checkpoint#restorefor details about the status object returned by the restore function.\n"
     ]
    },
    {
     "name": "stderr",
     "output_type": "stream",
     "text": [
      "WARNING:tensorflow:Detecting that an object or model or tf.train.Checkpoint is being deleted with unrestored values. See the following logs for the specific values in question. To silence these warnings, use `status.expect_partial()`. See https://www.tensorflow.org/api_docs/python/tf/train/Checkpoint#restorefor details about the status object returned by the restore function.\n"
     ]
    },
    {
     "name": "stdout",
     "output_type": "stream",
     "text": [
      "WARNING:tensorflow:Value in checkpoint could not be found in the restored object: (root).keras_api.metrics.0.total\n"
     ]
    },
    {
     "name": "stderr",
     "output_type": "stream",
     "text": [
      "WARNING:tensorflow:Value in checkpoint could not be found in the restored object: (root).keras_api.metrics.0.total\n"
     ]
    },
    {
     "name": "stdout",
     "output_type": "stream",
     "text": [
      "WARNING:tensorflow:Value in checkpoint could not be found in the restored object: (root).keras_api.metrics.0.count\n"
     ]
    },
    {
     "name": "stderr",
     "output_type": "stream",
     "text": [
      "WARNING:tensorflow:Value in checkpoint could not be found in the restored object: (root).keras_api.metrics.0.count\n"
     ]
    },
    {
     "name": "stdout",
     "output_type": "stream",
     "text": [
      "WARNING:tensorflow:Value in checkpoint could not be found in the restored object: (root).keras_api.metrics.1.total\n"
     ]
    },
    {
     "name": "stderr",
     "output_type": "stream",
     "text": [
      "WARNING:tensorflow:Value in checkpoint could not be found in the restored object: (root).keras_api.metrics.1.total\n"
     ]
    },
    {
     "name": "stdout",
     "output_type": "stream",
     "text": [
      "WARNING:tensorflow:Value in checkpoint could not be found in the restored object: (root).keras_api.metrics.1.count\n"
     ]
    },
    {
     "name": "stderr",
     "output_type": "stream",
     "text": [
      "WARNING:tensorflow:Value in checkpoint could not be found in the restored object: (root).keras_api.metrics.1.count\n"
     ]
    },
    {
     "name": "stdout",
     "output_type": "stream",
     "text": [
      "WARNING:tensorflow:Detecting that an object or model or tf.train.Checkpoint is being deleted with unrestored values. See the following logs for the specific values in question. To silence these warnings, use `status.expect_partial()`. See https://www.tensorflow.org/api_docs/python/tf/train/Checkpoint#restorefor details about the status object returned by the restore function.\n"
     ]
    },
    {
     "name": "stderr",
     "output_type": "stream",
     "text": [
      "WARNING:tensorflow:Detecting that an object or model or tf.train.Checkpoint is being deleted with unrestored values. See the following logs for the specific values in question. To silence these warnings, use `status.expect_partial()`. See https://www.tensorflow.org/api_docs/python/tf/train/Checkpoint#restorefor details about the status object returned by the restore function.\n"
     ]
    },
    {
     "name": "stdout",
     "output_type": "stream",
     "text": [
      "WARNING:tensorflow:Value in checkpoint could not be found in the restored object: (root).keras_api.metrics.0.total\n"
     ]
    },
    {
     "name": "stderr",
     "output_type": "stream",
     "text": [
      "WARNING:tensorflow:Value in checkpoint could not be found in the restored object: (root).keras_api.metrics.0.total\n"
     ]
    },
    {
     "name": "stdout",
     "output_type": "stream",
     "text": [
      "WARNING:tensorflow:Value in checkpoint could not be found in the restored object: (root).keras_api.metrics.0.count\n"
     ]
    },
    {
     "name": "stderr",
     "output_type": "stream",
     "text": [
      "WARNING:tensorflow:Value in checkpoint could not be found in the restored object: (root).keras_api.metrics.0.count\n"
     ]
    },
    {
     "name": "stdout",
     "output_type": "stream",
     "text": [
      "WARNING:tensorflow:Value in checkpoint could not be found in the restored object: (root).keras_api.metrics.1.total\n"
     ]
    },
    {
     "name": "stderr",
     "output_type": "stream",
     "text": [
      "WARNING:tensorflow:Value in checkpoint could not be found in the restored object: (root).keras_api.metrics.1.total\n"
     ]
    },
    {
     "name": "stdout",
     "output_type": "stream",
     "text": [
      "WARNING:tensorflow:Value in checkpoint could not be found in the restored object: (root).keras_api.metrics.1.count\n"
     ]
    },
    {
     "name": "stderr",
     "output_type": "stream",
     "text": [
      "WARNING:tensorflow:Value in checkpoint could not be found in the restored object: (root).keras_api.metrics.1.count\n"
     ]
    },
    {
     "name": "stdout",
     "output_type": "stream",
     "text": [
      "INFO:tensorflow:Assets written to: C:\\Users\\user\\AppData\\Local\\Temp\\tmpd2j3wfef\\assets\n"
     ]
    },
    {
     "name": "stderr",
     "output_type": "stream",
     "text": [
      "INFO:tensorflow:Assets written to: C:\\Users\\user\\AppData\\Local\\Temp\\tmpd2j3wfef\\assets\n"
     ]
    },
    {
     "name": "stdout",
     "output_type": "stream",
     "text": [
      "Epoch 1/100\n",
      "200/200 [==============================] - 1s 2ms/step - loss: 0.6026 - accuracy: 0.7956\n",
      "Epoch 2/100\n",
      "200/200 [==============================] - 0s 2ms/step - loss: 0.4416 - accuracy: 0.7961\n",
      "Epoch 3/100\n",
      "200/200 [==============================] - 0s 2ms/step - loss: 0.4326 - accuracy: 0.7961\n",
      "Epoch 4/100\n",
      "200/200 [==============================] - 0s 2ms/step - loss: 0.4302 - accuracy: 0.7961\n",
      "Epoch 5/100\n",
      "200/200 [==============================] - 0s 1ms/step - loss: 0.4282 - accuracy: 0.7961\n",
      "Epoch 6/100\n",
      "200/200 [==============================] - 0s 2ms/step - loss: 0.4264 - accuracy: 0.7961\n",
      "Epoch 7/100\n",
      "200/200 [==============================] - 0s 2ms/step - loss: 0.4241 - accuracy: 0.7961\n",
      "Epoch 8/100\n",
      "200/200 [==============================] - 0s 1ms/step - loss: 0.4217 - accuracy: 0.7961\n",
      "Epoch 9/100\n",
      "200/200 [==============================] - 0s 2ms/step - loss: 0.4202 - accuracy: 0.8014\n",
      "Epoch 10/100\n",
      "200/200 [==============================] - 0s 1ms/step - loss: 0.4181 - accuracy: 0.8181\n",
      "Epoch 11/100\n",
      "200/200 [==============================] - 0s 1ms/step - loss: 0.4171 - accuracy: 0.8238\n",
      "Epoch 12/100\n",
      "200/200 [==============================] - 0s 2ms/step - loss: 0.4146 - accuracy: 0.8286\n",
      "Epoch 13/100\n",
      "200/200 [==============================] - 0s 2ms/step - loss: 0.4125 - accuracy: 0.8322\n",
      "Epoch 14/100\n",
      "200/200 [==============================] - 0s 2ms/step - loss: 0.4105 - accuracy: 0.8328\n",
      "Epoch 15/100\n",
      "200/200 [==============================] - 0s 2ms/step - loss: 0.4087 - accuracy: 0.8323\n",
      "Epoch 16/100\n",
      "200/200 [==============================] - 0s 2ms/step - loss: 0.4072 - accuracy: 0.8325\n",
      "Epoch 17/100\n",
      "200/200 [==============================] - 0s 1ms/step - loss: 0.4059 - accuracy: 0.8339\n",
      "Epoch 18/100\n",
      "200/200 [==============================] - 0s 2ms/step - loss: 0.4051 - accuracy: 0.8342\n",
      "Epoch 19/100\n",
      "200/200 [==============================] - 0s 2ms/step - loss: 0.4041 - accuracy: 0.8356\n",
      "Epoch 20/100\n",
      "200/200 [==============================] - 0s 2ms/step - loss: 0.4033 - accuracy: 0.8345\n",
      "Epoch 21/100\n",
      "200/200 [==============================] - 0s 1ms/step - loss: 0.4022 - accuracy: 0.8339\n",
      "Epoch 22/100\n",
      "200/200 [==============================] - 0s 2ms/step - loss: 0.4020 - accuracy: 0.8355\n",
      "Epoch 23/100\n",
      "200/200 [==============================] - 0s 1ms/step - loss: 0.4016 - accuracy: 0.8344\n",
      "Epoch 24/100\n",
      "200/200 [==============================] - 0s 1ms/step - loss: 0.4004 - accuracy: 0.8345\n",
      "Epoch 25/100\n",
      "200/200 [==============================] - 0s 2ms/step - loss: 0.4003 - accuracy: 0.8353\n",
      "Epoch 26/100\n",
      "200/200 [==============================] - 0s 1ms/step - loss: 0.3998 - accuracy: 0.8363\n",
      "Epoch 27/100\n",
      "200/200 [==============================] - 0s 2ms/step - loss: 0.3990 - accuracy: 0.8359\n",
      "Epoch 28/100\n",
      "200/200 [==============================] - 0s 2ms/step - loss: 0.3988 - accuracy: 0.8350\n",
      "Epoch 29/100\n",
      "200/200 [==============================] - 0s 1ms/step - loss: 0.3985 - accuracy: 0.8361\n",
      "Epoch 30/100\n",
      "200/200 [==============================] - 0s 2ms/step - loss: 0.3984 - accuracy: 0.8372\n",
      "Epoch 31/100\n",
      "200/200 [==============================] - 0s 2ms/step - loss: 0.3979 - accuracy: 0.8370\n",
      "Epoch 32/100\n",
      "200/200 [==============================] - 0s 2ms/step - loss: 0.3979 - accuracy: 0.8367\n",
      "Epoch 33/100\n",
      "200/200 [==============================] - 0s 2ms/step - loss: 0.3973 - accuracy: 0.8369\n",
      "Epoch 34/100\n",
      "200/200 [==============================] - 0s 2ms/step - loss: 0.3971 - accuracy: 0.8388\n",
      "Epoch 35/100\n",
      "200/200 [==============================] - 0s 1ms/step - loss: 0.3973 - accuracy: 0.8380\n",
      "Epoch 36/100\n",
      "200/200 [==============================] - 0s 2ms/step - loss: 0.3964 - accuracy: 0.8375\n",
      "Epoch 37/100\n",
      "200/200 [==============================] - 0s 1ms/step - loss: 0.3963 - accuracy: 0.8380\n",
      "Epoch 38/100\n",
      "200/200 [==============================] - 0s 2ms/step - loss: 0.3959 - accuracy: 0.8388\n",
      "Epoch 39/100\n",
      "200/200 [==============================] - 0s 2ms/step - loss: 0.3958 - accuracy: 0.8375\n",
      "Epoch 40/100\n",
      "200/200 [==============================] - 0s 2ms/step - loss: 0.3958 - accuracy: 0.8380\n",
      "Epoch 41/100\n",
      "200/200 [==============================] - 0s 1ms/step - loss: 0.3957 - accuracy: 0.8373\n",
      "Epoch 42/100\n",
      "200/200 [==============================] - 0s 1ms/step - loss: 0.3955 - accuracy: 0.8375\n",
      "Epoch 43/100\n",
      "200/200 [==============================] - 0s 2ms/step - loss: 0.3953 - accuracy: 0.8392\n",
      "Epoch 44/100\n",
      "200/200 [==============================] - 0s 2ms/step - loss: 0.3949 - accuracy: 0.8381\n",
      "Epoch 45/100\n",
      "200/200 [==============================] - 0s 1ms/step - loss: 0.3950 - accuracy: 0.8386\n",
      "Epoch 46/100\n",
      "200/200 [==============================] - 0s 2ms/step - loss: 0.3947 - accuracy: 0.8381\n",
      "Epoch 47/100\n",
      "200/200 [==============================] - 0s 2ms/step - loss: 0.3950 - accuracy: 0.8370\n",
      "Epoch 48/100\n",
      "200/200 [==============================] - 0s 2ms/step - loss: 0.3947 - accuracy: 0.8383\n",
      "Epoch 49/100\n",
      "200/200 [==============================] - 0s 2ms/step - loss: 0.3947 - accuracy: 0.8380\n",
      "Epoch 50/100\n",
      "200/200 [==============================] - 0s 2ms/step - loss: 0.3944 - accuracy: 0.8383\n",
      "Epoch 51/100\n",
      "200/200 [==============================] - 0s 2ms/step - loss: 0.3946 - accuracy: 0.8378\n",
      "Epoch 52/100\n",
      "200/200 [==============================] - 0s 2ms/step - loss: 0.3943 - accuracy: 0.8395\n",
      "Epoch 53/100\n",
      "200/200 [==============================] - 0s 2ms/step - loss: 0.3947 - accuracy: 0.8384\n",
      "Epoch 54/100\n",
      "200/200 [==============================] - 0s 2ms/step - loss: 0.3941 - accuracy: 0.8373\n",
      "Epoch 55/100\n",
      "200/200 [==============================] - 0s 1ms/step - loss: 0.3941 - accuracy: 0.8369\n",
      "Epoch 56/100\n",
      "200/200 [==============================] - 0s 2ms/step - loss: 0.3943 - accuracy: 0.8391\n",
      "Epoch 57/100\n",
      "200/200 [==============================] - 0s 2ms/step - loss: 0.3943 - accuracy: 0.8383\n",
      "Epoch 58/100\n",
      "200/200 [==============================] - 0s 1ms/step - loss: 0.3940 - accuracy: 0.8397\n",
      "Epoch 59/100\n",
      "200/200 [==============================] - 0s 2ms/step - loss: 0.3937 - accuracy: 0.8380\n",
      "Epoch 60/100\n",
      "200/200 [==============================] - 0s 2ms/step - loss: 0.3939 - accuracy: 0.8391\n",
      "Epoch 61/100\n",
      "200/200 [==============================] - 0s 2ms/step - loss: 0.3937 - accuracy: 0.8388\n",
      "Epoch 62/100\n",
      "200/200 [==============================] - 0s 2ms/step - loss: 0.3935 - accuracy: 0.8398\n",
      "Epoch 63/100\n",
      "200/200 [==============================] - 1s 3ms/step - loss: 0.3935 - accuracy: 0.8402\n",
      "Epoch 64/100\n",
      "111/200 [===============>..............] - ETA: 0s - loss: 0.3974 - accuracy: 0.8390"
     ]
    }
   ],
   "source": [
    "from sklearn.model_selection import GridSearchCV\n",
    "\n",
    "grid=GridSearchCV(estimator,param_grid, scoring='accuracy',cv=5)\n",
    "\n",
    "grid_result=grid.fit(X_train, y_train)"
   ]
  },
  {
   "cell_type": "code",
   "execution_count": null,
   "id": "86872709",
   "metadata": {},
   "outputs": [],
   "source": [
    "#best parameters\n",
    "grid_result.best_params_"
   ]
  },
  {
   "cell_type": "code",
   "execution_count": null,
   "id": "8de33237",
   "metadata": {},
   "outputs": [],
   "source": [
    "#best accuracy\n",
    "grid_result.best_score_"
   ]
  }
 ],
 "metadata": {
  "kernelspec": {
   "display_name": "Python 3 (ipykernel)",
   "language": "python",
   "name": "python3"
  },
  "language_info": {
   "codemirror_mode": {
    "name": "ipython",
    "version": 3
   },
   "file_extension": ".py",
   "mimetype": "text/x-python",
   "name": "python",
   "nbconvert_exporter": "python",
   "pygments_lexer": "ipython3",
   "version": "3.9.13"
  }
 },
 "nbformat": 4,
 "nbformat_minor": 5
}
